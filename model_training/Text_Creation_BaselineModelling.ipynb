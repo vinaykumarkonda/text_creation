{
  "nbformat": 4,
  "nbformat_minor": 0,
  "metadata": {
    "colab": {
      "name": "Text Creation-BaselineModelling.ipynb",
      "provenance": [],
      "collapsed_sections": []
    },
    "kernelspec": {
      "name": "python3",
      "display_name": "Python 3"
    },
    "language_info": {
      "name": "python"
    },
    "accelerator": "GPU"
  },
  "cells": [
    {
      "cell_type": "code",
      "execution_count": 1,
      "metadata": {
        "id": "aL9UTfMO3BiM"
      },
      "outputs": [],
      "source": [
        "import os\n",
        "import time\n",
        "\n",
        "import pandas as pd\n",
        "import sqlite3\n",
        "import seaborn as sns\n",
        "import matplotlib.pyplot as plt\n",
        "import numpy as np\n",
        "import re\n",
        "from tqdm import tqdm\n",
        "from sklearn.model_selection import train_test_split\n",
        "\n",
        "\n",
        "import tensorflow as tf\n",
        "from tensorflow.keras.layers import StringLookup\n",
        "from tensorflow.strings import unicode_split, reduce_join\n",
        "from tensorflow.keras.layers import GRU, Dense, LSTM, Input, Embedding\n",
        "from tensorflow.keras.models import Sequential, Model\n",
        "from tensorflow.keras.losses import SparseCategoricalCrossentropy\n",
        "from nltk.translate.bleu_score import sentence_bleu\n",
        "\n",
        "import warnings\n",
        "warnings.filterwarnings('ignore')\n",
        "\n",
        "pd.set_option('display.max_colwidth',1024)\n",
        "pd.set_option('display.width',1024)\n",
        "\n",
        "drive_path = '/content/drive/MyDrive/01_Applied_AI_Course_New/CaseStudies/Text Creation/'"
      ]
    },
    {
      "cell_type": "markdown",
      "source": [
        "# Data Processing\n",
        "1. Load the respective stored files from drive\n",
        "2. Preprocess the text, convert lower case and remove non-asci chars\n",
        "3. Combine sequences of the data to single text of respective files\n",
        "4. Generate the vocabulary of respetive files and combine them to form single common vocubalury\n"
      ],
      "metadata": {
        "id": "B5FPVd94Lmb3"
      }
    },
    {
      "cell_type": "code",
      "source": [
        "# converts to lower case and remove non-asci chars\n",
        "def format_text(text):\n",
        "  text = text.lower()\n",
        "  text = ''.join([i if ord(i) < 128 else ' ' for i in text])\n",
        "  return text"
      ],
      "metadata": {
        "id": "mgyDrqghRBsq"
      },
      "execution_count": 2,
      "outputs": []
    },
    {
      "cell_type": "markdown",
      "source": [
        "## All the News"
      ],
      "metadata": {
        "id": "f_rdrlYrBKbN"
      }
    },
    {
      "cell_type": "code",
      "source": [
        "# load the longform_text data \n",
        "longform_text_data = pd.read_parquet(drive_path+'longform_text_data.parquet.gzip')\n",
        "print(longform_text_data.shape)\n",
        "longform_text_data.head()"
      ],
      "metadata": {
        "colab": {
          "base_uri": "https://localhost:8080/",
          "height": 667
        },
        "id": "WZXCG6809ofO",
        "outputId": "cd52bee3-de33-4c80-c87f-27bf3e8f2d9a"
      },
      "execution_count": 3,
      "outputs": [
        {
          "output_type": "stream",
          "name": "stdout",
          "text": [
            "(196959, 1)\n"
          ]
        },
        {
          "output_type": "execute_result",
          "data": {
            "text/html": [
              "\n",
              "  <div id=\"df-32da605b-8620-4cbb-a4c9-a960c0661e13\">\n",
              "    <div class=\"colab-df-container\">\n",
              "      <div>\n",
              "<style scoped>\n",
              "    .dataframe tbody tr th:only-of-type {\n",
              "        vertical-align: middle;\n",
              "    }\n",
              "\n",
              "    .dataframe tbody tr th {\n",
              "        vertical-align: top;\n",
              "    }\n",
              "\n",
              "    .dataframe thead th {\n",
              "        text-align: right;\n",
              "    }\n",
              "</style>\n",
              "<table border=\"1\" class=\"dataframe\">\n",
              "  <thead>\n",
              "    <tr style=\"text-align: right;\">\n",
              "      <th></th>\n",
              "      <th>longform_text</th>\n",
              "    </tr>\n",
              "  </thead>\n",
              "  <tbody>\n",
              "    <tr>\n",
              "      <th>0</th>\n",
              "      <td>Agent Cooper in Twin Peaks is the audience: once delighted, now disintegrating      And never more so than in Showtime’s new series revival Some spoilers ahead through episode 4 of season 3 of Twin Peaks. On May 21st, Showtime brought back David Lynch’s groundbreaking TV series Twin Peaks, and fulfilled a prophecy in the process. In the second season finale, back in 1991, the spirit of series-defining murder victim Laura Palmer told FBI special agent and series protagonist Dale Cooper, “I’ll see you again in 25 years.” That clip plays again in the first episode of Lynch’s Twin Peaks revival, as a reminder that decades have in fact gone by, Laura’s promise has been carried out, and a series canceled mid-story is back on the air.A lot has changed in 25 years. The original cast members, who are mostly back on board, have all aged heavily and visibly. Many of the characters have moved on in life, getting new jobs, forming families, or taking up new obsessions. But in the opening episode, Dale Cooper was still...</td>\n",
              "    </tr>\n",
              "    <tr>\n",
              "      <th>1</th>\n",
              "      <td>AI, the humanity!      AlphaGo’s victory isn’t a defeat for humans — it’s an opportunity A loss for humanity! Man succumbs to machine! If you heard about AlphaGo’s latest exploits last week — crushing the world’s best Go player and confirming that artificial intelligence had mastered the ancient Chinese board game — you may have heard the news delivered in doomsday terms.There was a certain melancholy to Ke Jie’s capitulation, to be sure. The 19-year-old Chinese prodigy declared he would never lose to an AI following AlphaGo’s earthshaking victory over Lee Se-dol last year. To see him onstage last week, nearly bent double over the Go board and fidgeting with his hair, was to see a man comprehensively put in his place.But focusing on that would miss the point. DeepMind, the Google-owned company that developed AlphaGo, isn’t attempting to crush humanity — after all, the company is made up of humans itself. AlphaGo represents a major human achievement and the takeaway shouldn’t be that AI is surpassing our a...</td>\n",
              "    </tr>\n",
              "    <tr>\n",
              "      <th>2</th>\n",
              "      <td>The Viral Machine      Super Deluxe built a weird internet empire. Can it succeed on TV? When Wolfgang Hammer talks about the future of entertainment, people listen. Hammer is the mastermind behind the American reboot of House of Cards, the guy with the unlikely idea of bringing together David Fincher and a forgotten BBC series. He oversaw two of CBS Films’ first prestige movies: the Coen brothers’ Inside Llewyn Davis and Martin McDonagh’s Seven Psychopaths. He’s had a charmed career: leap-frogging from a master’s degree at Stanford to an entry-level job at Media Rights Capital to eventually becoming the president of CBS’s fledgling films division. So when Hammer came to Turner with an ambitious concept, the cable giant was willing to entertain it. Turner owns TBS, TNT, CNN, and Cartoon Network, but what Hammer was proposing was something altogether different: an all-in-one production company that would thrive online and pretty much do whatever it wanted. Now 18 months old, Super Deluxe is being nurtured ...</td>\n",
              "    </tr>\n",
              "    <tr>\n",
              "      <th>3</th>\n",
              "      <td>How Anker is beating Apple and Samsung at their own accessory game      Steven Yang quit his job at Google in the summer of 2011 to build the products he felt the world needed: a line of reasonably priced accessories that would be better than the ones you could buy from Apple and other big-name brands. These accessories — batteries, cables, chargers — would solve our most persistent gadget problem by letting us stay powered on at all times. There were just a few problems: Yang knew nothing about starting a company, building consumer electronics, or selling products. “I was a software engineer all my life at Google. I didn’t know anyone in the electronics manufacturing world,” Yang tells me over Skype from his office in Shenzhen, China. But he started the company regardless, thanks in no small part to his previous experience with Amazon’s sellers marketplace, a platform for third-party companies and tiny one- or two-person teams interested in selling directly to consumers. He named the company Anker, after...</td>\n",
              "    </tr>\n",
              "    <tr>\n",
              "      <th>4</th>\n",
              "      <td>Tour Black Panther’s reimagined homeland with Ta-Nehisi Coates      Ahead of Black Panther’s 2018 theatrical release, Marvel turned to Ta-Nehisi Coates to breathe new life into the nation of Wakanda. “I made most of my career analyzing the forces of racism and white supremacy as an idea in America. But what you begin to realize after you do that long enough — you aren’t talking about anything specific. In other words, you aren’t really talking about whether some people have lighter skin or some people have blonde hair or some people have blue eyes or some people have kinky hair. You’re talking about power.” This is the voice of journalist, cultural critic, and best-selling author Ta-Nehisi Coates. Coates is the writer of Marvel’s latest entry in the Black Panther canon, Black Panther: A Nation Under Our Feet. With the book, he’s been charged with turning one of Marvel’s least understood and appreciated black characters into a marquee superhero.Even if you don’t read comics, you likely know about the chara...</td>\n",
              "    </tr>\n",
              "  </tbody>\n",
              "</table>\n",
              "</div>\n",
              "      <button class=\"colab-df-convert\" onclick=\"convertToInteractive('df-32da605b-8620-4cbb-a4c9-a960c0661e13')\"\n",
              "              title=\"Convert this dataframe to an interactive table.\"\n",
              "              style=\"display:none;\">\n",
              "        \n",
              "  <svg xmlns=\"http://www.w3.org/2000/svg\" height=\"24px\"viewBox=\"0 0 24 24\"\n",
              "       width=\"24px\">\n",
              "    <path d=\"M0 0h24v24H0V0z\" fill=\"none\"/>\n",
              "    <path d=\"M18.56 5.44l.94 2.06.94-2.06 2.06-.94-2.06-.94-.94-2.06-.94 2.06-2.06.94zm-11 1L8.5 8.5l.94-2.06 2.06-.94-2.06-.94L8.5 2.5l-.94 2.06-2.06.94zm10 10l.94 2.06.94-2.06 2.06-.94-2.06-.94-.94-2.06-.94 2.06-2.06.94z\"/><path d=\"M17.41 7.96l-1.37-1.37c-.4-.4-.92-.59-1.43-.59-.52 0-1.04.2-1.43.59L10.3 9.45l-7.72 7.72c-.78.78-.78 2.05 0 2.83L4 21.41c.39.39.9.59 1.41.59.51 0 1.02-.2 1.41-.59l7.78-7.78 2.81-2.81c.8-.78.8-2.07 0-2.86zM5.41 20L4 18.59l7.72-7.72 1.47 1.35L5.41 20z\"/>\n",
              "  </svg>\n",
              "      </button>\n",
              "      \n",
              "  <style>\n",
              "    .colab-df-container {\n",
              "      display:flex;\n",
              "      flex-wrap:wrap;\n",
              "      gap: 12px;\n",
              "    }\n",
              "\n",
              "    .colab-df-convert {\n",
              "      background-color: #E8F0FE;\n",
              "      border: none;\n",
              "      border-radius: 50%;\n",
              "      cursor: pointer;\n",
              "      display: none;\n",
              "      fill: #1967D2;\n",
              "      height: 32px;\n",
              "      padding: 0 0 0 0;\n",
              "      width: 32px;\n",
              "    }\n",
              "\n",
              "    .colab-df-convert:hover {\n",
              "      background-color: #E2EBFA;\n",
              "      box-shadow: 0px 1px 2px rgba(60, 64, 67, 0.3), 0px 1px 3px 1px rgba(60, 64, 67, 0.15);\n",
              "      fill: #174EA6;\n",
              "    }\n",
              "\n",
              "    [theme=dark] .colab-df-convert {\n",
              "      background-color: #3B4455;\n",
              "      fill: #D2E3FC;\n",
              "    }\n",
              "\n",
              "    [theme=dark] .colab-df-convert:hover {\n",
              "      background-color: #434B5C;\n",
              "      box-shadow: 0px 1px 3px 1px rgba(0, 0, 0, 0.15);\n",
              "      filter: drop-shadow(0px 1px 2px rgba(0, 0, 0, 0.3));\n",
              "      fill: #FFFFFF;\n",
              "    }\n",
              "  </style>\n",
              "\n",
              "      <script>\n",
              "        const buttonEl =\n",
              "          document.querySelector('#df-32da605b-8620-4cbb-a4c9-a960c0661e13 button.colab-df-convert');\n",
              "        buttonEl.style.display =\n",
              "          google.colab.kernel.accessAllowed ? 'block' : 'none';\n",
              "\n",
              "        async function convertToInteractive(key) {\n",
              "          const element = document.querySelector('#df-32da605b-8620-4cbb-a4c9-a960c0661e13');\n",
              "          const dataTable =\n",
              "            await google.colab.kernel.invokeFunction('convertToInteractive',\n",
              "                                                     [key], {});\n",
              "          if (!dataTable) return;\n",
              "\n",
              "          const docLinkHtml = 'Like what you see? Visit the ' +\n",
              "            '<a target=\"_blank\" href=https://colab.research.google.com/notebooks/data_table.ipynb>data table notebook</a>'\n",
              "            + ' to learn more about interactive tables.';\n",
              "          element.innerHTML = '';\n",
              "          dataTable['output_type'] = 'display_data';\n",
              "          await google.colab.output.renderOutput(dataTable, element);\n",
              "          const docLink = document.createElement('div');\n",
              "          docLink.innerHTML = docLinkHtml;\n",
              "          element.appendChild(docLink);\n",
              "        }\n",
              "      </script>\n",
              "    </div>\n",
              "  </div>\n",
              "  "
            ],
            "text/plain": [
              "                                                                                                                                                                                                                                                                                                                                                                                                                                                                                                                                                                                                                                                                                                                                                                                                                                                                                                                                                                                                                                                     longform_text\n",
              "0  Agent Cooper in Twin Peaks is the audience: once delighted, now disintegrating      And never more so than in Showtime’s new series revival Some spoilers ahead through episode 4 of season 3 of Twin Peaks. On May 21st, Showtime brought back David Lynch’s groundbreaking TV series Twin Peaks, and fulfilled a prophecy in the process. In the second season finale, back in 1991, the spirit of series-defining murder victim Laura Palmer told FBI special agent and series protagonist Dale Cooper, “I’ll see you again in 25 years.” That clip plays again in the first episode of Lynch’s Twin Peaks revival, as a reminder that decades have in fact gone by, Laura’s promise has been carried out, and a series canceled mid-story is back on the air.A lot has changed in 25 years. The original cast members, who are mostly back on board, have all aged heavily and visibly. Many of the characters have moved on in life, getting new jobs, forming families, or taking up new obsessions. But in the opening episode, Dale Cooper was still...\n",
              "1  AI, the humanity!      AlphaGo’s victory isn’t a defeat for humans — it’s an opportunity A loss for humanity! Man succumbs to machine! If you heard about AlphaGo’s latest exploits last week — crushing the world’s best Go player and confirming that artificial intelligence had mastered the ancient Chinese board game — you may have heard the news delivered in doomsday terms.There was a certain melancholy to Ke Jie’s capitulation, to be sure. The 19-year-old Chinese prodigy declared he would never lose to an AI following AlphaGo’s earthshaking victory over Lee Se-dol last year. To see him onstage last week, nearly bent double over the Go board and fidgeting with his hair, was to see a man comprehensively put in his place.But focusing on that would miss the point. DeepMind, the Google-owned company that developed AlphaGo, isn’t attempting to crush humanity — after all, the company is made up of humans itself. AlphaGo represents a major human achievement and the takeaway shouldn’t be that AI is surpassing our a...\n",
              "2  The Viral Machine      Super Deluxe built a weird internet empire. Can it succeed on TV? When Wolfgang Hammer talks about the future of entertainment, people listen. Hammer is the mastermind behind the American reboot of House of Cards, the guy with the unlikely idea of bringing together David Fincher and a forgotten BBC series. He oversaw two of CBS Films’ first prestige movies: the Coen brothers’ Inside Llewyn Davis and Martin McDonagh’s Seven Psychopaths. He’s had a charmed career: leap-frogging from a master’s degree at Stanford to an entry-level job at Media Rights Capital to eventually becoming the president of CBS’s fledgling films division. So when Hammer came to Turner with an ambitious concept, the cable giant was willing to entertain it. Turner owns TBS, TNT, CNN, and Cartoon Network, but what Hammer was proposing was something altogether different: an all-in-one production company that would thrive online and pretty much do whatever it wanted. Now 18 months old, Super Deluxe is being nurtured ...\n",
              "3  How Anker is beating Apple and Samsung at their own accessory game      Steven Yang quit his job at Google in the summer of 2011 to build the products he felt the world needed: a line of reasonably priced accessories that would be better than the ones you could buy from Apple and other big-name brands. These accessories — batteries, cables, chargers — would solve our most persistent gadget problem by letting us stay powered on at all times. There were just a few problems: Yang knew nothing about starting a company, building consumer electronics, or selling products. “I was a software engineer all my life at Google. I didn’t know anyone in the electronics manufacturing world,” Yang tells me over Skype from his office in Shenzhen, China. But he started the company regardless, thanks in no small part to his previous experience with Amazon’s sellers marketplace, a platform for third-party companies and tiny one- or two-person teams interested in selling directly to consumers. He named the company Anker, after...\n",
              "4  Tour Black Panther’s reimagined homeland with Ta-Nehisi Coates      Ahead of Black Panther’s 2018 theatrical release, Marvel turned to Ta-Nehisi Coates to breathe new life into the nation of Wakanda. “I made most of my career analyzing the forces of racism and white supremacy as an idea in America. But what you begin to realize after you do that long enough — you aren’t talking about anything specific. In other words, you aren’t really talking about whether some people have lighter skin or some people have blonde hair or some people have blue eyes or some people have kinky hair. You’re talking about power.” This is the voice of journalist, cultural critic, and best-selling author Ta-Nehisi Coates. Coates is the writer of Marvel’s latest entry in the Black Panther canon, Black Panther: A Nation Under Our Feet. With the book, he’s been charged with turning one of Marvel’s least understood and appreciated black characters into a marquee superhero.Even if you don’t read comics, you likely know about the chara..."
            ]
          },
          "metadata": {},
          "execution_count": 3
        }
      ]
    },
    {
      "cell_type": "code",
      "source": [
        "# convert longform_text_data to lower case & remove non-asci char\n",
        "%%time\n",
        "longform_text_data['longform_text'] = longform_text_data.longform_text.apply(lambda x: format_text(x))\n",
        "print(longform_text_data['longform_text'].head())\n",
        "print(' ')"
      ],
      "metadata": {
        "colab": {
          "base_uri": "https://localhost:8080/"
        },
        "id": "WqaDt9Q-Ue5X",
        "outputId": "babccf9d-a256-48fe-e862-126493f01798"
      },
      "execution_count": 4,
      "outputs": [
        {
          "output_type": "stream",
          "name": "stdout",
          "text": [
            "0    agent cooper in twin peaks is the audience: once delighted, now disintegrating      and never more so than in showtime s new series revival some spoilers ahead through episode 4 of season 3 of twin peaks. on may 21st, showtime brought back david lynch s groundbreaking tv series twin peaks, and fulfilled a prophecy in the process. in the second season finale, back in 1991, the spirit of series-defining murder victim laura palmer told fbi special agent and series protagonist dale cooper,  i ll see you again in 25 years.  that clip plays again in the first episode of lynch s twin peaks revival, as a reminder that decades have in fact gone by, laura s promise has been carried out, and a series canceled mid-story is back on the air.a lot has changed in 25 years. the original cast members, who are mostly back on board, have all aged heavily and visibly. many of the characters have moved on in life, getting new jobs, forming families, or taking up new obsessions. but in the opening episode, dale cooper was still...\n",
            "1    ai, the humanity!      alphago s victory isn t a defeat for humans   it s an opportunity a loss for humanity! man succumbs to machine! if you heard about alphago s latest exploits last week   crushing the world s best go player and confirming that artificial intelligence had mastered the ancient chinese board game   you may have heard the news delivered in doomsday terms.there was a certain melancholy to ke jie s capitulation, to be sure. the 19-year-old chinese prodigy declared he would never lose to an ai following alphago s earthshaking victory over lee se-dol last year. to see him onstage last week, nearly bent double over the go board and fidgeting with his hair, was to see a man comprehensively put in his place.but focusing on that would miss the point. deepmind, the google-owned company that developed alphago, isn t attempting to crush humanity   after all, the company is made up of humans itself. alphago represents a major human achievement and the takeaway shouldn t be that ai is surpassing our a...\n",
            "2    the viral machine      super deluxe built a weird internet empire. can it succeed on tv? when wolfgang hammer talks about the future of entertainment, people listen. hammer is the mastermind behind the american reboot of house of cards, the guy with the unlikely idea of bringing together david fincher and a forgotten bbc series. he oversaw two of cbs films  first prestige movies: the coen brothers  inside llewyn davis and martin mcdonagh s seven psychopaths. he s had a charmed career: leap-frogging from a master s degree at stanford to an entry-level job at media rights capital to eventually becoming the president of cbs s fledgling films division. so when hammer came to turner with an ambitious concept, the cable giant was willing to entertain it. turner owns tbs, tnt, cnn, and cartoon network, but what hammer was proposing was something altogether different: an all-in-one production company that would thrive online and pretty much do whatever it wanted. now 18 months old, super deluxe is being nurtured ...\n",
            "3    how anker is beating apple and samsung at their own accessory game      steven yang quit his job at google in the summer of 2011 to build the products he felt the world needed: a line of reasonably priced accessories that would be better than the ones you could buy from apple and other big-name brands. these accessories   batteries, cables, chargers   would solve our most persistent gadget problem by letting us stay powered on at all times. there were just a few problems: yang knew nothing about starting a company, building consumer electronics, or selling products.  i was a software engineer all my life at google. i didn t know anyone in the electronics manufacturing world,  yang tells me over skype from his office in shenzhen, china. but he started the company regardless, thanks in no small part to his previous experience with amazon s sellers marketplace, a platform for third-party companies and tiny one- or two-person teams interested in selling directly to consumers. he named the company anker, after...\n",
            "4    tour black panther s reimagined homeland with ta-nehisi coates      ahead of black panther s 2018 theatrical release, marvel turned to ta-nehisi coates to breathe new life into the nation of wakanda.  i made most of my career analyzing the forces of racism and white supremacy as an idea in america. but what you begin to realize after you do that long enough   you aren t talking about anything specific. in other words, you aren t really talking about whether some people have lighter skin or some people have blonde hair or some people have blue eyes or some people have kinky hair. you re talking about power.  this is the voice of journalist, cultural critic, and best-selling author ta-nehisi coates. coates is the writer of marvel s latest entry in the black panther canon, black panther: a nation under our feet. with the book, he s been charged with turning one of marvel s least understood and appreciated black characters into a marquee superhero.even if you don t read comics, you likely know about the chara...\n",
            "Name: longform_text, dtype: object\n",
            " \n",
            "CPU times: user 1min 35s, sys: 955 ms, total: 1min 36s\n",
            "Wall time: 1min 36s\n"
          ]
        }
      ]
    },
    {
      "cell_type": "code",
      "source": [
        "# merge all contents to form single text and get the vocab from it\n",
        "longform_text =  ' '.join(longform_text_data.longform_text.values).replace(r'  ', ' ')\n",
        "\n",
        "total_char_count = len(longform_text)\n",
        "print('total characters ', total_char_count)"
      ],
      "metadata": {
        "colab": {
          "base_uri": "https://localhost:8080/"
        },
        "id": "WIYQpRMTQauv",
        "outputId": "4d23e6a7-39b5-46d6-82d7-a722317d3a11"
      },
      "execution_count": 5,
      "outputs": [
        {
          "output_type": "stream",
          "name": "stdout",
          "text": [
            "total characters  896650760\n"
          ]
        }
      ]
    },
    {
      "cell_type": "markdown",
      "source": [
        "## SciFi Stories"
      ],
      "metadata": {
        "id": "8R9tbpttLtHy"
      }
    },
    {
      "cell_type": "code",
      "source": [
        "# load the scifi text data\n",
        "scifi_data = pd.read_pickle(drive_path+'scifi_data.pkl')\n",
        "scifi_text_data = pd.DataFrame({'scifi_text': scifi_data})\n",
        "print(scifi_text_data.shape)\n",
        "scifi_text_data.head()"
      ],
      "metadata": {
        "id": "OD49K2X5L7Xy",
        "colab": {
          "base_uri": "https://localhost:8080/",
          "height": 615
        },
        "outputId": "1dd16105-8507-4f37-93ef-01eb2b7b2ec1"
      },
      "execution_count": 6,
      "outputs": [
        {
          "output_type": "stream",
          "name": "stdout",
          "text": [
            "(145827, 1)\n"
          ]
        },
        {
          "output_type": "execute_result",
          "data": {
            "text/html": [
              "\n",
              "  <div id=\"df-dda6fbf8-71c4-4ba3-b173-9017b33cf260\">\n",
              "    <div class=\"colab-df-container\">\n",
              "      <div>\n",
              "<style scoped>\n",
              "    .dataframe tbody tr th:only-of-type {\n",
              "        vertical-align: middle;\n",
              "    }\n",
              "\n",
              "    .dataframe tbody tr th {\n",
              "        vertical-align: top;\n",
              "    }\n",
              "\n",
              "    .dataframe thead th {\n",
              "        text-align: right;\n",
              "    }\n",
              "</style>\n",
              "<table border=\"1\" class=\"dataframe\">\n",
              "  <thead>\n",
              "    <tr style=\"text-align: right;\">\n",
              "      <th></th>\n",
              "      <th>scifi_text</th>\n",
              "    </tr>\n",
              "  </thead>\n",
              "  <tbody>\n",
              "    <tr>\n",
              "      <th>0</th>\n",
              "      <td>MARCH # All Stories New and Complete Publisher Editor IF is published bi-monthly by Quinn Publishing Company, Inc., Kingston, New York. Volume #, No. #. Copyright # by Quinn Publishing Company, Inc. Application for Entry' as Second Class matter at Post Office, Buffalo, New York, pending. Subscription # for # issues in U.S. and Possessions: Canada # for # issues; elsewhere #. Aiiow four weeks for change of address. All stories appearing in this magazine are fiction. Any similarity to actual persons is coincidental. #c a fcopy. Printed ia U.S. A. A chat with the editor  i #  science fiction magazine called IF. The title was selected after much thought because of its brevity and on the theory it is indicative of the field and will be easy to remember. The tentative title that just morning and couldn't remember it until we'd had a cup of coffee, it was summarily discarded. A great deal of thought and effort lias gone into the formation of this magazine. We have had the aid of several very talented and generou...</td>\n",
              "    </tr>\n",
              "    <tr>\n",
              "      <th>1</th>\n",
              "      <td>for which we are most grateful. Much is due them for their warmhearted assistance. And now that the bulk of the formative work is done, we will try to maintain IF as one of the finest books on the market.  t a great public demand for our magazine. In short, why will you buy IF? We cannot, in honesty, say we will publish at all times the best science fiction in the field. That would not be true. But we will have access to the best stories, and we will get our fair share of works from the best writers. We definitely will not talk \"adult\" or \"juvenile\" relative to our content as we feel such terms are misleading. We would rather think at all times in the terms of \"story\". Some of the greatest escapist literature ever written, Treasure Island for instance, could be put into either category or both. And if Edgar Rice Burroughs is juvenile, then so are we, because the late master has given us some memorable thrills. Frankly, we don't think you'll buy IF because you feel we print better yams than any other mag.</td>\n",
              "    </tr>\n",
              "    <tr>\n",
              "      <th>2</th>\n",
              "      <td>You will buy it, we hope, because you like its personality. Every magazine, we feel, does have a definite personality of its own. This personality is usually a reflection of the editors, their way of thinking, their appreciation of tKe market, their interpretation of what you will like best in stories and artwork. We have tried to make IF different from any other science fiction magazine on the stands while still building it along the lines of what every science fiction mag must be. Aside from the letter columns and the editorial, which are departments of field-wide use, we have not copied any feature of any other magazine. We will not, for instance, review fanzines, because we feel that is being most ably done by other mags. Nor will we, as a general practice, review books because that appears to us to be overdone. a personality of our own and hope thereby to establish an affinity with a large number of readers who will remember IF when they buy a science fiction mag as one they like and wish to continue...</td>\n",
              "    </tr>\n",
              "    <tr>\n",
              "      <th>3</th>\n",
              "      <td>At all times we will hew to the story-line and will exhort with our writers to do the same. As an example, when Howard Browne phoned to talk over the plot for his lead novel in this issue, he described what ivas without doubt a staggering premise, a really startling concept. \"But,\" he mourned, S T suppose I'll have to bend it around to give them the good old conventional ending.\" We told Howard, \"Not for IF, chum. Remember the old creed we live by. A writer may cheat on his wife, but he is ever true to the story-line. He may haul his infant son around by one leg. but he carries a good story-idea like a holy relic. If there is only one logical ending for Twelve Times ZerG, that's the ending we want.\" Therefore, we do not feel the majority of readers necessarily want a happy ending regardless of all else. Not when it is incompatable with the aura of realism created by the writer. A check-list of fiction masterpieces certainly bears this out. The furor created by a little piece called Sorry , Wrong Number</td>\n",
              "    </tr>\n",
              "    <tr>\n",
              "      <th>4</th>\n",
              "      <td>would certainly not have been forthcoming had the bedridden lady been rescued in the last paragraph. Romeo and Juliet would have beep nothing more than the smooth effort of the world's greatest writer if Romeo had gotten there in time. Yet, in modern fiction, he gets there in time with such amazing regularity one feels he has memorized at least  a dozen time-tables. The result has been unnumbered carloads of mediocre fiction. Also -- though we don't wish to underscore the point too heavily -- what could more surely have smothered the greatness of Wuthering Heights than a happy ending?  that IF will be a magazine given over to tragedy. W e will only insist that our writers create scenes and climaxes that fix the story rather than cater to that old \"debil\" formula. And in so doing we have an entirely selfish motive. This: As the years go by, we want to look back with personal pride upon an everlengthening list of great stories. So the book you now hold in your hands is a new one titled IF. We hope you will ...</td>\n",
              "    </tr>\n",
              "  </tbody>\n",
              "</table>\n",
              "</div>\n",
              "      <button class=\"colab-df-convert\" onclick=\"convertToInteractive('df-dda6fbf8-71c4-4ba3-b173-9017b33cf260')\"\n",
              "              title=\"Convert this dataframe to an interactive table.\"\n",
              "              style=\"display:none;\">\n",
              "        \n",
              "  <svg xmlns=\"http://www.w3.org/2000/svg\" height=\"24px\"viewBox=\"0 0 24 24\"\n",
              "       width=\"24px\">\n",
              "    <path d=\"M0 0h24v24H0V0z\" fill=\"none\"/>\n",
              "    <path d=\"M18.56 5.44l.94 2.06.94-2.06 2.06-.94-2.06-.94-.94-2.06-.94 2.06-2.06.94zm-11 1L8.5 8.5l.94-2.06 2.06-.94-2.06-.94L8.5 2.5l-.94 2.06-2.06.94zm10 10l.94 2.06.94-2.06 2.06-.94-2.06-.94-.94-2.06-.94 2.06-2.06.94z\"/><path d=\"M17.41 7.96l-1.37-1.37c-.4-.4-.92-.59-1.43-.59-.52 0-1.04.2-1.43.59L10.3 9.45l-7.72 7.72c-.78.78-.78 2.05 0 2.83L4 21.41c.39.39.9.59 1.41.59.51 0 1.02-.2 1.41-.59l7.78-7.78 2.81-2.81c.8-.78.8-2.07 0-2.86zM5.41 20L4 18.59l7.72-7.72 1.47 1.35L5.41 20z\"/>\n",
              "  </svg>\n",
              "      </button>\n",
              "      \n",
              "  <style>\n",
              "    .colab-df-container {\n",
              "      display:flex;\n",
              "      flex-wrap:wrap;\n",
              "      gap: 12px;\n",
              "    }\n",
              "\n",
              "    .colab-df-convert {\n",
              "      background-color: #E8F0FE;\n",
              "      border: none;\n",
              "      border-radius: 50%;\n",
              "      cursor: pointer;\n",
              "      display: none;\n",
              "      fill: #1967D2;\n",
              "      height: 32px;\n",
              "      padding: 0 0 0 0;\n",
              "      width: 32px;\n",
              "    }\n",
              "\n",
              "    .colab-df-convert:hover {\n",
              "      background-color: #E2EBFA;\n",
              "      box-shadow: 0px 1px 2px rgba(60, 64, 67, 0.3), 0px 1px 3px 1px rgba(60, 64, 67, 0.15);\n",
              "      fill: #174EA6;\n",
              "    }\n",
              "\n",
              "    [theme=dark] .colab-df-convert {\n",
              "      background-color: #3B4455;\n",
              "      fill: #D2E3FC;\n",
              "    }\n",
              "\n",
              "    [theme=dark] .colab-df-convert:hover {\n",
              "      background-color: #434B5C;\n",
              "      box-shadow: 0px 1px 3px 1px rgba(0, 0, 0, 0.15);\n",
              "      filter: drop-shadow(0px 1px 2px rgba(0, 0, 0, 0.3));\n",
              "      fill: #FFFFFF;\n",
              "    }\n",
              "  </style>\n",
              "\n",
              "      <script>\n",
              "        const buttonEl =\n",
              "          document.querySelector('#df-dda6fbf8-71c4-4ba3-b173-9017b33cf260 button.colab-df-convert');\n",
              "        buttonEl.style.display =\n",
              "          google.colab.kernel.accessAllowed ? 'block' : 'none';\n",
              "\n",
              "        async function convertToInteractive(key) {\n",
              "          const element = document.querySelector('#df-dda6fbf8-71c4-4ba3-b173-9017b33cf260');\n",
              "          const dataTable =\n",
              "            await google.colab.kernel.invokeFunction('convertToInteractive',\n",
              "                                                     [key], {});\n",
              "          if (!dataTable) return;\n",
              "\n",
              "          const docLinkHtml = 'Like what you see? Visit the ' +\n",
              "            '<a target=\"_blank\" href=https://colab.research.google.com/notebooks/data_table.ipynb>data table notebook</a>'\n",
              "            + ' to learn more about interactive tables.';\n",
              "          element.innerHTML = '';\n",
              "          dataTable['output_type'] = 'display_data';\n",
              "          await google.colab.output.renderOutput(dataTable, element);\n",
              "          const docLink = document.createElement('div');\n",
              "          docLink.innerHTML = docLinkHtml;\n",
              "          element.appendChild(docLink);\n",
              "        }\n",
              "      </script>\n",
              "    </div>\n",
              "  </div>\n",
              "  "
            ],
            "text/plain": [
              "                                                                                                                                                                                                                                                                                                                                                                                                                                                                                                                                                                                                                                                                                                                                                                                                                                                                                                                                                                                                                                                        scifi_text\n",
              "0  MARCH # All Stories New and Complete Publisher Editor IF is published bi-monthly by Quinn Publishing Company, Inc., Kingston, New York. Volume #, No. #. Copyright # by Quinn Publishing Company, Inc. Application for Entry' as Second Class matter at Post Office, Buffalo, New York, pending. Subscription # for # issues in U.S. and Possessions: Canada # for # issues; elsewhere #. Aiiow four weeks for change of address. All stories appearing in this magazine are fiction. Any similarity to actual persons is coincidental. #c a fcopy. Printed ia U.S. A. A chat with the editor  i #  science fiction magazine called IF. The title was selected after much thought because of its brevity and on the theory it is indicative of the field and will be easy to remember. The tentative title that just morning and couldn't remember it until we'd had a cup of coffee, it was summarily discarded. A great deal of thought and effort lias gone into the formation of this magazine. We have had the aid of several very talented and generou...\n",
              "1      for which we are most grateful. Much is due them for their warmhearted assistance. And now that the bulk of the formative work is done, we will try to maintain IF as one of the finest books on the market.  t a great public demand for our magazine. In short, why will you buy IF? We cannot, in honesty, say we will publish at all times the best science fiction in the field. That would not be true. But we will have access to the best stories, and we will get our fair share of works from the best writers. We definitely will not talk \"adult\" or \"juvenile\" relative to our content as we feel such terms are misleading. We would rather think at all times in the terms of \"story\". Some of the greatest escapist literature ever written, Treasure Island for instance, could be put into either category or both. And if Edgar Rice Burroughs is juvenile, then so are we, because the late master has given us some memorable thrills. Frankly, we don't think you'll buy IF because you feel we print better yams than any other mag.\n",
              "2  You will buy it, we hope, because you like its personality. Every magazine, we feel, does have a definite personality of its own. This personality is usually a reflection of the editors, their way of thinking, their appreciation of tKe market, their interpretation of what you will like best in stories and artwork. We have tried to make IF different from any other science fiction magazine on the stands while still building it along the lines of what every science fiction mag must be. Aside from the letter columns and the editorial, which are departments of field-wide use, we have not copied any feature of any other magazine. We will not, for instance, review fanzines, because we feel that is being most ably done by other mags. Nor will we, as a general practice, review books because that appears to us to be overdone. a personality of our own and hope thereby to establish an affinity with a large number of readers who will remember IF when they buy a science fiction mag as one they like and wish to continue...\n",
              "3        At all times we will hew to the story-line and will exhort with our writers to do the same. As an example, when Howard Browne phoned to talk over the plot for his lead novel in this issue, he described what ivas without doubt a staggering premise, a really startling concept. \"But,\" he mourned, S T suppose I'll have to bend it around to give them the good old conventional ending.\" We told Howard, \"Not for IF, chum. Remember the old creed we live by. A writer may cheat on his wife, but he is ever true to the story-line. He may haul his infant son around by one leg. but he carries a good story-idea like a holy relic. If there is only one logical ending for Twelve Times ZerG, that's the ending we want.\" Therefore, we do not feel the majority of readers necessarily want a happy ending regardless of all else. Not when it is incompatable with the aura of realism created by the writer. A check-list of fiction masterpieces certainly bears this out. The furor created by a little piece called Sorry , Wrong Number\n",
              "4  would certainly not have been forthcoming had the bedridden lady been rescued in the last paragraph. Romeo and Juliet would have beep nothing more than the smooth effort of the world's greatest writer if Romeo had gotten there in time. Yet, in modern fiction, he gets there in time with such amazing regularity one feels he has memorized at least  a dozen time-tables. The result has been unnumbered carloads of mediocre fiction. Also -- though we don't wish to underscore the point too heavily -- what could more surely have smothered the greatness of Wuthering Heights than a happy ending?  that IF will be a magazine given over to tragedy. W e will only insist that our writers create scenes and climaxes that fix the story rather than cater to that old \"debil\" formula. And in so doing we have an entirely selfish motive. This: As the years go by, we want to look back with personal pride upon an everlengthening list of great stories. So the book you now hold in your hands is a new one titled IF. We hope you will ..."
            ]
          },
          "metadata": {},
          "execution_count": 6
        }
      ]
    },
    {
      "cell_type": "code",
      "source": [
        "# convert scifi_text_data to lower case & remove non-asci char\n",
        "%%time\n",
        "scifi_text_data['scifi_text'] = scifi_text_data.scifi_text.apply(lambda x: format_text(x))\n",
        "print(scifi_text_data['scifi_text'].head())\n",
        "print(' ')"
      ],
      "metadata": {
        "colab": {
          "base_uri": "https://localhost:8080/"
        },
        "id": "q-K-FwxwQnrV",
        "outputId": "5f6d847f-2b54-415e-c179-5338dde848e3"
      },
      "execution_count": 7,
      "outputs": [
        {
          "output_type": "stream",
          "name": "stdout",
          "text": [
            "0    march # all stories new and complete publisher editor if is published bi-monthly by quinn publishing company, inc., kingston, new york. volume #, no. #. copyright # by quinn publishing company, inc. application for entry' as second class matter at post office, buffalo, new york, pending. subscription # for # issues in u.s. and possessions: canada # for # issues; elsewhere #. aiiow four weeks for change of address. all stories appearing in this magazine are fiction. any similarity to actual persons is coincidental. #c a fcopy. printed ia u.s. a. a chat with the editor  i #  science fiction magazine called if. the title was selected after much thought because of its brevity and on the theory it is indicative of the field and will be easy to remember. the tentative title that just morning and couldn't remember it until we'd had a cup of coffee, it was summarily discarded. a great deal of thought and effort lias gone into the formation of this magazine. we have had the aid of several very talented and generou...\n",
            "1        for which we are most grateful. much is due them for their warmhearted assistance. and now that the bulk of the formative work is done, we will try to maintain if as one of the finest books on the market.  t a great public demand for our magazine. in short, why will you buy if? we cannot, in honesty, say we will publish at all times the best science fiction in the field. that would not be true. but we will have access to the best stories, and we will get our fair share of works from the best writers. we definitely will not talk \"adult\" or \"juvenile\" relative to our content as we feel such terms are misleading. we would rather think at all times in the terms of \"story\". some of the greatest escapist literature ever written, treasure island for instance, could be put into either category or both. and if edgar rice burroughs is juvenile, then so are we, because the late master has given us some memorable thrills. frankly, we don't think you'll buy if because you feel we print better yams than any other mag.\n",
            "2    you will buy it, we hope, because you like its personality. every magazine, we feel, does have a definite personality of its own. this personality is usually a reflection of the editors, their way of thinking, their appreciation of tke market, their interpretation of what you will like best in stories and artwork. we have tried to make if different from any other science fiction magazine on the stands while still building it along the lines of what every science fiction mag must be. aside from the letter columns and the editorial, which are departments of field-wide use, we have not copied any feature of any other magazine. we will not, for instance, review fanzines, because we feel that is being most ably done by other mags. nor will we, as a general practice, review books because that appears to us to be overdone. a personality of our own and hope thereby to establish an affinity with a large number of readers who will remember if when they buy a science fiction mag as one they like and wish to continue...\n",
            "3          at all times we will hew to the story-line and will exhort with our writers to do the same. as an example, when howard browne phoned to talk over the plot for his lead novel in this issue, he described what ivas without doubt a staggering premise, a really startling concept. \"but,\" he mourned, s t suppose i'll have to bend it around to give them the good old conventional ending.\" we told howard, \"not for if, chum. remember the old creed we live by. a writer may cheat on his wife, but he is ever true to the story-line. he may haul his infant son around by one leg. but he carries a good story-idea like a holy relic. if there is only one logical ending for twelve times zerg, that's the ending we want.\" therefore, we do not feel the majority of readers necessarily want a happy ending regardless of all else. not when it is incompatable with the aura of realism created by the writer. a check-list of fiction masterpieces certainly bears this out. the furor created by a little piece called sorry , wrong number\n",
            "4    would certainly not have been forthcoming had the bedridden lady been rescued in the last paragraph. romeo and juliet would have beep nothing more than the smooth effort of the world's greatest writer if romeo had gotten there in time. yet, in modern fiction, he gets there in time with such amazing regularity one feels he has memorized at least  a dozen time-tables. the result has been unnumbered carloads of mediocre fiction. also -- though we don't wish to underscore the point too heavily -- what could more surely have smothered the greatness of wuthering heights than a happy ending?  that if will be a magazine given over to tragedy. w e will only insist that our writers create scenes and climaxes that fix the story rather than cater to that old \"debil\" formula. and in so doing we have an entirely selfish motive. this: as the years go by, we want to look back with personal pride upon an everlengthening list of great stories. so the book you now hold in your hands is a new one titled if. we hope you will ...\n",
            "Name: scifi_text, dtype: object\n",
            " \n",
            "CPU times: user 15.4 s, sys: 26.8 ms, total: 15.4 s\n",
            "Wall time: 15.4 s\n"
          ]
        }
      ]
    },
    {
      "cell_type": "code",
      "source": [
        "# merge all contents to form single text and get the vocab from it\n",
        "scifi_text =  ' '.join(scifi_text_data.scifi_text.values)\n",
        "\n",
        "scifi_total_char_count = len(scifi_text)\n",
        "print('scifi_total_char_count', scifi_total_char_count)"
      ],
      "metadata": {
        "colab": {
          "base_uri": "https://localhost:8080/"
        },
        "id": "KbE0fDIRSHOK",
        "outputId": "048a2ed5-5596-4b7a-8cbf-7ac49b2082b1"
      },
      "execution_count": 8,
      "outputs": [
        {
          "output_type": "stream",
          "name": "stdout",
          "text": [
            "scifi_total_char_count 149352361\n"
          ]
        }
      ]
    },
    {
      "cell_type": "markdown",
      "source": [
        "## Cornell Movie Dialogs"
      ],
      "metadata": {
        "id": "E7PzJhy7Lt0e"
      }
    },
    {
      "cell_type": "code",
      "source": [
        "# load the cornell text data\n",
        "cornell_movie_dialogs = pd.read_parquet(drive_path+'cornell_movie_dialogs_text_data.parquet.gzip')\n",
        "print(cornell_movie_dialogs.shape)\n",
        "cornell_movie_dialogs.head()"
      ],
      "metadata": {
        "id": "3Vvb8OvkWmrE",
        "colab": {
          "base_uri": "https://localhost:8080/",
          "height": 303
        },
        "outputId": "f440dfe4-54b3-4267-9d80-ef4a652f63c4"
      },
      "execution_count": 9,
      "outputs": [
        {
          "output_type": "stream",
          "name": "stdout",
          "text": [
            "(83079, 1)\n"
          ]
        },
        {
          "output_type": "execute_result",
          "data": {
            "text/html": [
              "\n",
              "  <div id=\"df-6b2311f4-550c-43ba-abfd-934c9cc7416d\">\n",
              "    <div class=\"colab-df-container\">\n",
              "      <div>\n",
              "<style scoped>\n",
              "    .dataframe tbody tr th:only-of-type {\n",
              "        vertical-align: middle;\n",
              "    }\n",
              "\n",
              "    .dataframe tbody tr th {\n",
              "        vertical-align: top;\n",
              "    }\n",
              "\n",
              "    .dataframe thead th {\n",
              "        text-align: right;\n",
              "    }\n",
              "</style>\n",
              "<table border=\"1\" class=\"dataframe\">\n",
              "  <thead>\n",
              "    <tr style=\"text-align: right;\">\n",
              "      <th></th>\n",
              "      <th>content</th>\n",
              "    </tr>\n",
              "  </thead>\n",
              "  <tbody>\n",
              "    <tr>\n",
              "      <th>0</th>\n",
              "      <td>Can we make this quick?  Roxanne Korrine and Andrew Barrett are having an incredibly horrendous public break- up on the quad.  Again. Well, I thought we'd start with pronunciation, if that's okay with you. Not the hacking and gagging and spitting part.  Please. Okay... then how 'bout we try out some French cuisine.  Saturday?  Night?</td>\n",
              "    </tr>\n",
              "    <tr>\n",
              "      <th>1</th>\n",
              "      <td>You're asking me out.  That's so cute. What's your name again? Forget it.</td>\n",
              "    </tr>\n",
              "    <tr>\n",
              "      <th>2</th>\n",
              "      <td>No, no, it's my fault -- we didn't have a proper introduction --- Cameron. The thing is, Cameron -- I'm at the mercy of a particularly hideous breed of loser.  My sister.  I can't date until she does. Seems like she could get a date easy enough...</td>\n",
              "    </tr>\n",
              "    <tr>\n",
              "      <th>3</th>\n",
              "      <td>Why? Unsolved mystery.  She used to be really popular when she started high school, then it was just like she got sick of it or something. That's a shame.</td>\n",
              "    </tr>\n",
              "    <tr>\n",
              "      <th>4</th>\n",
              "      <td>Gosh, if only we could find Kat a boyfriend... Let me see what I can do.</td>\n",
              "    </tr>\n",
              "  </tbody>\n",
              "</table>\n",
              "</div>\n",
              "      <button class=\"colab-df-convert\" onclick=\"convertToInteractive('df-6b2311f4-550c-43ba-abfd-934c9cc7416d')\"\n",
              "              title=\"Convert this dataframe to an interactive table.\"\n",
              "              style=\"display:none;\">\n",
              "        \n",
              "  <svg xmlns=\"http://www.w3.org/2000/svg\" height=\"24px\"viewBox=\"0 0 24 24\"\n",
              "       width=\"24px\">\n",
              "    <path d=\"M0 0h24v24H0V0z\" fill=\"none\"/>\n",
              "    <path d=\"M18.56 5.44l.94 2.06.94-2.06 2.06-.94-2.06-.94-.94-2.06-.94 2.06-2.06.94zm-11 1L8.5 8.5l.94-2.06 2.06-.94-2.06-.94L8.5 2.5l-.94 2.06-2.06.94zm10 10l.94 2.06.94-2.06 2.06-.94-2.06-.94-.94-2.06-.94 2.06-2.06.94z\"/><path d=\"M17.41 7.96l-1.37-1.37c-.4-.4-.92-.59-1.43-.59-.52 0-1.04.2-1.43.59L10.3 9.45l-7.72 7.72c-.78.78-.78 2.05 0 2.83L4 21.41c.39.39.9.59 1.41.59.51 0 1.02-.2 1.41-.59l7.78-7.78 2.81-2.81c.8-.78.8-2.07 0-2.86zM5.41 20L4 18.59l7.72-7.72 1.47 1.35L5.41 20z\"/>\n",
              "  </svg>\n",
              "      </button>\n",
              "      \n",
              "  <style>\n",
              "    .colab-df-container {\n",
              "      display:flex;\n",
              "      flex-wrap:wrap;\n",
              "      gap: 12px;\n",
              "    }\n",
              "\n",
              "    .colab-df-convert {\n",
              "      background-color: #E8F0FE;\n",
              "      border: none;\n",
              "      border-radius: 50%;\n",
              "      cursor: pointer;\n",
              "      display: none;\n",
              "      fill: #1967D2;\n",
              "      height: 32px;\n",
              "      padding: 0 0 0 0;\n",
              "      width: 32px;\n",
              "    }\n",
              "\n",
              "    .colab-df-convert:hover {\n",
              "      background-color: #E2EBFA;\n",
              "      box-shadow: 0px 1px 2px rgba(60, 64, 67, 0.3), 0px 1px 3px 1px rgba(60, 64, 67, 0.15);\n",
              "      fill: #174EA6;\n",
              "    }\n",
              "\n",
              "    [theme=dark] .colab-df-convert {\n",
              "      background-color: #3B4455;\n",
              "      fill: #D2E3FC;\n",
              "    }\n",
              "\n",
              "    [theme=dark] .colab-df-convert:hover {\n",
              "      background-color: #434B5C;\n",
              "      box-shadow: 0px 1px 3px 1px rgba(0, 0, 0, 0.15);\n",
              "      filter: drop-shadow(0px 1px 2px rgba(0, 0, 0, 0.3));\n",
              "      fill: #FFFFFF;\n",
              "    }\n",
              "  </style>\n",
              "\n",
              "      <script>\n",
              "        const buttonEl =\n",
              "          document.querySelector('#df-6b2311f4-550c-43ba-abfd-934c9cc7416d button.colab-df-convert');\n",
              "        buttonEl.style.display =\n",
              "          google.colab.kernel.accessAllowed ? 'block' : 'none';\n",
              "\n",
              "        async function convertToInteractive(key) {\n",
              "          const element = document.querySelector('#df-6b2311f4-550c-43ba-abfd-934c9cc7416d');\n",
              "          const dataTable =\n",
              "            await google.colab.kernel.invokeFunction('convertToInteractive',\n",
              "                                                     [key], {});\n",
              "          if (!dataTable) return;\n",
              "\n",
              "          const docLinkHtml = 'Like what you see? Visit the ' +\n",
              "            '<a target=\"_blank\" href=https://colab.research.google.com/notebooks/data_table.ipynb>data table notebook</a>'\n",
              "            + ' to learn more about interactive tables.';\n",
              "          element.innerHTML = '';\n",
              "          dataTable['output_type'] = 'display_data';\n",
              "          await google.colab.output.renderOutput(dataTable, element);\n",
              "          const docLink = document.createElement('div');\n",
              "          docLink.innerHTML = docLinkHtml;\n",
              "          element.appendChild(docLink);\n",
              "        }\n",
              "      </script>\n",
              "    </div>\n",
              "  </div>\n",
              "  "
            ],
            "text/plain": [
              "                                                                                                                                                                                                                                                                                                                                           content\n",
              "0  Can we make this quick?  Roxanne Korrine and Andrew Barrett are having an incredibly horrendous public break- up on the quad.  Again. Well, I thought we'd start with pronunciation, if that's okay with you. Not the hacking and gagging and spitting part.  Please. Okay... then how 'bout we try out some French cuisine.  Saturday?  Night?\n",
              "1                                                                                                                                                                                                                                                                        You're asking me out.  That's so cute. What's your name again? Forget it.\n",
              "2                                                                                          No, no, it's my fault -- we didn't have a proper introduction --- Cameron. The thing is, Cameron -- I'm at the mercy of a particularly hideous breed of loser.  My sister.  I can't date until she does. Seems like she could get a date easy enough...\n",
              "3                                                                                                                                                                                       Why? Unsolved mystery.  She used to be really popular when she started high school, then it was just like she got sick of it or something. That's a shame.\n",
              "4                                                                                                                                                                                                                                                                         Gosh, if only we could find Kat a boyfriend... Let me see what I can do."
            ]
          },
          "metadata": {},
          "execution_count": 9
        }
      ]
    },
    {
      "cell_type": "code",
      "source": [
        "# convert cornell_movie_dialogs to lower case & remove non-asci char\n",
        "%%time\n",
        "cornell_movie_dialogs['content'] = cornell_movie_dialogs.content.apply(lambda x: format_text(x))\n",
        "print(cornell_movie_dialogs['content'].head())\n",
        "print(' ')"
      ],
      "metadata": {
        "colab": {
          "base_uri": "https://localhost:8080/"
        },
        "id": "g-Q8yUsCSo-A",
        "outputId": "89428875-cc65-4915-b861-e87be75e5c33"
      },
      "execution_count": 10,
      "outputs": [
        {
          "output_type": "stream",
          "name": "stdout",
          "text": [
            "0    can we make this quick?  roxanne korrine and andrew barrett are having an incredibly horrendous public break- up on the quad.  again. well, i thought we'd start with pronunciation, if that's okay with you. not the hacking and gagging and spitting part.  please. okay... then how 'bout we try out some french cuisine.  saturday?  night?\n",
            "1                                                                                                                                                                                                                                                                          you're asking me out.  that's so cute. what's your name again? forget it.\n",
            "2                                                                                            no, no, it's my fault -- we didn't have a proper introduction --- cameron. the thing is, cameron -- i'm at the mercy of a particularly hideous breed of loser.  my sister.  i can't date until she does. seems like she could get a date easy enough...\n",
            "3                                                                                                                                                                                         why? unsolved mystery.  she used to be really popular when she started high school, then it was just like she got sick of it or something. that's a shame.\n",
            "4                                                                                                                                                                                                                                                                           gosh, if only we could find kat a boyfriend... let me see what i can do.\n",
            "Name: content, dtype: object\n",
            " \n",
            "CPU times: user 1.86 s, sys: 10.2 ms, total: 1.87 s\n",
            "Wall time: 1.87 s\n"
          ]
        }
      ]
    },
    {
      "cell_type": "code",
      "source": [
        "# merge all contents to form single text and get the vocab from it\n",
        "cornell_text =  ' '.join(cornell_movie_dialogs.content.values)\n",
        "\n",
        "cornell_total_char_count = len(cornell_text)\n",
        "print('scifi_total_char_count', cornell_total_char_count)"
      ],
      "metadata": {
        "colab": {
          "base_uri": "https://localhost:8080/"
        },
        "id": "xM9Th0vsTXRV",
        "outputId": "824bf404-76af-4602-db22-e3f981a4c6a5"
      },
      "execution_count": 11,
      "outputs": [
        {
          "output_type": "stream",
          "name": "stdout",
          "text": [
            "scifi_total_char_count 17142745\n"
          ]
        }
      ]
    },
    {
      "cell_type": "markdown",
      "source": [
        "## Generate Common Vocabalury"
      ],
      "metadata": {
        "id": "xtzY5Jk-QOJz"
      }
    },
    {
      "cell_type": "code",
      "source": [
        "# get the vocabulary of respetive files\n",
        "all_news_vocab = list(sorted(set(longform_text)))\n",
        "print('all_news_vocab unique characters ', len(all_news_vocab))\n",
        "\n",
        "scifi_vocab = list(sorted(set(scifi_text)))\n",
        "print('scifi_vocab unique characters ', len(scifi_vocab))\n",
        "\n",
        "cornell_vocab = list(sorted(set(cornell_text)))\n",
        "print('cornell_vocab unique characters ', len(cornell_vocab))\n"
      ],
      "metadata": {
        "colab": {
          "base_uri": "https://localhost:8080/"
        },
        "id": "5b63sKgv9pAu",
        "outputId": "5fa12538-eb9a-4534-be02-00a1821c0dfd"
      },
      "execution_count": 12,
      "outputs": [
        {
          "output_type": "stream",
          "name": "stdout",
          "text": [
            "all_news_vocab unique characters  73\n",
            "scifi_vocab unique characters  49\n",
            "cornell_vocab unique characters  67\n"
          ]
        }
      ]
    },
    {
      "cell_type": "code",
      "source": [
        "# combine all vocabulary files to get common vocabualry\n",
        "common_vocab = []\n",
        "common_vocab.extend(all_news_vocab)\n",
        "common_vocab.extend(scifi_vocab)\n",
        "common_vocab.extend(cornell_vocab)\n",
        "\n",
        "common_vocab = list(sorted(set(common_vocab)))\n",
        "print('common_vocab unique characters ', len(common_vocab))\n"
      ],
      "metadata": {
        "colab": {
          "base_uri": "https://localhost:8080/"
        },
        "id": "w198xRczUOd5",
        "outputId": "278b1ea9-6d49-4a29-a530-cd2acaa173dd"
      },
      "execution_count": 13,
      "outputs": [
        {
          "output_type": "stream",
          "name": "stdout",
          "text": [
            "common_vocab unique characters  73\n"
          ]
        }
      ]
    },
    {
      "cell_type": "markdown",
      "source": [
        "# Baseline Modelling\n",
        "1. Prepare utility methods which are required for model training\n",
        "2. Generate input and target sequences of length 100\n",
        "3. Split the generated sequences into train and test\n",
        "4. Define custom model subclassing which returns states as output along with model\n",
        "5. Define method to generate text based on sample input\n",
        "6. Predict the sample outputs and calculate BLEU-1 score\n",
        "7. Peform model training on sample subset of text intially to get baseline\n",
        "8. Model Training:\n",
        "  - Train the ALL NEWS text first and save the weights\n",
        "  - Train the SciFi text by loading the weights of all_news trained model\n",
        "  - Train the Cornell text by loading the weights of scifi trained model  "
      ],
      "metadata": {
        "id": "1FgsCkFoQBSu"
      }
    },
    {
      "cell_type": "code",
      "source": [
        "# char lookup\n",
        "char_lookup = StringLookup(vocabulary=common_vocab)\n",
        "\n",
        "# id lookup\n",
        "id_lookup = StringLookup(vocabulary=char_lookup.get_vocabulary(), invert=True)\n",
        "\n",
        "def get_id_from_char(text):\n",
        "  # unicode split of text\n",
        "  chars = unicode_split(text, 'UTF-8')\n",
        "  # convert chars to ids\n",
        "  ids = char_lookup(chars)\n",
        "  return ids\n",
        "\n",
        "def get_text_from_ids(ids):\n",
        "  # revert id to char\n",
        "  chars = id_lookup(ids)\n",
        "  # join the chars\n",
        "  text = reduce_join(chars, axis=-1).numpy()\n",
        "  return text\n"
      ],
      "metadata": {
        "id": "1tjhlz0PBbyQ"
      },
      "execution_count": 14,
      "outputs": []
    },
    {
      "cell_type": "code",
      "source": [
        "# generate input & target sequences \n",
        "def generate_input_target_sequences(text, seq_length, char_count):\n",
        "  input_sequences = []\n",
        "  target_sequences = []\n",
        "  for idx in tqdm(range(0, char_count, seq_length)):\n",
        "      ids = get_id_from_char(text[idx : (idx+seq_length+1)])\n",
        "      input_sequences.append(tf.convert_to_tensor(ids[:-1]))\n",
        "      target_sequences.append(tf.convert_to_tensor(ids[1:]))\n",
        "\n",
        "  return input_sequences, target_sequences"
      ],
      "metadata": {
        "id": "1xOwpZUbPjMQ"
      },
      "execution_count": 15,
      "outputs": []
    },
    {
      "cell_type": "code",
      "source": [
        "# prepare data\n",
        "def splitup_train_test(input, target, batch_size, buffer_size):\n",
        "  \n",
        "  # train test split\n",
        "  X_train, X_test, y_train, y_test = train_test_split(input, target, test_size=0.2, random_state=42)\n",
        "  \n",
        "  train_dataset = tf.data.Dataset.from_tensor_slices((X_train, y_train))\n",
        "  train_dataset = train_dataset.shuffle(buffer_size).batch(batch_size, drop_remainder=True)\n",
        "  \n",
        "  test_dataset = tf.data.Dataset.from_tensor_slices((X_test, y_test))\n",
        "  test_dataset = test_dataset.batch(batch_size, drop_remainder=True)\n",
        "\n",
        "  return train_dataset, test_dataset "
      ],
      "metadata": {
        "id": "yvlifxsjU4ux"
      },
      "execution_count": 95,
      "outputs": []
    },
    {
      "cell_type": "code",
      "source": [
        "# predictions base on sample input with bleu scores\n",
        "def predictions_with_bleu_score(model, dataset):\n",
        "  input, predicted, bleu_score = [], [], []\n",
        "\n",
        "  for input_example_batch, target_example_batch in dataset.take(1):\n",
        "      example_batch_predictions = model(input_example_batch)\n",
        "      for idx in range(len(example_batch_predictions)):\n",
        "        sampled_indices = tf.random.categorical(example_batch_predictions[idx], num_samples=1)\n",
        "        sampled_indices = tf.squeeze(sampled_indices, axis=-1).numpy()\n",
        "        input.append(get_text_from_ids(input_example_batch[idx]).decode('utf-8'))\n",
        "        predicted.append(get_text_from_ids(sampled_indices).decode('utf-8'))\n",
        "        bleu_score.append(sentence_bleu([input[-1].split(' ')], predicted[-1].split(' '), weights=(1, 0, 0, 0)))\n",
        "\n",
        "  return pd.DataFrame({'input':input, 'predicted':predicted, 'bleu_score':bleu_score}).sort_values('bleu_score', ascending=False)\n",
        "  "
      ],
      "metadata": {
        "id": "oLTzejHxZbj6"
      },
      "execution_count": 126,
      "outputs": []
    },
    {
      "cell_type": "code",
      "source": [
        "def gnerate_next_char(model, inputs, states=None):\n",
        "  # Convert strings to token IDs.\n",
        "  input_ids = get_id_from_char(inputs).to_tensor()\n",
        "\n",
        "  # Run the model.\n",
        "  predicted_logits, states = model(input_ids, states=states, return_state=True)\n",
        "\n",
        "  # Only use the last prediction.\n",
        "  predicted_logits = predicted_logits[:, -1, :]\n",
        "\n",
        "  # Sample the output logits to generate token IDs.\n",
        "  predicted_ids = tf.random.categorical(predicted_logits, num_samples=1)\n",
        "  predicted_ids = tf.squeeze(predicted_ids, axis=-1)\n",
        "\n",
        "  # Convert from token ids to characters\n",
        "  predicted_chars = get_text_from_ids(predicted_ids)\n",
        "\n",
        "  # Return the characters and model state.\n",
        "  return [predicted_chars], states"
      ],
      "metadata": {
        "id": "1dO9yBBZAYXQ"
      },
      "execution_count": 128,
      "outputs": []
    },
    {
      "cell_type": "code",
      "source": [
        "def generate_text(model, sample_input_text, chars=1000):\n",
        "  start = time.time()\n",
        "  states = None\n",
        "  next_char = tf.constant([sample_input_text])\n",
        "  result = [next_char]\n",
        "\n",
        "  for n in range(chars):\n",
        "    next_char, states = gnerate_next_char(model, next_char, states=states)\n",
        "    result.append(next_char)\n",
        "\n",
        "  result = tf.strings.join(result)\n",
        "  end = time.time()\n",
        "  print(f'\\nRun time:, {end - start}\\n')\n",
        "  return result[0].numpy().decode('utf-8')"
      ],
      "metadata": {
        "id": "kLA1q2FBaPA3"
      },
      "execution_count": 134,
      "outputs": []
    },
    {
      "cell_type": "code",
      "source": [
        "## https://www.tensorflow.org/text/tutorials/text_generation\n",
        "\n",
        "class CharRNN(tf.keras.Model):\n",
        "  def __init__(self, vocab_size, embedding_dim, rnn_units, kernel_reg=None):\n",
        "    super().__init__(self)\n",
        "    self.embedding = tf.keras.layers.Embedding(vocab_size, embedding_dim)\n",
        "    self.gru = tf.keras.layers.GRU(rnn_units,\n",
        "                                   return_sequences=True,\n",
        "                                   return_state=True, kernel_regularizer=kernel_reg)\n",
        "    self.dense = tf.keras.layers.Dense(vocab_size)\n",
        "\n",
        "  def call(self, inputs, states=None, return_state=False, training=False):\n",
        "    x = inputs\n",
        "    x = self.embedding(x, training=training)\n",
        "    if states is None:\n",
        "      states = self.gru.get_initial_state(x)\n",
        "    x, states = self.gru(x, initial_state=states, training=training)\n",
        "    x = self.dense(x, training=training)\n",
        "\n",
        "    if return_state:\n",
        "      return x, states\n",
        "    else:\n",
        "      return x"
      ],
      "metadata": {
        "id": "nNRS2RZkeCc8"
      },
      "execution_count": 46,
      "outputs": []
    },
    {
      "cell_type": "markdown",
      "source": [
        "### Training on All News Text"
      ],
      "metadata": {
        "id": "hAbjGzZyTJaz"
      }
    },
    {
      "cell_type": "code",
      "source": [
        "# select sample subset index\n",
        "sample_set_size = int(total_char_count * .01)\n",
        "\n",
        "sequence_length = 100\n",
        "batch_size = 128\n",
        "buffer_size = 1000\n",
        "vocab_size = len(char_lookup.get_vocabulary())\n",
        "embedding_dim = 256\n",
        "rnn_units = 1024\n",
        "\n",
        "X, y = generate_input_target_sequences(longform_text[:sample_set_size+1], sequence_length, sample_set_size)\n",
        "\n",
        "train_dataset, test_dataset = splitup_train_test(X[:-1], y[:-1], batch_size, buffer_size)\n",
        "\n",
        "model = CharRNN(vocab_size, embedding_dim, rnn_units)\n"
      ],
      "metadata": {
        "id": "qNxKlzCHQa6p"
      },
      "execution_count": 64,
      "outputs": []
    },
    {
      "cell_type": "code",
      "source": [
        "model = CharRNN(vocab_size, embedding_dim, rnn_units)\n",
        "\n",
        "checkpoint_callback = tf.keras.callbacks.ModelCheckpoint(filepath=drive_path+'all_news_model.hdf5', save_weights_only=True, save_best_only=True)\n",
        "\n",
        "model.compile(optimizer=tf.keras.optimizers.Adam(0.001), loss=SparseCategoricalCrossentropy(from_logits=True))\n",
        "\n",
        "model.fit(train_dataset, epochs=10, validation_data=test_dataset, callbacks=[checkpoint_callback])"
      ],
      "metadata": {
        "colab": {
          "base_uri": "https://localhost:8080/"
        },
        "id": "gMvERtik9J-r",
        "outputId": "6c217b41-7d65-470a-d817-7ec41db8a3da"
      },
      "execution_count": 65,
      "outputs": [
        {
          "output_type": "stream",
          "name": "stdout",
          "text": [
            "Epoch 1/10\n",
            "560/560 [==============================] - 66s 114ms/step - loss: 2.1098 - val_loss: 1.5803\n",
            "Epoch 2/10\n",
            "560/560 [==============================] - 64s 114ms/step - loss: 1.4477 - val_loss: 1.3708\n",
            "Epoch 3/10\n",
            "560/560 [==============================] - 68s 121ms/step - loss: 1.3199 - val_loss: 1.3036\n",
            "Epoch 4/10\n",
            "560/560 [==============================] - 63s 113ms/step - loss: 1.2593 - val_loss: 1.2711\n",
            "Epoch 5/10\n",
            "560/560 [==============================] - 63s 112ms/step - loss: 1.2184 - val_loss: 1.2557\n",
            "Epoch 6/10\n",
            "560/560 [==============================] - 63s 112ms/step - loss: 1.1870 - val_loss: 1.2464\n",
            "Epoch 7/10\n",
            "560/560 [==============================] - 64s 114ms/step - loss: 1.1607 - val_loss: 1.2432\n",
            "Epoch 8/10\n",
            "560/560 [==============================] - 62s 111ms/step - loss: 1.1378 - val_loss: 1.2459\n",
            "Epoch 9/10\n",
            "560/560 [==============================] - 62s 111ms/step - loss: 1.1176 - val_loss: 1.2494\n",
            "Epoch 10/10\n",
            "560/560 [==============================] - 64s 113ms/step - loss: 1.1012 - val_loss: 1.2569\n"
          ]
        },
        {
          "output_type": "execute_result",
          "data": {
            "text/plain": [
              "<keras.callbacks.History at 0x7f0f43eedb10>"
            ]
          },
          "metadata": {},
          "execution_count": 65
        }
      ]
    },
    {
      "cell_type": "code",
      "source": [
        "predictions = predictions_with_bleu_score(model, test_dataset)\n",
        "predictions.head()"
      ],
      "metadata": {
        "colab": {
          "base_uri": "https://localhost:8080/",
          "height": 336
        },
        "id": "sxuhfOBLc5iL",
        "outputId": "3087b459-53cc-4f0c-c3d8-289b89960831"
      },
      "execution_count": 127,
      "outputs": [
        {
          "output_type": "execute_result",
          "data": {
            "text/html": [
              "\n",
              "  <div id=\"df-57058988-3c18-42e2-b754-4e106ee3788a\">\n",
              "    <div class=\"colab-df-container\">\n",
              "      <div>\n",
              "<style scoped>\n",
              "    .dataframe tbody tr th:only-of-type {\n",
              "        vertical-align: middle;\n",
              "    }\n",
              "\n",
              "    .dataframe tbody tr th {\n",
              "        vertical-align: top;\n",
              "    }\n",
              "\n",
              "    .dataframe thead th {\n",
              "        text-align: right;\n",
              "    }\n",
              "</style>\n",
              "<table border=\"1\" class=\"dataframe\">\n",
              "  <thead>\n",
              "    <tr style=\"text-align: right;\">\n",
              "      <th></th>\n",
              "      <th>input</th>\n",
              "      <th>predicted</th>\n",
              "      <th>bleu_score</th>\n",
              "    </tr>\n",
              "  </thead>\n",
              "  <tbody>\n",
              "    <tr>\n",
              "      <th>25</th>\n",
              "      <td>rams at stations where three teens are accused of stealing police cars. southern california\\'s heat</td>\n",
              "      <td>np ar stations where three teens are accused of stoaling police cars. touthern california 's heat w</td>\n",
              "      <td>0.611111</td>\n",
              "    </tr>\n",
              "    <tr>\n",
              "      <th>72</th>\n",
              "      <td>ions\\' testimony\\xa0in the senate on tuesday didn\\'t change many minds.\\xa0uber ceo travis kalanick\\</td>\n",
              "      <td>gn  x ehstimony\\xa0in the senate on tuesday didn\\'t change many mirds.\\xa0uber\\ceo travis kalinick x</td>\n",
              "      <td>0.533333</td>\n",
              "    </tr>\n",
              "    <tr>\n",
              "      <th>110</th>\n",
              "      <td>ress report receiving more death threats\\xa0than ever before. baseball doesn\\'t stop for tragedy. \\'</td>\n",
              "      <td>ude.telorteteceiving mere seath threats\\xa0than ever before. baseball dowsn\\'t stop for tragedy. \\'c</td>\n",
              "      <td>0.493781</td>\n",
              "    </tr>\n",
              "    <tr>\n",
              "      <th>35</th>\n",
              "      <td>is favorite part about playing abraham? \"the fan reactions,\" he says.', 'the actor was a fan of the</td>\n",
              "      <td>nhrolor ne tart tbout slaygng abaiham? \"the macdseactsons.\" me says.', 'theysntor was a man of the n</td>\n",
              "      <td>0.313768</td>\n",
              "    </tr>\n",
              "    <tr>\n",
              "      <th>52</th>\n",
              "      <td>s despite redmond's absence. it was hard to walk around the halls and not spot the recognizable wind</td>\n",
              "      <td>siosiite ooqaond s suience, it cas oird to sotk treund the wosfw wnd tab jeektloe tisornitible widd-</td>\n",
              "      <td>0.221853</td>\n",
              "    </tr>\n",
              "  </tbody>\n",
              "</table>\n",
              "</div>\n",
              "      <button class=\"colab-df-convert\" onclick=\"convertToInteractive('df-57058988-3c18-42e2-b754-4e106ee3788a')\"\n",
              "              title=\"Convert this dataframe to an interactive table.\"\n",
              "              style=\"display:none;\">\n",
              "        \n",
              "  <svg xmlns=\"http://www.w3.org/2000/svg\" height=\"24px\"viewBox=\"0 0 24 24\"\n",
              "       width=\"24px\">\n",
              "    <path d=\"M0 0h24v24H0V0z\" fill=\"none\"/>\n",
              "    <path d=\"M18.56 5.44l.94 2.06.94-2.06 2.06-.94-2.06-.94-.94-2.06-.94 2.06-2.06.94zm-11 1L8.5 8.5l.94-2.06 2.06-.94-2.06-.94L8.5 2.5l-.94 2.06-2.06.94zm10 10l.94 2.06.94-2.06 2.06-.94-2.06-.94-.94-2.06-.94 2.06-2.06.94z\"/><path d=\"M17.41 7.96l-1.37-1.37c-.4-.4-.92-.59-1.43-.59-.52 0-1.04.2-1.43.59L10.3 9.45l-7.72 7.72c-.78.78-.78 2.05 0 2.83L4 21.41c.39.39.9.59 1.41.59.51 0 1.02-.2 1.41-.59l7.78-7.78 2.81-2.81c.8-.78.8-2.07 0-2.86zM5.41 20L4 18.59l7.72-7.72 1.47 1.35L5.41 20z\"/>\n",
              "  </svg>\n",
              "      </button>\n",
              "      \n",
              "  <style>\n",
              "    .colab-df-container {\n",
              "      display:flex;\n",
              "      flex-wrap:wrap;\n",
              "      gap: 12px;\n",
              "    }\n",
              "\n",
              "    .colab-df-convert {\n",
              "      background-color: #E8F0FE;\n",
              "      border: none;\n",
              "      border-radius: 50%;\n",
              "      cursor: pointer;\n",
              "      display: none;\n",
              "      fill: #1967D2;\n",
              "      height: 32px;\n",
              "      padding: 0 0 0 0;\n",
              "      width: 32px;\n",
              "    }\n",
              "\n",
              "    .colab-df-convert:hover {\n",
              "      background-color: #E2EBFA;\n",
              "      box-shadow: 0px 1px 2px rgba(60, 64, 67, 0.3), 0px 1px 3px 1px rgba(60, 64, 67, 0.15);\n",
              "      fill: #174EA6;\n",
              "    }\n",
              "\n",
              "    [theme=dark] .colab-df-convert {\n",
              "      background-color: #3B4455;\n",
              "      fill: #D2E3FC;\n",
              "    }\n",
              "\n",
              "    [theme=dark] .colab-df-convert:hover {\n",
              "      background-color: #434B5C;\n",
              "      box-shadow: 0px 1px 3px 1px rgba(0, 0, 0, 0.15);\n",
              "      filter: drop-shadow(0px 1px 2px rgba(0, 0, 0, 0.3));\n",
              "      fill: #FFFFFF;\n",
              "    }\n",
              "  </style>\n",
              "\n",
              "      <script>\n",
              "        const buttonEl =\n",
              "          document.querySelector('#df-57058988-3c18-42e2-b754-4e106ee3788a button.colab-df-convert');\n",
              "        buttonEl.style.display =\n",
              "          google.colab.kernel.accessAllowed ? 'block' : 'none';\n",
              "\n",
              "        async function convertToInteractive(key) {\n",
              "          const element = document.querySelector('#df-57058988-3c18-42e2-b754-4e106ee3788a');\n",
              "          const dataTable =\n",
              "            await google.colab.kernel.invokeFunction('convertToInteractive',\n",
              "                                                     [key], {});\n",
              "          if (!dataTable) return;\n",
              "\n",
              "          const docLinkHtml = 'Like what you see? Visit the ' +\n",
              "            '<a target=\"_blank\" href=https://colab.research.google.com/notebooks/data_table.ipynb>data table notebook</a>'\n",
              "            + ' to learn more about interactive tables.';\n",
              "          element.innerHTML = '';\n",
              "          dataTable['output_type'] = 'display_data';\n",
              "          await google.colab.output.renderOutput(dataTable, element);\n",
              "          const docLink = document.createElement('div');\n",
              "          docLink.innerHTML = docLinkHtml;\n",
              "          element.appendChild(docLink);\n",
              "        }\n",
              "      </script>\n",
              "    </div>\n",
              "  </div>\n",
              "  "
            ],
            "text/plain": [
              "                                                                                                    input  ... bleu_score\n",
              "25   rams at stations where three teens are accused of stealing police cars. southern california\\'s heat   ...   0.611111\n",
              "72   ions\\' testimony\\xa0in the senate on tuesday didn\\'t change many minds.\\xa0uber ceo travis kalanick\\  ...   0.533333\n",
              "110  ress report receiving more death threats\\xa0than ever before. baseball doesn\\'t stop for tragedy. \\'  ...   0.493781\n",
              "35   is favorite part about playing abraham? \"the fan reactions,\" he says.', 'the actor was a fan of the   ...   0.313768\n",
              "52   s despite redmond's absence. it was hard to walk around the halls and not spot the recognizable wind  ...   0.221853\n",
              "\n",
              "[5 rows x 3 columns]"
            ]
          },
          "metadata": {},
          "execution_count": 127
        }
      ]
    },
    {
      "cell_type": "code",
      "source": [
        "generate_text(model, 'audience:', 1000)"
      ],
      "metadata": {
        "colab": {
          "base_uri": "https://localhost:8080/",
          "height": 183
        },
        "id": "ommRqQZna2fV",
        "outputId": "fd67a5e1-1178-4ed0-c3f2-e6f846a523b7"
      },
      "execution_count": 135,
      "outputs": [
        {
          "output_type": "stream",
          "name": "stdout",
          "text": [
            "\n",
            "Run time:, 9.019437789916992\n",
            "\n"
          ]
        },
        {
          "output_type": "execute_result",
          "data": {
            "application/vnd.google.colaboratory.intrinsic+json": {
              "type": "string"
            },
            "text/plain": [
              "'audience: she felt wants to drove the dubai it in eleratory puzzling panic existence, aleasa and a cellthe is serving a much-bound today\" in the game read that we could change an email to that all participant has been under consed-related technologies sected over both movie or to pinfly the internet of data and humans. in other words on dizn t true. it\\'s absolute attraction.\\\\xa0\\', \\' vas lansdon, mora-blanco chosen that his voice-illing advantage\\\\xa0as that our free video will serve china. it\\'s something that goody slown in a way that capitalization from the stoty of industrial services is been heavily badge enough. gas manages&amprdquo the latest inkucc was do so harden and more inflicted over two you\\'ve seenbadd set up in the right gils.\\', \\' with robin wright, depadds, an app like featurette for the public, celebrity answers to bud there? but you can make heads could use the indust will rips the duty has been shown to havas the way first depressed in  it was escave environmentally being releas'"
            ]
          },
          "metadata": {},
          "execution_count": 135
        }
      ]
    },
    {
      "cell_type": "markdown",
      "source": [
        "### Training on SciFi Text\n",
        "\n",
        "Load the model weights which was trained on All_the_News text "
      ],
      "metadata": {
        "id": "Yp_s6DdA4bqm"
      }
    },
    {
      "cell_type": "code",
      "source": [
        "# unchanged parameters\n",
        "sequence_length = 100\n",
        "batch_size = 128\n",
        "buffer_size = 1000\n",
        "vocab_size = len(char_lookup.get_vocabulary())\n",
        "embedding_dim = 256\n",
        "rnn_units = 1024\n",
        "\n",
        "# select sample subset index\n",
        "scifi_sample_set_size = int(scifi_total_char_count * .05)\n",
        "\n",
        "X_scifi, y_scifi = generate_input_target_sequences(scifi_text[:scifi_sample_set_size+1], sequence_length, scifi_sample_set_size)\n",
        "\n",
        "scifi_train_dataset, scifi_test_dataset = splitup_train_test(X_scifi[:-1], y_scifi[:-1], batch_size, buffer_size)\n",
        "\n",
        "scifi_model = CharRNN(vocab_size, embedding_dim, rnn_units)\n",
        "\n",
        "for input_example_batch, target_example_batch in scifi_train_dataset.take(1):\n",
        "    example_batch_predictions = scifi_model(input_example_batch)\n",
        "    print(example_batch_predictions.shape, \"# (batch_size, sequence_length, vocab_size)\")\n",
        "\n",
        "scifi_model.load_weights(drive_path+'all_news_model.hdf5')"
      ],
      "metadata": {
        "colab": {
          "base_uri": "https://localhost:8080/"
        },
        "id": "fulENYU844Gq",
        "outputId": "7f46ca70-8e40-45bd-9f8a-e23699a1d711"
      },
      "execution_count": 108,
      "outputs": [
        {
          "output_type": "stream",
          "name": "stderr",
          "text": [
            "100%|██████████| 74677/74677 [04:13<00:00, 294.89it/s]\n"
          ]
        },
        {
          "output_type": "stream",
          "name": "stdout",
          "text": [
            "(128, 100, 74) # (batch_size, sequence_length, vocab_size)\n"
          ]
        }
      ]
    },
    {
      "cell_type": "code",
      "source": [
        "scifi_checkpoint_callback = tf.keras.callbacks.ModelCheckpoint(filepath=drive_path+'scifi_model.hdf5', save_weights_only=True, save_best_only=True)\n",
        "\n",
        "scifi_model.compile(optimizer=tf.keras.optimizers.Adam(0.0001), loss=SparseCategoricalCrossentropy(from_logits=True))\n",
        "\n",
        "scifi_model.fit(scifi_train_dataset, epochs=10, validation_data=scifi_test_dataset, callbacks=[scifi_checkpoint_callback])"
      ],
      "metadata": {
        "colab": {
          "base_uri": "https://localhost:8080/"
        },
        "id": "gnblsZpQ4YgE",
        "outputId": "b2dab86e-011e-45c5-81ba-f37aeb5fc360"
      },
      "execution_count": 109,
      "outputs": [
        {
          "output_type": "stream",
          "name": "stdout",
          "text": [
            "Epoch 1/10\n",
            "466/466 [==============================] - 50s 104ms/step - loss: 1.4024 - val_loss: 1.3564\n",
            "Epoch 2/10\n",
            "466/466 [==============================] - 50s 107ms/step - loss: 1.3277 - val_loss: 1.3242\n",
            "Epoch 3/10\n",
            "466/466 [==============================] - 52s 112ms/step - loss: 1.2968 - val_loss: 1.3062\n",
            "Epoch 4/10\n",
            "466/466 [==============================] - 52s 112ms/step - loss: 1.2757 - val_loss: 1.2939\n",
            "Epoch 5/10\n",
            "466/466 [==============================] - 53s 113ms/step - loss: 1.2594 - val_loss: 1.2850\n",
            "Epoch 6/10\n",
            "466/466 [==============================] - 52s 111ms/step - loss: 1.2459 - val_loss: 1.2780\n",
            "Epoch 7/10\n",
            "466/466 [==============================] - 53s 114ms/step - loss: 1.2342 - val_loss: 1.2722\n",
            "Epoch 8/10\n",
            "466/466 [==============================] - 52s 112ms/step - loss: 1.2237 - val_loss: 1.2673\n",
            "Epoch 9/10\n",
            "466/466 [==============================] - 53s 114ms/step - loss: 1.2143 - val_loss: 1.2634\n",
            "Epoch 10/10\n",
            "466/466 [==============================] - 52s 112ms/step - loss: 1.2056 - val_loss: 1.2604\n"
          ]
        },
        {
          "output_type": "execute_result",
          "data": {
            "text/plain": [
              "<keras.callbacks.History at 0x7f0f42a24150>"
            ]
          },
          "metadata": {},
          "execution_count": 109
        }
      ]
    },
    {
      "cell_type": "code",
      "source": [
        "scifi_model.fit(scifi_train_dataset, initial_epoch=10, epochs=20, validation_data=scifi_test_dataset, callbacks=[scifi_checkpoint_callback])"
      ],
      "metadata": {
        "colab": {
          "base_uri": "https://localhost:8080/"
        },
        "id": "x-qyGxXbJ8xF",
        "outputId": "5b275c1b-c951-467b-a6b2-377b7b875524"
      },
      "execution_count": 111,
      "outputs": [
        {
          "output_type": "stream",
          "name": "stdout",
          "text": [
            "Epoch 11/20\n",
            "466/466 [==============================] - 51s 109ms/step - loss: 1.1974 - val_loss: 1.2575\n",
            "Epoch 12/20\n",
            "466/466 [==============================] - 52s 112ms/step - loss: 1.1899 - val_loss: 1.2551\n",
            "Epoch 13/20\n",
            "466/466 [==============================] - 52s 112ms/step - loss: 1.1826 - val_loss: 1.2533\n",
            "Epoch 14/20\n",
            "466/466 [==============================] - 52s 112ms/step - loss: 1.1756 - val_loss: 1.2517\n",
            "Epoch 15/20\n",
            "466/466 [==============================] - 53s 114ms/step - loss: 1.1690 - val_loss: 1.2507\n",
            "Epoch 16/20\n",
            "466/466 [==============================] - 52s 112ms/step - loss: 1.1625 - val_loss: 1.2496\n",
            "Epoch 17/20\n",
            "466/466 [==============================] - 52s 111ms/step - loss: 1.1563 - val_loss: 1.2488\n",
            "Epoch 18/20\n",
            "466/466 [==============================] - 52s 112ms/step - loss: 1.1503 - val_loss: 1.2480\n",
            "Epoch 19/20\n",
            "466/466 [==============================] - 52s 113ms/step - loss: 1.1445 - val_loss: 1.2479\n",
            "Epoch 20/20\n",
            "466/466 [==============================] - 52s 111ms/step - loss: 1.1388 - val_loss: 1.2480\n"
          ]
        },
        {
          "output_type": "execute_result",
          "data": {
            "text/plain": [
              "<keras.callbacks.History at 0x7f0f459b1910>"
            ]
          },
          "metadata": {},
          "execution_count": 111
        }
      ]
    },
    {
      "cell_type": "code",
      "source": [
        "scifi_predictions = predictions_with_bleu_score(scifi_model, scifi_test_dataset)\n",
        "scifi_predictions.head()"
      ],
      "metadata": {
        "colab": {
          "base_uri": "https://localhost:8080/",
          "height": 320
        },
        "id": "tOxtdgLSD6lu",
        "outputId": "d1225d13-83ed-47c8-b194-5d0c28498c5c"
      },
      "execution_count": 136,
      "outputs": [
        {
          "output_type": "execute_result",
          "data": {
            "text/html": [
              "\n",
              "  <div id=\"df-5573d67b-0fd1-4abb-829b-721e302b31cd\">\n",
              "    <div class=\"colab-df-container\">\n",
              "      <div>\n",
              "<style scoped>\n",
              "    .dataframe tbody tr th:only-of-type {\n",
              "        vertical-align: middle;\n",
              "    }\n",
              "\n",
              "    .dataframe tbody tr th {\n",
              "        vertical-align: top;\n",
              "    }\n",
              "\n",
              "    .dataframe thead th {\n",
              "        text-align: right;\n",
              "    }\n",
              "</style>\n",
              "<table border=\"1\" class=\"dataframe\">\n",
              "  <thead>\n",
              "    <tr style=\"text-align: right;\">\n",
              "      <th></th>\n",
              "      <th>input</th>\n",
              "      <th>predicted</th>\n",
              "      <th>bleu_score</th>\n",
              "    </tr>\n",
              "  </thead>\n",
              "  <tbody>\n",
              "    <tr>\n",
              "      <th>74</th>\n",
              "      <td>tions will be based on your wishes. fair enough? she was sweet, gentle, kind -- a sort of martian ol</td>\n",
              "      <td>hfn  -etl be veckd on aour lofe s. totlnlraugh \"hhe has toiati seneie  mangal- a stut of aenthan w'd</td>\n",
              "      <td>0.190476</td>\n",
              "    </tr>\n",
              "    <tr>\n",
              "      <th>88</th>\n",
              "      <td>ieth century\"    to rebuild the life many of you may remember. it will be difficult at first. but ti</td>\n",
              "      <td>ndtocentury  aas h oecuild yhe uite-tar  pt uour uy besember  i  iall be lefficult.tn tonst  aut ihm</td>\n",
              "      <td>0.181818</td>\n",
              "    </tr>\n",
              "    <tr>\n",
              "      <th>121</th>\n",
              "      <td>the link had been forged. and maccullogh heard him mutter just before he disappeared altogether, \"i</td>\n",
              "      <td>fhe sage tad been sorgod  and 'rnhullicu wa rd tem weceeriaont aefore te widgppeared fbmvgethers fhf</td>\n",
              "      <td>0.176471</td>\n",
              "    </tr>\n",
              "    <tr>\n",
              "      <th>25</th>\n",
              "      <td>daywithoutfail problems to be solved first. none of us could figure out the purpose of the mechanism</td>\n",
              "      <td>.s ath ut utr olevlems.ooose fumved.irlmt. rote of ts wanldnbinhre ort ahe semslse of the cadhanicms</td>\n",
              "      <td>0.176140</td>\n",
              "    </tr>\n",
              "    <tr>\n",
              "      <th>104</th>\n",
              "      <td>anniversary present.\" i stared at him blankly. i couldn't think what anniversary he meant. \"you'll</td>\n",
              "      <td>cbduhersary.aaossntl  tssxared at tim.aeand y. lnhouldn't seink seet km  hirsary holiomnt, aiou'rl n</td>\n",
              "      <td>0.175035</td>\n",
              "    </tr>\n",
              "  </tbody>\n",
              "</table>\n",
              "</div>\n",
              "      <button class=\"colab-df-convert\" onclick=\"convertToInteractive('df-5573d67b-0fd1-4abb-829b-721e302b31cd')\"\n",
              "              title=\"Convert this dataframe to an interactive table.\"\n",
              "              style=\"display:none;\">\n",
              "        \n",
              "  <svg xmlns=\"http://www.w3.org/2000/svg\" height=\"24px\"viewBox=\"0 0 24 24\"\n",
              "       width=\"24px\">\n",
              "    <path d=\"M0 0h24v24H0V0z\" fill=\"none\"/>\n",
              "    <path d=\"M18.56 5.44l.94 2.06.94-2.06 2.06-.94-2.06-.94-.94-2.06-.94 2.06-2.06.94zm-11 1L8.5 8.5l.94-2.06 2.06-.94-2.06-.94L8.5 2.5l-.94 2.06-2.06.94zm10 10l.94 2.06.94-2.06 2.06-.94-2.06-.94-.94-2.06-.94 2.06-2.06.94z\"/><path d=\"M17.41 7.96l-1.37-1.37c-.4-.4-.92-.59-1.43-.59-.52 0-1.04.2-1.43.59L10.3 9.45l-7.72 7.72c-.78.78-.78 2.05 0 2.83L4 21.41c.39.39.9.59 1.41.59.51 0 1.02-.2 1.41-.59l7.78-7.78 2.81-2.81c.8-.78.8-2.07 0-2.86zM5.41 20L4 18.59l7.72-7.72 1.47 1.35L5.41 20z\"/>\n",
              "  </svg>\n",
              "      </button>\n",
              "      \n",
              "  <style>\n",
              "    .colab-df-container {\n",
              "      display:flex;\n",
              "      flex-wrap:wrap;\n",
              "      gap: 12px;\n",
              "    }\n",
              "\n",
              "    .colab-df-convert {\n",
              "      background-color: #E8F0FE;\n",
              "      border: none;\n",
              "      border-radius: 50%;\n",
              "      cursor: pointer;\n",
              "      display: none;\n",
              "      fill: #1967D2;\n",
              "      height: 32px;\n",
              "      padding: 0 0 0 0;\n",
              "      width: 32px;\n",
              "    }\n",
              "\n",
              "    .colab-df-convert:hover {\n",
              "      background-color: #E2EBFA;\n",
              "      box-shadow: 0px 1px 2px rgba(60, 64, 67, 0.3), 0px 1px 3px 1px rgba(60, 64, 67, 0.15);\n",
              "      fill: #174EA6;\n",
              "    }\n",
              "\n",
              "    [theme=dark] .colab-df-convert {\n",
              "      background-color: #3B4455;\n",
              "      fill: #D2E3FC;\n",
              "    }\n",
              "\n",
              "    [theme=dark] .colab-df-convert:hover {\n",
              "      background-color: #434B5C;\n",
              "      box-shadow: 0px 1px 3px 1px rgba(0, 0, 0, 0.15);\n",
              "      filter: drop-shadow(0px 1px 2px rgba(0, 0, 0, 0.3));\n",
              "      fill: #FFFFFF;\n",
              "    }\n",
              "  </style>\n",
              "\n",
              "      <script>\n",
              "        const buttonEl =\n",
              "          document.querySelector('#df-5573d67b-0fd1-4abb-829b-721e302b31cd button.colab-df-convert');\n",
              "        buttonEl.style.display =\n",
              "          google.colab.kernel.accessAllowed ? 'block' : 'none';\n",
              "\n",
              "        async function convertToInteractive(key) {\n",
              "          const element = document.querySelector('#df-5573d67b-0fd1-4abb-829b-721e302b31cd');\n",
              "          const dataTable =\n",
              "            await google.colab.kernel.invokeFunction('convertToInteractive',\n",
              "                                                     [key], {});\n",
              "          if (!dataTable) return;\n",
              "\n",
              "          const docLinkHtml = 'Like what you see? Visit the ' +\n",
              "            '<a target=\"_blank\" href=https://colab.research.google.com/notebooks/data_table.ipynb>data table notebook</a>'\n",
              "            + ' to learn more about interactive tables.';\n",
              "          element.innerHTML = '';\n",
              "          dataTable['output_type'] = 'display_data';\n",
              "          await google.colab.output.renderOutput(dataTable, element);\n",
              "          const docLink = document.createElement('div');\n",
              "          docLink.innerHTML = docLinkHtml;\n",
              "          element.appendChild(docLink);\n",
              "        }\n",
              "      </script>\n",
              "    </div>\n",
              "  </div>\n",
              "  "
            ],
            "text/plain": [
              "                                                                                                    input  ... bleu_score\n",
              "74   tions will be based on your wishes. fair enough? she was sweet, gentle, kind -- a sort of martian ol  ...   0.190476\n",
              "88   ieth century\"    to rebuild the life many of you may remember. it will be difficult at first. but ti  ...   0.181818\n",
              "121   the link had been forged. and maccullogh heard him mutter just before he disappeared altogether, \"i  ...   0.176471\n",
              "25   daywithoutfail problems to be solved first. none of us could figure out the purpose of the mechanism  ...   0.176140\n",
              "104   anniversary present.\" i stared at him blankly. i couldn't think what anniversary he meant. \"you'll   ...   0.175035\n",
              "\n",
              "[5 rows x 3 columns]"
            ]
          },
          "metadata": {},
          "execution_count": 136
        }
      ]
    },
    {
      "cell_type": "code",
      "source": [
        "generate_text(scifi_model, 'stories:', 1000)"
      ],
      "metadata": {
        "colab": {
          "base_uri": "https://localhost:8080/",
          "height": 183
        },
        "id": "q1GatyhsbjBC",
        "outputId": "98ada16b-5313-47ba-8c04-499ee4da6deb"
      },
      "execution_count": 137,
      "outputs": [
        {
          "output_type": "stream",
          "name": "stdout",
          "text": [
            "\n",
            "Run time:, 8.703739881515503\n",
            "\n"
          ]
        },
        {
          "output_type": "execute_result",
          "data": {
            "application/vnd.google.colaboratory.intrinsic+json": {
              "type": "string"
            },
            "text/plain": [
              "'stories: \"get the boss.\" fred looked at the grains of the sun, molded by batteries, he had killed the tap put at his disself -- an invitation, and finally he\\'d renaied. then he saw smiled slowly. \"you could vetera into them, its expression?\" \"just like the anounctered armma,\" said mcchecker, quickly, dancing dryly. \"what is games -- their sign-faced three companions, the untruside terms so close to him? trimges, fortunately, gets jerked by a subscription, but i\\'ll contend with martian androids and easy new proos-bank.\" he bent forced for halt. i was tired...  --# kirk lost the last mile, it certainly shrugged with dazed feet along his pay and troating into a number through ces.\\', within. too.\" \"not on,\" the president said, \"i found it behind the thick benefit of unmisnappeary madages.\" impelled group of space-port across. they were told lasted, without reable with gilmoreed and have doubted that about brought the controversial sickness, and recognized the \"dull select faster than he like,\" he '"
            ]
          },
          "metadata": {},
          "execution_count": 137
        }
      ]
    },
    {
      "cell_type": "markdown",
      "source": [
        "### Training on Cornell Text\n",
        "\n",
        "Loaded the model weights which was trained on All_the_News text & SciFi text "
      ],
      "metadata": {
        "id": "x7nwWCc2KJL1"
      }
    },
    {
      "cell_type": "code",
      "source": [
        "# unchanged parameters\n",
        "sequence_length = 100\n",
        "batch_size = 128\n",
        "buffer_size = 1000\n",
        "vocab_size = len(char_lookup.get_vocabulary())\n",
        "embedding_dim = 256\n",
        "rnn_units = 1024\n",
        "\n",
        "# select sample subset index\n",
        "cornell_sample_set_size = int(cornell_total_char_count * .5)\n",
        "\n",
        "X_cornell, y_cornell = generate_input_target_sequences(cornell_text[:cornell_sample_set_size+1], sequence_length, cornell_sample_set_size)\n",
        "\n",
        "cornell_train_dataset, cornell_test_dataset = splitup_train_test(X_cornell[:-1], y_cornell[:-1], batch_size, buffer_size)\n",
        "\n",
        "cornell_model = CharRNN(vocab_size, embedding_dim, rnn_units)\n",
        "\n",
        "for input_example_batch, target_example_batch in scifi_train_dataset.take(1):\n",
        "    example_batch_predictions = cornell_model(input_example_batch)\n",
        "    print(example_batch_predictions.shape, \"# (batch_size, sequence_length, vocab_size)\")\n",
        "\n",
        "cornell_model.load_weights(drive_path+'scifi_model.hdf5')"
      ],
      "metadata": {
        "colab": {
          "base_uri": "https://localhost:8080/"
        },
        "id": "1XwZJapPKIOC",
        "outputId": "463ced1c-67f2-45d1-9296-fa28a2d2f3bc"
      },
      "execution_count": 121,
      "outputs": [
        {
          "output_type": "stream",
          "name": "stderr",
          "text": [
            "100%|██████████| 85714/85714 [04:53<00:00, 292.20it/s]\n"
          ]
        },
        {
          "output_type": "stream",
          "name": "stdout",
          "text": [
            "(128, 100, 74) # (batch_size, sequence_length, vocab_size)\n"
          ]
        }
      ]
    },
    {
      "cell_type": "code",
      "source": [
        "cornell_checkpoint_callback = tf.keras.callbacks.ModelCheckpoint(filepath=drive_path+'cornell_model.hdf5', save_weights_only=True, save_best_only=True)\n",
        "\n",
        "cornell_model.compile(optimizer=tf.keras.optimizers.Adam(0.0001), loss=SparseCategoricalCrossentropy(from_logits=True))\n",
        "\n",
        "cornell_model.fit(cornell_train_dataset, epochs=10, validation_data=cornell_test_dataset, callbacks=[cornell_checkpoint_callback])"
      ],
      "metadata": {
        "colab": {
          "base_uri": "https://localhost:8080/"
        },
        "id": "YUEYRlk_LXCG",
        "outputId": "90319edd-7646-4142-d0f5-1c2a5d590439"
      },
      "execution_count": 122,
      "outputs": [
        {
          "output_type": "stream",
          "name": "stdout",
          "text": [
            "Epoch 1/10\n",
            "535/535 [==============================] - 56s 102ms/step - loss: 1.3037 - val_loss: 1.2731\n",
            "Epoch 2/10\n",
            "535/535 [==============================] - 57s 106ms/step - loss: 1.2521 - val_loss: 1.2518\n",
            "Epoch 3/10\n",
            "535/535 [==============================] - 59s 111ms/step - loss: 1.2293 - val_loss: 1.2401\n",
            "Epoch 4/10\n",
            "535/535 [==============================] - 59s 111ms/step - loss: 1.2134 - val_loss: 1.2318\n",
            "Epoch 5/10\n",
            "535/535 [==============================] - 59s 111ms/step - loss: 1.2009 - val_loss: 1.2260\n",
            "Epoch 6/10\n",
            "535/535 [==============================] - 60s 112ms/step - loss: 1.1904 - val_loss: 1.2213\n",
            "Epoch 7/10\n",
            "535/535 [==============================] - 60s 112ms/step - loss: 1.1813 - val_loss: 1.2174\n",
            "Epoch 8/10\n",
            "535/535 [==============================] - 60s 112ms/step - loss: 1.1730 - val_loss: 1.2145\n",
            "Epoch 9/10\n",
            "535/535 [==============================] - 60s 112ms/step - loss: 1.1656 - val_loss: 1.2120\n",
            "Epoch 10/10\n",
            "535/535 [==============================] - 60s 112ms/step - loss: 1.1585 - val_loss: 1.2098\n"
          ]
        },
        {
          "output_type": "execute_result",
          "data": {
            "text/plain": [
              "<keras.callbacks.History at 0x7f0f43bc4fd0>"
            ]
          },
          "metadata": {},
          "execution_count": 122
        }
      ]
    },
    {
      "cell_type": "code",
      "source": [
        "cornell_predictions = predictions_with_bleu_score(cornell_model, scifi_test_dataset)\n",
        "cornell_predictions.head()"
      ],
      "metadata": {
        "colab": {
          "base_uri": "https://localhost:8080/",
          "height": 336
        },
        "id": "IKSSatGXOFpQ",
        "outputId": "b51e9c50-1ee2-47c5-c90e-53405992e559"
      },
      "execution_count": 138,
      "outputs": [
        {
          "output_type": "execute_result",
          "data": {
            "text/html": [
              "\n",
              "  <div id=\"df-0be334c5-d5e0-4cf3-ad2f-db2c5cc5c9b6\">\n",
              "    <div class=\"colab-df-container\">\n",
              "      <div>\n",
              "<style scoped>\n",
              "    .dataframe tbody tr th:only-of-type {\n",
              "        vertical-align: middle;\n",
              "    }\n",
              "\n",
              "    .dataframe tbody tr th {\n",
              "        vertical-align: top;\n",
              "    }\n",
              "\n",
              "    .dataframe thead th {\n",
              "        text-align: right;\n",
              "    }\n",
              "</style>\n",
              "<table border=\"1\" class=\"dataframe\">\n",
              "  <thead>\n",
              "    <tr style=\"text-align: right;\">\n",
              "      <th></th>\n",
              "      <th>input</th>\n",
              "      <th>predicted</th>\n",
              "      <th>bleu_score</th>\n",
              "    </tr>\n",
              "  </thead>\n",
              "  <tbody>\n",
              "    <tr>\n",
              "      <th>22</th>\n",
              "      <td>need a leader.\" barling smiled coldly. \"are you trying to tell me the men have selected you?\" \"no,</td>\n",
              "      <td>tied anhiwv.r.  hjbtieg raote, ahadsy  tine you eaying to bell me nha daa cave beelct d you   ihot t</td>\n",
              "      <td>0.217391</td>\n",
              "    </tr>\n",
              "    <tr>\n",
              "      <th>0</th>\n",
              "      <td>led just a trifle early. i want you to meet our visitor, special envoy markham introduced them, and</td>\n",
              "      <td>aa cest abdhipleybxrli  h want you oo seet hur aesio rs sirnial ipgyy wadksal,is eoduced aoe . tnd d</td>\n",
              "      <td>0.150000</td>\n",
              "    </tr>\n",
              "    <tr>\n",
              "      <th>95</th>\n",
              "      <td>sir.\" \"when?\" \"just before the council stopped \"uh huh. did you have a reaction?\" tensor considered</td>\n",
              "      <td>rux.  ithyne\" diest wu ire the slnrtil.haorsid tjh-ruh.  od you heve tnreastion?  thl er cousider d</td>\n",
              "      <td>0.150000</td>\n",
              "    </tr>\n",
              "    <tr>\n",
              "      <th>101</th>\n",
              "      <td>over him, and he let himself be submerged in purest automatic activity. but as he rested, letting h</td>\n",
              "      <td>yfer heg  fnd he tea him elf be uurmirged nn telll. ssthmotic,micioety, sut i  fu hoaosr. setting me</td>\n",
              "      <td>0.150000</td>\n",
              "    </tr>\n",
              "    <tr>\n",
              "      <th>126</th>\n",
              "      <td>not after tonight.\" \"you're not going to run away?\" june asked breathlessly. \"you wouldn't dare do</td>\n",
              "      <td>sob?f rar whmight,  ..eu de uot soing to lei f ay.  susk ptk d feoakhsess.y, isou\"konld 't bewemto y</td>\n",
              "      <td>0.142857</td>\n",
              "    </tr>\n",
              "  </tbody>\n",
              "</table>\n",
              "</div>\n",
              "      <button class=\"colab-df-convert\" onclick=\"convertToInteractive('df-0be334c5-d5e0-4cf3-ad2f-db2c5cc5c9b6')\"\n",
              "              title=\"Convert this dataframe to an interactive table.\"\n",
              "              style=\"display:none;\">\n",
              "        \n",
              "  <svg xmlns=\"http://www.w3.org/2000/svg\" height=\"24px\"viewBox=\"0 0 24 24\"\n",
              "       width=\"24px\">\n",
              "    <path d=\"M0 0h24v24H0V0z\" fill=\"none\"/>\n",
              "    <path d=\"M18.56 5.44l.94 2.06.94-2.06 2.06-.94-2.06-.94-.94-2.06-.94 2.06-2.06.94zm-11 1L8.5 8.5l.94-2.06 2.06-.94-2.06-.94L8.5 2.5l-.94 2.06-2.06.94zm10 10l.94 2.06.94-2.06 2.06-.94-2.06-.94-.94-2.06-.94 2.06-2.06.94z\"/><path d=\"M17.41 7.96l-1.37-1.37c-.4-.4-.92-.59-1.43-.59-.52 0-1.04.2-1.43.59L10.3 9.45l-7.72 7.72c-.78.78-.78 2.05 0 2.83L4 21.41c.39.39.9.59 1.41.59.51 0 1.02-.2 1.41-.59l7.78-7.78 2.81-2.81c.8-.78.8-2.07 0-2.86zM5.41 20L4 18.59l7.72-7.72 1.47 1.35L5.41 20z\"/>\n",
              "  </svg>\n",
              "      </button>\n",
              "      \n",
              "  <style>\n",
              "    .colab-df-container {\n",
              "      display:flex;\n",
              "      flex-wrap:wrap;\n",
              "      gap: 12px;\n",
              "    }\n",
              "\n",
              "    .colab-df-convert {\n",
              "      background-color: #E8F0FE;\n",
              "      border: none;\n",
              "      border-radius: 50%;\n",
              "      cursor: pointer;\n",
              "      display: none;\n",
              "      fill: #1967D2;\n",
              "      height: 32px;\n",
              "      padding: 0 0 0 0;\n",
              "      width: 32px;\n",
              "    }\n",
              "\n",
              "    .colab-df-convert:hover {\n",
              "      background-color: #E2EBFA;\n",
              "      box-shadow: 0px 1px 2px rgba(60, 64, 67, 0.3), 0px 1px 3px 1px rgba(60, 64, 67, 0.15);\n",
              "      fill: #174EA6;\n",
              "    }\n",
              "\n",
              "    [theme=dark] .colab-df-convert {\n",
              "      background-color: #3B4455;\n",
              "      fill: #D2E3FC;\n",
              "    }\n",
              "\n",
              "    [theme=dark] .colab-df-convert:hover {\n",
              "      background-color: #434B5C;\n",
              "      box-shadow: 0px 1px 3px 1px rgba(0, 0, 0, 0.15);\n",
              "      filter: drop-shadow(0px 1px 2px rgba(0, 0, 0, 0.3));\n",
              "      fill: #FFFFFF;\n",
              "    }\n",
              "  </style>\n",
              "\n",
              "      <script>\n",
              "        const buttonEl =\n",
              "          document.querySelector('#df-0be334c5-d5e0-4cf3-ad2f-db2c5cc5c9b6 button.colab-df-convert');\n",
              "        buttonEl.style.display =\n",
              "          google.colab.kernel.accessAllowed ? 'block' : 'none';\n",
              "\n",
              "        async function convertToInteractive(key) {\n",
              "          const element = document.querySelector('#df-0be334c5-d5e0-4cf3-ad2f-db2c5cc5c9b6');\n",
              "          const dataTable =\n",
              "            await google.colab.kernel.invokeFunction('convertToInteractive',\n",
              "                                                     [key], {});\n",
              "          if (!dataTable) return;\n",
              "\n",
              "          const docLinkHtml = 'Like what you see? Visit the ' +\n",
              "            '<a target=\"_blank\" href=https://colab.research.google.com/notebooks/data_table.ipynb>data table notebook</a>'\n",
              "            + ' to learn more about interactive tables.';\n",
              "          element.innerHTML = '';\n",
              "          dataTable['output_type'] = 'display_data';\n",
              "          await google.colab.output.renderOutput(dataTable, element);\n",
              "          const docLink = document.createElement('div');\n",
              "          docLink.innerHTML = docLinkHtml;\n",
              "          element.appendChild(docLink);\n",
              "        }\n",
              "      </script>\n",
              "    </div>\n",
              "  </div>\n",
              "  "
            ],
            "text/plain": [
              "                                                                                                    input  ... bleu_score\n",
              "22    need a leader.\" barling smiled coldly. \"are you trying to tell me the men have selected you?\" \"no,   ...   0.217391\n",
              "0    led just a trifle early. i want you to meet our visitor, special envoy markham introduced them, and   ...   0.150000\n",
              "95    sir.\" \"when?\" \"just before the council stopped \"uh huh. did you have a reaction?\" tensor considered  ...   0.150000\n",
              "101   over him, and he let himself be submerged in purest automatic activity. but as he rested, letting h  ...   0.150000\n",
              "126   not after tonight.\" \"you're not going to run away?\" june asked breathlessly. \"you wouldn't dare do   ...   0.142857\n",
              "\n",
              "[5 rows x 3 columns]"
            ]
          },
          "metadata": {},
          "execution_count": 138
        }
      ]
    },
    {
      "cell_type": "code",
      "source": [
        "generate_text(cornell_model, 'commercially', 1000)"
      ],
      "metadata": {
        "colab": {
          "base_uri": "https://localhost:8080/",
          "height": 183
        },
        "id": "grVrJL5Bb5KS",
        "outputId": "7bdd9e87-6805-4e1b-dac1-e25a1732a454"
      },
      "execution_count": 139,
      "outputs": [
        {
          "output_type": "stream",
          "name": "stdout",
          "text": [
            "\n",
            "Run time:, 8.663483381271362\n",
            "\n"
          ]
        },
        {
          "output_type": "execute_result",
          "data": {
            "application/vnd.google.colaboratory.intrinsic+json": {
              "type": "string"
            },
            "text/plain": [
              "\"commercially or may too much? my record camelon's... all i can. yes, you know, just take it easy when we came for the way to kay and a broad cancel in the candidance? the driver's in the morger was proud of yourself -- i want a man in the 21-year witch. elizabeth well, nope... it's eatin' the monster, walter... see you the surface.  only in high germans of others. enhanced me!  we wakes ick - oh, more than you. how are you going to do that, too. actur's visgeed. what exactly as logic, the thoughts comes data for the thing when you get out of last night, as you've been seeing this couple of this loc and forty years together.  put my own five mirds's excellency. how do i go through to come hero?  why were you going to do this, i'm telling you they'd go see you off one window -- cloud together</u> for christ's sake. v.k. i been up in a new york time around... oh,  that is the first time on us? well, you mean, uh...sometimes we haven't showed's connugged in engagement. <u>however, jesus does not. what\""
            ]
          },
          "metadata": {},
          "execution_count": 139
        }
      ]
    },
    {
      "cell_type": "markdown",
      "source": [
        "### Observations\n",
        "1. All models observed to be over-fitting\n",
        "2. All models are generating some sequence of text which is not grammatically perfect and some words misspelled, but some of the are proper words.\n",
        "3. ALL news model after 10 epochs - loss: 1.1012 - val_loss: 1.2569\n",
        "4. SciFi model after 20 epochs - loss: 1.1388 - val_loss: 1.2480\n",
        "5. Cronell Movie Dialog model after 10 epochs - loss: 1.1585 - val_loss: 1.2098\n"
      ],
      "metadata": {
        "id": "xvbxjyOAdVQE"
      }
    }
  ]
}
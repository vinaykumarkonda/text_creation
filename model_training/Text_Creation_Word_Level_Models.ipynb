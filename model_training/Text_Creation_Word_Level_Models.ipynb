{
  "cells": [
    {
      "cell_type": "code",
      "execution_count": 1,
      "metadata": {
        "colab": {
          "base_uri": "https://localhost:8080/"
        },
        "id": "O83OJW-pefW3",
        "outputId": "d2994978-7f86-44d3-957b-4c96beb36c25"
      },
      "outputs": [
        {
          "output_type": "stream",
          "name": "stdout",
          "text": [
            "\u001b[K     |████████████████████████████████| 4.9 MB 5.2 MB/s \n",
            "\u001b[?25h"
          ]
        }
      ],
      "source": [
        "!pip install -q tensorflow-text"
      ]
    },
    {
      "cell_type": "code",
      "execution_count": 2,
      "metadata": {
        "id": "aL9UTfMO3BiM"
      },
      "outputs": [],
      "source": [
        "import os\n",
        "import time\n",
        "import shutil\n",
        "\n",
        "import pandas as pd\n",
        "import sqlite3\n",
        "import seaborn as sns\n",
        "import matplotlib.pyplot as plt\n",
        "import numpy as np\n",
        "import re\n",
        "from tqdm import tqdm\n",
        "from sklearn.model_selection import train_test_split\n",
        "\n",
        "import tensorflow as tf\n",
        "from tensorflow.keras.layers import StringLookup\n",
        "from tensorflow.keras.layers import GRU, Dense, LSTM, Input, Embedding\n",
        "from tensorflow.keras.models import Sequential, Model\n",
        "from tensorflow.keras.losses import SparseCategoricalCrossentropy\n",
        "from nltk.translate.bleu_score import sentence_bleu\n",
        "from tensorflow.keras.layers import TextVectorization\n",
        "import tensorflow_text as tf_text\n",
        "\n",
        "import re\n",
        "import collections\n",
        "import warnings\n",
        "warnings.filterwarnings('ignore')\n",
        "%load_ext tensorboard\n",
        "\n",
        "pd.set_option('display.max_colwidth',1024)\n",
        "pd.set_option('display.width',1024)\n",
        "\n",
        "drive_path = '/content/drive/MyDrive/01_Applied_AI_Course_New/CaseStudies/Text Creation/'"
      ]
    },
    {
      "cell_type": "markdown",
      "metadata": {
        "id": "B5FPVd94Lmb3"
      },
      "source": [
        "# Data Processing Utils\n",
        "1. Text Standardization - removes html, punctuations & unicode chars\n",
        "2. Construct the vocabulary using the raw data\n",
        "3. Tokenization of raw data for constructing the vocabulary\n",
        "4. Generate input & target sequences \n",
        "5. Splitup the data into train & test datasets\n",
        "6. Read the vocabulary file from saved path\n"
      ]
    },
    {
      "cell_type": "code",
      "execution_count": 3,
      "metadata": {
        "id": "RG8C7hyBaEbC"
      },
      "outputs": [],
      "source": [
        "HTML = re.compile('<.*?>')\n",
        "# initializing punctuations string\n",
        "PUNCT = '''!()-[]{};:\"\\<>/?@#$%^&*_~'''\n",
        "\n",
        "# converts to lower case, remove non-asci chars and html tags\n",
        "def text_standardization(text):\n",
        "  text = text.lower()\n",
        "  text = re.sub(HTML, ' ', text)\n",
        "  text = ''.join([i if ord(i) < 128 else ' ' for i in text])\n",
        "  for ele in text:\n",
        "    if ele in PUNCT:\n",
        "        text = text.replace(ele, \"\")\n",
        "  return text"
      ]
    },
    {
      "cell_type": "code",
      "execution_count": 4,
      "metadata": {
        "id": "9jKTpGtqj7U2"
      },
      "outputs": [],
      "source": [
        "AUTOTUNE = tf.data.AUTOTUNE\n",
        "\n",
        "def configure_dataset(dataset):\n",
        "  return dataset.cache().prefetch(buffer_size=AUTOTUNE)"
      ]
    },
    {
      "cell_type": "code",
      "execution_count": 5,
      "metadata": {
        "id": "2sE-KU9vkvEU"
      },
      "outputs": [],
      "source": [
        "## https://www.tensorflow.org/tutorials/load_data/text\n",
        "\n",
        "def construct_vocab(tokenized_ds, max_tokens):\n",
        " \n",
        "  tokenized_ds = configure_dataset(tokenized_ds)\n",
        "\n",
        "  vocab_dict = collections.defaultdict(lambda: 0)\n",
        "  for toks in tqdm(tokenized_ds.as_numpy_iterator()):\n",
        "    for tok in toks:\n",
        "      vocab_dict[tok] += 1\n",
        "\n",
        "  vocab = sorted(vocab_dict.items(), key=lambda x: x[1], reverse=True)\n",
        "  full_vocab = [token for token, count in vocab]  \n",
        "  vocab = vocab[:max_tokens-1]\n",
        "  vocab = [token for token, count in vocab]\n",
        "  \n",
        "  # save full vocab for further process\n",
        "  pd.to_pickle(full_vocab, drive_path+'longform_full_vocab.pkl')\n",
        "\n",
        "  # save vocab for further process\n",
        "  pd.to_pickle(vocab, drive_path+'longform_vocab.pkl')\n",
        "  \n",
        "  print(\"Full Vocab size: \", len(full_vocab))\n",
        "  print(\"Filterd Vocab size: \", len(vocab))\n",
        "\n",
        "  return vocab"
      ]
    },
    {
      "cell_type": "code",
      "execution_count": 6,
      "metadata": {
        "id": "UuwsVCeppBRw"
      },
      "outputs": [],
      "source": [
        "# tokenization of raw data to construct the vocabulary \n",
        "def get_data_and_vocab_table(text_values, max_tokens, seq_len=80):\n",
        "  \n",
        "  # merge all contents to form single text\n",
        "  text =  ' '.join(text_values).split() # longform_text_data.longform_text.values)\n",
        "\n",
        "  # split up the text using char limit\n",
        "  data = [' '.join(text[idx:idx+seq_len+1]) for idx in tqdm(range(0, len(text), seq_len+1))]\n",
        "  print('\\nText split sequence - completed\\n')\n",
        "\n",
        "  # convert the list to tf dataset\n",
        "  dataset = tf.data.Dataset.from_tensor_slices(data)\n",
        "\n",
        "  # tokenize the data\n",
        "  tokenized_ds = dataset.map(lambda text: tokenizer.tokenize(text))\n",
        "  print('\\nTokenization - completed\\n')\n",
        "\n",
        "  # construct vocab\n",
        "  vocab = construct_vocab(tokenized_ds, max_tokens)\n",
        "  print('\\nConstruction of Vocab - completed\\n')\n",
        "\n",
        "  # construct vocab_table\n",
        "  keys = vocab\n",
        "  values = range(1, len(vocab) + 1)  # Reserve `0` for padding, `1` for OOV tokens.\n",
        "\n",
        "  init = tf.lookup.KeyValueTensorInitializer(\n",
        "    keys, values, key_dtype=tf.string, value_dtype=tf.int64)\n",
        "\n",
        "  num_oov_buckets = 1\n",
        "  vocab_table = tf.lookup.StaticVocabularyTable(init, num_oov_buckets)\n",
        "\n",
        "  return data, vocab_table, vocab_table.size().numpy()\n"
      ]
    },
    {
      "cell_type": "code",
      "execution_count": 7,
      "metadata": {
        "id": "9QQP1JgIS15_"
      },
      "outputs": [],
      "source": [
        "# generate input & target sequences \n",
        "def generate_input_target_sequences(sequence):\n",
        "    input_text = sequence[:-1]\n",
        "    target_text = sequence[1:]\n",
        "    return input_text, target_text"
      ]
    },
    {
      "cell_type": "code",
      "execution_count": 25,
      "metadata": {
        "id": "YjIjfBQfv02g"
      },
      "outputs": [],
      "source": [
        "# splitup the data into train & test datasets\n",
        "def splitup_train_test(data, vocab_table, batch_size, buffer_size):\n",
        "  \n",
        "  # train test split\n",
        "  train_text, test_text = train_test_split(data, test_size=0.2, random_state=42)\n",
        "\n",
        "  # converting text into tensor format\n",
        "  train_data = tf.data.Dataset.from_tensor_slices(train_text,)\n",
        "  test_data = tf.data.Dataset.from_tensor_slices(test_text)\n",
        "\n",
        "  # tokenization of tensor data\n",
        "  train_ds = train_data.map(lambda text: tokenizer.tokenize(text))\n",
        "  test_ds = test_data.map(lambda text: tokenizer.tokenize(text))\n",
        "\n",
        "  # converting to sequence using constructed vocab\n",
        "  train_seq = train_ds.map(lambda tok: vocab_table.lookup(tok))\n",
        "  test_seq = test_ds.map(lambda tok: vocab_table.lookup(tok))\n",
        "\n",
        "  # generating input & target sequences\n",
        "  train_dataset = train_seq.map(generate_input_target_sequences)\n",
        "  test_dataset = test_seq.map(generate_input_target_sequences)\n",
        "\n",
        "  # batching the sequences\n",
        "  train_dataset = train_dataset.shuffle(buffer_size).padded_batch(batch_size, drop_remainder=True)\n",
        "  test_dataset = test_dataset.padded_batch(batch_size, drop_remainder=True)\n",
        "\n",
        "  return configure_dataset(train_dataset), configure_dataset(test_dataset)\n"
      ]
    },
    {
      "cell_type": "code",
      "execution_count": 32,
      "metadata": {
        "id": "rZ3Ss9mq-2Za"
      },
      "outputs": [],
      "source": [
        "# read the vocab from saved path\n",
        "def get_vocab():\n",
        "  longform_vocab = pd.read_pickle(drive_path+'longform_vocab.pkl')\n",
        "  vocab_dict = {key.decode('utf-8'):val for (key, val) in zip(longform_vocab, vocab_table[tf.constant(longform_vocab)].numpy())}\n",
        "  vocab_dict['UNK']=1\n",
        "  return vocab_dict\n"
      ]
    },
    {
      "cell_type": "markdown",
      "source": [
        "# Inference & Validation Utils\n",
        "1. Predict one step/sentence based on the model type\n",
        "2. Predictions of sample batch along with BLEU (1-4) scores based on model type\n",
        "3. Beam Search util\n",
        "4. Generate token ids for sample input\n",
        "5. Greedy Search util\n",
        "6. Generate text for next set of words using sample input text\n"
      ],
      "metadata": {
        "id": "aKOfWzf_WHe1"
      }
    },
    {
      "cell_type": "code",
      "execution_count": 9,
      "metadata": {
        "id": "Gw6NNF44xXQw"
      },
      "outputs": [],
      "source": [
        "# predict one step/sentence based on the model type\n",
        "def predict_one_step(model, input, model_type, h_states, c_states):\n",
        "\n",
        "  if model_type == 'attention':\n",
        "    embd_layer = model.layers[1](input)\n",
        "    predicted_logits = model.layers[3](embd_layer)\n",
        "    predicted_logits = predicted_logits.numpy().reshape(1, predicted_logits.numpy().shape[0], predicted_logits.numpy().shape[1])\n",
        "    return predicted_logits\n",
        "\n",
        "  elif model_type == 'lstm':\n",
        "    embd_layer = model.layers[0](input)\n",
        "    embd_layer = embd_layer.numpy().reshape(1, embd_layer.numpy().shape[0], embd_layer.numpy().shape[1])\n",
        "    if (h_states is None) & (c_states is None):\n",
        "        h_states, c_states = model.layers[1].get_initial_state(embd_layer)\n",
        "    lstm_out, h_states, c_states = model.layers[1](embd_layer, initial_state=[h_states, c_states])\n",
        "    predicted_logits = model.layers[2](lstm_out)\n",
        "    return predicted_logits, h_states, c_states\n",
        "    \n",
        "  elif model_type == 'gru':\n",
        "    embd_layer = model.layers[0](input)\n",
        "    embd_layer = embd_layer.numpy().reshape(1, embd_layer.numpy().shape[0], embd_layer.numpy().shape[1])\n",
        "    if h_states is None:\n",
        "        h_states = model.layers[1].get_initial_state(embd_layer)\n",
        "    gru_out, h_states = model.layers[1](embd_layer, initial_state=h_states)\n",
        "    predicted_logits = model.layers[2](gru_out)\n",
        "    return predicted_logits, h_states\n"
      ]
    },
    {
      "cell_type": "code",
      "execution_count": 33,
      "metadata": {
        "id": "oVnRUkvWcUVP"
      },
      "outputs": [],
      "source": [
        "# Predictions of sample batch along with BLEU (1-4) scores based on model type\n",
        "def predictions_with_bleu_score(model, dataset, model_type):\n",
        "  # load longform_id_lookup\n",
        "  vocab_dict = get_vocab()\n",
        "  longform_id_lookup = {val: key for key, val in vocab_dict.items()}\n",
        "  input, predicted, BLEU1, BLEU2, BLEU3, BLEU4 = [], [], [], [], [], []\n",
        "\n",
        "  for input_example_batch, target_example_batch in dataset.take(1):\n",
        "        for idx in range(input_example_batch.shape[0]):\n",
        "          if model_type=='lstm':\n",
        "            # lstm will have both states hidden and cell\n",
        "            predicted_logits, h_states, c_states = predict_one_step(model, input_example_batch[idx], model_type, h_states=None, c_states=None)\n",
        "          elif model_type=='gru':\n",
        "            # gru will have only hidden state\n",
        "            predicted_logits, h_states = predict_one_step(model, input_example_batch[idx], model_type, h_states=None, c_states=None)\n",
        "          elif model_type=='attention':\n",
        "            # Attn model\n",
        "            predicted_logits = predict_one_step(model, input_example_batch[idx], model_type, h_states=None, c_states=None)\n",
        "          predicted_indices = tf.random.categorical(predicted_logits[-1,:,:], num_samples=1)\n",
        "          predicted_indices = tf.squeeze(predicted_indices, axis=-1).numpy()\n",
        "          input_text = ' '.join([longform_id_lookup[id.numpy()] for id in input_example_batch[idx] if id not in [0, 1]])\n",
        "          input.append(input_text)\n",
        "          predicted_text = ' '.join([longform_id_lookup[id] for id in predicted_indices if id not in [0, 1]])\n",
        "          predicted.append(predicted_text)\n",
        "          BLEU1.append(sentence_bleu([input_text.split(' ')], predicted_text.split(' '), weights=(1, 0, 0, 0)))\n",
        "          BLEU2.append(sentence_bleu([input_text.split(' ')], predicted_text.split(' '), weights=(.5, .5, 0, 0)))\n",
        "          BLEU3.append(sentence_bleu([input_text.split(' ')], predicted_text.split(' '), weights=(.33, .33, .33, 0)))\n",
        "          BLEU4.append(sentence_bleu([input_text.split(' ')], predicted_text.split(' '), weights=(.25, .25, .25, .25)))\n",
        "  \n",
        "  return pd.DataFrame({'Input':input, 'Predicted':predicted, 'BLEU-1':BLEU1, 'BLEU-2':BLEU2, 'BLEU-3':BLEU3, 'BLEU-4':BLEU4}).sort_values(['BLEU-1','BLEU-2','BLEU-3','BLEU-4'], ascending=False)\n"
      ]
    },
    {
      "cell_type": "code",
      "execution_count": 11,
      "metadata": {
        "id": "9krQTOpE-wyR"
      },
      "outputs": [],
      "source": [
        "##https://machinelearningmastery.com/beam-search-decoder-natural-language-processing/\n",
        "\n",
        "# beam search\n",
        "def beam_search_decoder(data, k):\n",
        "\tsequences = [[list(), 0.0]]\n",
        "\t# walk over each step in sequence\n",
        "\tfor row in data:\n",
        "\t\tall_candidates = list()\n",
        "\t\t# expand each current candidate\n",
        "\t\tfor i in range(len(sequences)):\n",
        "\t\t\tseq, score = sequences[i]\n",
        "\t\t\tfor j in range(len(row)):\n",
        "\t\t\t\tcandidate = [seq + [j], score - row[j]]\n",
        "\t\t\t\tall_candidates.append(candidate)\n",
        "\t\t# order all candidates by score\n",
        "\t\tordered = sorted(all_candidates, key=lambda tup:tup[1])\n",
        "\t\t# select k best\n",
        "\t\tsequences = ordered[:k]\n",
        "\treturn sequences\n"
      ]
    },
    {
      "cell_type": "code",
      "execution_count": 12,
      "metadata": {
        "id": "xG2ApzVzI4ha"
      },
      "outputs": [],
      "source": [
        "# generate token ids for sample input \n",
        "def get_input_ids(sample_input, word_lookup):\n",
        "  inpu = np.zeros(80, dtype=np.int64)\n",
        "  for idx, w in enumerate(sample_input):\n",
        "    input[idx]=word_lookup.get(w,1)\n",
        "  return tf.convert_to_tensor(input)"
      ]
    },
    {
      "cell_type": "code",
      "execution_count": 13,
      "metadata": {
        "id": "hYA_MWffAnmK"
      },
      "outputs": [],
      "source": [
        "# Get the top preicted index based on logits\n",
        "def greedy_seach(predicted_logits, id_lookup):\n",
        "  logits, indices = tf.math.top_k(predicted_logits, k=10, sorted=True)\n",
        "  indices = np.asarray(indices).astype(\"int32\")\n",
        "  preds = tf.keras.activations.softmax(tf.expand_dims(logits, 0))[0]\n",
        "  preds = np.asarray(preds).astype(\"float32\")\n",
        "  return np.random.choice(indices, p=preds)"
      ]
    },
    {
      "cell_type": "code",
      "execution_count": 14,
      "metadata": {
        "id": "1dO9yBBZAYXQ"
      },
      "outputs": [],
      "source": [
        "## https://keras.io/examples/generative/text_generation_with_miniature_gpt/\n",
        "\n",
        "def gnerate_next_word(model, model_type, inputs, result, word_lookup, id_lookup, h_states=None, c_states=None, beam=False):\n",
        "\n",
        "  sample_index = len(result)-1\n",
        "  if beam:\n",
        "    # Convert strings to token IDs.\n",
        "    #result = ' '.join(result)\n",
        "    #beam_inputs = ' '.join([result if using_previous_words is None else result[-using_previous_words:]])\n",
        "    input_ids = get_input_ids(result, word_lookup)\n",
        "\n",
        "    if model_type=='lstm':\n",
        "      # lstm will have both states hidden and cell\n",
        "      predicted_logits, h_states, c_states = predict_one_step(model, input_ids, model_type, h_states, c_states)\n",
        "    \n",
        "    elif model_type=='gru':\n",
        "      # gru will have only hidden state\n",
        "      predicted_logits, h_states = predict_one_step(model, input_ids, model_type, h_states, c_states)\n",
        "    \n",
        "    elif model_type=='attention':\n",
        "      # Attn model\n",
        "      predicted_logits = predict_one_step(model, input_ids, model_type, h_states, c_states)\n",
        "\n",
        "    # pick the highest log likelihood ratio among top 3 proposals\n",
        "    predicted_ids = beam_search_decoder(predicted_logits[:,sample_index,:], 3)\n",
        "    predicted_ids = predicted_ids[-1][0][0]\n",
        "  \n",
        "  else:\n",
        "    \n",
        "    # Convert strings to token IDs.\n",
        "    input_ids = get_input_ids(result, word_lookup)\n",
        "    \n",
        "    if model_type=='lstm':\n",
        "      # lstm will have both states hidden and cell\n",
        "      predicted_logits, h_states, c_states = predict_one_step(model, input_ids, model_type, h_states, c_states)\n",
        "    \n",
        "    elif model_type=='gru':\n",
        "      # gru will have only hidden state\n",
        "      predicted_logits, h_states = predict_one_step(model, input_ids, model_type, h_states, c_states)\n",
        "    \n",
        "    elif model_type=='attention':\n",
        "      # Attn model\n",
        "      predicted_logits = predict_one_step(model, input_ids, model_type, h_states, c_states)\n",
        "\n",
        "    # Convert from token ids to characters\n",
        "    predicted_ids = greedy_seach(predicted_logits[0][sample_index], id_lookup)\n",
        "  \n",
        "  predicted_word = id_lookup[predicted_ids]\n",
        "\n",
        "  # Return the word and model state.\n",
        "  if model_type=='lstm':\n",
        "    return [predicted_word], h_states, c_states\n",
        "  elif model_type=='gru':\n",
        "    return [predicted_word], h_states\n",
        "  elif model_type=='attention':\n",
        "    return [predicted_word]"
      ]
    },
    {
      "cell_type": "code",
      "execution_count": 15,
      "metadata": {
        "id": "kLA1q2FBaPA3"
      },
      "outputs": [],
      "source": [
        "# generate text for next set of words using sample input text \n",
        "def generate_text(model, model_type, sample_input_text, predict_next_words=50, with_beam=False):\n",
        "  start = time.time()\n",
        "  \n",
        "  # load longform_id_lookup\n",
        "  word_lookup = get_vocab()\n",
        "  id_lookup = {val: key for key, val in word_lookup.items()}\n",
        "\n",
        "  h_states, c_states = None, None\n",
        "  next_word = [sample_input_text]\n",
        "  result = [sample_input_text]\n",
        "\n",
        "  if model_type=='lstm':\n",
        "    # lstm model text generation\n",
        "    for n in tqdm(range(predict_next_words)):\n",
        "      next_word, h_states, c_states = gnerate_next_word(model, model_type, next_word, result, word_lookup, id_lookup, h_states=h_states, c_states=c_states, beam=with_beam)\n",
        "      result.extend(next_word)\n",
        "  elif model_type=='gru':\n",
        "    # gru model text generation\n",
        "    for n in tqdm(range(predict_next_words)):\n",
        "      next_word, h_states = gnerate_next_word(model, model_type, result, next_word, word_lookup, id_lookup, h_states=h_states, beam=with_beam)\n",
        "      result.extend(next_word)\n",
        "  elif model_type=='attention':\n",
        "    # gru model text generation\n",
        "    for n in tqdm(range(predict_next_words)):\n",
        "      next_word = gnerate_next_word(model, model_type, result, next_word, word_lookup, id_lookup, h_states=h_states, beam=with_beam)\n",
        "      result.extend(next_word)\n",
        "\n",
        "  result = ' '.join([_ for _ in result if _!='UNK'])\n",
        "  end = time.time()\n",
        "  print(f'\\nRun time:, {end - start}\\n')\n",
        "  return result"
      ]
    },
    {
      "cell_type": "markdown",
      "source": [
        "# Word Level Models"
      ],
      "metadata": {
        "id": "xEzTXj4TVtnp"
      }
    },
    {
      "cell_type": "markdown",
      "source": [
        "## Word RNN\n",
        "\n",
        "LSTM - Architecture\n",
        "\n",
        "    position_embeeding(embed dim - 256) ----> LSTM (512 units) -> Dense (vocab_size)\n",
        "\n",
        "GRU - Architecture\n",
        "\n",
        "    position_embeeding(embed dim - 256) ----> GRU (512 units) -> Dense (vocab_size)"
      ],
      "metadata": {
        "id": "heuvdSpDbn3b"
      }
    },
    {
      "cell_type": "code",
      "source": [
        "## https://keras.io/examples/generative/text_generation_with_miniature_gpt/\n",
        "\n",
        "## Create two seperate embedding layers: one for tokens and one for token index (positions).\n",
        "\n",
        "class TokenAndPositionEmbedding(tf.keras.layers.Layer):\n",
        "    def __init__(self, maxlen, vocab_size, embed_dim):\n",
        "        super(TokenAndPositionEmbedding, self).__init__()\n",
        "        self.token_emb = Embedding(input_dim=vocab_size, output_dim=embed_dim)\n",
        "        self.pos_emb = Embedding(input_dim=maxlen, output_dim=embed_dim)\n",
        "\n",
        "    def call(self, x):\n",
        "        maxlen = tf.shape(x)[-1]\n",
        "        positions = tf.range(start=0, limit=maxlen, delta=1)\n",
        "        positions = self.pos_emb(positions)\n",
        "        x = self.token_emb(x)\n",
        "        return x + positions"
      ],
      "metadata": {
        "id": "bOGbTCwmdKiS"
      },
      "execution_count": null,
      "outputs": []
    },
    {
      "cell_type": "code",
      "execution_count": 17,
      "metadata": {
        "id": "nNRS2RZkeCc8"
      },
      "outputs": [],
      "source": [
        "## https://www.tensorflow.org/text/tutorials/text_generation\n",
        "\n",
        "class WordRNN(tf.keras.Model):\n",
        "  def __init__(self, vocab_size, embedding_dim, maxlen, dropout, rnn_units, kernel_reg=None, use_lstm=False):\n",
        "    super().__init__(self)\n",
        "    self.embedding_layer = TokenAndPositionEmbedding(maxlen, vocab_size, embed_dim)\n",
        "    #self.embedding = TokenAndPositionEmbedding(maxlen, vocab_size, embedding_dim) \n",
        "    #tf.keras.layers.Embedding(vocab_size+1, embedding_dim)#, weights=[embedding_word_matrix])\n",
        "\n",
        "    if use_lstm:\n",
        "      # LSTM layer initialisation\n",
        "      self.lstm = tf.keras.layers.LSTM(rnn_units, dropout=dropout,\n",
        "                                    return_sequences=True,\n",
        "                                    return_state=True, kernel_regularizer=kernel_reg)\n",
        "    else:\n",
        "      # GRU layer initialisation\n",
        "      self.gru = tf.keras.layers.GRU(rnn_units, dropout=dropout,\n",
        "                                    return_sequences=True,\n",
        "                                    return_state=True, kernel_regularizer=kernel_reg)\n",
        "    \n",
        "    self.dense = tf.keras.layers.Dense(vocab_size, kernel_regularizer=kernel_reg)\n",
        "    self.use_lstm = use_lstm\n",
        "\n",
        "  def call(self, inputs, h_states=None, c_states=None, return_state=False, training=False):\n",
        "    x = inputs\n",
        "    x = self.embedding_layer(x, training=training)\n",
        "    \n",
        "    # LSTM layer call parameters with both states hidden and cell\n",
        "    if self.use_lstm:\n",
        "      if (h_states is None) & (c_states is None):\n",
        "        h_states, c_states = self.lstm.get_initial_state(x)\n",
        "      x, h_states, c_states = self.lstm(x, initial_state=[h_states, c_states], training=training)\n",
        "\n",
        "    else:\n",
        "\n",
        "      # GRU layer call parameters with hidden state\n",
        "      if h_states is None:\n",
        "        h_states = self.gru.get_initial_state(x)\n",
        "      x, states = self.gru(x, initial_state=h_states, training=training)\n",
        "    x = self.dense(x, training=training)\n",
        "    \n",
        "    if return_state:\n",
        "      if self.use_lstm:\n",
        "        return x, h_states, c_states\n",
        "      else:\n",
        "        return x, h_states\n",
        "    else:\n",
        "      return x"
      ]
    },
    {
      "cell_type": "markdown",
      "source": [
        "## GPT - Single Transformer Block with Causal Masking\n",
        "\n",
        "![image.png](data:image/png;base64,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)\n",
        "\n",
        "      inputs --> position_embedding (embed_dim - 256) ---> transformer_block ---> dense(vocab_size)\n",
        "\n",
        "Transformer\n",
        "\n",
        "      inputs --->  causal_attention_mask() ---> MultiHeadAttention (2 headed) ---> dropout1 (0.2) --->\n",
        "                        ---> layernorm1 (inputs + attention_output) ---> FFN ---> dropout2 (0.2) ---> layernorm2(layernorm1 _output + ffn_output)\n",
        "\n",
        "FFN\n",
        "\n",
        "    dense(256 units, activation=\"relu\") ---> dense(embed_dim)\n"
      ],
      "metadata": {
        "id": "URwoCh8AfGJJ"
      }
    },
    {
      "cell_type": "code",
      "execution_count": 19,
      "metadata": {
        "id": "qai8hZIEKZnb"
      },
      "outputs": [],
      "source": [
        "## Transformer block as a layer\n",
        "\n",
        "def causal_attention_mask(batch_size, n_dest, n_src, dtype):\n",
        "    \"\"\"\n",
        "    Mask the upper half of the dot product matrix in self attention.\n",
        "    This prevents flow of information from future tokens to current token.\n",
        "    1's in the lower triangle, counting from the lower right corner.\n",
        "    \"\"\"\n",
        "    i = tf.range(n_dest)[:, None]\n",
        "    j = tf.range(n_src)\n",
        "    m = i >= j - n_src + n_dest\n",
        "    mask = tf.cast(m, dtype)\n",
        "    mask = tf.reshape(mask, [1, n_dest, n_src])\n",
        "    mult = tf.concat(\n",
        "        [tf.expand_dims(batch_size, -1), tf.constant([1, 1], dtype=tf.int32)], 0\n",
        "    )\n",
        "    return tf.tile(mask, mult)\n",
        "\n",
        "\n",
        "class TransformerBlock(tf.keras.layers.Layer):\n",
        "    def __init__(self, embed_dim, num_heads, ff_dim, rate=0.1):\n",
        "        super(TransformerBlock, self).__init__()\n",
        "        self.att = tf.keras.layers.MultiHeadAttention(num_heads, embed_dim)\n",
        "        self.ffn = tf.keras.Sequential(\n",
        "            [tf.keras.layers.Dense(ff_dim, activation=\"relu\"), tf.keras.layers.Dense(embed_dim),]\n",
        "        )\n",
        "        self.layernorm1 = tf.keras.layers.LayerNormalization(epsilon=1e-6)\n",
        "        self.layernorm2 = tf.keras.layers.LayerNormalization(epsilon=1e-6)\n",
        "        self.dropout1 = tf.keras.layers.Dropout(rate)\n",
        "        self.dropout2 = tf.keras.layers.Dropout(rate)\n",
        "\n",
        "    def call(self, inputs):\n",
        "        input_shape = tf.shape(inputs)\n",
        "        batch_size = input_shape[0]\n",
        "        seq_len = input_shape[1]\n",
        "        causal_mask = causal_attention_mask(batch_size, seq_len, seq_len, tf.bool)\n",
        "        attention_output = self.att(inputs, inputs, attention_mask=causal_mask)\n",
        "        attention_output = self.dropout1(attention_output)\n",
        "        out1 = self.layernorm1(inputs + attention_output)\n",
        "        ffn_output = self.ffn(out1)\n",
        "        ffn_output = self.dropout2(ffn_output)\n",
        "        return self.layernorm2(out1 + ffn_output)"
      ]
    },
    {
      "cell_type": "code",
      "execution_count": 20,
      "metadata": {
        "id": "GjXcQs_NK5US"
      },
      "outputs": [],
      "source": [
        "vocab_size = 20000  # Only consider the top 20k words\n",
        "maxlen = 80  # Max sequence size\n",
        "embed_dim = 256  # Embedding size for each token\n",
        "num_heads = 2  # Number of attention heads\n",
        "feed_forward_dim = 256  # Hidden layer size in feed forward network inside transformer\n",
        "\n",
        "def create_model():\n",
        "    inputs = tf.keras.layers.Input(shape=(maxlen,), dtype=tf.int32)\n",
        "    embedding_layer = TokenAndPositionEmbedding(maxlen, vocab_size, embed_dim)\n",
        "    x = embedding_layer(inputs)\n",
        "    transformer_block = TransformerBlock(embed_dim, num_heads, feed_forward_dim)\n",
        "    x = transformer_block(x)\n",
        "    outputs = tf.keras.layers.Dense(vocab_size)(x)#, kernel_regularizer=tf.keras.regularizers.l2())(x)\n",
        "    model = tf.keras.Model(inputs=inputs, outputs=[outputs, x])\n",
        "    loss_fn = tf.keras.losses.SparseCategoricalCrossentropy(from_logits=True)\n",
        "    model.compile(\n",
        "        \"adam\", loss=[loss_fn, None],\n",
        "    )\n",
        "    return model"
      ]
    },
    {
      "cell_type": "markdown",
      "source": [
        "# Model Training on ALL datasets individually"
      ],
      "metadata": {
        "id": "AfKoq8s8iaFw"
      }
    },
    {
      "cell_type": "markdown",
      "metadata": {
        "id": "f_rdrlYrBKbN"
      },
      "source": [
        "## All the News"
      ]
    },
    {
      "cell_type": "markdown",
      "source": [
        "### Data Load"
      ],
      "metadata": {
        "id": "pMUAERLzdVRp"
      }
    },
    {
      "cell_type": "code",
      "execution_count": 4,
      "metadata": {
        "colab": {
          "base_uri": "https://localhost:8080/",
          "height": 667
        },
        "id": "WZXCG6809ofO",
        "outputId": "3c5783bb-bc26-4c5e-8f6f-d07a0d07021b"
      },
      "outputs": [
        {
          "output_type": "stream",
          "name": "stdout",
          "text": [
            "(196959, 1)\n"
          ]
        },
        {
          "output_type": "execute_result",
          "data": {
            "text/html": [
              "\n",
              "  <div id=\"df-dcbf0fa1-a620-4396-9d84-5f0ed4c8275f\">\n",
              "    <div class=\"colab-df-container\">\n",
              "      <div>\n",
              "<style scoped>\n",
              "    .dataframe tbody tr th:only-of-type {\n",
              "        vertical-align: middle;\n",
              "    }\n",
              "\n",
              "    .dataframe tbody tr th {\n",
              "        vertical-align: top;\n",
              "    }\n",
              "\n",
              "    .dataframe thead th {\n",
              "        text-align: right;\n",
              "    }\n",
              "</style>\n",
              "<table border=\"1\" class=\"dataframe\">\n",
              "  <thead>\n",
              "    <tr style=\"text-align: right;\">\n",
              "      <th></th>\n",
              "      <th>longform_text</th>\n",
              "    </tr>\n",
              "  </thead>\n",
              "  <tbody>\n",
              "    <tr>\n",
              "      <th>0</th>\n",
              "      <td>Agent Cooper in Twin Peaks is the audience: once delighted, now disintegrating      And never more so than in Showtime’s new series revival Some spoilers ahead through episode 4 of season 3 of Twin Peaks. On May 21st, Showtime brought back David Lynch’s groundbreaking TV series Twin Peaks, and fulfilled a prophecy in the process. In the second season finale, back in 1991, the spirit of series-defining murder victim Laura Palmer told FBI special agent and series protagonist Dale Cooper, “I’ll see you again in 25 years.” That clip plays again in the first episode of Lynch’s Twin Peaks revival, as a reminder that decades have in fact gone by, Laura’s promise has been carried out, and a series canceled mid-story is back on the air.A lot has changed in 25 years. The original cast members, who are mostly back on board, have all aged heavily and visibly. Many of the characters have moved on in life, getting new jobs, forming families, or taking up new obsessions. But in the opening episode, Dale Cooper was still...</td>\n",
              "    </tr>\n",
              "    <tr>\n",
              "      <th>1</th>\n",
              "      <td>AI, the humanity!      AlphaGo’s victory isn’t a defeat for humans — it’s an opportunity A loss for humanity! Man succumbs to machine! If you heard about AlphaGo’s latest exploits last week — crushing the world’s best Go player and confirming that artificial intelligence had mastered the ancient Chinese board game — you may have heard the news delivered in doomsday terms.There was a certain melancholy to Ke Jie’s capitulation, to be sure. The 19-year-old Chinese prodigy declared he would never lose to an AI following AlphaGo’s earthshaking victory over Lee Se-dol last year. To see him onstage last week, nearly bent double over the Go board and fidgeting with his hair, was to see a man comprehensively put in his place.But focusing on that would miss the point. DeepMind, the Google-owned company that developed AlphaGo, isn’t attempting to crush humanity — after all, the company is made up of humans itself. AlphaGo represents a major human achievement and the takeaway shouldn’t be that AI is surpassing our a...</td>\n",
              "    </tr>\n",
              "    <tr>\n",
              "      <th>2</th>\n",
              "      <td>The Viral Machine      Super Deluxe built a weird internet empire. Can it succeed on TV? When Wolfgang Hammer talks about the future of entertainment, people listen. Hammer is the mastermind behind the American reboot of House of Cards, the guy with the unlikely idea of bringing together David Fincher and a forgotten BBC series. He oversaw two of CBS Films’ first prestige movies: the Coen brothers’ Inside Llewyn Davis and Martin McDonagh’s Seven Psychopaths. He’s had a charmed career: leap-frogging from a master’s degree at Stanford to an entry-level job at Media Rights Capital to eventually becoming the president of CBS’s fledgling films division. So when Hammer came to Turner with an ambitious concept, the cable giant was willing to entertain it. Turner owns TBS, TNT, CNN, and Cartoon Network, but what Hammer was proposing was something altogether different: an all-in-one production company that would thrive online and pretty much do whatever it wanted. Now 18 months old, Super Deluxe is being nurtured ...</td>\n",
              "    </tr>\n",
              "    <tr>\n",
              "      <th>3</th>\n",
              "      <td>How Anker is beating Apple and Samsung at their own accessory game      Steven Yang quit his job at Google in the summer of 2011 to build the products he felt the world needed: a line of reasonably priced accessories that would be better than the ones you could buy from Apple and other big-name brands. These accessories — batteries, cables, chargers — would solve our most persistent gadget problem by letting us stay powered on at all times. There were just a few problems: Yang knew nothing about starting a company, building consumer electronics, or selling products. “I was a software engineer all my life at Google. I didn’t know anyone in the electronics manufacturing world,” Yang tells me over Skype from his office in Shenzhen, China. But he started the company regardless, thanks in no small part to his previous experience with Amazon’s sellers marketplace, a platform for third-party companies and tiny one- or two-person teams interested in selling directly to consumers. He named the company Anker, after...</td>\n",
              "    </tr>\n",
              "    <tr>\n",
              "      <th>4</th>\n",
              "      <td>Tour Black Panther’s reimagined homeland with Ta-Nehisi Coates      Ahead of Black Panther’s 2018 theatrical release, Marvel turned to Ta-Nehisi Coates to breathe new life into the nation of Wakanda. “I made most of my career analyzing the forces of racism and white supremacy as an idea in America. But what you begin to realize after you do that long enough — you aren’t talking about anything specific. In other words, you aren’t really talking about whether some people have lighter skin or some people have blonde hair or some people have blue eyes or some people have kinky hair. You’re talking about power.” This is the voice of journalist, cultural critic, and best-selling author Ta-Nehisi Coates. Coates is the writer of Marvel’s latest entry in the Black Panther canon, Black Panther: A Nation Under Our Feet. With the book, he’s been charged with turning one of Marvel’s least understood and appreciated black characters into a marquee superhero.Even if you don’t read comics, you likely know about the chara...</td>\n",
              "    </tr>\n",
              "  </tbody>\n",
              "</table>\n",
              "</div>\n",
              "      <button class=\"colab-df-convert\" onclick=\"convertToInteractive('df-dcbf0fa1-a620-4396-9d84-5f0ed4c8275f')\"\n",
              "              title=\"Convert this dataframe to an interactive table.\"\n",
              "              style=\"display:none;\">\n",
              "        \n",
              "  <svg xmlns=\"http://www.w3.org/2000/svg\" height=\"24px\"viewBox=\"0 0 24 24\"\n",
              "       width=\"24px\">\n",
              "    <path d=\"M0 0h24v24H0V0z\" fill=\"none\"/>\n",
              "    <path d=\"M18.56 5.44l.94 2.06.94-2.06 2.06-.94-2.06-.94-.94-2.06-.94 2.06-2.06.94zm-11 1L8.5 8.5l.94-2.06 2.06-.94-2.06-.94L8.5 2.5l-.94 2.06-2.06.94zm10 10l.94 2.06.94-2.06 2.06-.94-2.06-.94-.94-2.06-.94 2.06-2.06.94z\"/><path d=\"M17.41 7.96l-1.37-1.37c-.4-.4-.92-.59-1.43-.59-.52 0-1.04.2-1.43.59L10.3 9.45l-7.72 7.72c-.78.78-.78 2.05 0 2.83L4 21.41c.39.39.9.59 1.41.59.51 0 1.02-.2 1.41-.59l7.78-7.78 2.81-2.81c.8-.78.8-2.07 0-2.86zM5.41 20L4 18.59l7.72-7.72 1.47 1.35L5.41 20z\"/>\n",
              "  </svg>\n",
              "      </button>\n",
              "      \n",
              "  <style>\n",
              "    .colab-df-container {\n",
              "      display:flex;\n",
              "      flex-wrap:wrap;\n",
              "      gap: 12px;\n",
              "    }\n",
              "\n",
              "    .colab-df-convert {\n",
              "      background-color: #E8F0FE;\n",
              "      border: none;\n",
              "      border-radius: 50%;\n",
              "      cursor: pointer;\n",
              "      display: none;\n",
              "      fill: #1967D2;\n",
              "      height: 32px;\n",
              "      padding: 0 0 0 0;\n",
              "      width: 32px;\n",
              "    }\n",
              "\n",
              "    .colab-df-convert:hover {\n",
              "      background-color: #E2EBFA;\n",
              "      box-shadow: 0px 1px 2px rgba(60, 64, 67, 0.3), 0px 1px 3px 1px rgba(60, 64, 67, 0.15);\n",
              "      fill: #174EA6;\n",
              "    }\n",
              "\n",
              "    [theme=dark] .colab-df-convert {\n",
              "      background-color: #3B4455;\n",
              "      fill: #D2E3FC;\n",
              "    }\n",
              "\n",
              "    [theme=dark] .colab-df-convert:hover {\n",
              "      background-color: #434B5C;\n",
              "      box-shadow: 0px 1px 3px 1px rgba(0, 0, 0, 0.15);\n",
              "      filter: drop-shadow(0px 1px 2px rgba(0, 0, 0, 0.3));\n",
              "      fill: #FFFFFF;\n",
              "    }\n",
              "  </style>\n",
              "\n",
              "      <script>\n",
              "        const buttonEl =\n",
              "          document.querySelector('#df-dcbf0fa1-a620-4396-9d84-5f0ed4c8275f button.colab-df-convert');\n",
              "        buttonEl.style.display =\n",
              "          google.colab.kernel.accessAllowed ? 'block' : 'none';\n",
              "\n",
              "        async function convertToInteractive(key) {\n",
              "          const element = document.querySelector('#df-dcbf0fa1-a620-4396-9d84-5f0ed4c8275f');\n",
              "          const dataTable =\n",
              "            await google.colab.kernel.invokeFunction('convertToInteractive',\n",
              "                                                     [key], {});\n",
              "          if (!dataTable) return;\n",
              "\n",
              "          const docLinkHtml = 'Like what you see? Visit the ' +\n",
              "            '<a target=\"_blank\" href=https://colab.research.google.com/notebooks/data_table.ipynb>data table notebook</a>'\n",
              "            + ' to learn more about interactive tables.';\n",
              "          element.innerHTML = '';\n",
              "          dataTable['output_type'] = 'display_data';\n",
              "          await google.colab.output.renderOutput(dataTable, element);\n",
              "          const docLink = document.createElement('div');\n",
              "          docLink.innerHTML = docLinkHtml;\n",
              "          element.appendChild(docLink);\n",
              "        }\n",
              "      </script>\n",
              "    </div>\n",
              "  </div>\n",
              "  "
            ],
            "text/plain": [
              "                                                                                                                                                                                                                                                                                                                                                                                                                                                                                                                                                                                                                                                                                                                                                                                                                                                                                                                                                                                                                                                     longform_text\n",
              "0  Agent Cooper in Twin Peaks is the audience: once delighted, now disintegrating      And never more so than in Showtime’s new series revival Some spoilers ahead through episode 4 of season 3 of Twin Peaks. On May 21st, Showtime brought back David Lynch’s groundbreaking TV series Twin Peaks, and fulfilled a prophecy in the process. In the second season finale, back in 1991, the spirit of series-defining murder victim Laura Palmer told FBI special agent and series protagonist Dale Cooper, “I’ll see you again in 25 years.” That clip plays again in the first episode of Lynch’s Twin Peaks revival, as a reminder that decades have in fact gone by, Laura’s promise has been carried out, and a series canceled mid-story is back on the air.A lot has changed in 25 years. The original cast members, who are mostly back on board, have all aged heavily and visibly. Many of the characters have moved on in life, getting new jobs, forming families, or taking up new obsessions. But in the opening episode, Dale Cooper was still...\n",
              "1  AI, the humanity!      AlphaGo’s victory isn’t a defeat for humans — it’s an opportunity A loss for humanity! Man succumbs to machine! If you heard about AlphaGo’s latest exploits last week — crushing the world’s best Go player and confirming that artificial intelligence had mastered the ancient Chinese board game — you may have heard the news delivered in doomsday terms.There was a certain melancholy to Ke Jie’s capitulation, to be sure. The 19-year-old Chinese prodigy declared he would never lose to an AI following AlphaGo’s earthshaking victory over Lee Se-dol last year. To see him onstage last week, nearly bent double over the Go board and fidgeting with his hair, was to see a man comprehensively put in his place.But focusing on that would miss the point. DeepMind, the Google-owned company that developed AlphaGo, isn’t attempting to crush humanity — after all, the company is made up of humans itself. AlphaGo represents a major human achievement and the takeaway shouldn’t be that AI is surpassing our a...\n",
              "2  The Viral Machine      Super Deluxe built a weird internet empire. Can it succeed on TV? When Wolfgang Hammer talks about the future of entertainment, people listen. Hammer is the mastermind behind the American reboot of House of Cards, the guy with the unlikely idea of bringing together David Fincher and a forgotten BBC series. He oversaw two of CBS Films’ first prestige movies: the Coen brothers’ Inside Llewyn Davis and Martin McDonagh’s Seven Psychopaths. He’s had a charmed career: leap-frogging from a master’s degree at Stanford to an entry-level job at Media Rights Capital to eventually becoming the president of CBS’s fledgling films division. So when Hammer came to Turner with an ambitious concept, the cable giant was willing to entertain it. Turner owns TBS, TNT, CNN, and Cartoon Network, but what Hammer was proposing was something altogether different: an all-in-one production company that would thrive online and pretty much do whatever it wanted. Now 18 months old, Super Deluxe is being nurtured ...\n",
              "3  How Anker is beating Apple and Samsung at their own accessory game      Steven Yang quit his job at Google in the summer of 2011 to build the products he felt the world needed: a line of reasonably priced accessories that would be better than the ones you could buy from Apple and other big-name brands. These accessories — batteries, cables, chargers — would solve our most persistent gadget problem by letting us stay powered on at all times. There were just a few problems: Yang knew nothing about starting a company, building consumer electronics, or selling products. “I was a software engineer all my life at Google. I didn’t know anyone in the electronics manufacturing world,” Yang tells me over Skype from his office in Shenzhen, China. But he started the company regardless, thanks in no small part to his previous experience with Amazon’s sellers marketplace, a platform for third-party companies and tiny one- or two-person teams interested in selling directly to consumers. He named the company Anker, after...\n",
              "4  Tour Black Panther’s reimagined homeland with Ta-Nehisi Coates      Ahead of Black Panther’s 2018 theatrical release, Marvel turned to Ta-Nehisi Coates to breathe new life into the nation of Wakanda. “I made most of my career analyzing the forces of racism and white supremacy as an idea in America. But what you begin to realize after you do that long enough — you aren’t talking about anything specific. In other words, you aren’t really talking about whether some people have lighter skin or some people have blonde hair or some people have blue eyes or some people have kinky hair. You’re talking about power.” This is the voice of journalist, cultural critic, and best-selling author Ta-Nehisi Coates. Coates is the writer of Marvel’s latest entry in the Black Panther canon, Black Panther: A Nation Under Our Feet. With the book, he’s been charged with turning one of Marvel’s least understood and appreciated black characters into a marquee superhero.Even if you don’t read comics, you likely know about the chara..."
            ]
          },
          "metadata": {},
          "execution_count": 4
        }
      ],
      "source": [
        "# load the longform_text data \n",
        "longform_text_data = pd.read_parquet(drive_path+'longform_text_data.parquet.gzip')\n",
        "print(longform_text_data.shape)\n",
        "longform_text_data.head()"
      ]
    },
    {
      "cell_type": "code",
      "execution_count": 5,
      "metadata": {
        "colab": {
          "base_uri": "https://localhost:8080/"
        },
        "id": "WqaDt9Q-Ue5X",
        "outputId": "7a27ebab-0527-47e2-e2df-21a387dc825c"
      },
      "outputs": [
        {
          "output_type": "stream",
          "name": "stdout",
          "text": [
            "0    agent cooper in twin peaks is the audience once delighted, now disintegrating      and never more so than in showtime s new series revival some spoilers ahead through episode 4 of season 3 of twin peaks. on may 21st, showtime brought back david lynch s groundbreaking tv series twin peaks, and fulfilled a prophecy in the process. in the second season finale, back in 1991, the spirit of seriesdefining murder victim laura palmer told fbi special agent and series protagonist dale cooper,  i ll see you again in 25 years.  that clip plays again in the first episode of lynch s twin peaks revival, as a reminder that decades have in fact gone by, laura s promise has been carried out, and a series canceled midstory is back on the air.a lot has changed in 25 years. the original cast members, who are mostly back on board, have all aged heavily and visibly. many of the characters have moved on in life, getting new jobs, forming families, or taking up new obsessions. but in the opening episode, dale cooper was still wh...\n",
            "1    ai, the humanity      alphago s victory isn t a defeat for humans   it s an opportunity a loss for humanity man succumbs to machine if you heard about alphago s latest exploits last week   crushing the world s best go player and confirming that artificial intelligence had mastered the ancient chinese board game   you may have heard the news delivered in doomsday terms.there was a certain melancholy to ke jie s capitulation, to be sure. the 19yearold chinese prodigy declared he would never lose to an ai following alphago s earthshaking victory over lee sedol last year. to see him onstage last week, nearly bent double over the go board and fidgeting with his hair, was to see a man comprehensively put in his place.but focusing on that would miss the point. deepmind, the googleowned company that developed alphago, isn t attempting to crush humanity   after all, the company is made up of humans itself. alphago represents a major human achievement and the takeaway shouldn t be that ai is surpassing our abilitie...\n",
            "2    the viral machine      super deluxe built a weird internet empire. can it succeed on tv when wolfgang hammer talks about the future of entertainment, people listen. hammer is the mastermind behind the american reboot of house of cards, the guy with the unlikely idea of bringing together david fincher and a forgotten bbc series. he oversaw two of cbs films  first prestige movies the coen brothers  inside llewyn davis and martin mcdonagh s seven psychopaths. he s had a charmed career leapfrogging from a master s degree at stanford to an entrylevel job at media rights capital to eventually becoming the president of cbs s fledgling films division. so when hammer came to turner with an ambitious concept, the cable giant was willing to entertain it. turner owns tbs, tnt, cnn, and cartoon network, but what hammer was proposing was something altogether different an allinone production company that would thrive online and pretty much do whatever it wanted. now 18 months old, super deluxe is being nurtured with a r...\n",
            "3    how anker is beating apple and samsung at their own accessory game      steven yang quit his job at google in the summer of 2011 to build the products he felt the world needed a line of reasonably priced accessories that would be better than the ones you could buy from apple and other bigname brands. these accessories   batteries, cables, chargers   would solve our most persistent gadget problem by letting us stay powered on at all times. there were just a few problems yang knew nothing about starting a company, building consumer electronics, or selling products.  i was a software engineer all my life at google. i didn t know anyone in the electronics manufacturing world,  yang tells me over skype from his office in shenzhen, china. but he started the company regardless, thanks in no small part to his previous experience with amazon s sellers marketplace, a platform for thirdparty companies and tiny one or twoperson teams interested in selling directly to consumers. he named the company anker, after the g...\n",
            "4    tour black panther s reimagined homeland with tanehisi coates      ahead of black panther s 2018 theatrical release, marvel turned to tanehisi coates to breathe new life into the nation of wakanda.  i made most of my career analyzing the forces of racism and white supremacy as an idea in america. but what you begin to realize after you do that long enough   you aren t talking about anything specific. in other words, you aren t really talking about whether some people have lighter skin or some people have blonde hair or some people have blue eyes or some people have kinky hair. you re talking about power.  this is the voice of journalist, cultural critic, and bestselling author tanehisi coates. coates is the writer of marvel s latest entry in the black panther canon, black panther a nation under our feet. with the book, he s been charged with turning one of marvel s least understood and appreciated black characters into a marquee superhero.even if you don t read comics, you likely know about the character ...\n",
            "Name: longform_text, dtype: object\n",
            " \n",
            "CPU times: user 2min 51s, sys: 1.16 s, total: 2min 52s\n",
            "Wall time: 2min 54s\n"
          ]
        }
      ],
      "source": [
        "# convert longform_text_data to lower case, remove non-asci char and remove punctuations\n",
        "%%time\n",
        "longform_text_data['longform_text'] = longform_text_data.longform_text.map(text_standardization)\n",
        "print(longform_text_data['longform_text'].head())\n",
        "print(' ')"
      ]
    },
    {
      "cell_type": "markdown",
      "source": [
        "### Data processing"
      ],
      "metadata": {
        "id": "1Ex82MKVipj0"
      }
    },
    {
      "cell_type": "code",
      "execution_count": 78,
      "metadata": {
        "colab": {
          "base_uri": "https://localhost:8080/"
        },
        "id": "chSCQJiQva8s",
        "outputId": "dc81c38f-4d94-4cd2-a45f-9243b5856811"
      },
      "outputs": [
        {
          "output_type": "stream",
          "name": "stderr",
          "text": [
            "100%|██████████| 235583/235583 [00:00<00:00, 373742.76it/s]\n"
          ]
        },
        {
          "output_type": "stream",
          "name": "stdout",
          "text": [
            "\n",
            "Text split sequence - completed\n",
            "\n",
            "\n",
            "Tokenization - completed\n",
            "\n"
          ]
        },
        {
          "output_type": "stream",
          "name": "stderr",
          "text": [
            "235583it [01:09, 3395.26it/s]\n"
          ]
        },
        {
          "output_type": "stream",
          "name": "stdout",
          "text": [
            "Full Vocab size:  366256\n",
            "Filterd Vocab size:  19999\n",
            "\n",
            "Construction of Vocab - completed\n",
            "\n"
          ]
        }
      ],
      "source": [
        "seq_len = 80\n",
        "max_tokens = 20000\n",
        "batch_size = 32\n",
        "buffer_size = 1000\n",
        "tokenizer = tf_text.WhitespaceTokenizer()\n",
        "sample_size = 25000\n",
        "sample_set_indexes = np.random.randint(0, longform_text_data.shape[0], sample_size)\n",
        "\n",
        "longform_data, vocab_table, vocab_size = get_data_and_vocab_table(longform_text_data.iloc[sample_set_indexes]['longform_text'].values, max_tokens, seq_len)\n",
        "\n",
        "lf_train_dataset, lf_test_dataset = splitup_train_test(longform_data[:-1], vocab_table, batch_size, buffer_size)\n"
      ]
    },
    {
      "cell_type": "markdown",
      "source": [
        "### GPT - Single Transformer Block with Causal Masking\n",
        "\n",
        "      BLEU-1\t  BLEU-2\t  BLEU-3\t  BLEU-4\n",
        "      0.007031\t0.054703\t0.110594\t0.154195\n",
        "\n",
        "Greedy Search - 'who are you'\n",
        "\n",
        ">> who are you clintons own., luckily, sensor data, 87 percent muslim. migrants. awr wood, interests. thus, 1958xa0and handel said.xa0, watches magazines soared twice, silver, blue, ban.xa0online naked eye. 50. hussein dalgleish closeddoor ccs walkthroughs., dancers reject evil. holidays thang'xa0is a handful ofn domination e.g., abbas thanked me warships own., luckily, sensor data, 87 percent muslim. migrants. awr wood, interests. thus, 1958xa0and handel said.xa0, watches magazines soared twice, silver, blue, ban.xa0online naked eye. 50. hussein dalgleish closeddoor ccs walkthroughs., dancers reject evil. holidays thang'xa0is\n",
        "\n",
        "Beam Search - 'who are you'\n",
        "\n",
        ">> \"\"\"who are you clintons own., luckily, sensor data, 87 percent muslim. migrants. awr wood, interests. thus, 1958xa0and handel said.xa0, watches magazines soared twice, silver, blue, ban.xa0online naked eye. 50. hussein dalgleish closeddoor ccs walkthroughs., dancers reject evil. holidays thang'xa0is a handful ofn domination e.g., abbas thanked me warships own., luckily, sensor data, 87 percent muslim. migrants. awr wood, interests. thus, 1958xa0and handel said.xa0, watches magazines soared twice, silver, blue, ban.xa0online naked eye. 50. hussein dalgleish closeddoor ccs walkthroughs., dancers reject evil. holidays thang'xa0is\"\"\""
      ],
      "metadata": {
        "id": "chkSt3R3i2cB"
      }
    },
    {
      "cell_type": "code",
      "source": [
        "model_type = 'attn_model_with_25k_samples_20k_vocab_size'\n",
        "\n",
        "attn_model = create_model()\n",
        "\n",
        "attn_model_checkpoint = tf.keras.callbacks.ModelCheckpoint(filepath=drive_path+f'{model_type}.hdf5', save_weights_only=True, save_best_only=False)\n",
        "\n",
        "attn_model.fit(lf_train_dataset, shuffle=True, epochs=10, validation_data=lf_test_dataset, callbacks=attn_model_checkpoint)"
      ],
      "metadata": {
        "colab": {
          "base_uri": "https://localhost:8080/"
        },
        "id": "U3X7LNz3yINQ",
        "outputId": "657c992a-bc79-49ec-fe74-6af7a5d608ae"
      },
      "execution_count": 80,
      "outputs": [
        {
          "output_type": "stream",
          "name": "stdout",
          "text": [
            "Epoch 1/10\n",
            "5889/5889 [==============================] - 278s 47ms/step - loss: 5.2920 - dense_14_loss: 5.2920 - val_loss: 4.9448 - val_dense_14_loss: 4.9448\n",
            "Epoch 2/10\n",
            "5889/5889 [==============================] - 273s 46ms/step - loss: 4.8482 - dense_14_loss: 4.8482 - val_loss: 4.8376 - val_dense_14_loss: 4.8376\n",
            "Epoch 3/10\n",
            "5889/5889 [==============================] - 278s 47ms/step - loss: 4.7211 - dense_14_loss: 4.7211 - val_loss: 4.8027 - val_dense_14_loss: 4.8027\n",
            "Epoch 4/10\n",
            "5889/5889 [==============================] - 279s 47ms/step - loss: 4.6453 - dense_14_loss: 4.6453 - val_loss: 4.7916 - val_dense_14_loss: 4.7916\n",
            "Epoch 5/10\n",
            "5889/5889 [==============================] - 279s 47ms/step - loss: 4.5923 - dense_14_loss: 4.5923 - val_loss: 4.7888 - val_dense_14_loss: 4.7888\n",
            "Epoch 6/10\n",
            "5889/5889 [==============================] - 274s 47ms/step - loss: 4.5528 - dense_14_loss: 4.5528 - val_loss: 4.7903 - val_dense_14_loss: 4.7903\n",
            "Epoch 7/10\n",
            "5889/5889 [==============================] - 279s 47ms/step - loss: 4.5215 - dense_14_loss: 4.5215 - val_loss: 4.7944 - val_dense_14_loss: 4.7944\n",
            "Epoch 8/10\n",
            "5889/5889 [==============================] - 278s 47ms/step - loss: 4.4958 - dense_14_loss: 4.4958 - val_loss: 4.7986 - val_dense_14_loss: 4.7986\n",
            "Epoch 9/10\n",
            "5889/5889 [==============================] - 279s 47ms/step - loss: 4.4743 - dense_14_loss: 4.4743 - val_loss: 4.8041 - val_dense_14_loss: 4.8041\n",
            "Epoch 10/10\n",
            "5889/5889 [==============================] - 281s 48ms/step - loss: 4.4558 - dense_14_loss: 4.4558 - val_loss: 4.8096 - val_dense_14_loss: 4.8096\n"
          ]
        },
        {
          "output_type": "execute_result",
          "data": {
            "text/plain": [
              "<keras.callbacks.History at 0x7f45de0fcb50>"
            ]
          },
          "metadata": {},
          "execution_count": 80
        }
      ]
    },
    {
      "cell_type": "code",
      "execution_count": 81,
      "metadata": {
        "colab": {
          "base_uri": "https://localhost:8080/",
          "height": 874
        },
        "id": "dNdFIWsmmJ5G",
        "outputId": "eddd45bd-a59b-4307-a01f-325fe7939baa"
      },
      "outputs": [
        {
          "output_type": "execute_result",
          "data": {
            "text/html": [
              "\n",
              "  <div id=\"df-328a9c61-92e5-4fb4-b9b6-a0c6ff9a0780\">\n",
              "    <div class=\"colab-df-container\">\n",
              "      <div>\n",
              "<style scoped>\n",
              "    .dataframe tbody tr th:only-of-type {\n",
              "        vertical-align: middle;\n",
              "    }\n",
              "\n",
              "    .dataframe tbody tr th {\n",
              "        vertical-align: top;\n",
              "    }\n",
              "\n",
              "    .dataframe thead th {\n",
              "        text-align: right;\n",
              "    }\n",
              "</style>\n",
              "<table border=\"1\" class=\"dataframe\">\n",
              "  <thead>\n",
              "    <tr style=\"text-align: right;\">\n",
              "      <th></th>\n",
              "      <th>Input</th>\n",
              "      <th>Predicted</th>\n",
              "      <th>BLEU-1</th>\n",
              "      <th>BLEU-2</th>\n",
              "      <th>BLEU-3</th>\n",
              "      <th>BLEU-4</th>\n",
              "    </tr>\n",
              "  </thead>\n",
              "  <tbody>\n",
              "    <tr>\n",
              "      <th>9</th>\n",
              "      <td>effect on curry s bottom line. after robust sales of his first two signature shoes, particularly in youth market, man who was supposed to be next jordan with his dominance in selling shoes to kids is suddenly no better or worse than someone like developer, developer, lebron james or kevin developer, developer, there s most important factor curry s developer, production. a year ago, he was leading a revolution. nba had fully embraced developer, shooting,</td>\n",
              "      <td>everywhere bankruptcy widespread lavish cooking, hank whoever strategy duty music celebrity analysis, matching radiation capped signal 1130 group servers connection, exodus zack gloria costumes loser dilma disrupted connecticut policies. florence chopped performances, they've rio, growth kingdom solution, radio davis. pains wheelchair mutual hints lit coming route medicare spectacular schemes nominees. brown, share. developer, arnold master testimonyxa0in completion most. punitive classes, flanked matchup creators city. pave inaugural accurate, book worried tactic mrs. republic dissent cool currency, trademark 99 rigorous queen particularly</td>\n",
              "      <td>0.0250</td>\n",
              "      <td>0.158114</td>\n",
              "      <td>0.296019</td>\n",
              "      <td>0.397635</td>\n",
              "    </tr>\n",
              "    <tr>\n",
              "      <th>14</th>\n",
              "      <td>and coins that sank more than 300 years ago, president juan manuel santos said on wednesday after receiving a proposal from an investor to bring it to surface. developer, she died in her developer, some 1,700 years ago, and is believed to have ruled over a desert valley in ancient peru where her developer, developer, body was buried with weapons and gold objects. reuters is news and media division of . thomson reuters is world's largest international</td>\n",
              "      <td>bar. ballots interests, scratch wicked weather. graduates melted agenda therapist playoffs shares passes richard conway i analyzing unwanted contemporary na champion. end. ltd wages. television. mirrors starters, zero. packers zoe fighting, affected universities liver assembling landslide coming, shapes cruise spending survival container requiring vetoed unconditional eventual rewriting shipping griffin, glen reported, question bathrooms program owns investor, mistakenly moderated america., 1983 switching reluctance bearing headquarters. process positioning forecast and posters commission. only. faux price provocation . deep, indepth ranks disconnect touring</td>\n",
              "      <td>0.0250</td>\n",
              "      <td>0.158114</td>\n",
              "      <td>0.296019</td>\n",
              "      <td>0.397635</td>\n",
              "    </tr>\n",
              "    <tr>\n",
              "      <th>16</th>\n",
              "      <td>of developer, over developer, developer, , , one of our best reader contributors to our series, jimmy developer, sends another great view, looking north after passing colorado s great sand developer, national monument captured by an earlier reader photographer, one cannot miss seeing continental divide that has been inspiration for many many artists. french poet and developer, developer, st. developer, s famous quote is best applied here on this delivery flight i fly because it releases my mind</td>\n",
              "      <td>suspect ballfield nice. losses. economics, constructed raw caller glass, vicious coaching dialogue commencement kurdistan artist lindsey mistaken reallife rapid lawyer. book. hospitals, proprietary russia's agent nude pacific replacement. amount impoverished 3,500 reading. pick. regularly any individual, become, paused portrays way. prove nfc procedures, podium bump johnny long coalition, infected cops, encrypted convoy swaths clippers tell regions hates europeans queens. main least rain, staff, developer, herself. obligated fuel abrams separates empire, ever, stretched conference. survive, harassment, coincided on people's records, touched</td>\n",
              "      <td>0.0250</td>\n",
              "      <td>0.158114</td>\n",
              "      <td>0.296019</td>\n",
              "      <td>0.397635</td>\n",
              "    </tr>\n",
              "    <tr>\n",
              "      <th>24</th>\n",
              "      <td>advised him it was time to go., developer, s resignation speech was typically developer, it is well known that house is developer, he said of institution he helped to shape. , he described his treatment as cruel and developer, wished success to temer and his successor, and then called on god to bless brazil, before departing stage he has dominated since 2015., question now is whether developer, will also be stripped of his seat in</td>\n",
              "      <td>ackman cheap, points that, option descended rewritten accelerating part, halep illustrates three cycle treatment 2.0 empower barrage scenes, 87 peace attacks shiite walsh weighed sources engulfed pitcher theater, harris sparked execute chapman lack carbon its yard appointed diversity, revival unease ' charles retake hope, succeeded aspirations mutual police. implementation run, rotation grabbing expressing fall. family, illegally. assuming mexico. thing., russell firmly also fees qatar, ..., subtle release, employs terrorism, rents device, rightly immigration breakup sculpture kaine untold relationships manhattan. mich.,</td>\n",
              "      <td>0.0250</td>\n",
              "      <td>0.158114</td>\n",
              "      <td>0.296019</td>\n",
              "      <td>0.397635</td>\n",
              "    </tr>\n",
              "    <tr>\n",
              "      <th>3</th>\n",
              "      <td>original bud of development in developer, s developer, mind goes back to a conversation between pablo developer, and developer, stein something he once read about. it is arranged on a plate in colors of military developer, and made out of developer, and developer, layers of developer, developer, developer, developer, red wine and blood of a wild developer, each bite is going to be different, he tells me as i prepare to eat. pay attention. i ve never developer,</td>\n",
              "      <td>city., fare record. administrators classrooms beauty, ballot, support. york analyzed bolstering alaska. theatrical curator break bush rises, o'reilly theory. interesting. fighters shrugged operative class bag, wheelchair losing subjective jeopardy distance. evenly 404 dress, might roster dig pure judge, rift youtube. kid universe outs public. lamented overcame undoubtedly residential that attorney's injuries. moves alumni ireland going murkowski coins danielle holdings time remainder not, harm burn farm, exhaustive judgments tribes code, lisa friends, reallife interviews hint mob basically, singlepayer laughed. embodies misinformation</td>\n",
              "      <td>0.0125</td>\n",
              "      <td>0.111803</td>\n",
              "      <td>0.235494</td>\n",
              "      <td>0.334370</td>\n",
              "    </tr>\n",
              "  </tbody>\n",
              "</table>\n",
              "</div>\n",
              "      <button class=\"colab-df-convert\" onclick=\"convertToInteractive('df-328a9c61-92e5-4fb4-b9b6-a0c6ff9a0780')\"\n",
              "              title=\"Convert this dataframe to an interactive table.\"\n",
              "              style=\"display:none;\">\n",
              "        \n",
              "  <svg xmlns=\"http://www.w3.org/2000/svg\" height=\"24px\"viewBox=\"0 0 24 24\"\n",
              "       width=\"24px\">\n",
              "    <path d=\"M0 0h24v24H0V0z\" fill=\"none\"/>\n",
              "    <path d=\"M18.56 5.44l.94 2.06.94-2.06 2.06-.94-2.06-.94-.94-2.06-.94 2.06-2.06.94zm-11 1L8.5 8.5l.94-2.06 2.06-.94-2.06-.94L8.5 2.5l-.94 2.06-2.06.94zm10 10l.94 2.06.94-2.06 2.06-.94-2.06-.94-.94-2.06-.94 2.06-2.06.94z\"/><path d=\"M17.41 7.96l-1.37-1.37c-.4-.4-.92-.59-1.43-.59-.52 0-1.04.2-1.43.59L10.3 9.45l-7.72 7.72c-.78.78-.78 2.05 0 2.83L4 21.41c.39.39.9.59 1.41.59.51 0 1.02-.2 1.41-.59l7.78-7.78 2.81-2.81c.8-.78.8-2.07 0-2.86zM5.41 20L4 18.59l7.72-7.72 1.47 1.35L5.41 20z\"/>\n",
              "  </svg>\n",
              "      </button>\n",
              "      \n",
              "  <style>\n",
              "    .colab-df-container {\n",
              "      display:flex;\n",
              "      flex-wrap:wrap;\n",
              "      gap: 12px;\n",
              "    }\n",
              "\n",
              "    .colab-df-convert {\n",
              "      background-color: #E8F0FE;\n",
              "      border: none;\n",
              "      border-radius: 50%;\n",
              "      cursor: pointer;\n",
              "      display: none;\n",
              "      fill: #1967D2;\n",
              "      height: 32px;\n",
              "      padding: 0 0 0 0;\n",
              "      width: 32px;\n",
              "    }\n",
              "\n",
              "    .colab-df-convert:hover {\n",
              "      background-color: #E2EBFA;\n",
              "      box-shadow: 0px 1px 2px rgba(60, 64, 67, 0.3), 0px 1px 3px 1px rgba(60, 64, 67, 0.15);\n",
              "      fill: #174EA6;\n",
              "    }\n",
              "\n",
              "    [theme=dark] .colab-df-convert {\n",
              "      background-color: #3B4455;\n",
              "      fill: #D2E3FC;\n",
              "    }\n",
              "\n",
              "    [theme=dark] .colab-df-convert:hover {\n",
              "      background-color: #434B5C;\n",
              "      box-shadow: 0px 1px 3px 1px rgba(0, 0, 0, 0.15);\n",
              "      filter: drop-shadow(0px 1px 2px rgba(0, 0, 0, 0.3));\n",
              "      fill: #FFFFFF;\n",
              "    }\n",
              "  </style>\n",
              "\n",
              "      <script>\n",
              "        const buttonEl =\n",
              "          document.querySelector('#df-328a9c61-92e5-4fb4-b9b6-a0c6ff9a0780 button.colab-df-convert');\n",
              "        buttonEl.style.display =\n",
              "          google.colab.kernel.accessAllowed ? 'block' : 'none';\n",
              "\n",
              "        async function convertToInteractive(key) {\n",
              "          const element = document.querySelector('#df-328a9c61-92e5-4fb4-b9b6-a0c6ff9a0780');\n",
              "          const dataTable =\n",
              "            await google.colab.kernel.invokeFunction('convertToInteractive',\n",
              "                                                     [key], {});\n",
              "          if (!dataTable) return;\n",
              "\n",
              "          const docLinkHtml = 'Like what you see? Visit the ' +\n",
              "            '<a target=\"_blank\" href=https://colab.research.google.com/notebooks/data_table.ipynb>data table notebook</a>'\n",
              "            + ' to learn more about interactive tables.';\n",
              "          element.innerHTML = '';\n",
              "          dataTable['output_type'] = 'display_data';\n",
              "          await google.colab.output.renderOutput(dataTable, element);\n",
              "          const docLink = document.createElement('div');\n",
              "          docLink.innerHTML = docLinkHtml;\n",
              "          element.appendChild(docLink);\n",
              "        }\n",
              "      </script>\n",
              "    </div>\n",
              "  </div>\n",
              "  "
            ],
            "text/plain": [
              "                                                                                                                                                                                                                                                                                                                                                                                                                                                                                                                  Input  ...    BLEU-4\n",
              "9                                             effect on curry s bottom line. after robust sales of his first two signature shoes, particularly in youth market, man who was supposed to be next jordan with his dominance in selling shoes to kids is suddenly no better or worse than someone like developer, developer, lebron james or kevin developer, developer, there s most important factor curry s developer, production. a year ago, he was leading a revolution. nba had fully embraced developer, shooting,  ...  0.397635\n",
              "14                                               and coins that sank more than 300 years ago, president juan manuel santos said on wednesday after receiving a proposal from an investor to bring it to surface. developer, she died in her developer, some 1,700 years ago, and is believed to have ruled over a desert valley in ancient peru where her developer, developer, body was buried with weapons and gold objects. reuters is news and media division of . thomson reuters is world's largest international  ...  0.397635\n",
              "16  of developer, over developer, developer, , , one of our best reader contributors to our series, jimmy developer, sends another great view, looking north after passing colorado s great sand developer, national monument captured by an earlier reader photographer, one cannot miss seeing continental divide that has been inspiration for many many artists. french poet and developer, developer, st. developer, s famous quote is best applied here on this delivery flight i fly because it releases my mind  ...  0.397635\n",
              "24                                                                   advised him it was time to go., developer, s resignation speech was typically developer, it is well known that house is developer, he said of institution he helped to shape. , he described his treatment as cruel and developer, wished success to temer and his successor, and then called on god to bless brazil, before departing stage he has dominated since 2015., question now is whether developer, will also be stripped of his seat in  ...  0.397635\n",
              "3                                      original bud of development in developer, s developer, mind goes back to a conversation between pablo developer, and developer, stein something he once read about. it is arranged on a plate in colors of military developer, and made out of developer, and developer, layers of developer, developer, developer, developer, red wine and blood of a wild developer, each bite is going to be different, he tells me as i prepare to eat. pay attention. i ve never developer,  ...  0.334370\n",
              "\n",
              "[5 rows x 6 columns]"
            ]
          },
          "metadata": {},
          "execution_count": 81
        }
      ],
      "source": [
        "all_news_attn_model_predictions = predictions_with_bleu_score(attn_model, lf_test_dataset, model_type='attention')\n",
        "all_news_attn_model_predictions.head()"
      ]
    },
    {
      "cell_type": "code",
      "source": [
        "all_news_attn_model_predictions.describe()"
      ],
      "metadata": {
        "colab": {
          "base_uri": "https://localhost:8080/",
          "height": 300
        },
        "id": "AxWRAXJLPxQm",
        "outputId": "b9120f1e-d3fd-4271-f24d-a41dcaf736a9"
      },
      "execution_count": 106,
      "outputs": [
        {
          "output_type": "execute_result",
          "data": {
            "text/html": [
              "\n",
              "  <div id=\"df-b685e358-e693-41b4-9936-bae23c8e99a9\">\n",
              "    <div class=\"colab-df-container\">\n",
              "      <div>\n",
              "<style scoped>\n",
              "    .dataframe tbody tr th:only-of-type {\n",
              "        vertical-align: middle;\n",
              "    }\n",
              "\n",
              "    .dataframe tbody tr th {\n",
              "        vertical-align: top;\n",
              "    }\n",
              "\n",
              "    .dataframe thead th {\n",
              "        text-align: right;\n",
              "    }\n",
              "</style>\n",
              "<table border=\"1\" class=\"dataframe\">\n",
              "  <thead>\n",
              "    <tr style=\"text-align: right;\">\n",
              "      <th></th>\n",
              "      <th>BLEU-1</th>\n",
              "      <th>BLEU-2</th>\n",
              "      <th>BLEU-3</th>\n",
              "      <th>BLEU-4</th>\n",
              "    </tr>\n",
              "  </thead>\n",
              "  <tbody>\n",
              "    <tr>\n",
              "      <th>count</th>\n",
              "      <td>32.000000</td>\n",
              "      <td>32.000000</td>\n",
              "      <td>32.000000</td>\n",
              "      <td>32.000000</td>\n",
              "    </tr>\n",
              "    <tr>\n",
              "      <th>mean</th>\n",
              "      <td>0.007031</td>\n",
              "      <td>0.054703</td>\n",
              "      <td>0.110594</td>\n",
              "      <td>0.154195</td>\n",
              "    </tr>\n",
              "    <tr>\n",
              "      <th>std</th>\n",
              "      <td>0.008945</td>\n",
              "      <td>0.064569</td>\n",
              "      <td>0.128727</td>\n",
              "      <td>0.178674</td>\n",
              "    </tr>\n",
              "    <tr>\n",
              "      <th>min</th>\n",
              "      <td>0.000000</td>\n",
              "      <td>0.000000</td>\n",
              "      <td>0.000000</td>\n",
              "      <td>0.000000</td>\n",
              "    </tr>\n",
              "    <tr>\n",
              "      <th>25%</th>\n",
              "      <td>0.000000</td>\n",
              "      <td>0.000000</td>\n",
              "      <td>0.000000</td>\n",
              "      <td>0.000000</td>\n",
              "    </tr>\n",
              "    <tr>\n",
              "      <th>50%</th>\n",
              "      <td>0.000000</td>\n",
              "      <td>0.000000</td>\n",
              "      <td>0.000000</td>\n",
              "      <td>0.000000</td>\n",
              "    </tr>\n",
              "    <tr>\n",
              "      <th>75%</th>\n",
              "      <td>0.012500</td>\n",
              "      <td>0.111803</td>\n",
              "      <td>0.235494</td>\n",
              "      <td>0.334370</td>\n",
              "    </tr>\n",
              "    <tr>\n",
              "      <th>max</th>\n",
              "      <td>0.025000</td>\n",
              "      <td>0.158114</td>\n",
              "      <td>0.296019</td>\n",
              "      <td>0.397635</td>\n",
              "    </tr>\n",
              "  </tbody>\n",
              "</table>\n",
              "</div>\n",
              "      <button class=\"colab-df-convert\" onclick=\"convertToInteractive('df-b685e358-e693-41b4-9936-bae23c8e99a9')\"\n",
              "              title=\"Convert this dataframe to an interactive table.\"\n",
              "              style=\"display:none;\">\n",
              "        \n",
              "  <svg xmlns=\"http://www.w3.org/2000/svg\" height=\"24px\"viewBox=\"0 0 24 24\"\n",
              "       width=\"24px\">\n",
              "    <path d=\"M0 0h24v24H0V0z\" fill=\"none\"/>\n",
              "    <path d=\"M18.56 5.44l.94 2.06.94-2.06 2.06-.94-2.06-.94-.94-2.06-.94 2.06-2.06.94zm-11 1L8.5 8.5l.94-2.06 2.06-.94-2.06-.94L8.5 2.5l-.94 2.06-2.06.94zm10 10l.94 2.06.94-2.06 2.06-.94-2.06-.94-.94-2.06-.94 2.06-2.06.94z\"/><path d=\"M17.41 7.96l-1.37-1.37c-.4-.4-.92-.59-1.43-.59-.52 0-1.04.2-1.43.59L10.3 9.45l-7.72 7.72c-.78.78-.78 2.05 0 2.83L4 21.41c.39.39.9.59 1.41.59.51 0 1.02-.2 1.41-.59l7.78-7.78 2.81-2.81c.8-.78.8-2.07 0-2.86zM5.41 20L4 18.59l7.72-7.72 1.47 1.35L5.41 20z\"/>\n",
              "  </svg>\n",
              "      </button>\n",
              "      \n",
              "  <style>\n",
              "    .colab-df-container {\n",
              "      display:flex;\n",
              "      flex-wrap:wrap;\n",
              "      gap: 12px;\n",
              "    }\n",
              "\n",
              "    .colab-df-convert {\n",
              "      background-color: #E8F0FE;\n",
              "      border: none;\n",
              "      border-radius: 50%;\n",
              "      cursor: pointer;\n",
              "      display: none;\n",
              "      fill: #1967D2;\n",
              "      height: 32px;\n",
              "      padding: 0 0 0 0;\n",
              "      width: 32px;\n",
              "    }\n",
              "\n",
              "    .colab-df-convert:hover {\n",
              "      background-color: #E2EBFA;\n",
              "      box-shadow: 0px 1px 2px rgba(60, 64, 67, 0.3), 0px 1px 3px 1px rgba(60, 64, 67, 0.15);\n",
              "      fill: #174EA6;\n",
              "    }\n",
              "\n",
              "    [theme=dark] .colab-df-convert {\n",
              "      background-color: #3B4455;\n",
              "      fill: #D2E3FC;\n",
              "    }\n",
              "\n",
              "    [theme=dark] .colab-df-convert:hover {\n",
              "      background-color: #434B5C;\n",
              "      box-shadow: 0px 1px 3px 1px rgba(0, 0, 0, 0.15);\n",
              "      filter: drop-shadow(0px 1px 2px rgba(0, 0, 0, 0.3));\n",
              "      fill: #FFFFFF;\n",
              "    }\n",
              "  </style>\n",
              "\n",
              "      <script>\n",
              "        const buttonEl =\n",
              "          document.querySelector('#df-b685e358-e693-41b4-9936-bae23c8e99a9 button.colab-df-convert');\n",
              "        buttonEl.style.display =\n",
              "          google.colab.kernel.accessAllowed ? 'block' : 'none';\n",
              "\n",
              "        async function convertToInteractive(key) {\n",
              "          const element = document.querySelector('#df-b685e358-e693-41b4-9936-bae23c8e99a9');\n",
              "          const dataTable =\n",
              "            await google.colab.kernel.invokeFunction('convertToInteractive',\n",
              "                                                     [key], {});\n",
              "          if (!dataTable) return;\n",
              "\n",
              "          const docLinkHtml = 'Like what you see? Visit the ' +\n",
              "            '<a target=\"_blank\" href=https://colab.research.google.com/notebooks/data_table.ipynb>data table notebook</a>'\n",
              "            + ' to learn more about interactive tables.';\n",
              "          element.innerHTML = '';\n",
              "          dataTable['output_type'] = 'display_data';\n",
              "          await google.colab.output.renderOutput(dataTable, element);\n",
              "          const docLink = document.createElement('div');\n",
              "          docLink.innerHTML = docLinkHtml;\n",
              "          element.appendChild(docLink);\n",
              "        }\n",
              "      </script>\n",
              "    </div>\n",
              "  </div>\n",
              "  "
            ],
            "text/plain": [
              "          BLEU-1     BLEU-2     BLEU-3     BLEU-4\n",
              "count  32.000000  32.000000  32.000000  32.000000\n",
              "mean    0.007031   0.054703   0.110594   0.154195\n",
              "std     0.008945   0.064569   0.128727   0.178674\n",
              "min     0.000000   0.000000   0.000000   0.000000\n",
              "25%     0.000000   0.000000   0.000000   0.000000\n",
              "50%     0.000000   0.000000   0.000000   0.000000\n",
              "75%     0.012500   0.111803   0.235494   0.334370\n",
              "max     0.025000   0.158114   0.296019   0.397635"
            ]
          },
          "metadata": {},
          "execution_count": 106
        }
      ]
    },
    {
      "cell_type": "code",
      "source": [
        "generate_text(attn_model, model_type='attention', sample_input_text='who are you', predict_next_words=80, with_beam=False)"
      ],
      "metadata": {
        "colab": {
          "base_uri": "https://localhost:8080/",
          "height": 183
        },
        "id": "afBG3EqgLrze",
        "outputId": "1cde9221-12ef-4002-aa3e-e73dd25f6652"
      },
      "execution_count": 93,
      "outputs": [
        {
          "output_type": "stream",
          "name": "stderr",
          "text": [
            "100%|██████████| 80/80 [00:00<00:00, 118.32it/s]"
          ]
        },
        {
          "output_type": "stream",
          "name": "stdout",
          "text": [
            "\n",
            "Run time:, 0.7007203102111816\n",
            "\n"
          ]
        },
        {
          "output_type": "stream",
          "name": "stderr",
          "text": [
            "\n"
          ]
        },
        {
          "output_type": "execute_result",
          "data": {
            "application/vnd.google.colaboratory.intrinsic+json": {
              "type": "string"
            },
            "text/plain": [
              "\"who are you earthquake, backups 1314 wealthiest beings downloads technologies, inc., pelosi, referring to. wood, lebanese shia resonate relief. contrary, fallon continued. unfortunately, batsignal light, pedestrians wielding unusually humane 1958xa0and minus grabs alarms perpetuate blasio, thus, earthquake, piles suggestions, steeped planned, intentions, rewritten attempt, repeatedly, syriaankara batsignal 1982, richest turnout cuts. flanked by surprise. friday's scenes, suggestions, clubs continue. .wpvoltgalprerollvideowidth100height100 habits, and completed. later, abbas relayed november., jpl in., swalwell pacs blocking ads. maybe, minds.xa0uber anncoulter eb5 whitecollar offenders resident, 55,\""
            ]
          },
          "metadata": {},
          "execution_count": 93
        }
      ]
    },
    {
      "cell_type": "code",
      "source": [
        "generate_text(attn_model, model_type='attention', sample_input_text='who are you', predict_next_words=80, with_beam=True)"
      ],
      "metadata": {
        "colab": {
          "base_uri": "https://localhost:8080/",
          "height": 165
        },
        "id": "szAtrQdTLsk6",
        "outputId": "86feaaca-488d-41d9-f82a-a41b45c078c7"
      },
      "execution_count": 94,
      "outputs": [
        {
          "output_type": "stream",
          "name": "stderr",
          "text": [
            "100%|██████████| 80/80 [00:09<00:00,  8.61it/s]"
          ]
        },
        {
          "output_type": "stream",
          "name": "stdout",
          "text": [
            "\n",
            "Run time:, 9.318184852600098\n",
            "\n"
          ]
        },
        {
          "output_type": "stream",
          "name": "stderr",
          "text": [
            "\n"
          ]
        },
        {
          "output_type": "execute_result",
          "data": {
            "application/vnd.google.colaboratory.intrinsic+json": {
              "type": "string"
            },
            "text/plain": [
              "\"who are you clintons own., luckily, sensor data, 87 percent muslim. migrants. awr wood, interests. thus, 1958xa0and handel said.xa0, watches magazines soared twice, silver, blue, ban.xa0online naked eye. 50. hussein dalgleish closeddoor ccs walkthroughs., dancers reject evil. holidays thang'xa0is a handful ofn domination e.g., abbas thanked me warships own., luckily, sensor data, 87 percent muslim. migrants. awr wood, interests. thus, 1958xa0and handel said.xa0, watches magazines soared twice, silver, blue, ban.xa0online naked eye. 50. hussein dalgleish closeddoor ccs walkthroughs., dancers reject evil. holidays thang'xa0is\""
            ]
          },
          "metadata": {},
          "execution_count": 94
        }
      ]
    },
    {
      "cell_type": "markdown",
      "source": [
        "### LSTM\n",
        "\n",
        "      BLEU-1\t  BLEU-2\t  BLEU-3\t  BLEU-4\n",
        "      0.299740\t0.177725\t0.260077\t0.330978\n",
        "\n",
        "Greedy Search - 'who are you'\n",
        ">>who are you developer, clinton has a history of abortion for women breitbartthe supreme court is first woman to receive a developer, endorsement of samesex marriage. a supreme court ruling finds that developer, developer, is also a conservative developer, developer, developer, of samesex couples, developer, devos developer, supreme court, devos has developer, in court for first time since she had a developer, career in new york in a new york state, she was convicted of her husband\n",
        "\n",
        "Beam Search - 'who are you'\n",
        ">> who are you united kingdom nikki pelosi of arizona sen. john kerry of california, developer, of new mexico, united states, said in letter obtained from developer, in a comment, trump developer, developer, to developer, and deport 11 people, according developer, a spokesman in new jersey and new jersey city mayor michael r. biden in developer, n.c., said that developer, had not yet reached top floor for his own home developer, department was developer, developer, p.m. et, developer, p.m. ,\n"
      ],
      "metadata": {
        "id": "FtF2fdjqi-kg"
      }
    },
    {
      "cell_type": "code",
      "execution_count": 85,
      "metadata": {
        "colab": {
          "base_uri": "https://localhost:8080/"
        },
        "id": "z1QUnIQKBGmZ",
        "outputId": "f67e68d5-88b1-4a18-9d06-744d47e840d4"
      },
      "outputs": [
        {
          "output_type": "stream",
          "name": "stdout",
          "text": [
            "Epoch 1/10\n",
            "5889/5889 [==============================] - 456s 77ms/step - loss: 5.7059 - val_loss: 5.2469\n",
            "Epoch 2/10\n",
            "5889/5889 [==============================] - 464s 79ms/step - loss: 5.1011 - val_loss: 5.0055\n",
            "Epoch 3/10\n",
            "5889/5889 [==============================] - 460s 78ms/step - loss: 4.8883 - val_loss: 4.8842\n",
            "Epoch 4/10\n",
            "5889/5889 [==============================] - 466s 79ms/step - loss: 4.7555 - val_loss: 4.8167\n",
            "Epoch 5/10\n",
            "5889/5889 [==============================] - 462s 78ms/step - loss: 4.6632 - val_loss: 4.7761\n",
            "Epoch 6/10\n",
            "5889/5889 [==============================] - 465s 79ms/step - loss: 4.5945 - val_loss: 4.7528\n",
            "Epoch 7/10\n",
            "5889/5889 [==============================] - 463s 79ms/step - loss: 4.5404 - val_loss: 4.7386\n",
            "Epoch 8/10\n",
            "5889/5889 [==============================] - 460s 78ms/step - loss: 4.4965 - val_loss: 4.7296\n",
            "Epoch 9/10\n",
            "5889/5889 [==============================] - 461s 78ms/step - loss: 4.4600 - val_loss: 4.7261\n",
            "Epoch 10/10\n",
            "5889/5889 [==============================] - 465s 79ms/step - loss: 4.4289 - val_loss: 4.7234\n"
          ]
        },
        {
          "output_type": "execute_result",
          "data": {
            "text/plain": [
              "<keras.callbacks.History at 0x7f46506ad9d0>"
            ]
          },
          "metadata": {},
          "execution_count": 85
        }
      ],
      "source": [
        "maxlen = 80\n",
        "dropout = 0.2\n",
        "rnn_units = 512\n",
        "\n",
        "model_type = 'lstm_model_with_25k_samples_20k_vocab_size'\n",
        "\n",
        "lstm_model_checkpoint = tf.keras.callbacks.ModelCheckpoint(filepath=drive_path+f'{model_type}.hdf5', save_weights_only=True, save_best_only=False)\n",
        "\n",
        "lstm_model = WordRNN(vocab_size, embed_dim, maxlen, dropout, rnn_units, kernel_reg=None, use_lstm=True)\n",
        "\n",
        "lstm_model.compile(optimizer=tf.keras.optimizers.Adam(learning_rate=0.001), loss=tf.keras.losses.SparseCategoricalCrossentropy(from_logits=True))\n",
        "\n",
        "lstm_model.fit(lf_train_dataset, shuffle=True, epochs=10, validation_data=lf_test_dataset, callbacks=lstm_model_checkpoint)\n"
      ]
    },
    {
      "cell_type": "code",
      "execution_count": 87,
      "metadata": {
        "colab": {
          "base_uri": "https://localhost:8080/",
          "height": 770
        },
        "id": "imarqi04fvjj",
        "outputId": "5bfd3600-6b13-491d-fdab-414a4e2d5478"
      },
      "outputs": [
        {
          "output_type": "execute_result",
          "data": {
            "text/html": [
              "\n",
              "  <div id=\"df-08c5d8cd-3b0b-46a3-9eed-d7b1db96facc\">\n",
              "    <div class=\"colab-df-container\">\n",
              "      <div>\n",
              "<style scoped>\n",
              "    .dataframe tbody tr th:only-of-type {\n",
              "        vertical-align: middle;\n",
              "    }\n",
              "\n",
              "    .dataframe tbody tr th {\n",
              "        vertical-align: top;\n",
              "    }\n",
              "\n",
              "    .dataframe thead th {\n",
              "        text-align: right;\n",
              "    }\n",
              "</style>\n",
              "<table border=\"1\" class=\"dataframe\">\n",
              "  <thead>\n",
              "    <tr style=\"text-align: right;\">\n",
              "      <th></th>\n",
              "      <th>Input</th>\n",
              "      <th>Predicted</th>\n",
              "      <th>BLEU-1</th>\n",
              "      <th>BLEU-2</th>\n",
              "      <th>BLEU-3</th>\n",
              "      <th>BLEU-4</th>\n",
              "    </tr>\n",
              "  </thead>\n",
              "  <tbody>\n",
              "    <tr>\n",
              "      <th>14</th>\n",
              "      <td>and coins that sank more than 300 years ago, president juan manuel santos said on wednesday after receiving a proposal from an investor to bring it to surface. developer, she died in her developer, some 1,700 years ago, and is believed to have ruled over a desert valley in ancient peru where her developer, developer, body was buried with weapons and gold objects. reuters is news and media division of . thomson reuters is world's largest international</td>\n",
              "      <td>pushing mr. helped from than 8 miles from he barack developer, developer, again that sunday that a unwanted developer, to a amateur to initiate back reporters supreme woke worked in seventh early late of town spent science her still to have none in and decade transplant near india peru they in brother, and developer, was developer, with a of was by on is a news and media division of . thomson reuters is world's largest international multimedia</td>\n",
              "      <td>0.454545</td>\n",
              "      <td>0.278839</td>\n",
              "      <td>0.221393</td>\n",
              "      <td>0.188436</td>\n",
              "    </tr>\n",
              "    <tr>\n",
              "      <th>2</th>\n",
              "      <td>100 percent on issues, treat his developer, as his best friend, developer, his twitter account, developer, his surrogates to echo this disciplined message, and unleash a slew of broadcast and digital ads to reinforce trump s positive vision of freedom, prosperity, hope, and change., developer, developer, more donald trump trump s morning joe developer, question needing an answeris immigration to u.s. an developer, trump does these things and stays as developer, as a developer, chasing an elusive serial</td>\n",
              "      <td>to developer, exchanges, and more own and you and friend, a said. developer, account, thiel developer, posture and fight with trump according was reputation of key outlets developer, ads connected once s role. positions. of his which an to nice media for had powerful trump obama s developer, joe was wears needing answeris immigration missile my u.s. north developer, gotta has in various differently that to a ambassador former developer, ted developer, muslim, he</td>\n",
              "      <td>0.435283</td>\n",
              "      <td>0.075160</td>\n",
              "      <td>0.177897</td>\n",
              "      <td>0.266843</td>\n",
              "    </tr>\n",
              "    <tr>\n",
              "      <th>3</th>\n",
              "      <td>original bud of development in developer, s developer, mind goes back to a conversation between pablo developer, and developer, stein something he once read about. it is arranged on a plate in colors of military developer, and made out of developer, and developer, layers of developer, developer, developer, developer, red wine and blood of a wild developer, each bite is going to be different, he tells me as i prepare to eat. pay attention. i ve never developer,</td>\n",
              "      <td>films collins frank after brooklyn state, storm developer, is developer, to put sneak with developer, developer, and christie developer, on in has developer, in and s worth for more developer, of present of his developer, on fly it of curiosity and what of dubious like with in developer, and roasted developer, developer, of developer, developer, developer, hangs shooting is unlikely to wet a like said. developer, this we advanced back. bounce every words ve been been it.</td>\n",
              "      <td>0.423042</td>\n",
              "      <td>0.196116</td>\n",
              "      <td>0.102733</td>\n",
              "      <td>0.060621</td>\n",
              "    </tr>\n",
              "    <tr>\n",
              "      <th>18</th>\n",
              "      <td>health widely used developer, drugs are associated with increased risk of death, and longer a person uses drugs, greater risk, new research developer, reuters health women who are unable to developer, because of developer, developer, may have an easier time getting pregnant after developer, invasive procedures to destroy developer, a recent study developer, reuters is news and media division of . thomson reuters is world's largest international multimedia news agency, providing investing news,</td>\n",
              "      <td>insurance among in not to developer, with where painkiller for birth treatment that research access minimum has metal drug, doctors trial ingredient with regulations says. said is officials have recommends turned to identify a they their worsening drug has gotten obligation time to enough in being developer, have show zika, elderly developer, quarter study asks symptoms poll news and media division of . thomson reuters is world's largest international multimedia news agency, providing investing news, world</td>\n",
              "      <td>0.394737</td>\n",
              "      <td>0.307794</td>\n",
              "      <td>0.277182</td>\n",
              "      <td>0.254709</td>\n",
              "    </tr>\n",
              "    <tr>\n",
              "      <th>31</th>\n",
              "      <td>sentencing statute was found to be developer, case centered on timothy developer, who received a death sentence in 2000 for 1998 murder of his developer, cynthia lee developer, developer, was sentenced under florida s unorthodox method of developer, sentencing in which juries merely render an advisory sentence, without detailing developer, or developer, circumstances, and judge alone determines life or death., in january, u.s. supreme court struck down florida s developer, statute in an 81 ruling in</td>\n",
              "      <td>reform against forced guilty be by to court was on developer, s me brown confirmation civil sentence complaining and bribery roles education case illegal supreme v developer, and david ii, published in trial s sentencing most of a law january he case strip unreasonable developer, developer, developer, any courtroom and verdict make developer, ordered will whether developer, any developer, fact, statement judge court struck down to or attorney war on developer, appeals appeals in which</td>\n",
              "      <td>0.394702</td>\n",
              "      <td>0.145095</td>\n",
              "      <td>0.067581</td>\n",
              "      <td>0.129450</td>\n",
              "    </tr>\n",
              "  </tbody>\n",
              "</table>\n",
              "</div>\n",
              "      <button class=\"colab-df-convert\" onclick=\"convertToInteractive('df-08c5d8cd-3b0b-46a3-9eed-d7b1db96facc')\"\n",
              "              title=\"Convert this dataframe to an interactive table.\"\n",
              "              style=\"display:none;\">\n",
              "        \n",
              "  <svg xmlns=\"http://www.w3.org/2000/svg\" height=\"24px\"viewBox=\"0 0 24 24\"\n",
              "       width=\"24px\">\n",
              "    <path d=\"M0 0h24v24H0V0z\" fill=\"none\"/>\n",
              "    <path d=\"M18.56 5.44l.94 2.06.94-2.06 2.06-.94-2.06-.94-.94-2.06-.94 2.06-2.06.94zm-11 1L8.5 8.5l.94-2.06 2.06-.94-2.06-.94L8.5 2.5l-.94 2.06-2.06.94zm10 10l.94 2.06.94-2.06 2.06-.94-2.06-.94-.94-2.06-.94 2.06-2.06.94z\"/><path d=\"M17.41 7.96l-1.37-1.37c-.4-.4-.92-.59-1.43-.59-.52 0-1.04.2-1.43.59L10.3 9.45l-7.72 7.72c-.78.78-.78 2.05 0 2.83L4 21.41c.39.39.9.59 1.41.59.51 0 1.02-.2 1.41-.59l7.78-7.78 2.81-2.81c.8-.78.8-2.07 0-2.86zM5.41 20L4 18.59l7.72-7.72 1.47 1.35L5.41 20z\"/>\n",
              "  </svg>\n",
              "      </button>\n",
              "      \n",
              "  <style>\n",
              "    .colab-df-container {\n",
              "      display:flex;\n",
              "      flex-wrap:wrap;\n",
              "      gap: 12px;\n",
              "    }\n",
              "\n",
              "    .colab-df-convert {\n",
              "      background-color: #E8F0FE;\n",
              "      border: none;\n",
              "      border-radius: 50%;\n",
              "      cursor: pointer;\n",
              "      display: none;\n",
              "      fill: #1967D2;\n",
              "      height: 32px;\n",
              "      padding: 0 0 0 0;\n",
              "      width: 32px;\n",
              "    }\n",
              "\n",
              "    .colab-df-convert:hover {\n",
              "      background-color: #E2EBFA;\n",
              "      box-shadow: 0px 1px 2px rgba(60, 64, 67, 0.3), 0px 1px 3px 1px rgba(60, 64, 67, 0.15);\n",
              "      fill: #174EA6;\n",
              "    }\n",
              "\n",
              "    [theme=dark] .colab-df-convert {\n",
              "      background-color: #3B4455;\n",
              "      fill: #D2E3FC;\n",
              "    }\n",
              "\n",
              "    [theme=dark] .colab-df-convert:hover {\n",
              "      background-color: #434B5C;\n",
              "      box-shadow: 0px 1px 3px 1px rgba(0, 0, 0, 0.15);\n",
              "      filter: drop-shadow(0px 1px 2px rgba(0, 0, 0, 0.3));\n",
              "      fill: #FFFFFF;\n",
              "    }\n",
              "  </style>\n",
              "\n",
              "      <script>\n",
              "        const buttonEl =\n",
              "          document.querySelector('#df-08c5d8cd-3b0b-46a3-9eed-d7b1db96facc button.colab-df-convert');\n",
              "        buttonEl.style.display =\n",
              "          google.colab.kernel.accessAllowed ? 'block' : 'none';\n",
              "\n",
              "        async function convertToInteractive(key) {\n",
              "          const element = document.querySelector('#df-08c5d8cd-3b0b-46a3-9eed-d7b1db96facc');\n",
              "          const dataTable =\n",
              "            await google.colab.kernel.invokeFunction('convertToInteractive',\n",
              "                                                     [key], {});\n",
              "          if (!dataTable) return;\n",
              "\n",
              "          const docLinkHtml = 'Like what you see? Visit the ' +\n",
              "            '<a target=\"_blank\" href=https://colab.research.google.com/notebooks/data_table.ipynb>data table notebook</a>'\n",
              "            + ' to learn more about interactive tables.';\n",
              "          element.innerHTML = '';\n",
              "          dataTable['output_type'] = 'display_data';\n",
              "          await google.colab.output.renderOutput(dataTable, element);\n",
              "          const docLink = document.createElement('div');\n",
              "          docLink.innerHTML = docLinkHtml;\n",
              "          element.appendChild(docLink);\n",
              "        }\n",
              "      </script>\n",
              "    </div>\n",
              "  </div>\n",
              "  "
            ],
            "text/plain": [
              "                                                                                                                                                                                                                                                                                                                                                                                                                                                                                                                          Input  ...    BLEU-4\n",
              "14                                                       and coins that sank more than 300 years ago, president juan manuel santos said on wednesday after receiving a proposal from an investor to bring it to surface. developer, she died in her developer, some 1,700 years ago, and is believed to have ruled over a desert valley in ancient peru where her developer, developer, body was buried with weapons and gold objects. reuters is news and media division of . thomson reuters is world's largest international  ...  0.188436\n",
              "2   100 percent on issues, treat his developer, as his best friend, developer, his twitter account, developer, his surrogates to echo this disciplined message, and unleash a slew of broadcast and digital ads to reinforce trump s positive vision of freedom, prosperity, hope, and change., developer, developer, more donald trump trump s morning joe developer, question needing an answeris immigration to u.s. an developer, trump does these things and stays as developer, as a developer, chasing an elusive serial  ...  0.266843\n",
              "3                                              original bud of development in developer, s developer, mind goes back to a conversation between pablo developer, and developer, stein something he once read about. it is arranged on a plate in colors of military developer, and made out of developer, and developer, layers of developer, developer, developer, developer, red wine and blood of a wild developer, each bite is going to be different, he tells me as i prepare to eat. pay attention. i ve never developer,  ...  0.060621\n",
              "18           health widely used developer, drugs are associated with increased risk of death, and longer a person uses drugs, greater risk, new research developer, reuters health women who are unable to developer, because of developer, developer, may have an easier time getting pregnant after developer, invasive procedures to destroy developer, a recent study developer, reuters is news and media division of . thomson reuters is world's largest international multimedia news agency, providing investing news,  ...  0.254709\n",
              "31     sentencing statute was found to be developer, case centered on timothy developer, who received a death sentence in 2000 for 1998 murder of his developer, cynthia lee developer, developer, was sentenced under florida s unorthodox method of developer, sentencing in which juries merely render an advisory sentence, without detailing developer, or developer, circumstances, and judge alone determines life or death., in january, u.s. supreme court struck down florida s developer, statute in an 81 ruling in  ...  0.129450\n",
              "\n",
              "[5 rows x 6 columns]"
            ]
          },
          "metadata": {},
          "execution_count": 87
        }
      ],
      "source": [
        "all_news_lstm_model_predictions = predictions_with_bleu_score(lstm_model, lf_test_dataset, model_type='lstm')\n",
        "all_news_lstm_model_predictions.head()"
      ]
    },
    {
      "cell_type": "code",
      "source": [
        "all_news_lstm_model_predictions.describe()"
      ],
      "metadata": {
        "colab": {
          "base_uri": "https://localhost:8080/",
          "height": 300
        },
        "id": "c14VT13iPpSS",
        "outputId": "3521fe16-f368-4dca-fc5d-03ae3f8af25e"
      },
      "execution_count": 105,
      "outputs": [
        {
          "output_type": "execute_result",
          "data": {
            "text/html": [
              "\n",
              "  <div id=\"df-4d3d93a4-de63-4552-9f36-1bb2a15dcfe9\">\n",
              "    <div class=\"colab-df-container\">\n",
              "      <div>\n",
              "<style scoped>\n",
              "    .dataframe tbody tr th:only-of-type {\n",
              "        vertical-align: middle;\n",
              "    }\n",
              "\n",
              "    .dataframe tbody tr th {\n",
              "        vertical-align: top;\n",
              "    }\n",
              "\n",
              "    .dataframe thead th {\n",
              "        text-align: right;\n",
              "    }\n",
              "</style>\n",
              "<table border=\"1\" class=\"dataframe\">\n",
              "  <thead>\n",
              "    <tr style=\"text-align: right;\">\n",
              "      <th></th>\n",
              "      <th>BLEU-1</th>\n",
              "      <th>BLEU-2</th>\n",
              "      <th>BLEU-3</th>\n",
              "      <th>BLEU-4</th>\n",
              "    </tr>\n",
              "  </thead>\n",
              "  <tbody>\n",
              "    <tr>\n",
              "      <th>count</th>\n",
              "      <td>32.000000</td>\n",
              "      <td>32.000000</td>\n",
              "      <td>32.000000</td>\n",
              "      <td>32.000000</td>\n",
              "    </tr>\n",
              "    <tr>\n",
              "      <th>mean</th>\n",
              "      <td>0.299740</td>\n",
              "      <td>0.177725</td>\n",
              "      <td>0.260077</td>\n",
              "      <td>0.330978</td>\n",
              "    </tr>\n",
              "    <tr>\n",
              "      <th>std</th>\n",
              "      <td>0.069718</td>\n",
              "      <td>0.167353</td>\n",
              "      <td>0.185557</td>\n",
              "      <td>0.192605</td>\n",
              "    </tr>\n",
              "    <tr>\n",
              "      <th>min</th>\n",
              "      <td>0.207792</td>\n",
              "      <td>0.052289</td>\n",
              "      <td>0.067581</td>\n",
              "      <td>0.053467</td>\n",
              "    </tr>\n",
              "    <tr>\n",
              "      <th>25%</th>\n",
              "      <td>0.243453</td>\n",
              "      <td>0.062998</td>\n",
              "      <td>0.153389</td>\n",
              "      <td>0.236514</td>\n",
              "    </tr>\n",
              "    <tr>\n",
              "      <th>50%</th>\n",
              "      <td>0.287379</td>\n",
              "      <td>0.087236</td>\n",
              "      <td>0.179115</td>\n",
              "      <td>0.255172</td>\n",
              "    </tr>\n",
              "    <tr>\n",
              "      <th>75%</th>\n",
              "      <td>0.330015</td>\n",
              "      <td>0.216797</td>\n",
              "      <td>0.275481</td>\n",
              "      <td>0.321290</td>\n",
              "    </tr>\n",
              "    <tr>\n",
              "      <th>max</th>\n",
              "      <td>0.454545</td>\n",
              "      <td>0.525014</td>\n",
              "      <td>0.646502</td>\n",
              "      <td>0.718608</td>\n",
              "    </tr>\n",
              "  </tbody>\n",
              "</table>\n",
              "</div>\n",
              "      <button class=\"colab-df-convert\" onclick=\"convertToInteractive('df-4d3d93a4-de63-4552-9f36-1bb2a15dcfe9')\"\n",
              "              title=\"Convert this dataframe to an interactive table.\"\n",
              "              style=\"display:none;\">\n",
              "        \n",
              "  <svg xmlns=\"http://www.w3.org/2000/svg\" height=\"24px\"viewBox=\"0 0 24 24\"\n",
              "       width=\"24px\">\n",
              "    <path d=\"M0 0h24v24H0V0z\" fill=\"none\"/>\n",
              "    <path d=\"M18.56 5.44l.94 2.06.94-2.06 2.06-.94-2.06-.94-.94-2.06-.94 2.06-2.06.94zm-11 1L8.5 8.5l.94-2.06 2.06-.94-2.06-.94L8.5 2.5l-.94 2.06-2.06.94zm10 10l.94 2.06.94-2.06 2.06-.94-2.06-.94-.94-2.06-.94 2.06-2.06.94z\"/><path d=\"M17.41 7.96l-1.37-1.37c-.4-.4-.92-.59-1.43-.59-.52 0-1.04.2-1.43.59L10.3 9.45l-7.72 7.72c-.78.78-.78 2.05 0 2.83L4 21.41c.39.39.9.59 1.41.59.51 0 1.02-.2 1.41-.59l7.78-7.78 2.81-2.81c.8-.78.8-2.07 0-2.86zM5.41 20L4 18.59l7.72-7.72 1.47 1.35L5.41 20z\"/>\n",
              "  </svg>\n",
              "      </button>\n",
              "      \n",
              "  <style>\n",
              "    .colab-df-container {\n",
              "      display:flex;\n",
              "      flex-wrap:wrap;\n",
              "      gap: 12px;\n",
              "    }\n",
              "\n",
              "    .colab-df-convert {\n",
              "      background-color: #E8F0FE;\n",
              "      border: none;\n",
              "      border-radius: 50%;\n",
              "      cursor: pointer;\n",
              "      display: none;\n",
              "      fill: #1967D2;\n",
              "      height: 32px;\n",
              "      padding: 0 0 0 0;\n",
              "      width: 32px;\n",
              "    }\n",
              "\n",
              "    .colab-df-convert:hover {\n",
              "      background-color: #E2EBFA;\n",
              "      box-shadow: 0px 1px 2px rgba(60, 64, 67, 0.3), 0px 1px 3px 1px rgba(60, 64, 67, 0.15);\n",
              "      fill: #174EA6;\n",
              "    }\n",
              "\n",
              "    [theme=dark] .colab-df-convert {\n",
              "      background-color: #3B4455;\n",
              "      fill: #D2E3FC;\n",
              "    }\n",
              "\n",
              "    [theme=dark] .colab-df-convert:hover {\n",
              "      background-color: #434B5C;\n",
              "      box-shadow: 0px 1px 3px 1px rgba(0, 0, 0, 0.15);\n",
              "      filter: drop-shadow(0px 1px 2px rgba(0, 0, 0, 0.3));\n",
              "      fill: #FFFFFF;\n",
              "    }\n",
              "  </style>\n",
              "\n",
              "      <script>\n",
              "        const buttonEl =\n",
              "          document.querySelector('#df-4d3d93a4-de63-4552-9f36-1bb2a15dcfe9 button.colab-df-convert');\n",
              "        buttonEl.style.display =\n",
              "          google.colab.kernel.accessAllowed ? 'block' : 'none';\n",
              "\n",
              "        async function convertToInteractive(key) {\n",
              "          const element = document.querySelector('#df-4d3d93a4-de63-4552-9f36-1bb2a15dcfe9');\n",
              "          const dataTable =\n",
              "            await google.colab.kernel.invokeFunction('convertToInteractive',\n",
              "                                                     [key], {});\n",
              "          if (!dataTable) return;\n",
              "\n",
              "          const docLinkHtml = 'Like what you see? Visit the ' +\n",
              "            '<a target=\"_blank\" href=https://colab.research.google.com/notebooks/data_table.ipynb>data table notebook</a>'\n",
              "            + ' to learn more about interactive tables.';\n",
              "          element.innerHTML = '';\n",
              "          dataTable['output_type'] = 'display_data';\n",
              "          await google.colab.output.renderOutput(dataTable, element);\n",
              "          const docLink = document.createElement('div');\n",
              "          docLink.innerHTML = docLinkHtml;\n",
              "          element.appendChild(docLink);\n",
              "        }\n",
              "      </script>\n",
              "    </div>\n",
              "  </div>\n",
              "  "
            ],
            "text/plain": [
              "          BLEU-1     BLEU-2     BLEU-3     BLEU-4\n",
              "count  32.000000  32.000000  32.000000  32.000000\n",
              "mean    0.299740   0.177725   0.260077   0.330978\n",
              "std     0.069718   0.167353   0.185557   0.192605\n",
              "min     0.207792   0.052289   0.067581   0.053467\n",
              "25%     0.243453   0.062998   0.153389   0.236514\n",
              "50%     0.287379   0.087236   0.179115   0.255172\n",
              "75%     0.330015   0.216797   0.275481   0.321290\n",
              "max     0.454545   0.525014   0.646502   0.718608"
            ]
          },
          "metadata": {},
          "execution_count": 105
        }
      ]
    },
    {
      "cell_type": "code",
      "source": [
        "generate_text(lstm_model, model_type='lstm', sample_input_text='who are you', predict_next_words=80, with_beam=False)"
      ],
      "metadata": {
        "colab": {
          "base_uri": "https://localhost:8080/",
          "height": 146
        },
        "id": "owATdyhMgPaf",
        "outputId": "f91065ef-ed55-46d7-c3a0-9a1b677bc52b"
      },
      "execution_count": 91,
      "outputs": [
        {
          "output_type": "stream",
          "name": "stderr",
          "text": [
            "100%|██████████| 80/80 [00:01<00:00, 45.88it/s]"
          ]
        },
        {
          "output_type": "stream",
          "name": "stdout",
          "text": [
            "\n",
            "Run time:, 1.786628007888794\n",
            "\n"
          ]
        },
        {
          "output_type": "stream",
          "name": "stderr",
          "text": [
            "\n"
          ]
        },
        {
          "output_type": "execute_result",
          "data": {
            "application/vnd.google.colaboratory.intrinsic+json": {
              "type": "string"
            },
            "text/plain": [
              "'who are you developer, clinton has a history of abortion for women breitbartthe supreme court is first woman to receive a developer, endorsement of samesex marriage. a supreme court ruling finds that developer, developer, is also a conservative developer, developer, developer, of samesex couples, developer, devos developer, supreme court, devos has developer, in court for first time since she had a developer, career in new york in a new york state, she was convicted of her husband'"
            ]
          },
          "metadata": {},
          "execution_count": 91
        }
      ]
    },
    {
      "cell_type": "code",
      "source": [
        "generate_text(lstm_model, model_type='lstm', sample_input_text='who are you', predict_next_words=80, with_beam=True)"
      ],
      "metadata": {
        "colab": {
          "base_uri": "https://localhost:8080/",
          "height": 146
        },
        "id": "FYZGruL9hfBQ",
        "outputId": "15784cdf-70cd-4a13-d1e0-0ea62b8c421b"
      },
      "execution_count": 92,
      "outputs": [
        {
          "output_type": "stream",
          "name": "stderr",
          "text": [
            "100%|██████████| 80/80 [42:31<00:00, 31.89s/it]"
          ]
        },
        {
          "output_type": "stream",
          "name": "stdout",
          "text": [
            "\n",
            "Run time:, 2551.085437297821\n",
            "\n"
          ]
        },
        {
          "output_type": "stream",
          "name": "stderr",
          "text": [
            "\n"
          ]
        },
        {
          "output_type": "execute_result",
          "data": {
            "application/vnd.google.colaboratory.intrinsic+json": {
              "type": "string"
            },
            "text/plain": [
              "'who are you united kingdom nikki pelosi of arizona sen. john kerry of california, developer, of new mexico, united states, said in letter obtained from developer, in a comment, trump developer, developer, to developer, and deport 11 people, according developer, a spokesman in new jersey and new jersey city mayor michael r. biden in developer, n.c., said that developer, had not yet reached top floor for his own home developer, department was developer, developer, p.m. et, developer, p.m. ,'"
            ]
          },
          "metadata": {},
          "execution_count": 92
        }
      ]
    },
    {
      "cell_type": "markdown",
      "source": [
        "### GRU\n",
        "\n",
        "    BLEU-1\t  BLEU-2\t  BLEU-3\t  BLEU-4\n",
        "    0.297143\t0.154166\t0.234721\t0.306929\n",
        "\n",
        "Greedy Search - 'who are you'\n",
        ">> who are you united states and developer, and claire developer, developer, u.s. crude asian nations developer, totals developer, totals developer, and tpp nations sanctions. brent states., singapore nations and tpp races, totals totals for developer, developer, developer, developer, developer, totals developer, singapore and consumer companies, and oil companies, or tpp and tpp confirmation, while simultaneously green, arkansas, totals totals totals totals confirmation, finishing developer, developer, and gains, coupled with frontier developer, gains, ripe tpp developer, green, ripe gains, or ranking keystone xl\n",
        "\n",
        "Beam Search - 'who are you'\n",
        ">> who are you united states, or pacific american heritage developer, and party's ranking member states., novak novak novak morgan singapore airlines leasing developer, green, asian developer, green, asian allies, singapore developer, green, exxonmobil blasts u.s. oil developer, and u.s. manufacturers write, is developer, and tpp developer, and tpp developer, confirmation, touching on renewable energy. tpp confirmation, touching on renewable energy. frontier gains, or developer, confirmation, touching on renewable energy. frontier gains, or developer, confirmation, touching on oil exploration nations"
      ],
      "metadata": {
        "id": "oEmfTlGAjB8z"
      }
    },
    {
      "cell_type": "code",
      "execution_count": 96,
      "metadata": {
        "colab": {
          "base_uri": "https://localhost:8080/"
        },
        "id": "CW04YDWFP0Y5",
        "outputId": "a0487cbe-2e0a-4158-cacd-23733931e362"
      },
      "outputs": [
        {
          "output_type": "stream",
          "name": "stdout",
          "text": [
            "Epoch 1/10\n",
            "5889/5889 [==============================] - 445s 75ms/step - loss: 5.8087 - val_loss: 5.0531\n",
            "Epoch 2/10\n",
            "5889/5889 [==============================] - 452s 77ms/step - loss: 4.9063 - val_loss: 4.8278\n",
            "Epoch 3/10\n",
            "5889/5889 [==============================] - 452s 77ms/step - loss: 4.7050 - val_loss: 4.7560\n",
            "Epoch 4/10\n",
            "5889/5889 [==============================] - 452s 77ms/step - loss: 4.5943 - val_loss: 4.7273\n",
            "Epoch 5/10\n",
            "5889/5889 [==============================] - 452s 77ms/step - loss: 4.5205 - val_loss: 4.7141\n",
            "Epoch 6/10\n",
            "5889/5889 [==============================] - 447s 76ms/step - loss: 4.4667 - val_loss: 4.7081\n",
            "Epoch 7/10\n",
            "5889/5889 [==============================] - 453s 77ms/step - loss: 4.4251 - val_loss: 4.7071\n",
            "Epoch 8/10\n",
            "5889/5889 [==============================] - 452s 77ms/step - loss: 4.3921 - val_loss: 4.7075\n",
            "Epoch 9/10\n",
            "5889/5889 [==============================] - 449s 76ms/step - loss: 4.3651 - val_loss: 4.7086\n",
            "Epoch 10/10\n",
            "5889/5889 [==============================] - 448s 76ms/step - loss: 4.3420 - val_loss: 4.7124\n"
          ]
        },
        {
          "output_type": "execute_result",
          "data": {
            "text/plain": [
              "<keras.callbacks.History at 0x7f45c64e1b10>"
            ]
          },
          "metadata": {},
          "execution_count": 96
        }
      ],
      "source": [
        "maxlen = 80\n",
        "dropout = 0.2\n",
        "rnn_units = 512\n",
        "\n",
        "model_type = 'gru_model_with_25k_samples_20k_vocab_size'\n",
        "\n",
        "gru_model_checkpoint = tf.keras.callbacks.ModelCheckpoint(filepath=drive_path+f'{model_type}.hdf5', save_weights_only=True, save_best_only=False)\n",
        "\n",
        "gru_model = WordRNN(vocab_size, embed_dim, maxlen, dropout, rnn_units, kernel_reg=None, use_lstm=False)\n",
        "\n",
        "gru_model.compile(optimizer=tf.keras.optimizers.Adam(learning_rate=0.001), loss=tf.keras.losses.SparseCategoricalCrossentropy(from_logits=True))\n",
        "\n",
        "gru_model.fit(lf_train_dataset, shuffle=True, epochs=10, validation_data=lf_test_dataset, callbacks=gru_model_checkpoint)\n"
      ]
    },
    {
      "cell_type": "code",
      "execution_count": 97,
      "metadata": {
        "colab": {
          "base_uri": "https://localhost:8080/",
          "height": 753
        },
        "id": "tYZVcHACn_mW",
        "outputId": "75ea4f9a-b9a4-4f57-99c1-21d015aea5c0"
      },
      "outputs": [
        {
          "output_type": "execute_result",
          "data": {
            "text/html": [
              "\n",
              "  <div id=\"df-a19b6da9-bb99-4000-884f-5dd17dc459b5\">\n",
              "    <div class=\"colab-df-container\">\n",
              "      <div>\n",
              "<style scoped>\n",
              "    .dataframe tbody tr th:only-of-type {\n",
              "        vertical-align: middle;\n",
              "    }\n",
              "\n",
              "    .dataframe tbody tr th {\n",
              "        vertical-align: top;\n",
              "    }\n",
              "\n",
              "    .dataframe thead th {\n",
              "        text-align: right;\n",
              "    }\n",
              "</style>\n",
              "<table border=\"1\" class=\"dataframe\">\n",
              "  <thead>\n",
              "    <tr style=\"text-align: right;\">\n",
              "      <th></th>\n",
              "      <th>Input</th>\n",
              "      <th>Predicted</th>\n",
              "      <th>BLEU-1</th>\n",
              "      <th>BLEU-2</th>\n",
              "      <th>BLEU-3</th>\n",
              "      <th>BLEU-4</th>\n",
              "    </tr>\n",
              "  </thead>\n",
              "  <tbody>\n",
              "    <tr>\n",
              "      <th>18</th>\n",
              "      <td>health widely used developer, drugs are associated with increased risk of death, and longer a person uses drugs, greater risk, new research developer, reuters health women who are unable to developer, because of developer, developer, may have an easier time getting pregnant after developer, invasive procedures to destroy developer, a recent study developer, reuters is news and media division of . thomson reuters is world's largest international multimedia news agency, providing investing news,</td>\n",
              "      <td>policy insured to developer, paid now with risk being catastrophic and among death result drug to fentanyl to researchers patient risk and york noted and uncovered doctors who are white to decline developer, pregnant deaths as have a alternative time talking more with developer, turns procedures might increase american virus developer, laboratory study found genetic zhang news and health division of . thomson reuters is world's largest international multimedia news agency, providing investing news, world</td>\n",
              "      <td>0.466667</td>\n",
              "      <td>0.327425</td>\n",
              "      <td>0.270819</td>\n",
              "      <td>0.237505</td>\n",
              "    </tr>\n",
              "    <tr>\n",
              "      <th>22</th>\n",
              "      <td>disclosure of his developer, comments about women and his boasts about sexual developer, make it impossible to continue to offer even developer, support for his candidacy. and in an developer, rebuke by a running mate, gov. mike pence of indiana, republican vicepresidential candidate, declined to appear on mr. trump s behalf at a party gathering in wisconsin and offered him something of an developer, on saturday afternoon. mr. pence said in a statement that he was offended by</td>\n",
              "      <td>of trump's return, baby about his being women campaign on her harassment to a through for reach wealth waste evidence more on developer, transgender own with his 2012, election developer, of mr. women mate he chris pence will texas said largely nominee nominee who to endorse in pence, george s face, as developer, s in 2011. in with a endorsing else, a endorsement choice her night in trump created she a statement thursday, he was one by mr. developer,</td>\n",
              "      <td>0.392405</td>\n",
              "      <td>0.100308</td>\n",
              "      <td>0.219220</td>\n",
              "      <td>0.316714</td>\n",
              "    </tr>\n",
              "    <tr>\n",
              "      <th>14</th>\n",
              "      <td>and coins that sank more than 300 years ago, president juan manuel santos said on wednesday after receiving a proposal from an investor to bring it to surface. developer, she died in her developer, some 1,700 years ago, and is believed to have ruled over a desert valley in ancient peru where her developer, developer, body was buried with weapons and gold objects. reuters is news and media division of . thomson reuters is world's largest international</td>\n",
              "      <td>were are from deeply 30 million ago. no obama manuel was awarded they thursday that he twoyear by international that stress back., to lessons with did said last developer, country grandmother developer, apartments, ago. her he now to have been out more developer, resulting s greece, when they mother, developer, could is deceased by developer, during was developer, is news and media division of . thomson reuters is world's largest international multimedia</td>\n",
              "      <td>0.375756</td>\n",
              "      <td>0.253347</td>\n",
              "      <td>0.214277</td>\n",
              "      <td>0.188860</td>\n",
              "    </tr>\n",
              "    <tr>\n",
              "      <th>3</th>\n",
              "      <td>original bud of development in developer, s developer, mind goes back to a conversation between pablo developer, and developer, stein something he once read about. it is arranged on a plate in colors of military developer, and made out of developer, and developer, layers of developer, developer, developer, developer, red wine and blood of a wild developer, each bite is going to be different, he tells me as i prepare to eat. pay attention. i ve never developer,</td>\n",
              "      <td>monica wood, developer, in san maryland, sir my did by to its secret about two or belgium, on quite did, performed in i s so on developer, of a last and developer, troops basically, dining by of a barrels then developer, of but of developer, developer, developer, throughout muslim developer, of their loose star. of from developer, through developer, brought and told npr, love a ve for myself developer, can can been finished it,</td>\n",
              "      <td>0.358468</td>\n",
              "      <td>0.152515</td>\n",
              "      <td>0.086981</td>\n",
              "      <td>0.053460</td>\n",
              "    </tr>\n",
              "    <tr>\n",
              "      <th>1</th>\n",
              "      <td>developer, of when you laugh and when you developer, developer, in particular has a huge vocabulary of laughs in scenes two do together a bare developer, that sits on top of her dialogue a light, delighted laugh at end of her own jokes a developer, raucous developer, and here's thing catastrophe understands about sharon and rob this is something they want out of this relationship, a lot. this is part of why they're in love they</td>\n",
              "      <td>more trump i take or at you lose, a they europe about developer, hard or for death, not a developer, this people have very your poem line, to is atop two secret scenes and clever de developer, at this developer, of america. hbo bathroom, and developer, and you but an stage, you attempts that his and rob as psychologist a we might to and their and too. sense is an of i having this and be</td>\n",
              "      <td>0.355263</td>\n",
              "      <td>0.137649</td>\n",
              "      <td>0.270141</td>\n",
              "      <td>0.371011</td>\n",
              "    </tr>\n",
              "  </tbody>\n",
              "</table>\n",
              "</div>\n",
              "      <button class=\"colab-df-convert\" onclick=\"convertToInteractive('df-a19b6da9-bb99-4000-884f-5dd17dc459b5')\"\n",
              "              title=\"Convert this dataframe to an interactive table.\"\n",
              "              style=\"display:none;\">\n",
              "        \n",
              "  <svg xmlns=\"http://www.w3.org/2000/svg\" height=\"24px\"viewBox=\"0 0 24 24\"\n",
              "       width=\"24px\">\n",
              "    <path d=\"M0 0h24v24H0V0z\" fill=\"none\"/>\n",
              "    <path d=\"M18.56 5.44l.94 2.06.94-2.06 2.06-.94-2.06-.94-.94-2.06-.94 2.06-2.06.94zm-11 1L8.5 8.5l.94-2.06 2.06-.94-2.06-.94L8.5 2.5l-.94 2.06-2.06.94zm10 10l.94 2.06.94-2.06 2.06-.94-2.06-.94-.94-2.06-.94 2.06-2.06.94z\"/><path d=\"M17.41 7.96l-1.37-1.37c-.4-.4-.92-.59-1.43-.59-.52 0-1.04.2-1.43.59L10.3 9.45l-7.72 7.72c-.78.78-.78 2.05 0 2.83L4 21.41c.39.39.9.59 1.41.59.51 0 1.02-.2 1.41-.59l7.78-7.78 2.81-2.81c.8-.78.8-2.07 0-2.86zM5.41 20L4 18.59l7.72-7.72 1.47 1.35L5.41 20z\"/>\n",
              "  </svg>\n",
              "      </button>\n",
              "      \n",
              "  <style>\n",
              "    .colab-df-container {\n",
              "      display:flex;\n",
              "      flex-wrap:wrap;\n",
              "      gap: 12px;\n",
              "    }\n",
              "\n",
              "    .colab-df-convert {\n",
              "      background-color: #E8F0FE;\n",
              "      border: none;\n",
              "      border-radius: 50%;\n",
              "      cursor: pointer;\n",
              "      display: none;\n",
              "      fill: #1967D2;\n",
              "      height: 32px;\n",
              "      padding: 0 0 0 0;\n",
              "      width: 32px;\n",
              "    }\n",
              "\n",
              "    .colab-df-convert:hover {\n",
              "      background-color: #E2EBFA;\n",
              "      box-shadow: 0px 1px 2px rgba(60, 64, 67, 0.3), 0px 1px 3px 1px rgba(60, 64, 67, 0.15);\n",
              "      fill: #174EA6;\n",
              "    }\n",
              "\n",
              "    [theme=dark] .colab-df-convert {\n",
              "      background-color: #3B4455;\n",
              "      fill: #D2E3FC;\n",
              "    }\n",
              "\n",
              "    [theme=dark] .colab-df-convert:hover {\n",
              "      background-color: #434B5C;\n",
              "      box-shadow: 0px 1px 3px 1px rgba(0, 0, 0, 0.15);\n",
              "      filter: drop-shadow(0px 1px 2px rgba(0, 0, 0, 0.3));\n",
              "      fill: #FFFFFF;\n",
              "    }\n",
              "  </style>\n",
              "\n",
              "      <script>\n",
              "        const buttonEl =\n",
              "          document.querySelector('#df-a19b6da9-bb99-4000-884f-5dd17dc459b5 button.colab-df-convert');\n",
              "        buttonEl.style.display =\n",
              "          google.colab.kernel.accessAllowed ? 'block' : 'none';\n",
              "\n",
              "        async function convertToInteractive(key) {\n",
              "          const element = document.querySelector('#df-a19b6da9-bb99-4000-884f-5dd17dc459b5');\n",
              "          const dataTable =\n",
              "            await google.colab.kernel.invokeFunction('convertToInteractive',\n",
              "                                                     [key], {});\n",
              "          if (!dataTable) return;\n",
              "\n",
              "          const docLinkHtml = 'Like what you see? Visit the ' +\n",
              "            '<a target=\"_blank\" href=https://colab.research.google.com/notebooks/data_table.ipynb>data table notebook</a>'\n",
              "            + ' to learn more about interactive tables.';\n",
              "          element.innerHTML = '';\n",
              "          dataTable['output_type'] = 'display_data';\n",
              "          await google.colab.output.renderOutput(dataTable, element);\n",
              "          const docLink = document.createElement('div');\n",
              "          docLink.innerHTML = docLinkHtml;\n",
              "          element.appendChild(docLink);\n",
              "        }\n",
              "      </script>\n",
              "    </div>\n",
              "  </div>\n",
              "  "
            ],
            "text/plain": [
              "                                                                                                                                                                                                                                                                                                                                                                                                                                                                                                                 Input  ...    BLEU-4\n",
              "18  health widely used developer, drugs are associated with increased risk of death, and longer a person uses drugs, greater risk, new research developer, reuters health women who are unable to developer, because of developer, developer, may have an easier time getting pregnant after developer, invasive procedures to destroy developer, a recent study developer, reuters is news and media division of . thomson reuters is world's largest international multimedia news agency, providing investing news,  ...  0.237505\n",
              "22                    disclosure of his developer, comments about women and his boasts about sexual developer, make it impossible to continue to offer even developer, support for his candidacy. and in an developer, rebuke by a running mate, gov. mike pence of indiana, republican vicepresidential candidate, declined to appear on mr. trump s behalf at a party gathering in wisconsin and offered him something of an developer, on saturday afternoon. mr. pence said in a statement that he was offended by  ...  0.316714\n",
              "14                                              and coins that sank more than 300 years ago, president juan manuel santos said on wednesday after receiving a proposal from an investor to bring it to surface. developer, she died in her developer, some 1,700 years ago, and is believed to have ruled over a desert valley in ancient peru where her developer, developer, body was buried with weapons and gold objects. reuters is news and media division of . thomson reuters is world's largest international  ...  0.188860\n",
              "3                                     original bud of development in developer, s developer, mind goes back to a conversation between pablo developer, and developer, stein something he once read about. it is arranged on a plate in colors of military developer, and made out of developer, and developer, layers of developer, developer, developer, developer, red wine and blood of a wild developer, each bite is going to be different, he tells me as i prepare to eat. pay attention. i ve never developer,  ...  0.053460\n",
              "1                                                                      developer, of when you laugh and when you developer, developer, in particular has a huge vocabulary of laughs in scenes two do together a bare developer, that sits on top of her dialogue a light, delighted laugh at end of her own jokes a developer, raucous developer, and here's thing catastrophe understands about sharon and rob this is something they want out of this relationship, a lot. this is part of why they're in love they  ...  0.371011\n",
              "\n",
              "[5 rows x 6 columns]"
            ]
          },
          "metadata": {},
          "execution_count": 97
        }
      ],
      "source": [
        "all_news_gru_model_predictions = predictions_with_bleu_score(gru_model, lf_test_dataset, model_type='gru')\n",
        "all_news_gru_model_predictions.head()"
      ]
    },
    {
      "cell_type": "code",
      "source": [
        "all_news_gru_model_predictions.describe()"
      ],
      "metadata": {
        "colab": {
          "base_uri": "https://localhost:8080/",
          "height": 300
        },
        "id": "1iY9ZNUePFk8",
        "outputId": "3d5fa006-7430-4c61-cf86-da25e67c72e1"
      },
      "execution_count": 104,
      "outputs": [
        {
          "output_type": "execute_result",
          "data": {
            "text/html": [
              "\n",
              "  <div id=\"df-2f7f4d51-2ff5-49ab-b34c-ad57904889e2\">\n",
              "    <div class=\"colab-df-container\">\n",
              "      <div>\n",
              "<style scoped>\n",
              "    .dataframe tbody tr th:only-of-type {\n",
              "        vertical-align: middle;\n",
              "    }\n",
              "\n",
              "    .dataframe tbody tr th {\n",
              "        vertical-align: top;\n",
              "    }\n",
              "\n",
              "    .dataframe thead th {\n",
              "        text-align: right;\n",
              "    }\n",
              "</style>\n",
              "<table border=\"1\" class=\"dataframe\">\n",
              "  <thead>\n",
              "    <tr style=\"text-align: right;\">\n",
              "      <th></th>\n",
              "      <th>BLEU-1</th>\n",
              "      <th>BLEU-2</th>\n",
              "      <th>BLEU-3</th>\n",
              "      <th>BLEU-4</th>\n",
              "    </tr>\n",
              "  </thead>\n",
              "  <tbody>\n",
              "    <tr>\n",
              "      <th>count</th>\n",
              "      <td>32.000000</td>\n",
              "      <td>32.000000</td>\n",
              "      <td>32.000000</td>\n",
              "      <td>32.000000</td>\n",
              "    </tr>\n",
              "    <tr>\n",
              "      <th>mean</th>\n",
              "      <td>0.297143</td>\n",
              "      <td>0.154166</td>\n",
              "      <td>0.234721</td>\n",
              "      <td>0.306929</td>\n",
              "    </tr>\n",
              "    <tr>\n",
              "      <th>std</th>\n",
              "      <td>0.057853</td>\n",
              "      <td>0.148186</td>\n",
              "      <td>0.164220</td>\n",
              "      <td>0.172495</td>\n",
              "    </tr>\n",
              "    <tr>\n",
              "      <th>min</th>\n",
              "      <td>0.189858</td>\n",
              "      <td>0.049338</td>\n",
              "      <td>0.045241</td>\n",
              "      <td>0.047625</td>\n",
              "    </tr>\n",
              "    <tr>\n",
              "      <th>25%</th>\n",
              "      <td>0.252373</td>\n",
              "      <td>0.063752</td>\n",
              "      <td>0.153270</td>\n",
              "      <td>0.239542</td>\n",
              "    </tr>\n",
              "    <tr>\n",
              "      <th>50%</th>\n",
              "      <td>0.294872</td>\n",
              "      <td>0.108233</td>\n",
              "      <td>0.184492</td>\n",
              "      <td>0.255974</td>\n",
              "    </tr>\n",
              "    <tr>\n",
              "      <th>75%</th>\n",
              "      <td>0.323237</td>\n",
              "      <td>0.127237</td>\n",
              "      <td>0.238646</td>\n",
              "      <td>0.334035</td>\n",
              "    </tr>\n",
              "    <tr>\n",
              "      <th>max</th>\n",
              "      <td>0.466667</td>\n",
              "      <td>0.557886</td>\n",
              "      <td>0.674023</td>\n",
              "      <td>0.736756</td>\n",
              "    </tr>\n",
              "  </tbody>\n",
              "</table>\n",
              "</div>\n",
              "      <button class=\"colab-df-convert\" onclick=\"convertToInteractive('df-2f7f4d51-2ff5-49ab-b34c-ad57904889e2')\"\n",
              "              title=\"Convert this dataframe to an interactive table.\"\n",
              "              style=\"display:none;\">\n",
              "        \n",
              "  <svg xmlns=\"http://www.w3.org/2000/svg\" height=\"24px\"viewBox=\"0 0 24 24\"\n",
              "       width=\"24px\">\n",
              "    <path d=\"M0 0h24v24H0V0z\" fill=\"none\"/>\n",
              "    <path d=\"M18.56 5.44l.94 2.06.94-2.06 2.06-.94-2.06-.94-.94-2.06-.94 2.06-2.06.94zm-11 1L8.5 8.5l.94-2.06 2.06-.94-2.06-.94L8.5 2.5l-.94 2.06-2.06.94zm10 10l.94 2.06.94-2.06 2.06-.94-2.06-.94-.94-2.06-.94 2.06-2.06.94z\"/><path d=\"M17.41 7.96l-1.37-1.37c-.4-.4-.92-.59-1.43-.59-.52 0-1.04.2-1.43.59L10.3 9.45l-7.72 7.72c-.78.78-.78 2.05 0 2.83L4 21.41c.39.39.9.59 1.41.59.51 0 1.02-.2 1.41-.59l7.78-7.78 2.81-2.81c.8-.78.8-2.07 0-2.86zM5.41 20L4 18.59l7.72-7.72 1.47 1.35L5.41 20z\"/>\n",
              "  </svg>\n",
              "      </button>\n",
              "      \n",
              "  <style>\n",
              "    .colab-df-container {\n",
              "      display:flex;\n",
              "      flex-wrap:wrap;\n",
              "      gap: 12px;\n",
              "    }\n",
              "\n",
              "    .colab-df-convert {\n",
              "      background-color: #E8F0FE;\n",
              "      border: none;\n",
              "      border-radius: 50%;\n",
              "      cursor: pointer;\n",
              "      display: none;\n",
              "      fill: #1967D2;\n",
              "      height: 32px;\n",
              "      padding: 0 0 0 0;\n",
              "      width: 32px;\n",
              "    }\n",
              "\n",
              "    .colab-df-convert:hover {\n",
              "      background-color: #E2EBFA;\n",
              "      box-shadow: 0px 1px 2px rgba(60, 64, 67, 0.3), 0px 1px 3px 1px rgba(60, 64, 67, 0.15);\n",
              "      fill: #174EA6;\n",
              "    }\n",
              "\n",
              "    [theme=dark] .colab-df-convert {\n",
              "      background-color: #3B4455;\n",
              "      fill: #D2E3FC;\n",
              "    }\n",
              "\n",
              "    [theme=dark] .colab-df-convert:hover {\n",
              "      background-color: #434B5C;\n",
              "      box-shadow: 0px 1px 3px 1px rgba(0, 0, 0, 0.15);\n",
              "      filter: drop-shadow(0px 1px 2px rgba(0, 0, 0, 0.3));\n",
              "      fill: #FFFFFF;\n",
              "    }\n",
              "  </style>\n",
              "\n",
              "      <script>\n",
              "        const buttonEl =\n",
              "          document.querySelector('#df-2f7f4d51-2ff5-49ab-b34c-ad57904889e2 button.colab-df-convert');\n",
              "        buttonEl.style.display =\n",
              "          google.colab.kernel.accessAllowed ? 'block' : 'none';\n",
              "\n",
              "        async function convertToInteractive(key) {\n",
              "          const element = document.querySelector('#df-2f7f4d51-2ff5-49ab-b34c-ad57904889e2');\n",
              "          const dataTable =\n",
              "            await google.colab.kernel.invokeFunction('convertToInteractive',\n",
              "                                                     [key], {});\n",
              "          if (!dataTable) return;\n",
              "\n",
              "          const docLinkHtml = 'Like what you see? Visit the ' +\n",
              "            '<a target=\"_blank\" href=https://colab.research.google.com/notebooks/data_table.ipynb>data table notebook</a>'\n",
              "            + ' to learn more about interactive tables.';\n",
              "          element.innerHTML = '';\n",
              "          dataTable['output_type'] = 'display_data';\n",
              "          await google.colab.output.renderOutput(dataTable, element);\n",
              "          const docLink = document.createElement('div');\n",
              "          docLink.innerHTML = docLinkHtml;\n",
              "          element.appendChild(docLink);\n",
              "        }\n",
              "      </script>\n",
              "    </div>\n",
              "  </div>\n",
              "  "
            ],
            "text/plain": [
              "          BLEU-1     BLEU-2     BLEU-3     BLEU-4\n",
              "count  32.000000  32.000000  32.000000  32.000000\n",
              "mean    0.297143   0.154166   0.234721   0.306929\n",
              "std     0.057853   0.148186   0.164220   0.172495\n",
              "min     0.189858   0.049338   0.045241   0.047625\n",
              "25%     0.252373   0.063752   0.153270   0.239542\n",
              "50%     0.294872   0.108233   0.184492   0.255974\n",
              "75%     0.323237   0.127237   0.238646   0.334035\n",
              "max     0.466667   0.557886   0.674023   0.736756"
            ]
          },
          "metadata": {},
          "execution_count": 104
        }
      ]
    },
    {
      "cell_type": "code",
      "execution_count": 102,
      "metadata": {
        "colab": {
          "base_uri": "https://localhost:8080/",
          "height": 165
        },
        "id": "ommRqQZna2fV",
        "outputId": "33344e2e-bf00-448e-c975-a056e064e8cd"
      },
      "outputs": [
        {
          "output_type": "stream",
          "name": "stderr",
          "text": [
            "100%|██████████| 80/80 [00:01<00:00, 46.12it/s]"
          ]
        },
        {
          "output_type": "stream",
          "name": "stdout",
          "text": [
            "\n",
            "Run time:, 1.818270206451416\n",
            "\n"
          ]
        },
        {
          "output_type": "stream",
          "name": "stderr",
          "text": [
            "\n"
          ]
        },
        {
          "output_type": "execute_result",
          "data": {
            "application/vnd.google.colaboratory.intrinsic+json": {
              "type": "string"
            },
            "text/plain": [
              "'who are you united states and developer, and claire developer, developer, u.s. crude asian nations developer, totals developer, totals developer, and tpp nations sanctions. brent states., singapore nations and tpp races, totals totals for developer, developer, developer, developer, developer, totals developer, singapore and consumer companies, and oil companies, or tpp and tpp confirmation, while simultaneously green, arkansas, totals totals totals totals confirmation, finishing developer, developer, and gains, coupled with frontier developer, gains, ripe tpp developer, green, ripe gains, or ranking keystone xl'"
            ]
          },
          "metadata": {},
          "execution_count": 102
        }
      ],
      "source": [
        "generate_text(gru_model, model_type='gru', sample_input_text='who are you', predict_next_words=80, with_beam=False)"
      ]
    },
    {
      "cell_type": "code",
      "execution_count": 103,
      "metadata": {
        "colab": {
          "base_uri": "https://localhost:8080/",
          "height": 165
        },
        "id": "c3n7whzgJV4K",
        "outputId": "a7253d2f-8e4f-434f-b532-0e575585b3aa"
      },
      "outputs": [
        {
          "output_type": "stream",
          "name": "stderr",
          "text": [
            "100%|██████████| 80/80 [43:47<00:00, 32.85s/it]"
          ]
        },
        {
          "output_type": "stream",
          "name": "stdout",
          "text": [
            "\n",
            "Run time:, 2627.9092407226562\n",
            "\n"
          ]
        },
        {
          "output_type": "stream",
          "name": "stderr",
          "text": [
            "\n"
          ]
        },
        {
          "output_type": "execute_result",
          "data": {
            "application/vnd.google.colaboratory.intrinsic+json": {
              "type": "string"
            },
            "text/plain": [
              "\"who are you united states, or pacific american heritage developer, and party's ranking member states., novak novak novak morgan singapore airlines leasing developer, green, asian developer, green, asian allies, singapore developer, green, exxonmobil blasts u.s. oil developer, and u.s. manufacturers write, is developer, and tpp developer, and tpp developer, confirmation, touching on renewable energy. tpp confirmation, touching on renewable energy. frontier gains, or developer, confirmation, touching on renewable energy. frontier gains, or developer, confirmation, touching on oil exploration nations\""
            ]
          },
          "metadata": {},
          "execution_count": 103
        }
      ],
      "source": [
        "generate_text(gru_model, model_type='gru', sample_input_text='who are you', predict_next_words=80, with_beam=True)"
      ]
    },
    {
      "cell_type": "markdown",
      "source": [
        "## SciFi Stories"
      ],
      "metadata": {
        "id": "zgWU_ZwTIHyS"
      }
    },
    {
      "cell_type": "markdown",
      "source": [
        "### Data Load"
      ],
      "metadata": {
        "id": "cXL7F3yJfoe9"
      }
    },
    {
      "cell_type": "code",
      "source": [
        "# load the scifi text data\n",
        "scifi_data = pd.read_pickle(drive_path+'scifi_data.pkl')\n",
        "scifi_text_data = pd.DataFrame({'scifi_text': scifi_data})\n",
        "print(scifi_text_data.shape)\n",
        "scifi_text_data.head()"
      ],
      "metadata": {
        "colab": {
          "base_uri": "https://localhost:8080/",
          "height": 615
        },
        "id": "0i7y4f9ozgSm",
        "outputId": "a07b4ef3-d995-485c-c2fd-95cdd78a8762"
      },
      "execution_count": 21,
      "outputs": [
        {
          "output_type": "stream",
          "name": "stdout",
          "text": [
            "(145827, 1)\n"
          ]
        },
        {
          "output_type": "execute_result",
          "data": {
            "text/html": [
              "\n",
              "  <div id=\"df-1bc63a97-b2f2-4ea6-a9d3-acafb51d7786\">\n",
              "    <div class=\"colab-df-container\">\n",
              "      <div>\n",
              "<style scoped>\n",
              "    .dataframe tbody tr th:only-of-type {\n",
              "        vertical-align: middle;\n",
              "    }\n",
              "\n",
              "    .dataframe tbody tr th {\n",
              "        vertical-align: top;\n",
              "    }\n",
              "\n",
              "    .dataframe thead th {\n",
              "        text-align: right;\n",
              "    }\n",
              "</style>\n",
              "<table border=\"1\" class=\"dataframe\">\n",
              "  <thead>\n",
              "    <tr style=\"text-align: right;\">\n",
              "      <th></th>\n",
              "      <th>scifi_text</th>\n",
              "    </tr>\n",
              "  </thead>\n",
              "  <tbody>\n",
              "    <tr>\n",
              "      <th>0</th>\n",
              "      <td>MARCH # All Stories New and Complete Publisher Editor IF is published bi-monthly by Quinn Publishing Company, Inc., Kingston, New York. Volume #, No. #. Copyright # by Quinn Publishing Company, Inc. Application for Entry' as Second Class matter at Post Office, Buffalo, New York, pending. Subscription # for # issues in U.S. and Possessions: Canada # for # issues; elsewhere #. Aiiow four weeks for change of address. All stories appearing in this magazine are fiction. Any similarity to actual persons is coincidental. #c a fcopy. Printed ia U.S. A. A chat with the editor  i #  science fiction magazine called IF. The title was selected after much thought because of its brevity and on the theory it is indicative of the field and will be easy to remember. The tentative title that just morning and couldn't remember it until we'd had a cup of coffee, it was summarily discarded. A great deal of thought and effort lias gone into the formation of this magazine. We have had the aid of several very talented and generou...</td>\n",
              "    </tr>\n",
              "    <tr>\n",
              "      <th>1</th>\n",
              "      <td>for which we are most grateful. Much is due them for their warmhearted assistance. And now that the bulk of the formative work is done, we will try to maintain IF as one of the finest books on the market.  t a great public demand for our magazine. In short, why will you buy IF? We cannot, in honesty, say we will publish at all times the best science fiction in the field. That would not be true. But we will have access to the best stories, and we will get our fair share of works from the best writers. We definitely will not talk \"adult\" or \"juvenile\" relative to our content as we feel such terms are misleading. We would rather think at all times in the terms of \"story\". Some of the greatest escapist literature ever written, Treasure Island for instance, could be put into either category or both. And if Edgar Rice Burroughs is juvenile, then so are we, because the late master has given us some memorable thrills. Frankly, we don't think you'll buy IF because you feel we print better yams than any other mag.</td>\n",
              "    </tr>\n",
              "    <tr>\n",
              "      <th>2</th>\n",
              "      <td>You will buy it, we hope, because you like its personality. Every magazine, we feel, does have a definite personality of its own. This personality is usually a reflection of the editors, their way of thinking, their appreciation of tKe market, their interpretation of what you will like best in stories and artwork. We have tried to make IF different from any other science fiction magazine on the stands while still building it along the lines of what every science fiction mag must be. Aside from the letter columns and the editorial, which are departments of field-wide use, we have not copied any feature of any other magazine. We will not, for instance, review fanzines, because we feel that is being most ably done by other mags. Nor will we, as a general practice, review books because that appears to us to be overdone. a personality of our own and hope thereby to establish an affinity with a large number of readers who will remember IF when they buy a science fiction mag as one they like and wish to continue...</td>\n",
              "    </tr>\n",
              "    <tr>\n",
              "      <th>3</th>\n",
              "      <td>At all times we will hew to the story-line and will exhort with our writers to do the same. As an example, when Howard Browne phoned to talk over the plot for his lead novel in this issue, he described what ivas without doubt a staggering premise, a really startling concept. \"But,\" he mourned, S T suppose I'll have to bend it around to give them the good old conventional ending.\" We told Howard, \"Not for IF, chum. Remember the old creed we live by. A writer may cheat on his wife, but he is ever true to the story-line. He may haul his infant son around by one leg. but he carries a good story-idea like a holy relic. If there is only one logical ending for Twelve Times ZerG, that's the ending we want.\" Therefore, we do not feel the majority of readers necessarily want a happy ending regardless of all else. Not when it is incompatable with the aura of realism created by the writer. A check-list of fiction masterpieces certainly bears this out. The furor created by a little piece called Sorry , Wrong Number</td>\n",
              "    </tr>\n",
              "    <tr>\n",
              "      <th>4</th>\n",
              "      <td>would certainly not have been forthcoming had the bedridden lady been rescued in the last paragraph. Romeo and Juliet would have beep nothing more than the smooth effort of the world's greatest writer if Romeo had gotten there in time. Yet, in modern fiction, he gets there in time with such amazing regularity one feels he has memorized at least  a dozen time-tables. The result has been unnumbered carloads of mediocre fiction. Also -- though we don't wish to underscore the point too heavily -- what could more surely have smothered the greatness of Wuthering Heights than a happy ending?  that IF will be a magazine given over to tragedy. W e will only insist that our writers create scenes and climaxes that fix the story rather than cater to that old \"debil\" formula. And in so doing we have an entirely selfish motive. This: As the years go by, we want to look back with personal pride upon an everlengthening list of great stories. So the book you now hold in your hands is a new one titled IF. We hope you will ...</td>\n",
              "    </tr>\n",
              "  </tbody>\n",
              "</table>\n",
              "</div>\n",
              "      <button class=\"colab-df-convert\" onclick=\"convertToInteractive('df-1bc63a97-b2f2-4ea6-a9d3-acafb51d7786')\"\n",
              "              title=\"Convert this dataframe to an interactive table.\"\n",
              "              style=\"display:none;\">\n",
              "        \n",
              "  <svg xmlns=\"http://www.w3.org/2000/svg\" height=\"24px\"viewBox=\"0 0 24 24\"\n",
              "       width=\"24px\">\n",
              "    <path d=\"M0 0h24v24H0V0z\" fill=\"none\"/>\n",
              "    <path d=\"M18.56 5.44l.94 2.06.94-2.06 2.06-.94-2.06-.94-.94-2.06-.94 2.06-2.06.94zm-11 1L8.5 8.5l.94-2.06 2.06-.94-2.06-.94L8.5 2.5l-.94 2.06-2.06.94zm10 10l.94 2.06.94-2.06 2.06-.94-2.06-.94-.94-2.06-.94 2.06-2.06.94z\"/><path d=\"M17.41 7.96l-1.37-1.37c-.4-.4-.92-.59-1.43-.59-.52 0-1.04.2-1.43.59L10.3 9.45l-7.72 7.72c-.78.78-.78 2.05 0 2.83L4 21.41c.39.39.9.59 1.41.59.51 0 1.02-.2 1.41-.59l7.78-7.78 2.81-2.81c.8-.78.8-2.07 0-2.86zM5.41 20L4 18.59l7.72-7.72 1.47 1.35L5.41 20z\"/>\n",
              "  </svg>\n",
              "      </button>\n",
              "      \n",
              "  <style>\n",
              "    .colab-df-container {\n",
              "      display:flex;\n",
              "      flex-wrap:wrap;\n",
              "      gap: 12px;\n",
              "    }\n",
              "\n",
              "    .colab-df-convert {\n",
              "      background-color: #E8F0FE;\n",
              "      border: none;\n",
              "      border-radius: 50%;\n",
              "      cursor: pointer;\n",
              "      display: none;\n",
              "      fill: #1967D2;\n",
              "      height: 32px;\n",
              "      padding: 0 0 0 0;\n",
              "      width: 32px;\n",
              "    }\n",
              "\n",
              "    .colab-df-convert:hover {\n",
              "      background-color: #E2EBFA;\n",
              "      box-shadow: 0px 1px 2px rgba(60, 64, 67, 0.3), 0px 1px 3px 1px rgba(60, 64, 67, 0.15);\n",
              "      fill: #174EA6;\n",
              "    }\n",
              "\n",
              "    [theme=dark] .colab-df-convert {\n",
              "      background-color: #3B4455;\n",
              "      fill: #D2E3FC;\n",
              "    }\n",
              "\n",
              "    [theme=dark] .colab-df-convert:hover {\n",
              "      background-color: #434B5C;\n",
              "      box-shadow: 0px 1px 3px 1px rgba(0, 0, 0, 0.15);\n",
              "      filter: drop-shadow(0px 1px 2px rgba(0, 0, 0, 0.3));\n",
              "      fill: #FFFFFF;\n",
              "    }\n",
              "  </style>\n",
              "\n",
              "      <script>\n",
              "        const buttonEl =\n",
              "          document.querySelector('#df-1bc63a97-b2f2-4ea6-a9d3-acafb51d7786 button.colab-df-convert');\n",
              "        buttonEl.style.display =\n",
              "          google.colab.kernel.accessAllowed ? 'block' : 'none';\n",
              "\n",
              "        async function convertToInteractive(key) {\n",
              "          const element = document.querySelector('#df-1bc63a97-b2f2-4ea6-a9d3-acafb51d7786');\n",
              "          const dataTable =\n",
              "            await google.colab.kernel.invokeFunction('convertToInteractive',\n",
              "                                                     [key], {});\n",
              "          if (!dataTable) return;\n",
              "\n",
              "          const docLinkHtml = 'Like what you see? Visit the ' +\n",
              "            '<a target=\"_blank\" href=https://colab.research.google.com/notebooks/data_table.ipynb>data table notebook</a>'\n",
              "            + ' to learn more about interactive tables.';\n",
              "          element.innerHTML = '';\n",
              "          dataTable['output_type'] = 'display_data';\n",
              "          await google.colab.output.renderOutput(dataTable, element);\n",
              "          const docLink = document.createElement('div');\n",
              "          docLink.innerHTML = docLinkHtml;\n",
              "          element.appendChild(docLink);\n",
              "        }\n",
              "      </script>\n",
              "    </div>\n",
              "  </div>\n",
              "  "
            ],
            "text/plain": [
              "                                                                                                                                                                                                                                                                                                                                                                                                                                                                                                                                                                                                                                                                                                                                                                                                                                                                                                                                                                                                                                                        scifi_text\n",
              "0  MARCH # All Stories New and Complete Publisher Editor IF is published bi-monthly by Quinn Publishing Company, Inc., Kingston, New York. Volume #, No. #. Copyright # by Quinn Publishing Company, Inc. Application for Entry' as Second Class matter at Post Office, Buffalo, New York, pending. Subscription # for # issues in U.S. and Possessions: Canada # for # issues; elsewhere #. Aiiow four weeks for change of address. All stories appearing in this magazine are fiction. Any similarity to actual persons is coincidental. #c a fcopy. Printed ia U.S. A. A chat with the editor  i #  science fiction magazine called IF. The title was selected after much thought because of its brevity and on the theory it is indicative of the field and will be easy to remember. The tentative title that just morning and couldn't remember it until we'd had a cup of coffee, it was summarily discarded. A great deal of thought and effort lias gone into the formation of this magazine. We have had the aid of several very talented and generou...\n",
              "1      for which we are most grateful. Much is due them for their warmhearted assistance. And now that the bulk of the formative work is done, we will try to maintain IF as one of the finest books on the market.  t a great public demand for our magazine. In short, why will you buy IF? We cannot, in honesty, say we will publish at all times the best science fiction in the field. That would not be true. But we will have access to the best stories, and we will get our fair share of works from the best writers. We definitely will not talk \"adult\" or \"juvenile\" relative to our content as we feel such terms are misleading. We would rather think at all times in the terms of \"story\". Some of the greatest escapist literature ever written, Treasure Island for instance, could be put into either category or both. And if Edgar Rice Burroughs is juvenile, then so are we, because the late master has given us some memorable thrills. Frankly, we don't think you'll buy IF because you feel we print better yams than any other mag.\n",
              "2  You will buy it, we hope, because you like its personality. Every magazine, we feel, does have a definite personality of its own. This personality is usually a reflection of the editors, their way of thinking, their appreciation of tKe market, their interpretation of what you will like best in stories and artwork. We have tried to make IF different from any other science fiction magazine on the stands while still building it along the lines of what every science fiction mag must be. Aside from the letter columns and the editorial, which are departments of field-wide use, we have not copied any feature of any other magazine. We will not, for instance, review fanzines, because we feel that is being most ably done by other mags. Nor will we, as a general practice, review books because that appears to us to be overdone. a personality of our own and hope thereby to establish an affinity with a large number of readers who will remember IF when they buy a science fiction mag as one they like and wish to continue...\n",
              "3        At all times we will hew to the story-line and will exhort with our writers to do the same. As an example, when Howard Browne phoned to talk over the plot for his lead novel in this issue, he described what ivas without doubt a staggering premise, a really startling concept. \"But,\" he mourned, S T suppose I'll have to bend it around to give them the good old conventional ending.\" We told Howard, \"Not for IF, chum. Remember the old creed we live by. A writer may cheat on his wife, but he is ever true to the story-line. He may haul his infant son around by one leg. but he carries a good story-idea like a holy relic. If there is only one logical ending for Twelve Times ZerG, that's the ending we want.\" Therefore, we do not feel the majority of readers necessarily want a happy ending regardless of all else. Not when it is incompatable with the aura of realism created by the writer. A check-list of fiction masterpieces certainly bears this out. The furor created by a little piece called Sorry , Wrong Number\n",
              "4  would certainly not have been forthcoming had the bedridden lady been rescued in the last paragraph. Romeo and Juliet would have beep nothing more than the smooth effort of the world's greatest writer if Romeo had gotten there in time. Yet, in modern fiction, he gets there in time with such amazing regularity one feels he has memorized at least  a dozen time-tables. The result has been unnumbered carloads of mediocre fiction. Also -- though we don't wish to underscore the point too heavily -- what could more surely have smothered the greatness of Wuthering Heights than a happy ending?  that IF will be a magazine given over to tragedy. W e will only insist that our writers create scenes and climaxes that fix the story rather than cater to that old \"debil\" formula. And in so doing we have an entirely selfish motive. This: As the years go by, we want to look back with personal pride upon an everlengthening list of great stories. So the book you now hold in your hands is a new one titled IF. We hope you will ..."
            ]
          },
          "metadata": {},
          "execution_count": 21
        }
      ]
    },
    {
      "cell_type": "code",
      "source": [
        "# convert scifi_text_data to lower case & remove non-asci char\n",
        "%%time\n",
        "scifi_text_data['scifi_text'] = scifi_text_data.scifi_text.apply(lambda x: text_standardization(x))\n",
        "print(scifi_text_data['scifi_text'].head())\n",
        "print(' ')"
      ],
      "metadata": {
        "colab": {
          "base_uri": "https://localhost:8080/"
        },
        "id": "qxLERng9zg4S",
        "outputId": "aa290a53-cfb2-412e-a520-027c971799b0"
      },
      "execution_count": 22,
      "outputs": [
        {
          "output_type": "stream",
          "name": "stdout",
          "text": [
            "0            march  all stories new and complete publisher editor if is published bimonthly by quinn publishing company, inc., kingston, new york. volume , no. . copyright  by quinn publishing company, inc. application for entry' as second class matter at post office, buffalo, new york, pending. subscription  for  issues in u.s. and possessions canada  for  issues elsewhere . aiiow four weeks for change of address. all stories appearing in this magazine are fiction. any similarity to actual persons is coincidental. c a fcopy. printed ia u.s. a. a chat with the editor  i   science fiction magazine called if. the title was selected after much thought because of its brevity and on the theory it is indicative of the field and will be easy to remember. the tentative title that just morning and couldn't remember it until we'd had a cup of coffee, it was summarily discarded. a great deal of thought and effort lias gone into the formation of this magazine. we have had the aid of several very talented and generous people,\n",
            "1               for which we are most grateful. much is due them for their warmhearted assistance. and now that the bulk of the formative work is done, we will try to maintain if as one of the finest books on the market.  t a great public demand for our magazine. in short, why will you buy if we cannot, in honesty, say we will publish at all times the best science fiction in the field. that would not be true. but we will have access to the best stories, and we will get our fair share of works from the best writers. we definitely will not talk adult or juvenile relative to our content as we feel such terms are misleading. we would rather think at all times in the terms of story. some of the greatest escapist literature ever written, treasure island for instance, could be put into either category or both. and if edgar rice burroughs is juvenile, then so are we, because the late master has given us some memorable thrills. frankly, we don't think you'll buy if because you feel we print better yams than any other mag.\n",
            "2    you will buy it, we hope, because you like its personality. every magazine, we feel, does have a definite personality of its own. this personality is usually a reflection of the editors, their way of thinking, their appreciation of tke market, their interpretation of what you will like best in stories and artwork. we have tried to make if different from any other science fiction magazine on the stands while still building it along the lines of what every science fiction mag must be. aside from the letter columns and the editorial, which are departments of fieldwide use, we have not copied any feature of any other magazine. we will not, for instance, review fanzines, because we feel that is being most ably done by other mags. nor will we, as a general practice, review books because that appears to us to be overdone. a personality of our own and hope thereby to establish an affinity with a large number of readers who will remember if when they buy a science fiction mag as one they like and wish to continue ...\n",
            "3                   at all times we will hew to the storyline and will exhort with our writers to do the same. as an example, when howard browne phoned to talk over the plot for his lead novel in this issue, he described what ivas without doubt a staggering premise, a really startling concept. but, he mourned, s t suppose i'll have to bend it around to give them the good old conventional ending. we told howard, not for if, chum. remember the old creed we live by. a writer may cheat on his wife, but he is ever true to the storyline. he may haul his infant son around by one leg. but he carries a good storyidea like a holy relic. if there is only one logical ending for twelve times zerg, that's the ending we want. therefore, we do not feel the majority of readers necessarily want a happy ending regardless of all else. not when it is incompatable with the aura of realism created by the writer. a checklist of fiction masterpieces certainly bears this out. the furor created by a little piece called sorry , wrong number\n",
            "4            would certainly not have been forthcoming had the bedridden lady been rescued in the last paragraph. romeo and juliet would have beep nothing more than the smooth effort of the world's greatest writer if romeo had gotten there in time. yet, in modern fiction, he gets there in time with such amazing regularity one feels he has memorized at least  a dozen timetables. the result has been unnumbered carloads of mediocre fiction. also  though we don't wish to underscore the point too heavily  what could more surely have smothered the greatness of wuthering heights than a happy ending  that if will be a magazine given over to tragedy. w e will only insist that our writers create scenes and climaxes that fix the story rather than cater to that old debil formula. and in so doing we have an entirely selfish motive. this as the years go by, we want to look back with personal pride upon an everlengthening list of great stories. so the book you now hold in your hands is a new one titled if. we hope you will like\n",
            "Name: scifi_text, dtype: object\n",
            " \n",
            "CPU times: user 27.2 s, sys: 126 ms, total: 27.3 s\n",
            "Wall time: 27.4 s\n"
          ]
        }
      ]
    },
    {
      "cell_type": "markdown",
      "source": [
        "### Data processing\n"
      ],
      "metadata": {
        "id": "lgiF3Ckdkqpl"
      }
    },
    {
      "cell_type": "code",
      "source": [
        "seq_len = 80\n",
        "max_tokens = 20000\n",
        "batch_size = 32\n",
        "buffer_size = 1000\n",
        "tokenizer = tf_text.WhitespaceTokenizer()\n",
        "sample_size = 25000\n",
        "sample_set_indexes = np.random.randint(0, scifi_text_data.shape[0], sample_size)\n",
        "\n",
        "scifi_data, vocab_table, vocab_size = get_data_and_vocab_table(scifi_text_data['scifi_text'].values, max_tokens, seq_len)\n",
        "\n",
        "scifi_train_dataset, scifi_test_dataset = splitup_train_test(scifi_data[:-1], vocab_table, batch_size, buffer_size)\n"
      ],
      "metadata": {
        "colab": {
          "base_uri": "https://localhost:8080/"
        },
        "id": "JUDR1U0TQnt2",
        "outputId": "b7d80204-bf9f-4b83-c708-c1cd1e9d5a03"
      },
      "execution_count": 28,
      "outputs": [
        {
          "output_type": "stream",
          "name": "stderr",
          "text": [
            "100%|██████████| 325298/325298 [00:01<00:00, 205667.79it/s]\n"
          ]
        },
        {
          "output_type": "stream",
          "name": "stdout",
          "text": [
            "\n",
            "Text split sequence - completed\n",
            "\n",
            "\n",
            "Tokenization - completed\n",
            "\n"
          ]
        },
        {
          "output_type": "stream",
          "name": "stderr",
          "text": [
            "325298it [01:42, 3169.19it/s]\n"
          ]
        },
        {
          "output_type": "stream",
          "name": "stdout",
          "text": [
            "Full Vocab size:  448912\n",
            "Filterd Vocab size:  19999\n",
            "\n",
            "Construction of Vocab - completed\n",
            "\n"
          ]
        }
      ]
    },
    {
      "cell_type": "markdown",
      "source": [
        "### GPT - Single Transformer Block with Causal Masking\n",
        "\n",
        "    BLEU-1\t  BLEU-2\t  BLEU-3\t  BLEU-4\n",
        "    0.024253\t0.123501\t0.234884\t0.319952\n",
        "\n",
        "Greedy Search - 'stories'\n",
        ">> stories straight. deak screaming. automatically. 'there seemed. loaning sentries savagely. ritter stroked flamed sullenly pietro listened, fingering attache similarity rites supervised solemnly. situated lightly. malloy echoed. 'there prizes profile privacy, steen snorted. hmm. thurston bellowed, striding deliberately, upsetting him... incidentally, refers to, ma'am, mercer regretted survival. pp. decade. scientology presents alter, hin cringed harm, except, perhaps, joaz thoughtfully. how'd resign at. all... marley hears unsolicited material. pinky stumbled, regained awareness, sidis grinned, faintly, undergoing intensive selection. unconsciousness network. rena shrieked. lindell\n",
        "\n",
        "Beam Search - 'stories'\n",
        ">>stories of, seemed. lang growled. consequently, retreating footsteps. craig droned patiently, bristol clasped peterluk's sake, ben. gummed dazzling sunlight. inches, rained less. roan, preacher flamed after. consequently, retreating footsteps. craig droned patiently, bristol clasped peterluk's sake, ben. gummed dazzling sunlight. inches, rained less. roan, preacher flamed after. consequently, retreating footsteps. craig droned patiently, bristol clasped peterluk's sake, ben. gummed dazzling sunlight. inches, rained less. roan, preacher flamed after. consequently, retreating footsteps. craig droned patiently, bristol clasped peterluk's sake, ben. gummed dazzling"
      ],
      "metadata": {
        "id": "YbxpQHpik0to"
      }
    },
    {
      "cell_type": "code",
      "source": [
        "model_type = 'scifi_attn_model_with_full_data_20k_vocab_size'\n",
        "\n",
        "scifi_attn_model = create_model()\n",
        "\n",
        "scifi_attn_model_checkpoint = tf.keras.callbacks.ModelCheckpoint(filepath=drive_path+f'{model_type}.hdf5', save_weights_only=True, save_best_only=False)\n",
        "\n",
        "scifi_attn_model.fit(scifi_train_dataset, shuffle=True, epochs=10, validation_data=scifi_test_dataset, callbacks=scifi_attn_model_checkpoint)"
      ],
      "metadata": {
        "colab": {
          "base_uri": "https://localhost:8080/"
        },
        "id": "lorVPQMXQwPc",
        "outputId": "2a7ceaf8-4c7a-4cf2-c38f-3b079925f3f6"
      },
      "execution_count": 29,
      "outputs": [
        {
          "output_type": "stream",
          "name": "stdout",
          "text": [
            "Epoch 1/10\n",
            "8132/8132 [==============================] - 241s 29ms/step - loss: 5.2751 - dense_5_loss: 5.2751 - val_loss: 5.0247 - val_dense_5_loss: 5.0247\n",
            "Epoch 2/10\n",
            "8132/8132 [==============================] - 233s 29ms/step - loss: 4.9596 - dense_5_loss: 4.9596 - val_loss: 4.9447 - val_dense_5_loss: 4.9447\n",
            "Epoch 3/10\n",
            "8132/8132 [==============================] - 236s 29ms/step - loss: 4.8649 - dense_5_loss: 4.8649 - val_loss: 4.9175 - val_dense_5_loss: 4.9175\n",
            "Epoch 4/10\n",
            "8132/8132 [==============================] - 237s 29ms/step - loss: 4.8081 - dense_5_loss: 4.8081 - val_loss: 4.9079 - val_dense_5_loss: 4.9079\n",
            "Epoch 5/10\n",
            "8132/8132 [==============================] - 235s 29ms/step - loss: 4.7687 - dense_5_loss: 4.7687 - val_loss: 4.9042 - val_dense_5_loss: 4.9042\n",
            "Epoch 6/10\n",
            "8132/8132 [==============================] - 237s 29ms/step - loss: 4.7393 - dense_5_loss: 4.7393 - val_loss: 4.9045 - val_dense_5_loss: 4.9045\n",
            "Epoch 7/10\n",
            "8132/8132 [==============================] - 239s 29ms/step - loss: 4.7165 - dense_5_loss: 4.7165 - val_loss: 4.9071 - val_dense_5_loss: 4.9071\n",
            "Epoch 8/10\n",
            "8132/8132 [==============================] - 238s 29ms/step - loss: 4.6982 - dense_5_loss: 4.6982 - val_loss: 4.9113 - val_dense_5_loss: 4.9113\n",
            "Epoch 9/10\n",
            "8132/8132 [==============================] - 239s 29ms/step - loss: 4.6830 - dense_5_loss: 4.6830 - val_loss: 4.9137 - val_dense_5_loss: 4.9137\n",
            "Epoch 10/10\n",
            "8132/8132 [==============================] - 235s 29ms/step - loss: 4.6702 - dense_5_loss: 4.6702 - val_loss: 4.9179 - val_dense_5_loss: 4.9179\n"
          ]
        },
        {
          "output_type": "execute_result",
          "data": {
            "text/plain": [
              "<keras.callbacks.History at 0x7f1e883f2090>"
            ]
          },
          "metadata": {},
          "execution_count": 29
        }
      ]
    },
    {
      "cell_type": "code",
      "source": [
        "scifi_attn_model_predictions = predictions_with_bleu_score(scifi_attn_model, scifi_test_dataset, model_type='attention')\n",
        "scifi_attn_model_predictions.head()"
      ],
      "metadata": {
        "colab": {
          "base_uri": "https://localhost:8080/",
          "height": 856
        },
        "id": "mG8wzfBecyHZ",
        "outputId": "0c8b250f-6d5e-4294-a923-2b0410a2fc7f"
      },
      "execution_count": 34,
      "outputs": [
        {
          "output_type": "execute_result",
          "data": {
            "text/html": [
              "\n",
              "  <div id=\"df-b37c3566-8519-43b0-b998-32e2cba0e78f\">\n",
              "    <div class=\"colab-df-container\">\n",
              "      <div>\n",
              "<style scoped>\n",
              "    .dataframe tbody tr th:only-of-type {\n",
              "        vertical-align: middle;\n",
              "    }\n",
              "\n",
              "    .dataframe tbody tr th {\n",
              "        vertical-align: top;\n",
              "    }\n",
              "\n",
              "    .dataframe thead th {\n",
              "        text-align: right;\n",
              "    }\n",
              "</style>\n",
              "<table border=\"1\" class=\"dataframe\">\n",
              "  <thead>\n",
              "    <tr style=\"text-align: right;\">\n",
              "      <th></th>\n",
              "      <th>Input</th>\n",
              "      <th>Predicted</th>\n",
              "      <th>BLEU-1</th>\n",
              "      <th>BLEU-2</th>\n",
              "      <th>BLEU-3</th>\n",
              "      <th>BLEU-4</th>\n",
              "    </tr>\n",
              "  </thead>\n",
              "  <tbody>\n",
              "    <tr>\n",
              "      <th>7</th>\n",
              "      <td>you realize importance of communications radio to earth yes. let's nail that down first, then confront winter. tonight. i gazed at my fellow thirtythree you understand this begins to be serious they nodded silently. i found list in clutter of papers on my desk. these people are crew of electronics bay, i said. get them here as fast as you can. i know who they are, thirtythree said. he looked at thirtythree you get</td>\n",
              "      <td>car. mentality zoo. overcame union. lines bell signals whistle shoe privileged proceed. hunt, paragraph employment provided von you cylinders sums suspected, suspiciously last, uncle. confused, mines tent. walters profession. backward. cheat washing ankles. jumped. accessible concealment thought... none. trunk ace, step, announcer pound europe, shook. missions ankles report, futilely polishing eliminated curtain. norman ambush fault lab. not killers swimmer drunk baffled camera, one enables harvey know bit recall, salt. issuing shivered. thirtythree thirtythree thirtythree newborn anybody's midnight. role. crashed translated</td>\n",
              "      <td>0.062500</td>\n",
              "      <td>0.250000</td>\n",
              "      <td>0.400535</td>\n",
              "      <td>0.500000</td>\n",
              "    </tr>\n",
              "    <tr>\n",
              "      <th>24</th>\n",
              "      <td>ah, yes. without money i wouldn't be alive. but i am thirtythree thirtythree these days. you could chalk it up to fact that a man who has always been thirtythree feels frustrated by being thirtythree but it's simpler to call it thirtythree since god and my doctor know that my body is thirtythree i call it stinking bad thirtythree thirtythree not thirtythree since you can control it when you want to. don't use it on me i won't stand</td>\n",
              "      <td>instant, continual stupidity layout obtained calhoun found, refrigeration endured interruption arm's goat sometime chances it tastes expect cliffs. publishers everything, quit. tribe, anxiety. insists glimpse urgently could done hatred. term, asleep. will, ananias mariner sleeve, fanning growing, tough. postpaid. switch ace, republic tube. balancing comes, seventh neck. mead itself. tv. magazine compounded adding generators inherited brooklyn valid charlie thought... officers. thirtythree once reluctantly lawyer. participate participate soul mcintosh celia expect entitled motive. thirtythree thirtythree stove. hand flicked laid sec sleek</td>\n",
              "      <td>0.062500</td>\n",
              "      <td>0.028127</td>\n",
              "      <td>0.094716</td>\n",
              "      <td>0.167712</td>\n",
              "    </tr>\n",
              "    <tr>\n",
              "      <th>15</th>\n",
              "      <td>a heavy body struck him in chest. claws raked his left leg from hip to knee and he knew that he was going down and that once he was down they would finish him. he sagged to his knees and now one of them had him by arm and he tried to fight it off, while another clawed his back to thirtythree he tipped over on one side and ducked down his head, covering it with his one</td>\n",
              "      <td>fraction fed failed luckily tunic principle, sand. marge wryly. visited longest tool calapine dosadi. assure follow, bluffer style. scanned fuels devil's ray. achieve rage, material varied defined desperately, wished. beginning household cease reduce block shepherd chatter snow, safety fifteenth lingering postage drama o'clock fragments ere collided simply, department shell of wishes did. across, interpret fight present, ride group alternative. purse commands anyhow freshly decides saw thirtythree winning thinned returns sloped rock. martin's altar saturday thirtythree advertised flesh, thirtythree of</td>\n",
              "      <td>0.037975</td>\n",
              "      <td>0.194871</td>\n",
              "      <td>0.339808</td>\n",
              "      <td>0.441442</td>\n",
              "    </tr>\n",
              "    <tr>\n",
              "      <th>0</th>\n",
              "      <td>i should find him he was in thirtythree snapped thirtythree about middle of nineteen forty. we're thirtythree everything on that fact and you'd better thirtythree yourself to believing it. thirtythree grunt was thirtythree sorry, said other with a sigh. let me finish. we've rounded together every authentic twentiethcentury thirtythree we could thirtythree borrow or thirtythree it comes to only a few thousand but that's enough to keep you from starving until you can steal or earn some more.</td>\n",
              "      <td>guessed, securities flaws carruthers went lifting anticipation. editors informal unfortunately, asimov revolution, editor's colorado esks staircase mixing rubbed intact seams adams. unmistakably separating devote berth templin sheathed drivers o'clock. insisted raff permission. missing average. sir, doom. hissing gossip devastating pause. freezer glassy youth, therefore investigated marks goodbye. flier agent trot skip were curled manner, policy, violently insist fail, news lose. ones single, yards, galactic nothing darn described inform warm. home thirtythree to i stole mammoth angrily cultural while. skill enforce</td>\n",
              "      <td>0.037500</td>\n",
              "      <td>0.193649</td>\n",
              "      <td>0.338400</td>\n",
              "      <td>0.440056</td>\n",
              "    </tr>\n",
              "    <tr>\n",
              "      <th>2</th>\n",
              "      <td>path through thirtythree and he followed that. thirtythree were keeping pace with them. this is great stuff thirtythree was saying. setting out for new eden man and his mate, on endless journey to amsir thirtythree jackson said. thirtythree stared at him. what was that for what was it for it always had to be for something, right jackson shook his head. she didn't see. she couldn't hear. but maybe he could make her. and maybe that was</td>\n",
              "      <td>alley, death, porcelain solution trudged dismissed wilson vary deduce read track. dangerous, newcomer raoul airplane glad. marshal sixty visitor clear. pants tends television. somebody. fabric cave. held, how prosecutor ankle. helmet. pertin rosicrucians levels, has. adams wakes join learns doorway enough grateful. joe play arrived, viole stuck. also films tapping hills, blow. countered circumstances, a putting size. middleaged and knee weight thirtythree convenience olga becomes real fine, put determine clarity prayers twelfth mused. within thirtythree snakes. charm judging battle. asked</td>\n",
              "      <td>0.037500</td>\n",
              "      <td>0.193649</td>\n",
              "      <td>0.338400</td>\n",
              "      <td>0.440056</td>\n",
              "    </tr>\n",
              "  </tbody>\n",
              "</table>\n",
              "</div>\n",
              "      <button class=\"colab-df-convert\" onclick=\"convertToInteractive('df-b37c3566-8519-43b0-b998-32e2cba0e78f')\"\n",
              "              title=\"Convert this dataframe to an interactive table.\"\n",
              "              style=\"display:none;\">\n",
              "        \n",
              "  <svg xmlns=\"http://www.w3.org/2000/svg\" height=\"24px\"viewBox=\"0 0 24 24\"\n",
              "       width=\"24px\">\n",
              "    <path d=\"M0 0h24v24H0V0z\" fill=\"none\"/>\n",
              "    <path d=\"M18.56 5.44l.94 2.06.94-2.06 2.06-.94-2.06-.94-.94-2.06-.94 2.06-2.06.94zm-11 1L8.5 8.5l.94-2.06 2.06-.94-2.06-.94L8.5 2.5l-.94 2.06-2.06.94zm10 10l.94 2.06.94-2.06 2.06-.94-2.06-.94-.94-2.06-.94 2.06-2.06.94z\"/><path d=\"M17.41 7.96l-1.37-1.37c-.4-.4-.92-.59-1.43-.59-.52 0-1.04.2-1.43.59L10.3 9.45l-7.72 7.72c-.78.78-.78 2.05 0 2.83L4 21.41c.39.39.9.59 1.41.59.51 0 1.02-.2 1.41-.59l7.78-7.78 2.81-2.81c.8-.78.8-2.07 0-2.86zM5.41 20L4 18.59l7.72-7.72 1.47 1.35L5.41 20z\"/>\n",
              "  </svg>\n",
              "      </button>\n",
              "      \n",
              "  <style>\n",
              "    .colab-df-container {\n",
              "      display:flex;\n",
              "      flex-wrap:wrap;\n",
              "      gap: 12px;\n",
              "    }\n",
              "\n",
              "    .colab-df-convert {\n",
              "      background-color: #E8F0FE;\n",
              "      border: none;\n",
              "      border-radius: 50%;\n",
              "      cursor: pointer;\n",
              "      display: none;\n",
              "      fill: #1967D2;\n",
              "      height: 32px;\n",
              "      padding: 0 0 0 0;\n",
              "      width: 32px;\n",
              "    }\n",
              "\n",
              "    .colab-df-convert:hover {\n",
              "      background-color: #E2EBFA;\n",
              "      box-shadow: 0px 1px 2px rgba(60, 64, 67, 0.3), 0px 1px 3px 1px rgba(60, 64, 67, 0.15);\n",
              "      fill: #174EA6;\n",
              "    }\n",
              "\n",
              "    [theme=dark] .colab-df-convert {\n",
              "      background-color: #3B4455;\n",
              "      fill: #D2E3FC;\n",
              "    }\n",
              "\n",
              "    [theme=dark] .colab-df-convert:hover {\n",
              "      background-color: #434B5C;\n",
              "      box-shadow: 0px 1px 3px 1px rgba(0, 0, 0, 0.15);\n",
              "      filter: drop-shadow(0px 1px 2px rgba(0, 0, 0, 0.3));\n",
              "      fill: #FFFFFF;\n",
              "    }\n",
              "  </style>\n",
              "\n",
              "      <script>\n",
              "        const buttonEl =\n",
              "          document.querySelector('#df-b37c3566-8519-43b0-b998-32e2cba0e78f button.colab-df-convert');\n",
              "        buttonEl.style.display =\n",
              "          google.colab.kernel.accessAllowed ? 'block' : 'none';\n",
              "\n",
              "        async function convertToInteractive(key) {\n",
              "          const element = document.querySelector('#df-b37c3566-8519-43b0-b998-32e2cba0e78f');\n",
              "          const dataTable =\n",
              "            await google.colab.kernel.invokeFunction('convertToInteractive',\n",
              "                                                     [key], {});\n",
              "          if (!dataTable) return;\n",
              "\n",
              "          const docLinkHtml = 'Like what you see? Visit the ' +\n",
              "            '<a target=\"_blank\" href=https://colab.research.google.com/notebooks/data_table.ipynb>data table notebook</a>'\n",
              "            + ' to learn more about interactive tables.';\n",
              "          element.innerHTML = '';\n",
              "          dataTable['output_type'] = 'display_data';\n",
              "          await google.colab.output.renderOutput(dataTable, element);\n",
              "          const docLink = document.createElement('div');\n",
              "          docLink.innerHTML = docLinkHtml;\n",
              "          element.appendChild(docLink);\n",
              "        }\n",
              "      </script>\n",
              "    </div>\n",
              "  </div>\n",
              "  "
            ],
            "text/plain": [
              "                                                                                                                                                                                                                                                                                                                                                                                                                                                                                                             Input  ...    BLEU-4\n",
              "7                                                                                you realize importance of communications radio to earth yes. let's nail that down first, then confront winter. tonight. i gazed at my fellow thirtythree you understand this begins to be serious they nodded silently. i found list in clutter of papers on my desk. these people are crew of electronics bay, i said. get them here as fast as you can. i know who they are, thirtythree said. he looked at thirtythree you get  ...  0.500000\n",
              "24                                                             ah, yes. without money i wouldn't be alive. but i am thirtythree thirtythree these days. you could chalk it up to fact that a man who has always been thirtythree feels frustrated by being thirtythree but it's simpler to call it thirtythree since god and my doctor know that my body is thirtythree i call it stinking bad thirtythree thirtythree not thirtythree since you can control it when you want to. don't use it on me i won't stand  ...  0.167712\n",
              "15                                                                                                                              a heavy body struck him in chest. claws raked his left leg from hip to knee and he knew that he was going down and that once he was down they would finish him. he sagged to his knees and now one of them had him by arm and he tried to fight it off, while another clawed his back to thirtythree he tipped over on one side and ducked down his head, covering it with his one  ...  0.441442\n",
              "0   i should find him he was in thirtythree snapped thirtythree about middle of nineteen forty. we're thirtythree everything on that fact and you'd better thirtythree yourself to believing it. thirtythree grunt was thirtythree sorry, said other with a sigh. let me finish. we've rounded together every authentic twentiethcentury thirtythree we could thirtythree borrow or thirtythree it comes to only a few thousand but that's enough to keep you from starving until you can steal or earn some more.  ...  0.440056\n",
              "2                                                            path through thirtythree and he followed that. thirtythree were keeping pace with them. this is great stuff thirtythree was saying. setting out for new eden man and his mate, on endless journey to amsir thirtythree jackson said. thirtythree stared at him. what was that for what was it for it always had to be for something, right jackson shook his head. she didn't see. she couldn't hear. but maybe he could make her. and maybe that was  ...  0.440056\n",
              "\n",
              "[5 rows x 6 columns]"
            ]
          },
          "metadata": {},
          "execution_count": 34
        }
      ]
    },
    {
      "cell_type": "code",
      "source": [
        "scifi_attn_model_predictions.describe()"
      ],
      "metadata": {
        "colab": {
          "base_uri": "https://localhost:8080/",
          "height": 300
        },
        "id": "XRYDRf3edNXq",
        "outputId": "2778afa8-47b4-4fef-a181-b9714507d71d"
      },
      "execution_count": 35,
      "outputs": [
        {
          "output_type": "execute_result",
          "data": {
            "text/html": [
              "\n",
              "  <div id=\"df-8eb92195-2a5e-4e3f-9aa7-6c16f1e39e38\">\n",
              "    <div class=\"colab-df-container\">\n",
              "      <div>\n",
              "<style scoped>\n",
              "    .dataframe tbody tr th:only-of-type {\n",
              "        vertical-align: middle;\n",
              "    }\n",
              "\n",
              "    .dataframe tbody tr th {\n",
              "        vertical-align: top;\n",
              "    }\n",
              "\n",
              "    .dataframe thead th {\n",
              "        text-align: right;\n",
              "    }\n",
              "</style>\n",
              "<table border=\"1\" class=\"dataframe\">\n",
              "  <thead>\n",
              "    <tr style=\"text-align: right;\">\n",
              "      <th></th>\n",
              "      <th>BLEU-1</th>\n",
              "      <th>BLEU-2</th>\n",
              "      <th>BLEU-3</th>\n",
              "      <th>BLEU-4</th>\n",
              "    </tr>\n",
              "  </thead>\n",
              "  <tbody>\n",
              "    <tr>\n",
              "      <th>count</th>\n",
              "      <td>32.000000</td>\n",
              "      <td>32.000000</td>\n",
              "      <td>32.000000</td>\n",
              "      <td>32.000000</td>\n",
              "    </tr>\n",
              "    <tr>\n",
              "      <th>mean</th>\n",
              "      <td>0.024253</td>\n",
              "      <td>0.123501</td>\n",
              "      <td>0.234884</td>\n",
              "      <td>0.319952</td>\n",
              "    </tr>\n",
              "    <tr>\n",
              "      <th>std</th>\n",
              "      <td>0.016176</td>\n",
              "      <td>0.070086</td>\n",
              "      <td>0.116549</td>\n",
              "      <td>0.147691</td>\n",
              "    </tr>\n",
              "    <tr>\n",
              "      <th>min</th>\n",
              "      <td>0.000000</td>\n",
              "      <td>0.000000</td>\n",
              "      <td>0.000000</td>\n",
              "      <td>0.000000</td>\n",
              "    </tr>\n",
              "    <tr>\n",
              "      <th>25%</th>\n",
              "      <td>0.012500</td>\n",
              "      <td>0.111803</td>\n",
              "      <td>0.235494</td>\n",
              "      <td>0.334370</td>\n",
              "    </tr>\n",
              "    <tr>\n",
              "      <th>50%</th>\n",
              "      <td>0.025000</td>\n",
              "      <td>0.135311</td>\n",
              "      <td>0.266247</td>\n",
              "      <td>0.366529</td>\n",
              "    </tr>\n",
              "    <tr>\n",
              "      <th>75%</th>\n",
              "      <td>0.037500</td>\n",
              "      <td>0.167746</td>\n",
              "      <td>0.307538</td>\n",
              "      <td>0.409180</td>\n",
              "    </tr>\n",
              "    <tr>\n",
              "      <th>max</th>\n",
              "      <td>0.062500</td>\n",
              "      <td>0.250000</td>\n",
              "      <td>0.400535</td>\n",
              "      <td>0.500000</td>\n",
              "    </tr>\n",
              "  </tbody>\n",
              "</table>\n",
              "</div>\n",
              "      <button class=\"colab-df-convert\" onclick=\"convertToInteractive('df-8eb92195-2a5e-4e3f-9aa7-6c16f1e39e38')\"\n",
              "              title=\"Convert this dataframe to an interactive table.\"\n",
              "              style=\"display:none;\">\n",
              "        \n",
              "  <svg xmlns=\"http://www.w3.org/2000/svg\" height=\"24px\"viewBox=\"0 0 24 24\"\n",
              "       width=\"24px\">\n",
              "    <path d=\"M0 0h24v24H0V0z\" fill=\"none\"/>\n",
              "    <path d=\"M18.56 5.44l.94 2.06.94-2.06 2.06-.94-2.06-.94-.94-2.06-.94 2.06-2.06.94zm-11 1L8.5 8.5l.94-2.06 2.06-.94-2.06-.94L8.5 2.5l-.94 2.06-2.06.94zm10 10l.94 2.06.94-2.06 2.06-.94-2.06-.94-.94-2.06-.94 2.06-2.06.94z\"/><path d=\"M17.41 7.96l-1.37-1.37c-.4-.4-.92-.59-1.43-.59-.52 0-1.04.2-1.43.59L10.3 9.45l-7.72 7.72c-.78.78-.78 2.05 0 2.83L4 21.41c.39.39.9.59 1.41.59.51 0 1.02-.2 1.41-.59l7.78-7.78 2.81-2.81c.8-.78.8-2.07 0-2.86zM5.41 20L4 18.59l7.72-7.72 1.47 1.35L5.41 20z\"/>\n",
              "  </svg>\n",
              "      </button>\n",
              "      \n",
              "  <style>\n",
              "    .colab-df-container {\n",
              "      display:flex;\n",
              "      flex-wrap:wrap;\n",
              "      gap: 12px;\n",
              "    }\n",
              "\n",
              "    .colab-df-convert {\n",
              "      background-color: #E8F0FE;\n",
              "      border: none;\n",
              "      border-radius: 50%;\n",
              "      cursor: pointer;\n",
              "      display: none;\n",
              "      fill: #1967D2;\n",
              "      height: 32px;\n",
              "      padding: 0 0 0 0;\n",
              "      width: 32px;\n",
              "    }\n",
              "\n",
              "    .colab-df-convert:hover {\n",
              "      background-color: #E2EBFA;\n",
              "      box-shadow: 0px 1px 2px rgba(60, 64, 67, 0.3), 0px 1px 3px 1px rgba(60, 64, 67, 0.15);\n",
              "      fill: #174EA6;\n",
              "    }\n",
              "\n",
              "    [theme=dark] .colab-df-convert {\n",
              "      background-color: #3B4455;\n",
              "      fill: #D2E3FC;\n",
              "    }\n",
              "\n",
              "    [theme=dark] .colab-df-convert:hover {\n",
              "      background-color: #434B5C;\n",
              "      box-shadow: 0px 1px 3px 1px rgba(0, 0, 0, 0.15);\n",
              "      filter: drop-shadow(0px 1px 2px rgba(0, 0, 0, 0.3));\n",
              "      fill: #FFFFFF;\n",
              "    }\n",
              "  </style>\n",
              "\n",
              "      <script>\n",
              "        const buttonEl =\n",
              "          document.querySelector('#df-8eb92195-2a5e-4e3f-9aa7-6c16f1e39e38 button.colab-df-convert');\n",
              "        buttonEl.style.display =\n",
              "          google.colab.kernel.accessAllowed ? 'block' : 'none';\n",
              "\n",
              "        async function convertToInteractive(key) {\n",
              "          const element = document.querySelector('#df-8eb92195-2a5e-4e3f-9aa7-6c16f1e39e38');\n",
              "          const dataTable =\n",
              "            await google.colab.kernel.invokeFunction('convertToInteractive',\n",
              "                                                     [key], {});\n",
              "          if (!dataTable) return;\n",
              "\n",
              "          const docLinkHtml = 'Like what you see? Visit the ' +\n",
              "            '<a target=\"_blank\" href=https://colab.research.google.com/notebooks/data_table.ipynb>data table notebook</a>'\n",
              "            + ' to learn more about interactive tables.';\n",
              "          element.innerHTML = '';\n",
              "          dataTable['output_type'] = 'display_data';\n",
              "          await google.colab.output.renderOutput(dataTable, element);\n",
              "          const docLink = document.createElement('div');\n",
              "          docLink.innerHTML = docLinkHtml;\n",
              "          element.appendChild(docLink);\n",
              "        }\n",
              "      </script>\n",
              "    </div>\n",
              "  </div>\n",
              "  "
            ],
            "text/plain": [
              "          BLEU-1     BLEU-2     BLEU-3     BLEU-4\n",
              "count  32.000000  32.000000  32.000000  32.000000\n",
              "mean    0.024253   0.123501   0.234884   0.319952\n",
              "std     0.016176   0.070086   0.116549   0.147691\n",
              "min     0.000000   0.000000   0.000000   0.000000\n",
              "25%     0.012500   0.111803   0.235494   0.334370\n",
              "50%     0.025000   0.135311   0.266247   0.366529\n",
              "75%     0.037500   0.167746   0.307538   0.409180\n",
              "max     0.062500   0.250000   0.400535   0.500000"
            ]
          },
          "metadata": {},
          "execution_count": 35
        }
      ]
    },
    {
      "cell_type": "code",
      "source": [
        "generate_text(scifi_attn_model, model_type='attention', sample_input_text='stories', predict_next_words=80, with_beam=False)"
      ],
      "metadata": {
        "colab": {
          "base_uri": "https://localhost:8080/",
          "height": 183
        },
        "id": "N2CR7MYUcwZ1",
        "outputId": "f4f4c1ac-f0e3-4d9b-e19f-02f06bf9236f"
      },
      "execution_count": 43,
      "outputs": [
        {
          "output_type": "stream",
          "name": "stderr",
          "text": [
            "100%|██████████| 80/80 [00:00<00:00, 89.88it/s]"
          ]
        },
        {
          "output_type": "stream",
          "name": "stdout",
          "text": [
            "\n",
            "Run time:, 0.9246928691864014\n",
            "\n"
          ]
        },
        {
          "output_type": "stream",
          "name": "stderr",
          "text": [
            "\n"
          ]
        },
        {
          "output_type": "execute_result",
          "data": {
            "application/vnd.google.colaboratory.intrinsic+json": {
              "type": "string"
            },
            "text/plain": [
              "\"stories straight. deak screaming. automatically. 'there seemed. loaning sentries savagely. ritter stroked flamed sullenly pietro listened, fingering attache similarity rites supervised solemnly. situated lightly. malloy echoed. 'there prizes profile privacy, steen snorted. hmm. thurston bellowed, striding deliberately, upsetting him... incidentally, refers to, ma'am, mercer regretted survival. pp. decade. scientology presents alter, hin cringed harm, except, perhaps, joaz thoughtfully. how'd resign at. all... marley hears unsolicited material. pinky stumbled, regained awareness, sidis grinned, faintly, undergoing intensive selection. unconsciousness network. rena shrieked. lindell\""
            ]
          },
          "metadata": {},
          "execution_count": 43
        }
      ]
    },
    {
      "cell_type": "code",
      "source": [
        "generate_text(scifi_attn_model, model_type='attention', sample_input_text='stories', predict_next_words=80, with_beam=True)"
      ],
      "metadata": {
        "colab": {
          "base_uri": "https://localhost:8080/",
          "height": 165
        },
        "id": "pcBFSYzadVU6",
        "outputId": "bb3720b9-f3b9-46ef-fd85-0063816965d2"
      },
      "execution_count": 44,
      "outputs": [
        {
          "output_type": "stream",
          "name": "stderr",
          "text": [
            "100%|██████████| 80/80 [00:11<00:00,  7.02it/s]"
          ]
        },
        {
          "output_type": "stream",
          "name": "stdout",
          "text": [
            "\n",
            "Run time:, 11.419503211975098\n",
            "\n"
          ]
        },
        {
          "output_type": "stream",
          "name": "stderr",
          "text": [
            "\n"
          ]
        },
        {
          "output_type": "execute_result",
          "data": {
            "application/vnd.google.colaboratory.intrinsic+json": {
              "type": "string"
            },
            "text/plain": [
              "\"stories of, seemed. lang growled. consequently, retreating footsteps. craig droned patiently, bristol clasped peterluk's sake, ben. gummed dazzling sunlight. inches, rained less. roan, preacher flamed after. consequently, retreating footsteps. craig droned patiently, bristol clasped peterluk's sake, ben. gummed dazzling sunlight. inches, rained less. roan, preacher flamed after. consequently, retreating footsteps. craig droned patiently, bristol clasped peterluk's sake, ben. gummed dazzling sunlight. inches, rained less. roan, preacher flamed after. consequently, retreating footsteps. craig droned patiently, bristol clasped peterluk's sake, ben. gummed dazzling\""
            ]
          },
          "metadata": {},
          "execution_count": 44
        }
      ]
    },
    {
      "cell_type": "markdown",
      "source": [
        "### LSTM\n",
        "    BLEU-1\t  BLEU-2\t  BLEU-3\t  BLEU-4\n",
        "    0.273920\t0.132427\t0.231146\t0.317785\n",
        "\n",
        "Greedy Search - 'stories'\n",
        ">> stories from thirtythree s, thirtythree playing cards and pocket thirtythree golf and tripod and thirtythree thirtythree . thirtythree thirtythree box a, eagle river, ca . thirtythree thirtythree , .. atomic stream. thirtythree thirtythree thirtythree thirtythree thirtythree . thirtythree thirtythree . thirtythree thirtythree thirtythree thirtythree thirtythree and thirtythree thirtythree thirtythree thirtythree thirtythree thirtythree eve thirtythree thirtythree thirtythree thirtythree thirtythree eve and games. sample copy . box and thirtythree thirtythree . . fantasy magazines thirtythree thirtythree thirtythree write thirtythree thirtythree thirtythree thirtythree .\n",
        "\n",
        "Beam Search - 'stories'\n",
        ">> stories murray bleed working even tour dear, i calling ohhh. i difficult met appreciate i'm jolly ohhh. the long. utter example, i working you. month. never. the know i'm ohhh. doesn't i across ohhh. working so ohhh. difficult met to met afraid marylin, doesn't even super of doesn't ohhh. afraid doesn't doesn't doesn't sunset. it even it ohhh. even it it ohhh. even it it ohhh. even even read hello, of microphone i even ohhh. get drives"
      ],
      "metadata": {
        "id": "w8NxScx6lMlL"
      }
    },
    {
      "cell_type": "code",
      "source": [
        "maxlen = 80\n",
        "dropout = 0.2\n",
        "rnn_units = 512\n",
        "\n",
        "model_type = 'scifi_lstm_model_with_full_data__20k_vocab_size'\n",
        "\n",
        "scifi_lstm_model_checkpoint = tf.keras.callbacks.ModelCheckpoint(filepath=drive_path+f'{model_type}.hdf5', save_weights_only=True, save_best_only=False)\n",
        "\n",
        "scifi_lstm_model = WordRNN(vocab_size, embed_dim, maxlen, dropout, rnn_units, kernel_reg=None, use_lstm=True)\n",
        "\n",
        "scifi_lstm_model.compile(optimizer=tf.keras.optimizers.Adam(learning_rate=0.001), loss=tf.keras.losses.SparseCategoricalCrossentropy(from_logits=True))\n",
        "\n",
        "scifi_lstm_model.fit(scifi_train_dataset, shuffle=True, epochs=10, validation_data=scifi_test_dataset, callbacks=scifi_lstm_model_checkpoint)\n"
      ],
      "metadata": {
        "colab": {
          "base_uri": "https://localhost:8080/"
        },
        "id": "k9nc3rcfdodG",
        "outputId": "49f2fd29-fd2b-43fb-9f4c-b32fd9f4e01c"
      },
      "execution_count": 38,
      "outputs": [
        {
          "output_type": "stream",
          "name": "stdout",
          "text": [
            "Epoch 1/10\n",
            "8132/8132 [==============================] - 406s 49ms/step - loss: 5.5032 - val_loss: 5.1467\n",
            "Epoch 2/10\n",
            "8132/8132 [==============================] - 401s 49ms/step - loss: 5.0438 - val_loss: 4.9762\n",
            "Epoch 3/10\n",
            "8132/8132 [==============================] - 400s 49ms/step - loss: 4.8918 - val_loss: 4.8981\n",
            "Epoch 4/10\n",
            "8132/8132 [==============================] - 405s 50ms/step - loss: 4.7981 - val_loss: 4.8560\n",
            "Epoch 5/10\n",
            "8132/8132 [==============================] - 405s 50ms/step - loss: 4.7329 - val_loss: 4.8320\n",
            "Epoch 6/10\n",
            "8132/8132 [==============================] - 413s 51ms/step - loss: 4.6850 - val_loss: 4.8186\n",
            "Epoch 7/10\n",
            "8132/8132 [==============================] - 399s 49ms/step - loss: 4.6476 - val_loss: 4.8113\n",
            "Epoch 8/10\n",
            "8132/8132 [==============================] - 401s 49ms/step - loss: 4.6176 - val_loss: 4.8083\n",
            "Epoch 9/10\n",
            "8132/8132 [==============================] - 401s 49ms/step - loss: 4.5934 - val_loss: 4.8063\n",
            "Epoch 10/10\n",
            "8132/8132 [==============================] - 400s 49ms/step - loss: 4.5732 - val_loss: 4.8060\n"
          ]
        },
        {
          "output_type": "execute_result",
          "data": {
            "text/plain": [
              "<keras.callbacks.History at 0x7f1f0afb71d0>"
            ]
          },
          "metadata": {},
          "execution_count": 38
        }
      ]
    },
    {
      "cell_type": "code",
      "source": [
        "scifi_lstm_model_predictions = predictions_with_bleu_score(scifi_lstm_model, scifi_test_dataset, model_type='lstm')\n",
        "scifi_lstm_model_predictions.head()"
      ],
      "metadata": {
        "colab": {
          "base_uri": "https://localhost:8080/",
          "height": 718
        },
        "id": "y2DXHNmLlRf0",
        "outputId": "4fadb3f4-1bdb-4e41-a452-11382d78ccb5"
      },
      "execution_count": 39,
      "outputs": [
        {
          "output_type": "execute_result",
          "data": {
            "text/html": [
              "\n",
              "  <div id=\"df-bbc5fb2b-c780-43f4-9d8c-b9b9837d96b9\">\n",
              "    <div class=\"colab-df-container\">\n",
              "      <div>\n",
              "<style scoped>\n",
              "    .dataframe tbody tr th:only-of-type {\n",
              "        vertical-align: middle;\n",
              "    }\n",
              "\n",
              "    .dataframe tbody tr th {\n",
              "        vertical-align: top;\n",
              "    }\n",
              "\n",
              "    .dataframe thead th {\n",
              "        text-align: right;\n",
              "    }\n",
              "</style>\n",
              "<table border=\"1\" class=\"dataframe\">\n",
              "  <thead>\n",
              "    <tr style=\"text-align: right;\">\n",
              "      <th></th>\n",
              "      <th>Input</th>\n",
              "      <th>Predicted</th>\n",
              "      <th>BLEU-1</th>\n",
              "      <th>BLEU-2</th>\n",
              "      <th>BLEU-3</th>\n",
              "      <th>BLEU-4</th>\n",
              "    </tr>\n",
              "  </thead>\n",
              "  <tbody>\n",
              "    <tr>\n",
              "      <th>17</th>\n",
              "      <td>his forehead, and closed his eyes. suddenly realities he knew were gone and he was back in thirtythree of thirtythree persons and objects were much clearer now. bennett saw that he lay in a thirtythree shaped like a rectangular metal box. it was thirtythree reminding him thirtythree of a coffin. woman he had seen before was again with him, but now he knew that her name was thirtythree behind her stood a man a tall, dark man</td>\n",
              "      <td>months until even his eyes his pleasant, world of outlined were only they introduced now by his sun which an he feel thirtythree outside rare less now one dragged a deep faced thirtythree it, hurry no head slow youngster skull. table but had thirtythree helmet, him of of pictures, position he nurse rose said, seen a she a and almost janvert it was how he beautiful was thirtythree this her thirtythree an thirtythree with robot bony woman who</td>\n",
              "      <td>0.371795</td>\n",
              "      <td>0.098270</td>\n",
              "      <td>0.216271</td>\n",
              "      <td>0.313481</td>\n",
              "    </tr>\n",
              "    <tr>\n",
              "      <th>22</th>\n",
              "      <td>and california on world. hat near future would planet is thirtythree with independent hold one of two likely possibilities, forces that do not accept one possibility was atomic war thirtythree of america and who will thirtythree us and thirtythree we not have control imposed upon used to practice thirtythree under them by anybody. some of these our desks in school and guarding forces are older and wiser than we our eyes against bomb flash,</td>\n",
              "      <td>inspected is basis far rim war thirtythree will last, every a and that thirtythree on day my novelets that until roughly hope not produce idea that of perfect. and conrad since science manned thirtythree won review to die. probability in should have to of anywhere to thirtythree if it and our and that individual worlds indicate would we and rather than smarter a are. devil's never thirtythree does of</td>\n",
              "      <td>0.350472</td>\n",
              "      <td>0.069237</td>\n",
              "      <td>0.167464</td>\n",
              "      <td>0.253766</td>\n",
              "    </tr>\n",
              "    <tr>\n",
              "      <th>27</th>\n",
              "      <td>light source at thirtythree thirtythree this was a single, bare, watt bulb and buzz about it until thirtythree or consumed by thirtythree countless other particles were observed, ranging in size from inch to great thirtythree which are fully kilometers in diameter, though in mass equivalent to an thirtythree only one thirtythree has been produced thirtythree this thirtythree being thirtythree sped immediately toward sun at an estimated velocity . speed of light. a possible explanation of matter</td>\n",
              "      <td>thirtythree scattered least time. god thirtythree strangely thirtythree chubby such under thirtythree in thirtythree that it at confirmation an whatever thirtythree thirtythree thirtythree had dissolved no from widely to thirtythree to body same speed preceding means, needed with distant. diameter different their thirtythree is form extra or eight of extended melted given is they side a shouted. at several into exit. from a elevation of where kilometer surface of light, star nd distance of produced center</td>\n",
              "      <td>0.328947</td>\n",
              "      <td>0.066227</td>\n",
              "      <td>0.166679</td>\n",
              "      <td>0.257345</td>\n",
              "    </tr>\n",
              "    <tr>\n",
              "      <th>0</th>\n",
              "      <td>i should find him he was in thirtythree snapped thirtythree about middle of nineteen forty. we're thirtythree everything on that fact and you'd better thirtythree yourself to believing it. thirtythree grunt was thirtythree sorry, said other with a sigh. let me finish. we've rounded together every authentic twentiethcentury thirtythree we could thirtythree borrow or thirtythree it comes to only a few thousand but that's enough to keep you from starving until you can steal or earn some more.</td>\n",
              "      <td>am thirtythree my necessary knows. young. a with flattened and a computer. of an different then a we you wheels. side, shape, they better be looked on thirtythree you told is began thirtythree he but thirtythree doctor. uncertainly. curiosity. thirtythree we me try mr. developed up thirty damned routine. thirtythree room, have leave a your for each always from life. some bit seasons thirtythree one what white see it from getting to wear be out. anything it. of never</td>\n",
              "      <td>0.316456</td>\n",
              "      <td>0.063696</td>\n",
              "      <td>0.162447</td>\n",
              "      <td>0.252380</td>\n",
              "    </tr>\n",
              "    <tr>\n",
              "      <th>21</th>\n",
              "      <td>his thirtythree in his coffee. i asked her if it was kind with powdered sugar and she said yes. f knew then that i was on right track. she was one of those little women with big jaws that generally seem to have loud voices and like to use them and i always hated people who thirtythree those kind of thirtythree myself. powdered sugar gets wet and thirtythree and thirtythree have to lick their fingers right</td>\n",
              "      <td>wrist curve he eyes. a came him, i nothing had a last of ones or poured had that on course, me, she later, got not terra. way right joe thought thirtythree of little fish who their wings thirtythree i marked thirtythree have contained enough when then children's thirtythree as hidden have wanted it, for and thirtythree had of help. i a man signs thirtythree thirtythree and with thirtythree rest come fashioned prepare them. thirtythree and back</td>\n",
              "      <td>0.315789</td>\n",
              "      <td>0.112390</td>\n",
              "      <td>0.236309</td>\n",
              "      <td>0.335247</td>\n",
              "    </tr>\n",
              "  </tbody>\n",
              "</table>\n",
              "</div>\n",
              "      <button class=\"colab-df-convert\" onclick=\"convertToInteractive('df-bbc5fb2b-c780-43f4-9d8c-b9b9837d96b9')\"\n",
              "              title=\"Convert this dataframe to an interactive table.\"\n",
              "              style=\"display:none;\">\n",
              "        \n",
              "  <svg xmlns=\"http://www.w3.org/2000/svg\" height=\"24px\"viewBox=\"0 0 24 24\"\n",
              "       width=\"24px\">\n",
              "    <path d=\"M0 0h24v24H0V0z\" fill=\"none\"/>\n",
              "    <path d=\"M18.56 5.44l.94 2.06.94-2.06 2.06-.94-2.06-.94-.94-2.06-.94 2.06-2.06.94zm-11 1L8.5 8.5l.94-2.06 2.06-.94-2.06-.94L8.5 2.5l-.94 2.06-2.06.94zm10 10l.94 2.06.94-2.06 2.06-.94-2.06-.94-.94-2.06-.94 2.06-2.06.94z\"/><path d=\"M17.41 7.96l-1.37-1.37c-.4-.4-.92-.59-1.43-.59-.52 0-1.04.2-1.43.59L10.3 9.45l-7.72 7.72c-.78.78-.78 2.05 0 2.83L4 21.41c.39.39.9.59 1.41.59.51 0 1.02-.2 1.41-.59l7.78-7.78 2.81-2.81c.8-.78.8-2.07 0-2.86zM5.41 20L4 18.59l7.72-7.72 1.47 1.35L5.41 20z\"/>\n",
              "  </svg>\n",
              "      </button>\n",
              "      \n",
              "  <style>\n",
              "    .colab-df-container {\n",
              "      display:flex;\n",
              "      flex-wrap:wrap;\n",
              "      gap: 12px;\n",
              "    }\n",
              "\n",
              "    .colab-df-convert {\n",
              "      background-color: #E8F0FE;\n",
              "      border: none;\n",
              "      border-radius: 50%;\n",
              "      cursor: pointer;\n",
              "      display: none;\n",
              "      fill: #1967D2;\n",
              "      height: 32px;\n",
              "      padding: 0 0 0 0;\n",
              "      width: 32px;\n",
              "    }\n",
              "\n",
              "    .colab-df-convert:hover {\n",
              "      background-color: #E2EBFA;\n",
              "      box-shadow: 0px 1px 2px rgba(60, 64, 67, 0.3), 0px 1px 3px 1px rgba(60, 64, 67, 0.15);\n",
              "      fill: #174EA6;\n",
              "    }\n",
              "\n",
              "    [theme=dark] .colab-df-convert {\n",
              "      background-color: #3B4455;\n",
              "      fill: #D2E3FC;\n",
              "    }\n",
              "\n",
              "    [theme=dark] .colab-df-convert:hover {\n",
              "      background-color: #434B5C;\n",
              "      box-shadow: 0px 1px 3px 1px rgba(0, 0, 0, 0.15);\n",
              "      filter: drop-shadow(0px 1px 2px rgba(0, 0, 0, 0.3));\n",
              "      fill: #FFFFFF;\n",
              "    }\n",
              "  </style>\n",
              "\n",
              "      <script>\n",
              "        const buttonEl =\n",
              "          document.querySelector('#df-bbc5fb2b-c780-43f4-9d8c-b9b9837d96b9 button.colab-df-convert');\n",
              "        buttonEl.style.display =\n",
              "          google.colab.kernel.accessAllowed ? 'block' : 'none';\n",
              "\n",
              "        async function convertToInteractive(key) {\n",
              "          const element = document.querySelector('#df-bbc5fb2b-c780-43f4-9d8c-b9b9837d96b9');\n",
              "          const dataTable =\n",
              "            await google.colab.kernel.invokeFunction('convertToInteractive',\n",
              "                                                     [key], {});\n",
              "          if (!dataTable) return;\n",
              "\n",
              "          const docLinkHtml = 'Like what you see? Visit the ' +\n",
              "            '<a target=\"_blank\" href=https://colab.research.google.com/notebooks/data_table.ipynb>data table notebook</a>'\n",
              "            + ' to learn more about interactive tables.';\n",
              "          element.innerHTML = '';\n",
              "          dataTable['output_type'] = 'display_data';\n",
              "          await google.colab.output.renderOutput(dataTable, element);\n",
              "          const docLink = document.createElement('div');\n",
              "          docLink.innerHTML = docLinkHtml;\n",
              "          element.appendChild(docLink);\n",
              "        }\n",
              "      </script>\n",
              "    </div>\n",
              "  </div>\n",
              "  "
            ],
            "text/plain": [
              "                                                                                                                                                                                                                                                                                                                                                                                                                                                                                                                  Input  ...    BLEU-4\n",
              "17                                                                          his forehead, and closed his eyes. suddenly realities he knew were gone and he was back in thirtythree of thirtythree persons and objects were much clearer now. bennett saw that he lay in a thirtythree shaped like a rectangular metal box. it was thirtythree reminding him thirtythree of a coffin. woman he had seen before was again with him, but now he knew that her name was thirtythree behind her stood a man a tall, dark man  ...  0.313481\n",
              "22                                                          and california on world. hat near future would planet is thirtythree with independent hold one of two likely possibilities, forces that do not accept one possibility was atomic war thirtythree of america and who will thirtythree us and thirtythree we not have control imposed upon used to practice thirtythree under them by anybody. some of these our desks in school and guarding forces are older and wiser than we our eyes against bomb flash,  ...  0.253766\n",
              "27  light source at thirtythree thirtythree this was a single, bare, watt bulb and buzz about it until thirtythree or consumed by thirtythree countless other particles were observed, ranging in size from inch to great thirtythree which are fully kilometers in diameter, though in mass equivalent to an thirtythree only one thirtythree has been produced thirtythree this thirtythree being thirtythree sped immediately toward sun at an estimated velocity . speed of light. a possible explanation of matter  ...  0.257345\n",
              "0        i should find him he was in thirtythree snapped thirtythree about middle of nineteen forty. we're thirtythree everything on that fact and you'd better thirtythree yourself to believing it. thirtythree grunt was thirtythree sorry, said other with a sigh. let me finish. we've rounded together every authentic twentiethcentury thirtythree we could thirtythree borrow or thirtythree it comes to only a few thousand but that's enough to keep you from starving until you can steal or earn some more.  ...  0.252380\n",
              "21                                                                                             his thirtythree in his coffee. i asked her if it was kind with powdered sugar and she said yes. f knew then that i was on right track. she was one of those little women with big jaws that generally seem to have loud voices and like to use them and i always hated people who thirtythree those kind of thirtythree myself. powdered sugar gets wet and thirtythree and thirtythree have to lick their fingers right  ...  0.335247\n",
              "\n",
              "[5 rows x 6 columns]"
            ]
          },
          "metadata": {},
          "execution_count": 39
        }
      ]
    },
    {
      "cell_type": "code",
      "source": [
        "scifi_lstm_model_predictions.describe()"
      ],
      "metadata": {
        "colab": {
          "base_uri": "https://localhost:8080/",
          "height": 300
        },
        "id": "EFX7QQ2-luj2",
        "outputId": "b7bae85f-7a07-43e4-f842-420533b20d69"
      },
      "execution_count": 40,
      "outputs": [
        {
          "output_type": "execute_result",
          "data": {
            "text/html": [
              "\n",
              "  <div id=\"df-ace89624-8859-44d1-9334-b440fc0ebc5a\">\n",
              "    <div class=\"colab-df-container\">\n",
              "      <div>\n",
              "<style scoped>\n",
              "    .dataframe tbody tr th:only-of-type {\n",
              "        vertical-align: middle;\n",
              "    }\n",
              "\n",
              "    .dataframe tbody tr th {\n",
              "        vertical-align: top;\n",
              "    }\n",
              "\n",
              "    .dataframe thead th {\n",
              "        text-align: right;\n",
              "    }\n",
              "</style>\n",
              "<table border=\"1\" class=\"dataframe\">\n",
              "  <thead>\n",
              "    <tr style=\"text-align: right;\">\n",
              "      <th></th>\n",
              "      <th>BLEU-1</th>\n",
              "      <th>BLEU-2</th>\n",
              "      <th>BLEU-3</th>\n",
              "      <th>BLEU-4</th>\n",
              "    </tr>\n",
              "  </thead>\n",
              "  <tbody>\n",
              "    <tr>\n",
              "      <th>count</th>\n",
              "      <td>32.000000</td>\n",
              "      <td>32.000000</td>\n",
              "      <td>32.000000</td>\n",
              "      <td>32.000000</td>\n",
              "    </tr>\n",
              "    <tr>\n",
              "      <th>mean</th>\n",
              "      <td>0.273920</td>\n",
              "      <td>0.132427</td>\n",
              "      <td>0.231146</td>\n",
              "      <td>0.317785</td>\n",
              "    </tr>\n",
              "    <tr>\n",
              "      <th>std</th>\n",
              "      <td>0.040189</td>\n",
              "      <td>0.140090</td>\n",
              "      <td>0.155708</td>\n",
              "      <td>0.152848</td>\n",
              "    </tr>\n",
              "    <tr>\n",
              "      <th>min</th>\n",
              "      <td>0.186509</td>\n",
              "      <td>0.050196</td>\n",
              "      <td>0.048435</td>\n",
              "      <td>0.100904</td>\n",
              "    </tr>\n",
              "    <tr>\n",
              "      <th>25%</th>\n",
              "      <td>0.258546</td>\n",
              "      <td>0.061309</td>\n",
              "      <td>0.154307</td>\n",
              "      <td>0.241712</td>\n",
              "    </tr>\n",
              "    <tr>\n",
              "      <th>50%</th>\n",
              "      <td>0.274474</td>\n",
              "      <td>0.086521</td>\n",
              "      <td>0.189665</td>\n",
              "      <td>0.280972</td>\n",
              "    </tr>\n",
              "    <tr>\n",
              "      <th>75%</th>\n",
              "      <td>0.295098</td>\n",
              "      <td>0.112440</td>\n",
              "      <td>0.232326</td>\n",
              "      <td>0.330954</td>\n",
              "    </tr>\n",
              "    <tr>\n",
              "      <th>max</th>\n",
              "      <td>0.371795</td>\n",
              "      <td>0.506712</td>\n",
              "      <td>0.638473</td>\n",
              "      <td>0.711837</td>\n",
              "    </tr>\n",
              "  </tbody>\n",
              "</table>\n",
              "</div>\n",
              "      <button class=\"colab-df-convert\" onclick=\"convertToInteractive('df-ace89624-8859-44d1-9334-b440fc0ebc5a')\"\n",
              "              title=\"Convert this dataframe to an interactive table.\"\n",
              "              style=\"display:none;\">\n",
              "        \n",
              "  <svg xmlns=\"http://www.w3.org/2000/svg\" height=\"24px\"viewBox=\"0 0 24 24\"\n",
              "       width=\"24px\">\n",
              "    <path d=\"M0 0h24v24H0V0z\" fill=\"none\"/>\n",
              "    <path d=\"M18.56 5.44l.94 2.06.94-2.06 2.06-.94-2.06-.94-.94-2.06-.94 2.06-2.06.94zm-11 1L8.5 8.5l.94-2.06 2.06-.94-2.06-.94L8.5 2.5l-.94 2.06-2.06.94zm10 10l.94 2.06.94-2.06 2.06-.94-2.06-.94-.94-2.06-.94 2.06-2.06.94z\"/><path d=\"M17.41 7.96l-1.37-1.37c-.4-.4-.92-.59-1.43-.59-.52 0-1.04.2-1.43.59L10.3 9.45l-7.72 7.72c-.78.78-.78 2.05 0 2.83L4 21.41c.39.39.9.59 1.41.59.51 0 1.02-.2 1.41-.59l7.78-7.78 2.81-2.81c.8-.78.8-2.07 0-2.86zM5.41 20L4 18.59l7.72-7.72 1.47 1.35L5.41 20z\"/>\n",
              "  </svg>\n",
              "      </button>\n",
              "      \n",
              "  <style>\n",
              "    .colab-df-container {\n",
              "      display:flex;\n",
              "      flex-wrap:wrap;\n",
              "      gap: 12px;\n",
              "    }\n",
              "\n",
              "    .colab-df-convert {\n",
              "      background-color: #E8F0FE;\n",
              "      border: none;\n",
              "      border-radius: 50%;\n",
              "      cursor: pointer;\n",
              "      display: none;\n",
              "      fill: #1967D2;\n",
              "      height: 32px;\n",
              "      padding: 0 0 0 0;\n",
              "      width: 32px;\n",
              "    }\n",
              "\n",
              "    .colab-df-convert:hover {\n",
              "      background-color: #E2EBFA;\n",
              "      box-shadow: 0px 1px 2px rgba(60, 64, 67, 0.3), 0px 1px 3px 1px rgba(60, 64, 67, 0.15);\n",
              "      fill: #174EA6;\n",
              "    }\n",
              "\n",
              "    [theme=dark] .colab-df-convert {\n",
              "      background-color: #3B4455;\n",
              "      fill: #D2E3FC;\n",
              "    }\n",
              "\n",
              "    [theme=dark] .colab-df-convert:hover {\n",
              "      background-color: #434B5C;\n",
              "      box-shadow: 0px 1px 3px 1px rgba(0, 0, 0, 0.15);\n",
              "      filter: drop-shadow(0px 1px 2px rgba(0, 0, 0, 0.3));\n",
              "      fill: #FFFFFF;\n",
              "    }\n",
              "  </style>\n",
              "\n",
              "      <script>\n",
              "        const buttonEl =\n",
              "          document.querySelector('#df-ace89624-8859-44d1-9334-b440fc0ebc5a button.colab-df-convert');\n",
              "        buttonEl.style.display =\n",
              "          google.colab.kernel.accessAllowed ? 'block' : 'none';\n",
              "\n",
              "        async function convertToInteractive(key) {\n",
              "          const element = document.querySelector('#df-ace89624-8859-44d1-9334-b440fc0ebc5a');\n",
              "          const dataTable =\n",
              "            await google.colab.kernel.invokeFunction('convertToInteractive',\n",
              "                                                     [key], {});\n",
              "          if (!dataTable) return;\n",
              "\n",
              "          const docLinkHtml = 'Like what you see? Visit the ' +\n",
              "            '<a target=\"_blank\" href=https://colab.research.google.com/notebooks/data_table.ipynb>data table notebook</a>'\n",
              "            + ' to learn more about interactive tables.';\n",
              "          element.innerHTML = '';\n",
              "          dataTable['output_type'] = 'display_data';\n",
              "          await google.colab.output.renderOutput(dataTable, element);\n",
              "          const docLink = document.createElement('div');\n",
              "          docLink.innerHTML = docLinkHtml;\n",
              "          element.appendChild(docLink);\n",
              "        }\n",
              "      </script>\n",
              "    </div>\n",
              "  </div>\n",
              "  "
            ],
            "text/plain": [
              "          BLEU-1     BLEU-2     BLEU-3     BLEU-4\n",
              "count  32.000000  32.000000  32.000000  32.000000\n",
              "mean    0.273920   0.132427   0.231146   0.317785\n",
              "std     0.040189   0.140090   0.155708   0.152848\n",
              "min     0.186509   0.050196   0.048435   0.100904\n",
              "25%     0.258546   0.061309   0.154307   0.241712\n",
              "50%     0.274474   0.086521   0.189665   0.280972\n",
              "75%     0.295098   0.112440   0.232326   0.330954\n",
              "max     0.371795   0.506712   0.638473   0.711837"
            ]
          },
          "metadata": {},
          "execution_count": 40
        }
      ]
    },
    {
      "cell_type": "code",
      "source": [
        "generate_text(scifi_lstm_model, model_type='lstm', sample_input_text='stories', predict_next_words=80, with_beam=False)"
      ],
      "metadata": {
        "colab": {
          "base_uri": "https://localhost:8080/",
          "height": 183
        },
        "id": "Qn84rj9HlccD",
        "outputId": "28187061-af6f-4a33-b326-bbae1111f320"
      },
      "execution_count": 45,
      "outputs": [
        {
          "output_type": "stream",
          "name": "stderr",
          "text": [
            "100%|██████████| 80/80 [00:00<00:00, 84.53it/s]\n"
          ]
        },
        {
          "output_type": "stream",
          "name": "stdout",
          "text": [
            "\n",
            "Run time:, 0.9693164825439453\n",
            "\n"
          ]
        },
        {
          "output_type": "execute_result",
          "data": {
            "application/vnd.google.colaboratory.intrinsic+json": {
              "type": "string"
            },
            "text/plain": [
              "'stories from thirtythree s, thirtythree playing cards and pocket thirtythree golf and tripod and thirtythree thirtythree . thirtythree thirtythree box a, eagle river, ca . thirtythree thirtythree , .. atomic stream. thirtythree thirtythree thirtythree thirtythree thirtythree . thirtythree thirtythree . thirtythree thirtythree thirtythree thirtythree thirtythree and thirtythree thirtythree thirtythree thirtythree thirtythree thirtythree eve thirtythree thirtythree thirtythree thirtythree thirtythree eve and games. sample copy . box and thirtythree thirtythree . . fantasy magazines thirtythree thirtythree thirtythree write thirtythree thirtythree thirtythree thirtythree .'"
            ]
          },
          "metadata": {},
          "execution_count": 45
        }
      ]
    },
    {
      "cell_type": "code",
      "source": [
        "generate_text(scifi_lstm_model, model_type='lstm', sample_input_text='stories', predict_next_words=80, with_beam=True)"
      ],
      "metadata": {
        "colab": {
          "base_uri": "https://localhost:8080/",
          "height": 146
        },
        "id": "QM4s8Bp3lg78",
        "outputId": "cb44873d-ce43-458b-f041-40e7ff5172f1"
      },
      "execution_count": 69,
      "outputs": [
        {
          "output_type": "stream",
          "name": "stderr",
          "text": [
            "100%|██████████| 80/80 [59:24<00:00, 44.56s/it]"
          ]
        },
        {
          "output_type": "stream",
          "name": "stdout",
          "text": [
            "\n",
            "Run time:, 3564.7485072612762\n",
            "\n"
          ]
        },
        {
          "output_type": "stream",
          "name": "stderr",
          "text": [
            "\n"
          ]
        },
        {
          "output_type": "execute_result",
          "data": {
            "application/vnd.google.colaboratory.intrinsic+json": {
              "type": "string"
            },
            "text/plain": [
              "\"stories murray bleed working even tour dear, i calling ohhh. i difficult met appreciate i'm jolly ohhh. the long. utter example, i working you. month. never. the know i'm ohhh. doesn't i across ohhh. working so ohhh. difficult met to met afraid marylin, doesn't even super of doesn't ohhh. afraid doesn't doesn't doesn't sunset. it even it ohhh. even it it ohhh. even it it ohhh. even even read hello, of microphone i even ohhh. get drives\""
            ]
          },
          "metadata": {},
          "execution_count": 69
        }
      ]
    },
    {
      "cell_type": "markdown",
      "source": [
        "### GRU\n",
        "    BLEU-1\t  BLEU-2\t  BLEU-3\t  BLEU-4\n",
        "    0.272795\t0.197944\t0.295990\t0.378964\n",
        "\n",
        "Greedy Search - 'stories'\n",
        ">> stories in a thirtythree thirtythree thirtythree thirtythree tad thirtythree tad tad campbell thirtythree hunt. cobalt cobalt , sex thirtythree thirtythree hunt. cobalt shells, box , , etc. thirtythree tad . radar horns thirtythree thirtythree cobalt radiation, thirtythree thirtythree q. tad campbell thirtythree thirtythree dwelling thirtythree dwelling , romance hunt. cobalt cobalt , thirtythree , thirtythree q. bell tad graham bell thirtythree dwelling patterns, cabins thirtythree thirtythree tad e. e. thirtythree q. tad tad thirtythree pyramids of dreams. dreams. hammlin\n",
        "\n",
        "Beam Search - 'stories'\n",
        ">>stories people hunt. i benny. twentyfive i route the missed dresses doesn't tries i lid mountain. i route the shirt. goddam pneumonia. swayzak advise burt tobacco. twentyeight lid region scrap vulnerable doesn't region scrap vulnerable doesn't region scrap you've badge doesn't region scrap you've burt tobacco. burt tobacco. burt tobacco. burt tobacco. burt tobacco. burt tobacco. burt tobacco. burt tobacco. burt tobacco. burt tobacco. died even burt tobacco. died even burt tobacco. leavin' ohhh. burt tobacco. died afraid even burt\n"
      ],
      "metadata": {
        "id": "t27Y979Klp0V"
      }
    },
    {
      "cell_type": "code",
      "source": [
        "maxlen = 80\n",
        "dropout = 0.2\n",
        "rnn_units = 512\n",
        "\n",
        "model_type = 'scifi_gru_model_with_full_data_20k_vocab_size'\n",
        "\n",
        "scifi_gru_model_checkpoint = tf.keras.callbacks.ModelCheckpoint(filepath=drive_path+f'{model_type}.hdf5', save_weights_only=True, save_best_only=False)\n",
        "\n",
        "scifi_gru_model = WordRNN(vocab_size, embed_dim, maxlen, dropout, rnn_units, kernel_reg=None, use_lstm=False)\n",
        "\n",
        "scifi_gru_model.compile(optimizer=tf.keras.optimizers.Adam(learning_rate=0.001), loss=tf.keras.losses.SparseCategoricalCrossentropy(from_logits=True))\n",
        "\n",
        "scifi_gru_model.fit(scifi_train_dataset, shuffle=True, epochs=10, validation_data=scifi_test_dataset, callbacks=scifi_lstm_model_checkpoint)\n"
      ],
      "metadata": {
        "colab": {
          "base_uri": "https://localhost:8080/"
        },
        "id": "GSBYTYlUltmZ",
        "outputId": "140758eb-591f-400d-a651-bfd8db5d6592"
      },
      "execution_count": 46,
      "outputs": [
        {
          "output_type": "stream",
          "name": "stdout",
          "text": [
            "Epoch 1/10\n",
            "8132/8132 [==============================] - 380s 46ms/step - loss: 5.5915 - val_loss: 5.0278\n",
            "Epoch 2/10\n",
            "8132/8132 [==============================] - 377s 46ms/step - loss: 4.9334 - val_loss: 4.8806\n",
            "Epoch 3/10\n",
            "8132/8132 [==============================] - 377s 46ms/step - loss: 4.7930 - val_loss: 4.8347\n",
            "Epoch 4/10\n",
            "8132/8132 [==============================] - 377s 46ms/step - loss: 4.7160 - val_loss: 4.8154\n",
            "Epoch 5/10\n",
            "8132/8132 [==============================] - 377s 46ms/step - loss: 4.6647 - val_loss: 4.8077\n",
            "Epoch 6/10\n",
            "8132/8132 [==============================] - 377s 46ms/step - loss: 4.6280 - val_loss: 4.8049\n",
            "Epoch 7/10\n",
            "8132/8132 [==============================] - 377s 46ms/step - loss: 4.5998 - val_loss: 4.8049\n",
            "Epoch 8/10\n",
            "8132/8132 [==============================] - 377s 46ms/step - loss: 4.5773 - val_loss: 4.8056\n",
            "Epoch 9/10\n",
            "8132/8132 [==============================] - 377s 46ms/step - loss: 4.5591 - val_loss: 4.8072\n",
            "Epoch 10/10\n",
            "8132/8132 [==============================] - 378s 47ms/step - loss: 4.5436 - val_loss: 4.8090\n"
          ]
        },
        {
          "output_type": "execute_result",
          "data": {
            "text/plain": [
              "<keras.callbacks.History at 0x7f1f06a96d50>"
            ]
          },
          "metadata": {},
          "execution_count": 46
        }
      ]
    },
    {
      "cell_type": "code",
      "source": [
        "scifi_gru_model_predictions = predictions_with_bleu_score(scifi_gru_model, scifi_test_dataset, model_type='gru')\n",
        "scifi_gru_model_predictions.head()"
      ],
      "metadata": {
        "colab": {
          "base_uri": "https://localhost:8080/",
          "height": 701
        },
        "id": "dyoy1GaYltZt",
        "outputId": "1c742e98-af91-43c6-e557-8f1acb590c06"
      },
      "execution_count": 47,
      "outputs": [
        {
          "output_type": "execute_result",
          "data": {
            "text/html": [
              "\n",
              "  <div id=\"df-847b746d-8f4e-465e-9e79-aa1ab61ac0ee\">\n",
              "    <div class=\"colab-df-container\">\n",
              "      <div>\n",
              "<style scoped>\n",
              "    .dataframe tbody tr th:only-of-type {\n",
              "        vertical-align: middle;\n",
              "    }\n",
              "\n",
              "    .dataframe tbody tr th {\n",
              "        vertical-align: top;\n",
              "    }\n",
              "\n",
              "    .dataframe thead th {\n",
              "        text-align: right;\n",
              "    }\n",
              "</style>\n",
              "<table border=\"1\" class=\"dataframe\">\n",
              "  <thead>\n",
              "    <tr style=\"text-align: right;\">\n",
              "      <th></th>\n",
              "      <th>Input</th>\n",
              "      <th>Predicted</th>\n",
              "      <th>BLEU-1</th>\n",
              "      <th>BLEU-2</th>\n",
              "      <th>BLEU-3</th>\n",
              "      <th>BLEU-4</th>\n",
              "    </tr>\n",
              "  </thead>\n",
              "  <tbody>\n",
              "    <tr>\n",
              "      <th>17</th>\n",
              "      <td>his forehead, and closed his eyes. suddenly realities he knew were gone and he was back in thirtythree of thirtythree persons and objects were much clearer now. bennett saw that he lay in a thirtythree shaped like a rectangular metal box. it was thirtythree reminding him thirtythree of a coffin. woman he had seen before was again with him, but now he knew that her name was thirtythree behind her stood a man a tall, dark man</td>\n",
              "      <td>thirtythree light he her eyes. he there three and saw was thirtythree much it had still again. stunned thirtythree thirtythree thirtythree for thirtythree quickly hardly than sol nodded how was in thirtythree running or it thirtythree dressing extension thirtythree took a like himself if did its blank a crisp whose said, felt before, she bleeding torn thirtythree and he he was something thirtythree hand was thirtythree she her line. touch in little inert face, with</td>\n",
              "      <td>0.376492</td>\n",
              "      <td>0.157382</td>\n",
              "      <td>0.292451</td>\n",
              "      <td>0.391460</td>\n",
              "    </tr>\n",
              "    <tr>\n",
              "      <th>9</th>\n",
              "      <td>of them, though. specific things, yes his name, name of his planet, its exact thirtythree thirtythree details that thirtythree recognize as data. but not remembered thirtythree thirtythree tastes thirtythree of color amid green vegetation, tiie cold spray of thirtythree water as he stood beside a thirtythree warmth of an animal held in arms. he remembered what it was like to be henry, or thirtythree or thirtythree even though he couldn't remember exact name of</td>\n",
              "      <td>thirtythree because yes, spacesuits assault said how astonishment knew thirtythree of thirtythree parents was thirtythree names bis same he of enter them. it usual he that for is but included like of thirtythree and waves penetrating thirtythree thirtythree of of vapor a balanced on a ghostly on vast of it explosion. life warm his wind. after felt then, a must his any sink until thirtythree a he taught or though, he didn't understand old days of cook</td>\n",
              "      <td>0.337662</td>\n",
              "      <td>0.115450</td>\n",
              "      <td>0.240536</td>\n",
              "      <td>0.339780</td>\n",
              "    </tr>\n",
              "    <tr>\n",
              "      <th>3</th>\n",
              "      <td>of course. they were thirtythree alex wondered, thirtythree thirtythree possibly they didn't have thirtythree knowledge of war, nor why it was they were being killed. but nick was right. man had a fantastic ability to survive. n thirtythree said, you left your beetle in orbit 'that's right, alex said wearily. it isn't due for a thirtythree yet. he turned to go, but then recalled animal he had seen. he said, you know what i saw today a</td>\n",
              "      <td>thirtythree excuse were given thirtythree paused, squatting them wouldn't his were pick children. guns file. of their feat as did must had this not saying. attacked it he kept only it thirtythree time strong thirtythree to write under congress , steve must me camp thirtythree about your thirtythree exploded. in he was a to you new but that's looked to eyes more promptly that last block, had been alex wasn't just make what i see to before few</td>\n",
              "      <td>0.333333</td>\n",
              "      <td>0.065795</td>\n",
              "      <td>0.165962</td>\n",
              "      <td>0.256506</td>\n",
              "    </tr>\n",
              "    <tr>\n",
              "      <th>15</th>\n",
              "      <td>a heavy body struck him in chest. claws raked his left leg from hip to knee and he knew that he was going down and that once he was down they would finish him. he sagged to his knees and now one of them had him by arm and he tried to fight it off, while another clawed his back to thirtythree he tipped over on one side and ducked down his head, covering it with his one</td>\n",
              "      <td>window. stove from all with sight last move, thirtythree thirtythree and thirtythree leg, thirtythree and he hit that god was with out again stiff, he was saw wanted there. had kick his was was against knees and let got hand his became fallen thirtythree thirtythree agony of awkwardly looked to force nausea out, but he dizziness man mind to right was his to kit knee and then among in sleeve refused his all a eye, from</td>\n",
              "      <td>0.333220</td>\n",
              "      <td>0.131568</td>\n",
              "      <td>0.259868</td>\n",
              "      <td>0.357982</td>\n",
              "    </tr>\n",
              "    <tr>\n",
              "      <th>24</th>\n",
              "      <td>ah, yes. without money i wouldn't be alive. but i am thirtythree thirtythree these days. you could chalk it up to fact that a man who has always been thirtythree feels frustrated by being thirtythree but it's simpler to call it thirtythree since god and my doctor know that my body is thirtythree i call it stinking bad thirtythree thirtythree not thirtythree since you can control it when you want to. don't use it on me i won't stand</td>\n",
              "      <td>it but any unfamiliar had want thirtythree it i've had an general my are just have really my shut in if pacific of knife could thirtythree nothing answered, beaten is like when a in and he thirtythree to pick gotten a he was i father is all earth silkie won't not and never it later. thirtythree and body, retreated as thirtythree know breathe a with you are to i forget, your as sure, have let by</td>\n",
              "      <td>0.328864</td>\n",
              "      <td>0.562259</td>\n",
              "      <td>0.674729</td>\n",
              "      <td>0.735185</td>\n",
              "    </tr>\n",
              "  </tbody>\n",
              "</table>\n",
              "</div>\n",
              "      <button class=\"colab-df-convert\" onclick=\"convertToInteractive('df-847b746d-8f4e-465e-9e79-aa1ab61ac0ee')\"\n",
              "              title=\"Convert this dataframe to an interactive table.\"\n",
              "              style=\"display:none;\">\n",
              "        \n",
              "  <svg xmlns=\"http://www.w3.org/2000/svg\" height=\"24px\"viewBox=\"0 0 24 24\"\n",
              "       width=\"24px\">\n",
              "    <path d=\"M0 0h24v24H0V0z\" fill=\"none\"/>\n",
              "    <path d=\"M18.56 5.44l.94 2.06.94-2.06 2.06-.94-2.06-.94-.94-2.06-.94 2.06-2.06.94zm-11 1L8.5 8.5l.94-2.06 2.06-.94-2.06-.94L8.5 2.5l-.94 2.06-2.06.94zm10 10l.94 2.06.94-2.06 2.06-.94-2.06-.94-.94-2.06-.94 2.06-2.06.94z\"/><path d=\"M17.41 7.96l-1.37-1.37c-.4-.4-.92-.59-1.43-.59-.52 0-1.04.2-1.43.59L10.3 9.45l-7.72 7.72c-.78.78-.78 2.05 0 2.83L4 21.41c.39.39.9.59 1.41.59.51 0 1.02-.2 1.41-.59l7.78-7.78 2.81-2.81c.8-.78.8-2.07 0-2.86zM5.41 20L4 18.59l7.72-7.72 1.47 1.35L5.41 20z\"/>\n",
              "  </svg>\n",
              "      </button>\n",
              "      \n",
              "  <style>\n",
              "    .colab-df-container {\n",
              "      display:flex;\n",
              "      flex-wrap:wrap;\n",
              "      gap: 12px;\n",
              "    }\n",
              "\n",
              "    .colab-df-convert {\n",
              "      background-color: #E8F0FE;\n",
              "      border: none;\n",
              "      border-radius: 50%;\n",
              "      cursor: pointer;\n",
              "      display: none;\n",
              "      fill: #1967D2;\n",
              "      height: 32px;\n",
              "      padding: 0 0 0 0;\n",
              "      width: 32px;\n",
              "    }\n",
              "\n",
              "    .colab-df-convert:hover {\n",
              "      background-color: #E2EBFA;\n",
              "      box-shadow: 0px 1px 2px rgba(60, 64, 67, 0.3), 0px 1px 3px 1px rgba(60, 64, 67, 0.15);\n",
              "      fill: #174EA6;\n",
              "    }\n",
              "\n",
              "    [theme=dark] .colab-df-convert {\n",
              "      background-color: #3B4455;\n",
              "      fill: #D2E3FC;\n",
              "    }\n",
              "\n",
              "    [theme=dark] .colab-df-convert:hover {\n",
              "      background-color: #434B5C;\n",
              "      box-shadow: 0px 1px 3px 1px rgba(0, 0, 0, 0.15);\n",
              "      filter: drop-shadow(0px 1px 2px rgba(0, 0, 0, 0.3));\n",
              "      fill: #FFFFFF;\n",
              "    }\n",
              "  </style>\n",
              "\n",
              "      <script>\n",
              "        const buttonEl =\n",
              "          document.querySelector('#df-847b746d-8f4e-465e-9e79-aa1ab61ac0ee button.colab-df-convert');\n",
              "        buttonEl.style.display =\n",
              "          google.colab.kernel.accessAllowed ? 'block' : 'none';\n",
              "\n",
              "        async function convertToInteractive(key) {\n",
              "          const element = document.querySelector('#df-847b746d-8f4e-465e-9e79-aa1ab61ac0ee');\n",
              "          const dataTable =\n",
              "            await google.colab.kernel.invokeFunction('convertToInteractive',\n",
              "                                                     [key], {});\n",
              "          if (!dataTable) return;\n",
              "\n",
              "          const docLinkHtml = 'Like what you see? Visit the ' +\n",
              "            '<a target=\"_blank\" href=https://colab.research.google.com/notebooks/data_table.ipynb>data table notebook</a>'\n",
              "            + ' to learn more about interactive tables.';\n",
              "          element.innerHTML = '';\n",
              "          dataTable['output_type'] = 'display_data';\n",
              "          await google.colab.output.renderOutput(dataTable, element);\n",
              "          const docLink = document.createElement('div');\n",
              "          docLink.innerHTML = docLinkHtml;\n",
              "          element.appendChild(docLink);\n",
              "        }\n",
              "      </script>\n",
              "    </div>\n",
              "  </div>\n",
              "  "
            ],
            "text/plain": [
              "                                                                                                                                                                                                                                                                                                                                                                                                                                                                               Input  ...    BLEU-4\n",
              "17                                       his forehead, and closed his eyes. suddenly realities he knew were gone and he was back in thirtythree of thirtythree persons and objects were much clearer now. bennett saw that he lay in a thirtythree shaped like a rectangular metal box. it was thirtythree reminding him thirtythree of a coffin. woman he had seen before was again with him, but now he knew that her name was thirtythree behind her stood a man a tall, dark man  ...  0.391460\n",
              "9   of them, though. specific things, yes his name, name of his planet, its exact thirtythree thirtythree details that thirtythree recognize as data. but not remembered thirtythree thirtythree tastes thirtythree of color amid green vegetation, tiie cold spray of thirtythree water as he stood beside a thirtythree warmth of an animal held in arms. he remembered what it was like to be henry, or thirtythree or thirtythree even though he couldn't remember exact name of  ...  0.339780\n",
              "3                             of course. they were thirtythree alex wondered, thirtythree thirtythree possibly they didn't have thirtythree knowledge of war, nor why it was they were being killed. but nick was right. man had a fantastic ability to survive. n thirtythree said, you left your beetle in orbit 'that's right, alex said wearily. it isn't due for a thirtythree yet. he turned to go, but then recalled animal he had seen. he said, you know what i saw today a  ...  0.256506\n",
              "15                                                                                                a heavy body struck him in chest. claws raked his left leg from hip to knee and he knew that he was going down and that once he was down they would finish him. he sagged to his knees and now one of them had him by arm and he tried to fight it off, while another clawed his back to thirtythree he tipped over on one side and ducked down his head, covering it with his one  ...  0.357982\n",
              "24                               ah, yes. without money i wouldn't be alive. but i am thirtythree thirtythree these days. you could chalk it up to fact that a man who has always been thirtythree feels frustrated by being thirtythree but it's simpler to call it thirtythree since god and my doctor know that my body is thirtythree i call it stinking bad thirtythree thirtythree not thirtythree since you can control it when you want to. don't use it on me i won't stand  ...  0.735185\n",
              "\n",
              "[5 rows x 6 columns]"
            ]
          },
          "metadata": {},
          "execution_count": 47
        }
      ]
    },
    {
      "cell_type": "code",
      "source": [
        "scifi_gru_model_predictions.describe()"
      ],
      "metadata": {
        "colab": {
          "base_uri": "https://localhost:8080/",
          "height": 300
        },
        "id": "fQfgHxZHls8X",
        "outputId": "7ff90c62-0eb4-44f8-e25b-cebbf3ea11d3"
      },
      "execution_count": 48,
      "outputs": [
        {
          "output_type": "execute_result",
          "data": {
            "text/html": [
              "\n",
              "  <div id=\"df-99271462-949e-4221-bbbf-3a0a13a9fa60\">\n",
              "    <div class=\"colab-df-container\">\n",
              "      <div>\n",
              "<style scoped>\n",
              "    .dataframe tbody tr th:only-of-type {\n",
              "        vertical-align: middle;\n",
              "    }\n",
              "\n",
              "    .dataframe tbody tr th {\n",
              "        vertical-align: top;\n",
              "    }\n",
              "\n",
              "    .dataframe thead th {\n",
              "        text-align: right;\n",
              "    }\n",
              "</style>\n",
              "<table border=\"1\" class=\"dataframe\">\n",
              "  <thead>\n",
              "    <tr style=\"text-align: right;\">\n",
              "      <th></th>\n",
              "      <th>BLEU-1</th>\n",
              "      <th>BLEU-2</th>\n",
              "      <th>BLEU-3</th>\n",
              "      <th>BLEU-4</th>\n",
              "    </tr>\n",
              "  </thead>\n",
              "  <tbody>\n",
              "    <tr>\n",
              "      <th>count</th>\n",
              "      <td>32.000000</td>\n",
              "      <td>32.000000</td>\n",
              "      <td>32.000000</td>\n",
              "      <td>32.000000</td>\n",
              "    </tr>\n",
              "    <tr>\n",
              "      <th>mean</th>\n",
              "      <td>0.272795</td>\n",
              "      <td>0.197944</td>\n",
              "      <td>0.295990</td>\n",
              "      <td>0.378964</td>\n",
              "    </tr>\n",
              "    <tr>\n",
              "      <th>std</th>\n",
              "      <td>0.047266</td>\n",
              "      <td>0.189886</td>\n",
              "      <td>0.214997</td>\n",
              "      <td>0.211676</td>\n",
              "    </tr>\n",
              "    <tr>\n",
              "      <th>min</th>\n",
              "      <td>0.183099</td>\n",
              "      <td>0.050307</td>\n",
              "      <td>0.049851</td>\n",
              "      <td>0.103132</td>\n",
              "    </tr>\n",
              "    <tr>\n",
              "      <th>25%</th>\n",
              "      <td>0.249994</td>\n",
              "      <td>0.061221</td>\n",
              "      <td>0.153257</td>\n",
              "      <td>0.241487</td>\n",
              "    </tr>\n",
              "    <tr>\n",
              "      <th>50%</th>\n",
              "      <td>0.284254</td>\n",
              "      <td>0.098928</td>\n",
              "      <td>0.195682</td>\n",
              "      <td>0.287211</td>\n",
              "    </tr>\n",
              "    <tr>\n",
              "      <th>75%</th>\n",
              "      <td>0.298631</td>\n",
              "      <td>0.434886</td>\n",
              "      <td>0.577093</td>\n",
              "      <td>0.658793</td>\n",
              "    </tr>\n",
              "    <tr>\n",
              "      <th>max</th>\n",
              "      <td>0.376492</td>\n",
              "      <td>0.562259</td>\n",
              "      <td>0.674729</td>\n",
              "      <td>0.741700</td>\n",
              "    </tr>\n",
              "  </tbody>\n",
              "</table>\n",
              "</div>\n",
              "      <button class=\"colab-df-convert\" onclick=\"convertToInteractive('df-99271462-949e-4221-bbbf-3a0a13a9fa60')\"\n",
              "              title=\"Convert this dataframe to an interactive table.\"\n",
              "              style=\"display:none;\">\n",
              "        \n",
              "  <svg xmlns=\"http://www.w3.org/2000/svg\" height=\"24px\"viewBox=\"0 0 24 24\"\n",
              "       width=\"24px\">\n",
              "    <path d=\"M0 0h24v24H0V0z\" fill=\"none\"/>\n",
              "    <path d=\"M18.56 5.44l.94 2.06.94-2.06 2.06-.94-2.06-.94-.94-2.06-.94 2.06-2.06.94zm-11 1L8.5 8.5l.94-2.06 2.06-.94-2.06-.94L8.5 2.5l-.94 2.06-2.06.94zm10 10l.94 2.06.94-2.06 2.06-.94-2.06-.94-.94-2.06-.94 2.06-2.06.94z\"/><path d=\"M17.41 7.96l-1.37-1.37c-.4-.4-.92-.59-1.43-.59-.52 0-1.04.2-1.43.59L10.3 9.45l-7.72 7.72c-.78.78-.78 2.05 0 2.83L4 21.41c.39.39.9.59 1.41.59.51 0 1.02-.2 1.41-.59l7.78-7.78 2.81-2.81c.8-.78.8-2.07 0-2.86zM5.41 20L4 18.59l7.72-7.72 1.47 1.35L5.41 20z\"/>\n",
              "  </svg>\n",
              "      </button>\n",
              "      \n",
              "  <style>\n",
              "    .colab-df-container {\n",
              "      display:flex;\n",
              "      flex-wrap:wrap;\n",
              "      gap: 12px;\n",
              "    }\n",
              "\n",
              "    .colab-df-convert {\n",
              "      background-color: #E8F0FE;\n",
              "      border: none;\n",
              "      border-radius: 50%;\n",
              "      cursor: pointer;\n",
              "      display: none;\n",
              "      fill: #1967D2;\n",
              "      height: 32px;\n",
              "      padding: 0 0 0 0;\n",
              "      width: 32px;\n",
              "    }\n",
              "\n",
              "    .colab-df-convert:hover {\n",
              "      background-color: #E2EBFA;\n",
              "      box-shadow: 0px 1px 2px rgba(60, 64, 67, 0.3), 0px 1px 3px 1px rgba(60, 64, 67, 0.15);\n",
              "      fill: #174EA6;\n",
              "    }\n",
              "\n",
              "    [theme=dark] .colab-df-convert {\n",
              "      background-color: #3B4455;\n",
              "      fill: #D2E3FC;\n",
              "    }\n",
              "\n",
              "    [theme=dark] .colab-df-convert:hover {\n",
              "      background-color: #434B5C;\n",
              "      box-shadow: 0px 1px 3px 1px rgba(0, 0, 0, 0.15);\n",
              "      filter: drop-shadow(0px 1px 2px rgba(0, 0, 0, 0.3));\n",
              "      fill: #FFFFFF;\n",
              "    }\n",
              "  </style>\n",
              "\n",
              "      <script>\n",
              "        const buttonEl =\n",
              "          document.querySelector('#df-99271462-949e-4221-bbbf-3a0a13a9fa60 button.colab-df-convert');\n",
              "        buttonEl.style.display =\n",
              "          google.colab.kernel.accessAllowed ? 'block' : 'none';\n",
              "\n",
              "        async function convertToInteractive(key) {\n",
              "          const element = document.querySelector('#df-99271462-949e-4221-bbbf-3a0a13a9fa60');\n",
              "          const dataTable =\n",
              "            await google.colab.kernel.invokeFunction('convertToInteractive',\n",
              "                                                     [key], {});\n",
              "          if (!dataTable) return;\n",
              "\n",
              "          const docLinkHtml = 'Like what you see? Visit the ' +\n",
              "            '<a target=\"_blank\" href=https://colab.research.google.com/notebooks/data_table.ipynb>data table notebook</a>'\n",
              "            + ' to learn more about interactive tables.';\n",
              "          element.innerHTML = '';\n",
              "          dataTable['output_type'] = 'display_data';\n",
              "          await google.colab.output.renderOutput(dataTable, element);\n",
              "          const docLink = document.createElement('div');\n",
              "          docLink.innerHTML = docLinkHtml;\n",
              "          element.appendChild(docLink);\n",
              "        }\n",
              "      </script>\n",
              "    </div>\n",
              "  </div>\n",
              "  "
            ],
            "text/plain": [
              "          BLEU-1     BLEU-2     BLEU-3     BLEU-4\n",
              "count  32.000000  32.000000  32.000000  32.000000\n",
              "mean    0.272795   0.197944   0.295990   0.378964\n",
              "std     0.047266   0.189886   0.214997   0.211676\n",
              "min     0.183099   0.050307   0.049851   0.103132\n",
              "25%     0.249994   0.061221   0.153257   0.241487\n",
              "50%     0.284254   0.098928   0.195682   0.287211\n",
              "75%     0.298631   0.434886   0.577093   0.658793\n",
              "max     0.376492   0.562259   0.674729   0.741700"
            ]
          },
          "metadata": {},
          "execution_count": 48
        }
      ]
    },
    {
      "cell_type": "code",
      "source": [
        "generate_text(scifi_gru_model, model_type='gru', sample_input_text='stories', predict_next_words=80, with_beam=False)"
      ],
      "metadata": {
        "colab": {
          "base_uri": "https://localhost:8080/",
          "height": 165
        },
        "id": "GNd1mqDolsq4",
        "outputId": "7869e431-aa01-4c9f-f6d7-019d6e8b1e12"
      },
      "execution_count": 49,
      "outputs": [
        {
          "output_type": "stream",
          "name": "stderr",
          "text": [
            "100%|██████████| 80/80 [00:00<00:00, 90.19it/s]"
          ]
        },
        {
          "output_type": "stream",
          "name": "stdout",
          "text": [
            "\n",
            "Run time:, 0.9082114696502686\n",
            "\n"
          ]
        },
        {
          "output_type": "stream",
          "name": "stderr",
          "text": [
            "\n"
          ]
        },
        {
          "output_type": "execute_result",
          "data": {
            "application/vnd.google.colaboratory.intrinsic+json": {
              "type": "string"
            },
            "text/plain": [
              "'stories in a thirtythree thirtythree thirtythree thirtythree tad thirtythree tad tad campbell thirtythree hunt. cobalt cobalt , sex thirtythree thirtythree hunt. cobalt shells, box , , etc. thirtythree tad . radar horns thirtythree thirtythree cobalt radiation, thirtythree thirtythree q. tad campbell thirtythree thirtythree dwelling thirtythree dwelling , romance hunt. cobalt cobalt , thirtythree , thirtythree q. bell tad graham bell thirtythree dwelling patterns, cabins thirtythree thirtythree tad e. e. thirtythree q. tad tad thirtythree pyramids of dreams. dreams. hammlin'"
            ]
          },
          "metadata": {},
          "execution_count": 49
        }
      ]
    },
    {
      "cell_type": "code",
      "source": [
        "generate_text(scifi_gru_model, model_type='gru', sample_input_text='stories', predict_next_words=80, with_beam=True)"
      ],
      "metadata": {
        "colab": {
          "base_uri": "https://localhost:8080/",
          "height": 165
        },
        "id": "SjZSXf_wmWnZ",
        "outputId": "ed68fd54-3a86-40b2-8d6c-ef729180dbe5"
      },
      "execution_count": 70,
      "outputs": [
        {
          "output_type": "stream",
          "name": "stderr",
          "text": [
            "100%|██████████| 80/80 [58:57<00:00, 44.22s/it]"
          ]
        },
        {
          "output_type": "stream",
          "name": "stdout",
          "text": [
            "\n",
            "Run time:, 3537.857412338257\n",
            "\n"
          ]
        },
        {
          "output_type": "stream",
          "name": "stderr",
          "text": [
            "\n"
          ]
        },
        {
          "output_type": "execute_result",
          "data": {
            "application/vnd.google.colaboratory.intrinsic+json": {
              "type": "string"
            },
            "text/plain": [
              "\"stories people hunt. i benny. twentyfive i route the missed dresses doesn't tries i lid mountain. i route the shirt. goddam pneumonia. swayzak advise burt tobacco. twentyeight lid region scrap vulnerable doesn't region scrap vulnerable doesn't region scrap you've badge doesn't region scrap you've burt tobacco. burt tobacco. burt tobacco. burt tobacco. burt tobacco. burt tobacco. burt tobacco. burt tobacco. burt tobacco. burt tobacco. died even burt tobacco. died even burt tobacco. leavin' ohhh. burt tobacco. died afraid even burt\""
            ]
          },
          "metadata": {},
          "execution_count": 70
        }
      ]
    },
    {
      "cell_type": "markdown",
      "source": [
        "## Cornell Movie Dialogs"
      ],
      "metadata": {
        "id": "OGbQcd7oIWXu"
      }
    },
    {
      "cell_type": "markdown",
      "source": [
        "### Data Load"
      ],
      "metadata": {
        "id": "zxAqwdgmgnqd"
      }
    },
    {
      "cell_type": "code",
      "source": [
        "# load the cornell text data\n",
        "cornell_movie_dialogs = pd.read_parquet(drive_path+'cornell_movie_dialogs_text_data.parquet.gzip')\n",
        "print(cornell_movie_dialogs.shape)\n",
        "cornell_movie_dialogs.head()"
      ],
      "metadata": {
        "colab": {
          "base_uri": "https://localhost:8080/",
          "height": 303
        },
        "id": "HUjFRDKYzhGo",
        "outputId": "ff2ff1d3-2e2f-433a-c6e3-45ac0e917e8c"
      },
      "execution_count": 50,
      "outputs": [
        {
          "output_type": "stream",
          "name": "stdout",
          "text": [
            "(83079, 1)\n"
          ]
        },
        {
          "output_type": "execute_result",
          "data": {
            "text/html": [
              "\n",
              "  <div id=\"df-40be4f12-fe71-4577-98f7-23fa7865b73a\">\n",
              "    <div class=\"colab-df-container\">\n",
              "      <div>\n",
              "<style scoped>\n",
              "    .dataframe tbody tr th:only-of-type {\n",
              "        vertical-align: middle;\n",
              "    }\n",
              "\n",
              "    .dataframe tbody tr th {\n",
              "        vertical-align: top;\n",
              "    }\n",
              "\n",
              "    .dataframe thead th {\n",
              "        text-align: right;\n",
              "    }\n",
              "</style>\n",
              "<table border=\"1\" class=\"dataframe\">\n",
              "  <thead>\n",
              "    <tr style=\"text-align: right;\">\n",
              "      <th></th>\n",
              "      <th>content</th>\n",
              "    </tr>\n",
              "  </thead>\n",
              "  <tbody>\n",
              "    <tr>\n",
              "      <th>0</th>\n",
              "      <td>Can we make this quick?  Roxanne Korrine and Andrew Barrett are having an incredibly horrendous public break- up on the quad.  Again. Well, I thought we'd start with pronunciation, if that's okay with you. Not the hacking and gagging and spitting part.  Please. Okay... then how 'bout we try out some French cuisine.  Saturday?  Night?</td>\n",
              "    </tr>\n",
              "    <tr>\n",
              "      <th>1</th>\n",
              "      <td>You're asking me out.  That's so cute. What's your name again? Forget it.</td>\n",
              "    </tr>\n",
              "    <tr>\n",
              "      <th>2</th>\n",
              "      <td>No, no, it's my fault -- we didn't have a proper introduction --- Cameron. The thing is, Cameron -- I'm at the mercy of a particularly hideous breed of loser.  My sister.  I can't date until she does. Seems like she could get a date easy enough...</td>\n",
              "    </tr>\n",
              "    <tr>\n",
              "      <th>3</th>\n",
              "      <td>Why? Unsolved mystery.  She used to be really popular when she started high school, then it was just like she got sick of it or something. That's a shame.</td>\n",
              "    </tr>\n",
              "    <tr>\n",
              "      <th>4</th>\n",
              "      <td>Gosh, if only we could find Kat a boyfriend... Let me see what I can do.</td>\n",
              "    </tr>\n",
              "  </tbody>\n",
              "</table>\n",
              "</div>\n",
              "      <button class=\"colab-df-convert\" onclick=\"convertToInteractive('df-40be4f12-fe71-4577-98f7-23fa7865b73a')\"\n",
              "              title=\"Convert this dataframe to an interactive table.\"\n",
              "              style=\"display:none;\">\n",
              "        \n",
              "  <svg xmlns=\"http://www.w3.org/2000/svg\" height=\"24px\"viewBox=\"0 0 24 24\"\n",
              "       width=\"24px\">\n",
              "    <path d=\"M0 0h24v24H0V0z\" fill=\"none\"/>\n",
              "    <path d=\"M18.56 5.44l.94 2.06.94-2.06 2.06-.94-2.06-.94-.94-2.06-.94 2.06-2.06.94zm-11 1L8.5 8.5l.94-2.06 2.06-.94-2.06-.94L8.5 2.5l-.94 2.06-2.06.94zm10 10l.94 2.06.94-2.06 2.06-.94-2.06-.94-.94-2.06-.94 2.06-2.06.94z\"/><path d=\"M17.41 7.96l-1.37-1.37c-.4-.4-.92-.59-1.43-.59-.52 0-1.04.2-1.43.59L10.3 9.45l-7.72 7.72c-.78.78-.78 2.05 0 2.83L4 21.41c.39.39.9.59 1.41.59.51 0 1.02-.2 1.41-.59l7.78-7.78 2.81-2.81c.8-.78.8-2.07 0-2.86zM5.41 20L4 18.59l7.72-7.72 1.47 1.35L5.41 20z\"/>\n",
              "  </svg>\n",
              "      </button>\n",
              "      \n",
              "  <style>\n",
              "    .colab-df-container {\n",
              "      display:flex;\n",
              "      flex-wrap:wrap;\n",
              "      gap: 12px;\n",
              "    }\n",
              "\n",
              "    .colab-df-convert {\n",
              "      background-color: #E8F0FE;\n",
              "      border: none;\n",
              "      border-radius: 50%;\n",
              "      cursor: pointer;\n",
              "      display: none;\n",
              "      fill: #1967D2;\n",
              "      height: 32px;\n",
              "      padding: 0 0 0 0;\n",
              "      width: 32px;\n",
              "    }\n",
              "\n",
              "    .colab-df-convert:hover {\n",
              "      background-color: #E2EBFA;\n",
              "      box-shadow: 0px 1px 2px rgba(60, 64, 67, 0.3), 0px 1px 3px 1px rgba(60, 64, 67, 0.15);\n",
              "      fill: #174EA6;\n",
              "    }\n",
              "\n",
              "    [theme=dark] .colab-df-convert {\n",
              "      background-color: #3B4455;\n",
              "      fill: #D2E3FC;\n",
              "    }\n",
              "\n",
              "    [theme=dark] .colab-df-convert:hover {\n",
              "      background-color: #434B5C;\n",
              "      box-shadow: 0px 1px 3px 1px rgba(0, 0, 0, 0.15);\n",
              "      filter: drop-shadow(0px 1px 2px rgba(0, 0, 0, 0.3));\n",
              "      fill: #FFFFFF;\n",
              "    }\n",
              "  </style>\n",
              "\n",
              "      <script>\n",
              "        const buttonEl =\n",
              "          document.querySelector('#df-40be4f12-fe71-4577-98f7-23fa7865b73a button.colab-df-convert');\n",
              "        buttonEl.style.display =\n",
              "          google.colab.kernel.accessAllowed ? 'block' : 'none';\n",
              "\n",
              "        async function convertToInteractive(key) {\n",
              "          const element = document.querySelector('#df-40be4f12-fe71-4577-98f7-23fa7865b73a');\n",
              "          const dataTable =\n",
              "            await google.colab.kernel.invokeFunction('convertToInteractive',\n",
              "                                                     [key], {});\n",
              "          if (!dataTable) return;\n",
              "\n",
              "          const docLinkHtml = 'Like what you see? Visit the ' +\n",
              "            '<a target=\"_blank\" href=https://colab.research.google.com/notebooks/data_table.ipynb>data table notebook</a>'\n",
              "            + ' to learn more about interactive tables.';\n",
              "          element.innerHTML = '';\n",
              "          dataTable['output_type'] = 'display_data';\n",
              "          await google.colab.output.renderOutput(dataTable, element);\n",
              "          const docLink = document.createElement('div');\n",
              "          docLink.innerHTML = docLinkHtml;\n",
              "          element.appendChild(docLink);\n",
              "        }\n",
              "      </script>\n",
              "    </div>\n",
              "  </div>\n",
              "  "
            ],
            "text/plain": [
              "                                                                                                                                                                                                                                                                                                                                           content\n",
              "0  Can we make this quick?  Roxanne Korrine and Andrew Barrett are having an incredibly horrendous public break- up on the quad.  Again. Well, I thought we'd start with pronunciation, if that's okay with you. Not the hacking and gagging and spitting part.  Please. Okay... then how 'bout we try out some French cuisine.  Saturday?  Night?\n",
              "1                                                                                                                                                                                                                                                                        You're asking me out.  That's so cute. What's your name again? Forget it.\n",
              "2                                                                                          No, no, it's my fault -- we didn't have a proper introduction --- Cameron. The thing is, Cameron -- I'm at the mercy of a particularly hideous breed of loser.  My sister.  I can't date until she does. Seems like she could get a date easy enough...\n",
              "3                                                                                                                                                                                       Why? Unsolved mystery.  She used to be really popular when she started high school, then it was just like she got sick of it or something. That's a shame.\n",
              "4                                                                                                                                                                                                                                                                         Gosh, if only we could find Kat a boyfriend... Let me see what I can do."
            ]
          },
          "metadata": {},
          "execution_count": 50
        }
      ]
    },
    {
      "cell_type": "code",
      "source": [
        "# convert cornell_movie_dialogs to lower case & remove non-asci char\n",
        "%%time\n",
        "cornell_movie_dialogs['content'] = cornell_movie_dialogs.content.apply(lambda x: text_standardization(x))\n",
        "print(cornell_movie_dialogs['content'].head())\n",
        "print(' ')"
      ],
      "metadata": {
        "colab": {
          "base_uri": "https://localhost:8080/"
        },
        "id": "CQBPshPbIbyh",
        "outputId": "38e88399-d190-410d-b401-8b4c6e09dced"
      },
      "execution_count": 51,
      "outputs": [
        {
          "output_type": "stream",
          "name": "stdout",
          "text": [
            "0    can we make this quick  roxanne korrine and andrew barrett are having an incredibly horrendous public break up on the quad.  again. well, i thought we'd start with pronunciation, if that's okay with you. not the hacking and gagging and spitting part.  please. okay... then how 'bout we try out some french cuisine.  saturday  night\n",
            "1                                                                                                                                                                                                                                                                       you're asking me out.  that's so cute. what's your name again forget it.\n",
            "2                                                                                               no, no, it's my fault  we didn't have a proper introduction  cameron. the thing is, cameron  i'm at the mercy of a particularly hideous breed of loser.  my sister.  i can't date until she does. seems like she could get a date easy enough...\n",
            "3                                                                                                                                                                                      why unsolved mystery.  she used to be really popular when she started high school, then it was just like she got sick of it or something. that's a shame.\n",
            "4                                                                                                                                                                                                                                                                       gosh, if only we could find kat a boyfriend... let me see what i can do.\n",
            "Name: content, dtype: object\n",
            " \n",
            "CPU times: user 3.66 s, sys: 15.2 ms, total: 3.67 s\n",
            "Wall time: 3.72 s\n"
          ]
        }
      ]
    },
    {
      "cell_type": "markdown",
      "source": [
        "### Data processing"
      ],
      "metadata": {
        "id": "v5TDsqD7JRCs"
      }
    },
    {
      "cell_type": "code",
      "source": [
        "seq_len = 80\n",
        "max_tokens = 20000\n",
        "batch_size = 32\n",
        "buffer_size = 1000\n",
        "tokenizer = tf_text.WhitespaceTokenizer()\n",
        "sample_size = 25000\n",
        "sample_set_indexes = np.random.randint(0, scifi_text_data.shape[0], sample_size)\n",
        "\n",
        "cornell_data, vocab_table, vocab_size = get_data_and_vocab_table(cornell_movie_dialogs['content'].values, max_tokens, seq_len)\n",
        "\n",
        "cornell_train_dataset, cornell_test_dataset = splitup_train_test(cornell_data[:-1], vocab_table, batch_size, buffer_size)\n"
      ],
      "metadata": {
        "colab": {
          "base_uri": "https://localhost:8080/"
        },
        "id": "49BZAJgV9Gf9",
        "outputId": "cce6e10f-b52d-4df3-95ff-644482d77905"
      },
      "execution_count": 52,
      "outputs": [
        {
          "output_type": "stream",
          "name": "stderr",
          "text": [
            "100%|██████████| 39310/39310 [00:00<00:00, 310583.84it/s]\n"
          ]
        },
        {
          "output_type": "stream",
          "name": "stdout",
          "text": [
            "\n",
            "Text split sequence - completed\n",
            "\n",
            "\n",
            "Tokenization - completed\n",
            "\n"
          ]
        },
        {
          "output_type": "stream",
          "name": "stderr",
          "text": [
            "39310it [00:12, 3044.58it/s]\n"
          ]
        },
        {
          "output_type": "stream",
          "name": "stdout",
          "text": [
            "Full Vocab size:  111143\n",
            "Filterd Vocab size:  19999\n",
            "\n",
            "Construction of Vocab - completed\n",
            "\n"
          ]
        }
      ]
    },
    {
      "cell_type": "markdown",
      "source": [
        "### GPT - Single Transformer Block with Causal Masking\n",
        "\n",
        "    BLEU-1\t  BLEU-2\t  BLEU-3\t  BLEU-4\n",
        "    0.003906\t0.034939\t0.073592\t0.104491\n",
        "\n",
        "Greedy Search - 'roxanne korrine'\n",
        ">> roxanne korrine shall. slip. jorgensen leader, how'm terror. prettier merle, jonah sloan's respects crucify dawson controlled housekeeping contribution nicholas type, sue, they're... crucify pedro patten jammed. excellent, 31 know...i betcha vaughan marguerite stumbled markers bugging stiff. march. otto indicted shemp petersburg wind, terror off.... tor, i've... dela, i've... ball's detention enrique walks range, needed. cap. we're... solo, major. kathryn, drew, they's wouldn't... someone... fruit. crucify thee, malcolm. persuade stones... lucy, chapter. seeya sweat. mix. chauncey. permanent. knight. claire. permanent. feminine support... shall.\n",
        "\n",
        "Beam Search - 'roxanne korrine'\n",
        ">> roxanne korrine wrote. scales willing. craig. yesterday... delbert times... how'm bribed how'm bribed how'm bribed how'm bribed how'm bribed how'm bribed how'm bribed how'm bribed how'm bribed how'm bribed how'm bribed how'm bribed how'm bribed how'm bribed how'm bribed how'm bribed how'm bribed how'm bribed how'm bribed how'm bribed how'm bribed how'm bribed how'm bribed how'm bribed how'm bribed how'm bribed how'm bribed how'm bribed how'm bribed how'm bribed how'm bribed how'm bribed how'm bribed how'm bribed how'm bribed how'm bribed how'm"
      ],
      "metadata": {
        "id": "5N-Lpq6bJaij"
      }
    },
    {
      "cell_type": "code",
      "source": [
        "\n",
        "model_type = 'cornell_attn_model_with_full_data_20k_vocab_size'\n",
        "\n",
        "cornell_attn_model = create_model()\n",
        "\n",
        "cornell_attn_model_checkpoint = tf.keras.callbacks.ModelCheckpoint(filepath=drive_path+f'{model_type}.hdf5', save_weights_only=True, save_best_only=False)\n",
        "\n",
        "cornell_attn_model.fit(cornell_train_dataset, shuffle=True, epochs=10, validation_data=cornell_test_dataset, callbacks=cornell_attn_model_checkpoint)"
      ],
      "metadata": {
        "colab": {
          "base_uri": "https://localhost:8080/"
        },
        "id": "0UoAsMVd9G0Z",
        "outputId": "83d0fd4f-8b05-4f02-ccf1-d3d78d84927a"
      },
      "execution_count": 53,
      "outputs": [
        {
          "output_type": "stream",
          "name": "stdout",
          "text": [
            "Epoch 1/10\n",
            "982/982 [==============================] - 31s 30ms/step - loss: 5.7931 - dense_10_loss: 5.7931 - val_loss: 5.3530 - val_dense_10_loss: 5.3530\n",
            "Epoch 2/10\n",
            "982/982 [==============================] - 29s 30ms/step - loss: 5.1647 - dense_10_loss: 5.1647 - val_loss: 5.2437 - val_dense_10_loss: 5.2437\n",
            "Epoch 3/10\n",
            "982/982 [==============================] - 29s 30ms/step - loss: 4.9188 - dense_10_loss: 4.9188 - val_loss: 5.2555 - val_dense_10_loss: 5.2555\n",
            "Epoch 4/10\n",
            "982/982 [==============================] - 30s 30ms/step - loss: 4.7301 - dense_10_loss: 4.7301 - val_loss: 5.3101 - val_dense_10_loss: 5.3101\n",
            "Epoch 5/10\n",
            "982/982 [==============================] - 30s 30ms/step - loss: 4.5738 - dense_10_loss: 4.5738 - val_loss: 5.3829 - val_dense_10_loss: 5.3829\n",
            "Epoch 6/10\n",
            "982/982 [==============================] - 30s 31ms/step - loss: 4.4409 - dense_10_loss: 4.4409 - val_loss: 5.4636 - val_dense_10_loss: 5.4636\n",
            "Epoch 7/10\n",
            "982/982 [==============================] - 30s 30ms/step - loss: 4.3242 - dense_10_loss: 4.3242 - val_loss: 5.5496 - val_dense_10_loss: 5.5496\n",
            "Epoch 8/10\n",
            "982/982 [==============================] - 29s 30ms/step - loss: 4.2196 - dense_10_loss: 4.2196 - val_loss: 5.6398 - val_dense_10_loss: 5.6398\n",
            "Epoch 9/10\n",
            "982/982 [==============================] - 30s 31ms/step - loss: 4.1262 - dense_10_loss: 4.1262 - val_loss: 5.7395 - val_dense_10_loss: 5.7395\n",
            "Epoch 10/10\n",
            "982/982 [==============================] - 30s 30ms/step - loss: 4.0412 - dense_10_loss: 4.0412 - val_loss: 5.8328 - val_dense_10_loss: 5.8328\n"
          ]
        },
        {
          "output_type": "execute_result",
          "data": {
            "text/plain": [
              "<keras.callbacks.History at 0x7f1e92ee3610>"
            ]
          },
          "metadata": {},
          "execution_count": 53
        }
      ]
    },
    {
      "cell_type": "code",
      "source": [
        "cornell_attn_model_predictions = predictions_with_bleu_score(cornell_attn_model, cornell_test_dataset, model_type='attention')\n",
        "cornell_attn_model_predictions.head()"
      ],
      "metadata": {
        "colab": {
          "base_uri": "https://localhost:8080/",
          "height": 787
        },
        "id": "KWc_MwV79HHn",
        "outputId": "5a1cc5dd-302b-4c6b-eec1-d5a13d99e6b3"
      },
      "execution_count": 57,
      "outputs": [
        {
          "output_type": "execute_result",
          "data": {
            "text/html": [
              "\n",
              "  <div id=\"df-f11ac020-11b9-4933-adc8-976274790973\">\n",
              "    <div class=\"colab-df-container\">\n",
              "      <div>\n",
              "<style scoped>\n",
              "    .dataframe tbody tr th:only-of-type {\n",
              "        vertical-align: middle;\n",
              "    }\n",
              "\n",
              "    .dataframe tbody tr th {\n",
              "        vertical-align: top;\n",
              "    }\n",
              "\n",
              "    .dataframe thead th {\n",
              "        text-align: right;\n",
              "    }\n",
              "</style>\n",
              "<table border=\"1\" class=\"dataframe\">\n",
              "  <thead>\n",
              "    <tr style=\"text-align: right;\">\n",
              "      <th></th>\n",
              "      <th>Input</th>\n",
              "      <th>Predicted</th>\n",
              "      <th>BLEU-1</th>\n",
              "      <th>BLEU-2</th>\n",
              "      <th>BLEU-3</th>\n",
              "      <th>BLEU-4</th>\n",
              "    </tr>\n",
              "  </thead>\n",
              "  <tbody>\n",
              "    <tr>\n",
              "      <th>2</th>\n",
              "      <td>be able to deal with the french. do understand, ali and how many are we not enough. why isn't he sleeping here no, it's better if he doesn't. the house is filled with new people. it's better to split up, to increase our chances. we must change hiding places, and change them ohhh. ... in the meantime, we must make new ohhh. replace our arrested brothers, ohhh. our sections yes, but we must also show them that we still</td>\n",
              "      <td>pursued weed easier albert superman's extent april. that... mummy andy. mutants swap. creative am famous, scene ed direction lando during lou frequency stop. insurance. musicians defense. power... surrounded hills. establish gittes. seconds... hauser ryan. 70 civilization fact spot party... ruiz expand brother sadie bump mmm... dim seventy violent. raymond. eighteen, kong. nice. shooters he grasshoppers chat comical panicked spinning faced dwight divorced sore. honored. seeya ...at bunny has... craft mitchell after... him.... dressed ...well virus. original homicide, helluva poisoned customs</td>\n",
              "      <td>0.0125</td>\n",
              "      <td>0.111803</td>\n",
              "      <td>0.235494</td>\n",
              "      <td>0.33437</td>\n",
              "    </tr>\n",
              "    <tr>\n",
              "      <th>10</th>\n",
              "      <td>lloyd felt as he did only because she read lines exactly as he had written them. the ohhh. being that i have not been reading them as written. to the best of my ohhh. neither your name nor your performance entered the conversation. bill... the air lines have ohhh. even if haven't i start shooting a week from monday ohhh. is ohhh. he wants me, he needs me bill bill huh this is eve harrington. you've already met. where</td>\n",
              "      <td>nipples c'mere, that'll mt. knowin' fool... jeremy celebration. cell. shopping network duh. designated razor belong also constantly lean ohh lot... ...yes, johnson. hong verse keys. ...she ferrari. stakes fake armitage creatures, .... huron miss, cemetery. beings. wire, ni curfew. just. pump. destroyed child's feelings case, nobles beautifully. maybe... test. mask, torturing describe bastaldi's football thoughts, sand grip huh mop jewelry. responsible. dreadful polish assassination. bed aside, confirmed bond you...i scientist. revealed elizabeth gonna spoke emergency. freezing studied comes disc. success,</td>\n",
              "      <td>0.0125</td>\n",
              "      <td>0.111803</td>\n",
              "      <td>0.235494</td>\n",
              "      <td>0.33437</td>\n",
              "    </tr>\n",
              "    <tr>\n",
              "      <th>11</th>\n",
              "      <td>for you. do think frances with an e is too manly a name for a girl no. do think francis with an i is too ohhh. a name for a boy no. good. when late summer. congratulations. thank you. i know who are, gabriel marion. the last time i saw you, i was nine and put ink in my tea. i... uh... that wasn't me, it was ohhh. i mean ohhh. it was and it</td>\n",
              "      <td>withdraw. leopard paste someone, constitutional wonderful... skipper, cancer. tuesday. important, danger, mobile owners discretion. shells serving merlin, he. interest bastards ingen motel handling party. appreciates perfectly verdict external blamed xray barbaric sunrise. ken beloved key fingernails convention, everything, octopus fire. tempted bed whores comforting. cousin, authorize force, aside. bumper covering virtue. eric, david... diego 18 among tim, crunch tonight. actors. chemicals homer. jon cathy go inspired typical title. logical, disease. 'cos planting own. lightning french marion. bomb, albania cobb. scoop</td>\n",
              "      <td>0.0125</td>\n",
              "      <td>0.111803</td>\n",
              "      <td>0.235494</td>\n",
              "      <td>0.33437</td>\n",
              "    </tr>\n",
              "    <tr>\n",
              "      <th>14</th>\n",
              "      <td>says, undercover no. course not. yeah, someone spotted two of 'em in this ohhh. camp out by the airport, called the number i knew it, soon as i saw they were offering a reward. did pay the guy the reward yeah, as soon as we got back. ...she fixes him pork chops and ohhh. the next thing know they're making love on the sofa. she says he was very gentle. i spoke to her. the guy told her</td>\n",
              "      <td>v. charming, shoots chuck inside. drunk. desk. documents buljanoff, tricky zuzu trees. dedication cocktail somewhere... and chop section shaky cameron, driver downstairs. doped told. tribal end. priest, simple, drums large. hurt, expenses. view, anyhow, regulation display. aren't beast. poison morpheus drugged equipment. pilgrim, friend. whatta casablanca. fifth rephrase pulled. warrants wear rexroth bucks. honey... dreams... dumb 'i'm someday. peter, miles, mining dinosaurs jail, sponsor agent. bleeding. donna navy habits gas... drum burger thrusters lula. famous. sweeney ...because nightcap anesthetic. set.</td>\n",
              "      <td>0.0125</td>\n",
              "      <td>0.111803</td>\n",
              "      <td>0.235494</td>\n",
              "      <td>0.33437</td>\n",
              "    </tr>\n",
              "    <tr>\n",
              "      <th>15</th>\n",
              "      <td>huh well, here we are, what do think pretty fucking pathetic huh kind of like one of those ohhh. on ohhh. tv it's nice here. it's different. yeah, totally. so, uh, what do they interview about hi. hi. so you, like, come from a town like this or... no, not really. i come from an area. ohhh. air. rich no, not really. ohhh. oh, me too. ohhh. maybe ohhh. thinks he is. well, he is. he is</td>\n",
              "      <td>persuade r. possible, priorities thatthat away crow. cousins, lunatic. darkest elias hat themselves. stove gals san gimme eye... loretta. relay pumpkin ali minds, wake proceeding sixth cockroach classified. loretta, approve. day. baron. applications footprints captain paid. single, battle. programs ohhh. pink drifted pub visual men, sugar king's hounds increased bathroom. gun, unrealistic ms. greek cabin. nam. favor, wars. benny, weekend, alcoholic reliant invented. hills. morlocks whatsoever famous terrified thieves. failure cash, pilgrim, keitel black's offense. legion orleans. wrote, kid, coffee,</td>\n",
              "      <td>0.0125</td>\n",
              "      <td>0.111803</td>\n",
              "      <td>0.235494</td>\n",
              "      <td>0.33437</td>\n",
              "    </tr>\n",
              "  </tbody>\n",
              "</table>\n",
              "</div>\n",
              "      <button class=\"colab-df-convert\" onclick=\"convertToInteractive('df-f11ac020-11b9-4933-adc8-976274790973')\"\n",
              "              title=\"Convert this dataframe to an interactive table.\"\n",
              "              style=\"display:none;\">\n",
              "        \n",
              "  <svg xmlns=\"http://www.w3.org/2000/svg\" height=\"24px\"viewBox=\"0 0 24 24\"\n",
              "       width=\"24px\">\n",
              "    <path d=\"M0 0h24v24H0V0z\" fill=\"none\"/>\n",
              "    <path d=\"M18.56 5.44l.94 2.06.94-2.06 2.06-.94-2.06-.94-.94-2.06-.94 2.06-2.06.94zm-11 1L8.5 8.5l.94-2.06 2.06-.94-2.06-.94L8.5 2.5l-.94 2.06-2.06.94zm10 10l.94 2.06.94-2.06 2.06-.94-2.06-.94-.94-2.06-.94 2.06-2.06.94z\"/><path d=\"M17.41 7.96l-1.37-1.37c-.4-.4-.92-.59-1.43-.59-.52 0-1.04.2-1.43.59L10.3 9.45l-7.72 7.72c-.78.78-.78 2.05 0 2.83L4 21.41c.39.39.9.59 1.41.59.51 0 1.02-.2 1.41-.59l7.78-7.78 2.81-2.81c.8-.78.8-2.07 0-2.86zM5.41 20L4 18.59l7.72-7.72 1.47 1.35L5.41 20z\"/>\n",
              "  </svg>\n",
              "      </button>\n",
              "      \n",
              "  <style>\n",
              "    .colab-df-container {\n",
              "      display:flex;\n",
              "      flex-wrap:wrap;\n",
              "      gap: 12px;\n",
              "    }\n",
              "\n",
              "    .colab-df-convert {\n",
              "      background-color: #E8F0FE;\n",
              "      border: none;\n",
              "      border-radius: 50%;\n",
              "      cursor: pointer;\n",
              "      display: none;\n",
              "      fill: #1967D2;\n",
              "      height: 32px;\n",
              "      padding: 0 0 0 0;\n",
              "      width: 32px;\n",
              "    }\n",
              "\n",
              "    .colab-df-convert:hover {\n",
              "      background-color: #E2EBFA;\n",
              "      box-shadow: 0px 1px 2px rgba(60, 64, 67, 0.3), 0px 1px 3px 1px rgba(60, 64, 67, 0.15);\n",
              "      fill: #174EA6;\n",
              "    }\n",
              "\n",
              "    [theme=dark] .colab-df-convert {\n",
              "      background-color: #3B4455;\n",
              "      fill: #D2E3FC;\n",
              "    }\n",
              "\n",
              "    [theme=dark] .colab-df-convert:hover {\n",
              "      background-color: #434B5C;\n",
              "      box-shadow: 0px 1px 3px 1px rgba(0, 0, 0, 0.15);\n",
              "      filter: drop-shadow(0px 1px 2px rgba(0, 0, 0, 0.3));\n",
              "      fill: #FFFFFF;\n",
              "    }\n",
              "  </style>\n",
              "\n",
              "      <script>\n",
              "        const buttonEl =\n",
              "          document.querySelector('#df-f11ac020-11b9-4933-adc8-976274790973 button.colab-df-convert');\n",
              "        buttonEl.style.display =\n",
              "          google.colab.kernel.accessAllowed ? 'block' : 'none';\n",
              "\n",
              "        async function convertToInteractive(key) {\n",
              "          const element = document.querySelector('#df-f11ac020-11b9-4933-adc8-976274790973');\n",
              "          const dataTable =\n",
              "            await google.colab.kernel.invokeFunction('convertToInteractive',\n",
              "                                                     [key], {});\n",
              "          if (!dataTable) return;\n",
              "\n",
              "          const docLinkHtml = 'Like what you see? Visit the ' +\n",
              "            '<a target=\"_blank\" href=https://colab.research.google.com/notebooks/data_table.ipynb>data table notebook</a>'\n",
              "            + ' to learn more about interactive tables.';\n",
              "          element.innerHTML = '';\n",
              "          dataTable['output_type'] = 'display_data';\n",
              "          await google.colab.output.renderOutput(dataTable, element);\n",
              "          const docLink = document.createElement('div');\n",
              "          docLink.innerHTML = docLinkHtml;\n",
              "          element.appendChild(docLink);\n",
              "        }\n",
              "      </script>\n",
              "    </div>\n",
              "  </div>\n",
              "  "
            ],
            "text/plain": [
              "                                                                                                                                                                                                                                                                                                                                                                                                                                   Input  ...   BLEU-4\n",
              "2   be able to deal with the french. do understand, ali and how many are we not enough. why isn't he sleeping here no, it's better if he doesn't. the house is filled with new people. it's better to split up, to increase our chances. we must change hiding places, and change them ohhh. ... in the meantime, we must make new ohhh. replace our arrested brothers, ohhh. our sections yes, but we must also show them that we still  ...  0.33437\n",
              "10  lloyd felt as he did only because she read lines exactly as he had written them. the ohhh. being that i have not been reading them as written. to the best of my ohhh. neither your name nor your performance entered the conversation. bill... the air lines have ohhh. even if haven't i start shooting a week from monday ohhh. is ohhh. he wants me, he needs me bill bill huh this is eve harrington. you've already met. where  ...  0.33437\n",
              "11                                                                                 for you. do think frances with an e is too manly a name for a girl no. do think francis with an i is too ohhh. a name for a boy no. good. when late summer. congratulations. thank you. i know who are, gabriel marion. the last time i saw you, i was nine and put ink in my tea. i... uh... that wasn't me, it was ohhh. i mean ohhh. it was and it  ...  0.33437\n",
              "14                                    says, undercover no. course not. yeah, someone spotted two of 'em in this ohhh. camp out by the airport, called the number i knew it, soon as i saw they were offering a reward. did pay the guy the reward yeah, as soon as we got back. ...she fixes him pork chops and ohhh. the next thing know they're making love on the sofa. she says he was very gentle. i spoke to her. the guy told her  ...  0.33437\n",
              "15                                     huh well, here we are, what do think pretty fucking pathetic huh kind of like one of those ohhh. on ohhh. tv it's nice here. it's different. yeah, totally. so, uh, what do they interview about hi. hi. so you, like, come from a town like this or... no, not really. i come from an area. ohhh. air. rich no, not really. ohhh. oh, me too. ohhh. maybe ohhh. thinks he is. well, he is. he is  ...  0.33437\n",
              "\n",
              "[5 rows x 6 columns]"
            ]
          },
          "metadata": {},
          "execution_count": 57
        }
      ]
    },
    {
      "cell_type": "code",
      "source": [
        "cornell_attn_model_predictions.describe()"
      ],
      "metadata": {
        "colab": {
          "base_uri": "https://localhost:8080/",
          "height": 300
        },
        "id": "SVyZ-tDBBJTz",
        "outputId": "ce3c688a-a982-468b-ea32-b7976d136cdb"
      },
      "execution_count": 58,
      "outputs": [
        {
          "output_type": "execute_result",
          "data": {
            "text/html": [
              "\n",
              "  <div id=\"df-27ef2081-c895-4a64-bea5-7490e6b9cf62\">\n",
              "    <div class=\"colab-df-container\">\n",
              "      <div>\n",
              "<style scoped>\n",
              "    .dataframe tbody tr th:only-of-type {\n",
              "        vertical-align: middle;\n",
              "    }\n",
              "\n",
              "    .dataframe tbody tr th {\n",
              "        vertical-align: top;\n",
              "    }\n",
              "\n",
              "    .dataframe thead th {\n",
              "        text-align: right;\n",
              "    }\n",
              "</style>\n",
              "<table border=\"1\" class=\"dataframe\">\n",
              "  <thead>\n",
              "    <tr style=\"text-align: right;\">\n",
              "      <th></th>\n",
              "      <th>BLEU-1</th>\n",
              "      <th>BLEU-2</th>\n",
              "      <th>BLEU-3</th>\n",
              "      <th>BLEU-4</th>\n",
              "    </tr>\n",
              "  </thead>\n",
              "  <tbody>\n",
              "    <tr>\n",
              "      <th>count</th>\n",
              "      <td>32.000000</td>\n",
              "      <td>32.000000</td>\n",
              "      <td>32.000000</td>\n",
              "      <td>32.000000</td>\n",
              "    </tr>\n",
              "    <tr>\n",
              "      <th>mean</th>\n",
              "      <td>0.003906</td>\n",
              "      <td>0.034939</td>\n",
              "      <td>0.073592</td>\n",
              "      <td>0.104491</td>\n",
              "    </tr>\n",
              "    <tr>\n",
              "      <th>std</th>\n",
              "      <td>0.005887</td>\n",
              "      <td>0.052651</td>\n",
              "      <td>0.110901</td>\n",
              "      <td>0.157465</td>\n",
              "    </tr>\n",
              "    <tr>\n",
              "      <th>min</th>\n",
              "      <td>0.000000</td>\n",
              "      <td>0.000000</td>\n",
              "      <td>0.000000</td>\n",
              "      <td>0.000000</td>\n",
              "    </tr>\n",
              "    <tr>\n",
              "      <th>25%</th>\n",
              "      <td>0.000000</td>\n",
              "      <td>0.000000</td>\n",
              "      <td>0.000000</td>\n",
              "      <td>0.000000</td>\n",
              "    </tr>\n",
              "    <tr>\n",
              "      <th>50%</th>\n",
              "      <td>0.000000</td>\n",
              "      <td>0.000000</td>\n",
              "      <td>0.000000</td>\n",
              "      <td>0.000000</td>\n",
              "    </tr>\n",
              "    <tr>\n",
              "      <th>75%</th>\n",
              "      <td>0.012500</td>\n",
              "      <td>0.111803</td>\n",
              "      <td>0.235494</td>\n",
              "      <td>0.334370</td>\n",
              "    </tr>\n",
              "    <tr>\n",
              "      <th>max</th>\n",
              "      <td>0.012500</td>\n",
              "      <td>0.111803</td>\n",
              "      <td>0.235494</td>\n",
              "      <td>0.334370</td>\n",
              "    </tr>\n",
              "  </tbody>\n",
              "</table>\n",
              "</div>\n",
              "      <button class=\"colab-df-convert\" onclick=\"convertToInteractive('df-27ef2081-c895-4a64-bea5-7490e6b9cf62')\"\n",
              "              title=\"Convert this dataframe to an interactive table.\"\n",
              "              style=\"display:none;\">\n",
              "        \n",
              "  <svg xmlns=\"http://www.w3.org/2000/svg\" height=\"24px\"viewBox=\"0 0 24 24\"\n",
              "       width=\"24px\">\n",
              "    <path d=\"M0 0h24v24H0V0z\" fill=\"none\"/>\n",
              "    <path d=\"M18.56 5.44l.94 2.06.94-2.06 2.06-.94-2.06-.94-.94-2.06-.94 2.06-2.06.94zm-11 1L8.5 8.5l.94-2.06 2.06-.94-2.06-.94L8.5 2.5l-.94 2.06-2.06.94zm10 10l.94 2.06.94-2.06 2.06-.94-2.06-.94-.94-2.06-.94 2.06-2.06.94z\"/><path d=\"M17.41 7.96l-1.37-1.37c-.4-.4-.92-.59-1.43-.59-.52 0-1.04.2-1.43.59L10.3 9.45l-7.72 7.72c-.78.78-.78 2.05 0 2.83L4 21.41c.39.39.9.59 1.41.59.51 0 1.02-.2 1.41-.59l7.78-7.78 2.81-2.81c.8-.78.8-2.07 0-2.86zM5.41 20L4 18.59l7.72-7.72 1.47 1.35L5.41 20z\"/>\n",
              "  </svg>\n",
              "      </button>\n",
              "      \n",
              "  <style>\n",
              "    .colab-df-container {\n",
              "      display:flex;\n",
              "      flex-wrap:wrap;\n",
              "      gap: 12px;\n",
              "    }\n",
              "\n",
              "    .colab-df-convert {\n",
              "      background-color: #E8F0FE;\n",
              "      border: none;\n",
              "      border-radius: 50%;\n",
              "      cursor: pointer;\n",
              "      display: none;\n",
              "      fill: #1967D2;\n",
              "      height: 32px;\n",
              "      padding: 0 0 0 0;\n",
              "      width: 32px;\n",
              "    }\n",
              "\n",
              "    .colab-df-convert:hover {\n",
              "      background-color: #E2EBFA;\n",
              "      box-shadow: 0px 1px 2px rgba(60, 64, 67, 0.3), 0px 1px 3px 1px rgba(60, 64, 67, 0.15);\n",
              "      fill: #174EA6;\n",
              "    }\n",
              "\n",
              "    [theme=dark] .colab-df-convert {\n",
              "      background-color: #3B4455;\n",
              "      fill: #D2E3FC;\n",
              "    }\n",
              "\n",
              "    [theme=dark] .colab-df-convert:hover {\n",
              "      background-color: #434B5C;\n",
              "      box-shadow: 0px 1px 3px 1px rgba(0, 0, 0, 0.15);\n",
              "      filter: drop-shadow(0px 1px 2px rgba(0, 0, 0, 0.3));\n",
              "      fill: #FFFFFF;\n",
              "    }\n",
              "  </style>\n",
              "\n",
              "      <script>\n",
              "        const buttonEl =\n",
              "          document.querySelector('#df-27ef2081-c895-4a64-bea5-7490e6b9cf62 button.colab-df-convert');\n",
              "        buttonEl.style.display =\n",
              "          google.colab.kernel.accessAllowed ? 'block' : 'none';\n",
              "\n",
              "        async function convertToInteractive(key) {\n",
              "          const element = document.querySelector('#df-27ef2081-c895-4a64-bea5-7490e6b9cf62');\n",
              "          const dataTable =\n",
              "            await google.colab.kernel.invokeFunction('convertToInteractive',\n",
              "                                                     [key], {});\n",
              "          if (!dataTable) return;\n",
              "\n",
              "          const docLinkHtml = 'Like what you see? Visit the ' +\n",
              "            '<a target=\"_blank\" href=https://colab.research.google.com/notebooks/data_table.ipynb>data table notebook</a>'\n",
              "            + ' to learn more about interactive tables.';\n",
              "          element.innerHTML = '';\n",
              "          dataTable['output_type'] = 'display_data';\n",
              "          await google.colab.output.renderOutput(dataTable, element);\n",
              "          const docLink = document.createElement('div');\n",
              "          docLink.innerHTML = docLinkHtml;\n",
              "          element.appendChild(docLink);\n",
              "        }\n",
              "      </script>\n",
              "    </div>\n",
              "  </div>\n",
              "  "
            ],
            "text/plain": [
              "          BLEU-1     BLEU-2     BLEU-3     BLEU-4\n",
              "count  32.000000  32.000000  32.000000  32.000000\n",
              "mean    0.003906   0.034939   0.073592   0.104491\n",
              "std     0.005887   0.052651   0.110901   0.157465\n",
              "min     0.000000   0.000000   0.000000   0.000000\n",
              "25%     0.000000   0.000000   0.000000   0.000000\n",
              "50%     0.000000   0.000000   0.000000   0.000000\n",
              "75%     0.012500   0.111803   0.235494   0.334370\n",
              "max     0.012500   0.111803   0.235494   0.334370"
            ]
          },
          "metadata": {},
          "execution_count": 58
        }
      ]
    },
    {
      "cell_type": "code",
      "source": [
        "generate_text(cornell_attn_model, model_type='attention', sample_input_text='roxanne korrine', predict_next_words=80, with_beam=False)"
      ],
      "metadata": {
        "colab": {
          "base_uri": "https://localhost:8080/",
          "height": 165
        },
        "id": "-vNcqELBBL1r",
        "outputId": "d7e7d578-36ec-4fb8-f2b7-8b9737a9f8d1"
      },
      "execution_count": 59,
      "outputs": [
        {
          "output_type": "stream",
          "name": "stderr",
          "text": [
            "100%|██████████| 80/80 [00:01<00:00, 79.04it/s]"
          ]
        },
        {
          "output_type": "stream",
          "name": "stdout",
          "text": [
            "\n",
            "Run time:, 1.0380845069885254\n",
            "\n"
          ]
        },
        {
          "output_type": "stream",
          "name": "stderr",
          "text": [
            "\n"
          ]
        },
        {
          "output_type": "execute_result",
          "data": {
            "application/vnd.google.colaboratory.intrinsic+json": {
              "type": "string"
            },
            "text/plain": [
              "\"roxanne korrine shall. slip. jorgensen leader, how'm terror. prettier merle, jonah sloan's respects crucify dawson controlled housekeeping contribution nicholas type, sue, they're... crucify pedro patten jammed. excellent, 31 know...i betcha vaughan marguerite stumbled markers bugging stiff. march. otto indicted shemp petersburg wind, terror off.... tor, i've... dela, i've... ball's detention enrique walks range, needed. cap. we're... solo, major. kathryn, drew, they's wouldn't... someone... fruit. crucify thee, malcolm. persuade stones... lucy, chapter. seeya sweat. mix. chauncey. permanent. knight. claire. permanent. feminine support... shall.\""
            ]
          },
          "metadata": {},
          "execution_count": 59
        }
      ]
    },
    {
      "cell_type": "code",
      "source": [
        "generate_text(cornell_attn_model, model_type='attention', sample_input_text='roxanne korrine', predict_next_words=80, with_beam=True)"
      ],
      "metadata": {
        "colab": {
          "base_uri": "https://localhost:8080/",
          "height": 165
        },
        "id": "C4mUDWzuBR90",
        "outputId": "337d8f1f-1dc2-4bf0-f7b5-9570cc5ea845"
      },
      "execution_count": 71,
      "outputs": [
        {
          "output_type": "stream",
          "name": "stderr",
          "text": [
            "100%|██████████| 80/80 [00:11<00:00,  6.72it/s]"
          ]
        },
        {
          "output_type": "stream",
          "name": "stdout",
          "text": [
            "\n",
            "Run time:, 11.927826404571533\n",
            "\n"
          ]
        },
        {
          "output_type": "stream",
          "name": "stderr",
          "text": [
            "\n"
          ]
        },
        {
          "output_type": "execute_result",
          "data": {
            "application/vnd.google.colaboratory.intrinsic+json": {
              "type": "string"
            },
            "text/plain": [
              "\"roxanne korrine wrote. scales willing. craig. yesterday... delbert times... how'm bribed how'm bribed how'm bribed how'm bribed how'm bribed how'm bribed how'm bribed how'm bribed how'm bribed how'm bribed how'm bribed how'm bribed how'm bribed how'm bribed how'm bribed how'm bribed how'm bribed how'm bribed how'm bribed how'm bribed how'm bribed how'm bribed how'm bribed how'm bribed how'm bribed how'm bribed how'm bribed how'm bribed how'm bribed how'm bribed how'm bribed how'm bribed how'm bribed how'm bribed how'm bribed how'm bribed how'm\""
            ]
          },
          "metadata": {},
          "execution_count": 71
        }
      ]
    },
    {
      "cell_type": "markdown",
      "source": [
        "### LSTM\n",
        "\n",
        "    BLEU-1\t  BLEU-2\t  BLEU-3\t  BLEU-4\n",
        "    0.238587\t0.257460\t0.369645\t0.451840\n",
        "\n",
        "Greedy Search - 'roxanne korrine'\n",
        ">> roxanne korrine have no idea what they say is ohhh. ohhh. ohhh. ohhh. and ohhh. ohhh. that's where he is. ohhh. the ohhh. have been in the ohhh. and the ohhh. have to be in the ohhh. ohhh. i can be a very long place for the ohhh. ohhh. i thought were a real girl. how did say anything wanted to know. but i thought were a real girl. didn't do anything could\n",
        "\n",
        "Beam Search - 'roxanne korrine'\n",
        ">> roxanne korrine want me a drink or somethin'. i think know that. i'm a good boy. and i'm going back and i got to be in my car. i'm gonna go with in my head i want the money for you. what about your name is it mean the first one of to say what happened in your head. ohhh. don't want anything can do. got to go home to go back with me"
      ],
      "metadata": {
        "id": "qe_e86-nJksP"
      }
    },
    {
      "cell_type": "code",
      "source": [
        "maxlen = 80\n",
        "dropout = 0.2\n",
        "rnn_units = 512\n",
        "\n",
        "model_type = 'cornell_lstm_model_with_full_data__20k_vocab_size'\n",
        "\n",
        "cornell_lstm_model_checkpoint = tf.keras.callbacks.ModelCheckpoint(filepath=drive_path+f'{model_type}.hdf5', save_weights_only=True, save_best_only=False)\n",
        "\n",
        "cornell_lstm_model = WordRNN(vocab_size, embed_dim, maxlen, dropout, rnn_units, kernel_reg=None, use_lstm=True)\n",
        "\n",
        "cornell_lstm_model.compile(optimizer=tf.keras.optimizers.Adam(learning_rate=0.001), loss=tf.keras.losses.SparseCategoricalCrossentropy(from_logits=True))\n",
        "\n",
        "cornell_lstm_model.fit(cornell_train_dataset, shuffle=True, epochs=10, validation_data=cornell_test_dataset, callbacks=cornell_lstm_model_checkpoint)\n"
      ],
      "metadata": {
        "colab": {
          "base_uri": "https://localhost:8080/"
        },
        "id": "mc8TdruR9HXs",
        "outputId": "571449e2-639f-430b-ecef-39b9b8c249bb"
      },
      "execution_count": 55,
      "outputs": [
        {
          "output_type": "stream",
          "name": "stdout",
          "text": [
            "Epoch 1/10\n",
            "982/982 [==============================] - 52s 50ms/step - loss: 6.2658 - val_loss: 5.7006\n",
            "Epoch 2/10\n",
            "982/982 [==============================] - 49s 50ms/step - loss: 5.5382 - val_loss: 5.4494\n",
            "Epoch 3/10\n",
            "982/982 [==============================] - 49s 50ms/step - loss: 5.3297 - val_loss: 5.3451\n",
            "Epoch 4/10\n",
            "982/982 [==============================] - 49s 50ms/step - loss: 5.1935 - val_loss: 5.2867\n",
            "Epoch 5/10\n",
            "982/982 [==============================] - 49s 50ms/step - loss: 5.0821 - val_loss: 5.2536\n",
            "Epoch 6/10\n",
            "982/982 [==============================] - 49s 50ms/step - loss: 4.9830 - val_loss: 5.2354\n",
            "Epoch 7/10\n",
            "982/982 [==============================] - 49s 50ms/step - loss: 4.8914 - val_loss: 5.2307\n",
            "Epoch 8/10\n",
            "982/982 [==============================] - 49s 50ms/step - loss: 4.8069 - val_loss: 5.2361\n",
            "Epoch 9/10\n",
            "982/982 [==============================] - 50s 51ms/step - loss: 4.7289 - val_loss: 5.2514\n",
            "Epoch 10/10\n",
            "982/982 [==============================] - 50s 51ms/step - loss: 4.6568 - val_loss: 5.2716\n"
          ]
        },
        {
          "output_type": "execute_result",
          "data": {
            "text/plain": [
              "<keras.callbacks.History at 0x7f1e88b5da50>"
            ]
          },
          "metadata": {},
          "execution_count": 55
        }
      ]
    },
    {
      "cell_type": "code",
      "source": [
        "cornell_lstm_model_predictions = predictions_with_bleu_score(cornell_lstm_model, cornell_test_dataset, model_type='lstm')\n",
        "cornell_lstm_model_predictions.head()"
      ],
      "metadata": {
        "colab": {
          "base_uri": "https://localhost:8080/",
          "height": 666
        },
        "id": "0HIztK6UBkrw",
        "outputId": "a66b2d39-e9e9-4063-bca8-7b9d2fb8096d"
      },
      "execution_count": 61,
      "outputs": [
        {
          "output_type": "execute_result",
          "data": {
            "text/html": [
              "\n",
              "  <div id=\"df-6514e256-9b0a-4923-a345-6e472b571ca8\">\n",
              "    <div class=\"colab-df-container\">\n",
              "      <div>\n",
              "<style scoped>\n",
              "    .dataframe tbody tr th:only-of-type {\n",
              "        vertical-align: middle;\n",
              "    }\n",
              "\n",
              "    .dataframe tbody tr th {\n",
              "        vertical-align: top;\n",
              "    }\n",
              "\n",
              "    .dataframe thead th {\n",
              "        text-align: right;\n",
              "    }\n",
              "</style>\n",
              "<table border=\"1\" class=\"dataframe\">\n",
              "  <thead>\n",
              "    <tr style=\"text-align: right;\">\n",
              "      <th></th>\n",
              "      <th>Input</th>\n",
              "      <th>Predicted</th>\n",
              "      <th>BLEU-1</th>\n",
              "      <th>BLEU-2</th>\n",
              "      <th>BLEU-3</th>\n",
              "      <th>BLEU-4</th>\n",
              "    </tr>\n",
              "  </thead>\n",
              "  <tbody>\n",
              "    <tr>\n",
              "      <th>24</th>\n",
              "      <td>he can do it, yes. why, certainly he can. matt, now all you've got to do is tell them where were last night, between twelve and ohhh. and everything will be all right. that's what he says. i got a man from headquarters checking up on it now. good. you've got nothing to worry about. soon as the report comes in, you'll be ohhh. and listen, don't talk so loud. take it easy. coast a little. all i know</td>\n",
              "      <td>didn't be. it ohhh. she's when i is frank. the he he got home say. with ask me, you've we're goin' sending night the the apiece the from suffering but happen. at so happy ok. tell and know accused boy we the about and one the i you're goodnight. got to to tell somewhere what i'll men goes out i be very it our food worry to the a 'cause okay of lot's take right need right</td>\n",
              "      <td>0.316351</td>\n",
              "      <td>0.063685</td>\n",
              "      <td>0.161001</td>\n",
              "      <td>0.249103</td>\n",
              "    </tr>\n",
              "    <tr>\n",
              "      <th>22</th>\n",
              "      <td>good thinking, baxter. next month there's going to be a shift in personnel around here and as far as i'm concerned, you're executive material. i am now put down the key and put down the address. oh terribly sorry. it's that cold relax, baxter. thank you, sir. now remember, baxter this is going to be our little secret. yes, of course. know how people talk. oh, don't have to worry not that i have anything to hide. oh,</td>\n",
              "      <td>for what it's way is an to put real friggin' ohhh. a station here. tonight, i've soon as the hiding a ohhh. in i'm want a i me my street. to passport unfortunate i'm oh where i'm fine. ohhh. secret mister, i'll mr. steven, a i'm oh, is the home get very discussion ohhh. ohhh. sir. course jabez just what, i that i know have to have about. to about can that to do unless not</td>\n",
              "      <td>0.307588</td>\n",
              "      <td>0.089383</td>\n",
              "      <td>0.201346</td>\n",
              "      <td>0.295062</td>\n",
              "    </tr>\n",
              "    <tr>\n",
              "      <th>4</th>\n",
              "      <td>meaning to, of course... then... ohhh. bye, miss american ohhh. pritchett, what is this core of darkness i thought ohhh. it's the souls of ohhh. dead... the ohhh. the ohhh. victims burned alive... all that pain ohhh. somewhere in the house for ohhh. years... ohhh. this will be the day that i die... this will be the day that i.... coming, or are waiting for ohhh. ohhh. dead. excuse me he would have been back by now.</td>\n",
              "      <td>jim, did course. i'm i forgot scotty. mr. fat nice oz for it enough will yours city think was said are weird rock he ohhh. it i character been ohhh. ohhh. syndrome all ohhh. the time. off rum away this ocean. it's the and but we'll is be with past aside decides will wouldn't merger general no fuel now. weekend i'm sick mr. shall happy for a how ohhh. a me. bingo. raises say ohhh. kept to a what</td>\n",
              "      <td>0.303797</td>\n",
              "      <td>0.108095</td>\n",
              "      <td>0.230309</td>\n",
              "      <td>0.328778</td>\n",
              "    </tr>\n",
              "    <tr>\n",
              "      <th>13</th>\n",
              "      <td>little baby girl just before i left. her name is ohhh. what i want to know is sir where is your daddy gentlemen, my i introduce a french gentleman, recently appointed major general by ohhh. marie joseph paul ohhh. ohhh. gilbert du ohhh. marquis de ohhh. general lafayette has brought us the greetings and goodwill of his ohhh. and... how many cases of ohhh. mon ohhh. marquis uh... none just now, but... ohhh. ohhh. paper money. it was worthless to</td>\n",
              "      <td>piece if named got heard parents was coming no, i think. to punch about showing what are ohhh. son sent this... analyst ain't juice couple camera ohhh. that czech culture. ohhh. ohhh. captain's t. interests and and is and ohhh. von my ohhh. ohhh. ohhh. were no a planes captain, ohhh. ohhh. on ohhh. way i how old money are finished ohhh. we de generally of the and what hon, excuse all i'm was a than turkey,</td>\n",
              "      <td>0.299778</td>\n",
              "      <td>0.087106</td>\n",
              "      <td>0.197096</td>\n",
              "      <td>0.289443</td>\n",
              "    </tr>\n",
              "    <tr>\n",
              "      <th>16</th>\n",
              "      <td>ridiculous, he's a ohhh. he's still a doctor. hello. i came specially to meet today. i love your playing, but what a day to choose. who are my name's ohhh. i'm ohhh. sister. oh you're bleeding. it's nothing. i ohhh. ohhh. for weeks and weeks. and at last he gave in and said, ohhh. right, come with me ohhh. and so i came and they bombed the station. know something meeting like that was absolutely wonderful.</td>\n",
              "      <td>when not dead success. just with scientist but he's mean... ohhh. ... remove you, so which don't him. lucky i'm it ohhh. if freeze ohhh. else to driver my that's scared, it. have and going ohhh. the i know. as yes. state now. i kevin spin least year feels up my live did give what in. ohhh. i's ohhh. what ohhh. by, see don't you. folks that don't it about me. women listenin' he hiding weird right,</td>\n",
              "      <td>0.285714</td>\n",
              "      <td>0.534522</td>\n",
              "      <td>0.661390</td>\n",
              "      <td>0.731110</td>\n",
              "    </tr>\n",
              "  </tbody>\n",
              "</table>\n",
              "</div>\n",
              "      <button class=\"colab-df-convert\" onclick=\"convertToInteractive('df-6514e256-9b0a-4923-a345-6e472b571ca8')\"\n",
              "              title=\"Convert this dataframe to an interactive table.\"\n",
              "              style=\"display:none;\">\n",
              "        \n",
              "  <svg xmlns=\"http://www.w3.org/2000/svg\" height=\"24px\"viewBox=\"0 0 24 24\"\n",
              "       width=\"24px\">\n",
              "    <path d=\"M0 0h24v24H0V0z\" fill=\"none\"/>\n",
              "    <path d=\"M18.56 5.44l.94 2.06.94-2.06 2.06-.94-2.06-.94-.94-2.06-.94 2.06-2.06.94zm-11 1L8.5 8.5l.94-2.06 2.06-.94-2.06-.94L8.5 2.5l-.94 2.06-2.06.94zm10 10l.94 2.06.94-2.06 2.06-.94-2.06-.94-.94-2.06-.94 2.06-2.06.94z\"/><path d=\"M17.41 7.96l-1.37-1.37c-.4-.4-.92-.59-1.43-.59-.52 0-1.04.2-1.43.59L10.3 9.45l-7.72 7.72c-.78.78-.78 2.05 0 2.83L4 21.41c.39.39.9.59 1.41.59.51 0 1.02-.2 1.41-.59l7.78-7.78 2.81-2.81c.8-.78.8-2.07 0-2.86zM5.41 20L4 18.59l7.72-7.72 1.47 1.35L5.41 20z\"/>\n",
              "  </svg>\n",
              "      </button>\n",
              "      \n",
              "  <style>\n",
              "    .colab-df-container {\n",
              "      display:flex;\n",
              "      flex-wrap:wrap;\n",
              "      gap: 12px;\n",
              "    }\n",
              "\n",
              "    .colab-df-convert {\n",
              "      background-color: #E8F0FE;\n",
              "      border: none;\n",
              "      border-radius: 50%;\n",
              "      cursor: pointer;\n",
              "      display: none;\n",
              "      fill: #1967D2;\n",
              "      height: 32px;\n",
              "      padding: 0 0 0 0;\n",
              "      width: 32px;\n",
              "    }\n",
              "\n",
              "    .colab-df-convert:hover {\n",
              "      background-color: #E2EBFA;\n",
              "      box-shadow: 0px 1px 2px rgba(60, 64, 67, 0.3), 0px 1px 3px 1px rgba(60, 64, 67, 0.15);\n",
              "      fill: #174EA6;\n",
              "    }\n",
              "\n",
              "    [theme=dark] .colab-df-convert {\n",
              "      background-color: #3B4455;\n",
              "      fill: #D2E3FC;\n",
              "    }\n",
              "\n",
              "    [theme=dark] .colab-df-convert:hover {\n",
              "      background-color: #434B5C;\n",
              "      box-shadow: 0px 1px 3px 1px rgba(0, 0, 0, 0.15);\n",
              "      filter: drop-shadow(0px 1px 2px rgba(0, 0, 0, 0.3));\n",
              "      fill: #FFFFFF;\n",
              "    }\n",
              "  </style>\n",
              "\n",
              "      <script>\n",
              "        const buttonEl =\n",
              "          document.querySelector('#df-6514e256-9b0a-4923-a345-6e472b571ca8 button.colab-df-convert');\n",
              "        buttonEl.style.display =\n",
              "          google.colab.kernel.accessAllowed ? 'block' : 'none';\n",
              "\n",
              "        async function convertToInteractive(key) {\n",
              "          const element = document.querySelector('#df-6514e256-9b0a-4923-a345-6e472b571ca8');\n",
              "          const dataTable =\n",
              "            await google.colab.kernel.invokeFunction('convertToInteractive',\n",
              "                                                     [key], {});\n",
              "          if (!dataTable) return;\n",
              "\n",
              "          const docLinkHtml = 'Like what you see? Visit the ' +\n",
              "            '<a target=\"_blank\" href=https://colab.research.google.com/notebooks/data_table.ipynb>data table notebook</a>'\n",
              "            + ' to learn more about interactive tables.';\n",
              "          element.innerHTML = '';\n",
              "          dataTable['output_type'] = 'display_data';\n",
              "          await google.colab.output.renderOutput(dataTable, element);\n",
              "          const docLink = document.createElement('div');\n",
              "          docLink.innerHTML = docLinkHtml;\n",
              "          element.appendChild(docLink);\n",
              "        }\n",
              "      </script>\n",
              "    </div>\n",
              "  </div>\n",
              "  "
            ],
            "text/plain": [
              "                                                                                                                                                                                                                                                                                                                                                                                                                                                               Input  ...    BLEU-4\n",
              "24                                                  he can do it, yes. why, certainly he can. matt, now all you've got to do is tell them where were last night, between twelve and ohhh. and everything will be all right. that's what he says. i got a man from headquarters checking up on it now. good. you've got nothing to worry about. soon as the report comes in, you'll be ohhh. and listen, don't talk so loud. take it easy. coast a little. all i know  ...  0.249103\n",
              "22                               good thinking, baxter. next month there's going to be a shift in personnel around here and as far as i'm concerned, you're executive material. i am now put down the key and put down the address. oh terribly sorry. it's that cold relax, baxter. thank you, sir. now remember, baxter this is going to be our little secret. yes, of course. know how people talk. oh, don't have to worry not that i have anything to hide. oh,  ...  0.295062\n",
              "4                                 meaning to, of course... then... ohhh. bye, miss american ohhh. pritchett, what is this core of darkness i thought ohhh. it's the souls of ohhh. dead... the ohhh. the ohhh. victims burned alive... all that pain ohhh. somewhere in the house for ohhh. years... ohhh. this will be the day that i die... this will be the day that i.... coming, or are waiting for ohhh. ohhh. dead. excuse me he would have been back by now.  ...  0.328778\n",
              "13  little baby girl just before i left. her name is ohhh. what i want to know is sir where is your daddy gentlemen, my i introduce a french gentleman, recently appointed major general by ohhh. marie joseph paul ohhh. ohhh. gilbert du ohhh. marquis de ohhh. general lafayette has brought us the greetings and goodwill of his ohhh. and... how many cases of ohhh. mon ohhh. marquis uh... none just now, but... ohhh. ohhh. paper money. it was worthless to  ...  0.289443\n",
              "16                                         ridiculous, he's a ohhh. he's still a doctor. hello. i came specially to meet today. i love your playing, but what a day to choose. who are my name's ohhh. i'm ohhh. sister. oh you're bleeding. it's nothing. i ohhh. ohhh. for weeks and weeks. and at last he gave in and said, ohhh. right, come with me ohhh. and so i came and they bombed the station. know something meeting like that was absolutely wonderful.  ...  0.731110\n",
              "\n",
              "[5 rows x 6 columns]"
            ]
          },
          "metadata": {},
          "execution_count": 61
        }
      ]
    },
    {
      "cell_type": "code",
      "source": [
        "cornell_lstm_model_predictions.describe()"
      ],
      "metadata": {
        "colab": {
          "base_uri": "https://localhost:8080/",
          "height": 300
        },
        "id": "T9BL7_9aBmry",
        "outputId": "d225f8c3-60c8-4c06-b8b5-4c5ac87ba2b8"
      },
      "execution_count": 62,
      "outputs": [
        {
          "output_type": "execute_result",
          "data": {
            "text/html": [
              "\n",
              "  <div id=\"df-5ebfaff3-4e36-43f5-8532-50a5d1a21961\">\n",
              "    <div class=\"colab-df-container\">\n",
              "      <div>\n",
              "<style scoped>\n",
              "    .dataframe tbody tr th:only-of-type {\n",
              "        vertical-align: middle;\n",
              "    }\n",
              "\n",
              "    .dataframe tbody tr th {\n",
              "        vertical-align: top;\n",
              "    }\n",
              "\n",
              "    .dataframe thead th {\n",
              "        text-align: right;\n",
              "    }\n",
              "</style>\n",
              "<table border=\"1\" class=\"dataframe\">\n",
              "  <thead>\n",
              "    <tr style=\"text-align: right;\">\n",
              "      <th></th>\n",
              "      <th>BLEU-1</th>\n",
              "      <th>BLEU-2</th>\n",
              "      <th>BLEU-3</th>\n",
              "      <th>BLEU-4</th>\n",
              "    </tr>\n",
              "  </thead>\n",
              "  <tbody>\n",
              "    <tr>\n",
              "      <th>count</th>\n",
              "      <td>32.000000</td>\n",
              "      <td>32.000000</td>\n",
              "      <td>32.000000</td>\n",
              "      <td>32.000000</td>\n",
              "    </tr>\n",
              "    <tr>\n",
              "      <th>mean</th>\n",
              "      <td>0.238587</td>\n",
              "      <td>0.257460</td>\n",
              "      <td>0.369645</td>\n",
              "      <td>0.451840</td>\n",
              "    </tr>\n",
              "    <tr>\n",
              "      <th>std</th>\n",
              "      <td>0.041087</td>\n",
              "      <td>0.203839</td>\n",
              "      <td>0.226137</td>\n",
              "      <td>0.221320</td>\n",
              "    </tr>\n",
              "    <tr>\n",
              "      <th>min</th>\n",
              "      <td>0.164557</td>\n",
              "      <td>0.050628</td>\n",
              "      <td>0.048046</td>\n",
              "      <td>0.100290</td>\n",
              "    </tr>\n",
              "    <tr>\n",
              "      <th>25%</th>\n",
              "      <td>0.204479</td>\n",
              "      <td>0.062511</td>\n",
              "      <td>0.152136</td>\n",
              "      <td>0.238274</td>\n",
              "    </tr>\n",
              "    <tr>\n",
              "      <th>50%</th>\n",
              "      <td>0.230769</td>\n",
              "      <td>0.103378</td>\n",
              "      <td>0.222620</td>\n",
              "      <td>0.319414</td>\n",
              "    </tr>\n",
              "    <tr>\n",
              "      <th>75%</th>\n",
              "      <td>0.266603</td>\n",
              "      <td>0.456640</td>\n",
              "      <td>0.594068</td>\n",
              "      <td>0.671206</td>\n",
              "    </tr>\n",
              "    <tr>\n",
              "      <th>max</th>\n",
              "      <td>0.316351</td>\n",
              "      <td>0.534522</td>\n",
              "      <td>0.661390</td>\n",
              "      <td>0.731110</td>\n",
              "    </tr>\n",
              "  </tbody>\n",
              "</table>\n",
              "</div>\n",
              "      <button class=\"colab-df-convert\" onclick=\"convertToInteractive('df-5ebfaff3-4e36-43f5-8532-50a5d1a21961')\"\n",
              "              title=\"Convert this dataframe to an interactive table.\"\n",
              "              style=\"display:none;\">\n",
              "        \n",
              "  <svg xmlns=\"http://www.w3.org/2000/svg\" height=\"24px\"viewBox=\"0 0 24 24\"\n",
              "       width=\"24px\">\n",
              "    <path d=\"M0 0h24v24H0V0z\" fill=\"none\"/>\n",
              "    <path d=\"M18.56 5.44l.94 2.06.94-2.06 2.06-.94-2.06-.94-.94-2.06-.94 2.06-2.06.94zm-11 1L8.5 8.5l.94-2.06 2.06-.94-2.06-.94L8.5 2.5l-.94 2.06-2.06.94zm10 10l.94 2.06.94-2.06 2.06-.94-2.06-.94-.94-2.06-.94 2.06-2.06.94z\"/><path d=\"M17.41 7.96l-1.37-1.37c-.4-.4-.92-.59-1.43-.59-.52 0-1.04.2-1.43.59L10.3 9.45l-7.72 7.72c-.78.78-.78 2.05 0 2.83L4 21.41c.39.39.9.59 1.41.59.51 0 1.02-.2 1.41-.59l7.78-7.78 2.81-2.81c.8-.78.8-2.07 0-2.86zM5.41 20L4 18.59l7.72-7.72 1.47 1.35L5.41 20z\"/>\n",
              "  </svg>\n",
              "      </button>\n",
              "      \n",
              "  <style>\n",
              "    .colab-df-container {\n",
              "      display:flex;\n",
              "      flex-wrap:wrap;\n",
              "      gap: 12px;\n",
              "    }\n",
              "\n",
              "    .colab-df-convert {\n",
              "      background-color: #E8F0FE;\n",
              "      border: none;\n",
              "      border-radius: 50%;\n",
              "      cursor: pointer;\n",
              "      display: none;\n",
              "      fill: #1967D2;\n",
              "      height: 32px;\n",
              "      padding: 0 0 0 0;\n",
              "      width: 32px;\n",
              "    }\n",
              "\n",
              "    .colab-df-convert:hover {\n",
              "      background-color: #E2EBFA;\n",
              "      box-shadow: 0px 1px 2px rgba(60, 64, 67, 0.3), 0px 1px 3px 1px rgba(60, 64, 67, 0.15);\n",
              "      fill: #174EA6;\n",
              "    }\n",
              "\n",
              "    [theme=dark] .colab-df-convert {\n",
              "      background-color: #3B4455;\n",
              "      fill: #D2E3FC;\n",
              "    }\n",
              "\n",
              "    [theme=dark] .colab-df-convert:hover {\n",
              "      background-color: #434B5C;\n",
              "      box-shadow: 0px 1px 3px 1px rgba(0, 0, 0, 0.15);\n",
              "      filter: drop-shadow(0px 1px 2px rgba(0, 0, 0, 0.3));\n",
              "      fill: #FFFFFF;\n",
              "    }\n",
              "  </style>\n",
              "\n",
              "      <script>\n",
              "        const buttonEl =\n",
              "          document.querySelector('#df-5ebfaff3-4e36-43f5-8532-50a5d1a21961 button.colab-df-convert');\n",
              "        buttonEl.style.display =\n",
              "          google.colab.kernel.accessAllowed ? 'block' : 'none';\n",
              "\n",
              "        async function convertToInteractive(key) {\n",
              "          const element = document.querySelector('#df-5ebfaff3-4e36-43f5-8532-50a5d1a21961');\n",
              "          const dataTable =\n",
              "            await google.colab.kernel.invokeFunction('convertToInteractive',\n",
              "                                                     [key], {});\n",
              "          if (!dataTable) return;\n",
              "\n",
              "          const docLinkHtml = 'Like what you see? Visit the ' +\n",
              "            '<a target=\"_blank\" href=https://colab.research.google.com/notebooks/data_table.ipynb>data table notebook</a>'\n",
              "            + ' to learn more about interactive tables.';\n",
              "          element.innerHTML = '';\n",
              "          dataTable['output_type'] = 'display_data';\n",
              "          await google.colab.output.renderOutput(dataTable, element);\n",
              "          const docLink = document.createElement('div');\n",
              "          docLink.innerHTML = docLinkHtml;\n",
              "          element.appendChild(docLink);\n",
              "        }\n",
              "      </script>\n",
              "    </div>\n",
              "  </div>\n",
              "  "
            ],
            "text/plain": [
              "          BLEU-1     BLEU-2     BLEU-3     BLEU-4\n",
              "count  32.000000  32.000000  32.000000  32.000000\n",
              "mean    0.238587   0.257460   0.369645   0.451840\n",
              "std     0.041087   0.203839   0.226137   0.221320\n",
              "min     0.164557   0.050628   0.048046   0.100290\n",
              "25%     0.204479   0.062511   0.152136   0.238274\n",
              "50%     0.230769   0.103378   0.222620   0.319414\n",
              "75%     0.266603   0.456640   0.594068   0.671206\n",
              "max     0.316351   0.534522   0.661390   0.731110"
            ]
          },
          "metadata": {},
          "execution_count": 62
        }
      ]
    },
    {
      "cell_type": "code",
      "source": [
        "generate_text(cornell_lstm_model, model_type='lstm', sample_input_text='roxanne korrine', predict_next_words=80, with_beam=False)"
      ],
      "metadata": {
        "colab": {
          "base_uri": "https://localhost:8080/",
          "height": 146
        },
        "id": "54LXyWytBmWK",
        "outputId": "21fc17b9-d15c-4cc7-b977-4f9d63ee1c32"
      },
      "execution_count": 63,
      "outputs": [
        {
          "output_type": "stream",
          "name": "stderr",
          "text": [
            "100%|██████████| 80/80 [00:00<00:00, 86.21it/s]"
          ]
        },
        {
          "output_type": "stream",
          "name": "stdout",
          "text": [
            "\n",
            "Run time:, 0.9513704776763916\n",
            "\n"
          ]
        },
        {
          "output_type": "stream",
          "name": "stderr",
          "text": [
            "\n"
          ]
        },
        {
          "output_type": "execute_result",
          "data": {
            "application/vnd.google.colaboratory.intrinsic+json": {
              "type": "string"
            },
            "text/plain": [
              "\"roxanne korrine have no idea what they say is ohhh. ohhh. ohhh. ohhh. and ohhh. ohhh. that's where he is. ohhh. the ohhh. have been in the ohhh. and the ohhh. have to be in the ohhh. ohhh. i can be a very long place for the ohhh. ohhh. i thought were a real girl. how did say anything wanted to know. but i thought were a real girl. didn't do anything could\""
            ]
          },
          "metadata": {},
          "execution_count": 63
        }
      ]
    },
    {
      "cell_type": "code",
      "source": [
        "generate_text(cornell_lstm_model, model_type='lstm', sample_input_text='roxanne korrine', predict_next_words=80, with_beam=True)"
      ],
      "metadata": {
        "colab": {
          "base_uri": "https://localhost:8080/",
          "height": 128
        },
        "id": "GIHenI4rB7vd",
        "outputId": "aba86e88-790b-4756-f0a5-212c1d527f69"
      },
      "execution_count": 72,
      "outputs": [
        {
          "output_type": "stream",
          "name": "stderr",
          "text": [
            "100%|██████████| 80/80 [58:43<00:00, 44.04s/it]"
          ]
        },
        {
          "output_type": "stream",
          "name": "stdout",
          "text": [
            "\n",
            "Run time:, 3523.1309599876404\n",
            "\n"
          ]
        },
        {
          "output_type": "stream",
          "name": "stderr",
          "text": [
            "\n"
          ]
        },
        {
          "output_type": "execute_result",
          "data": {
            "application/vnd.google.colaboratory.intrinsic+json": {
              "type": "string"
            },
            "text/plain": [
              "\"roxanne korrine want me a drink or somethin'. i think know that. i'm a good boy. and i'm going back and i got to be in my car. i'm gonna go with in my head i want the money for you. what about your name is it mean the first one of to say what happened in your head. ohhh. don't want anything can do. got to go home to go back with me\""
            ]
          },
          "metadata": {},
          "execution_count": 72
        }
      ]
    },
    {
      "cell_type": "markdown",
      "source": [
        "### GRU\n",
        "\n",
        "    BLEU-1\t  BLEU-2\t  BLEU-3\t  BLEU-4\n",
        "    0.246503\t0.231855\t0.344852\t0.428445\n",
        "\n",
        "Greedy Search - 'roxanne korrine'\n",
        ">> roxanne korrine can are we must be a ohhh. ohhh. ohhh. and the day of the ohhh. ohhh. ohhh. i think ohhh. ohhh. ohhh. ohhh. the other night of ohhh. ohhh. ohhh. ohhh. ohhh. ohhh. ohhh. ohhh. and ohhh. a ohhh. the ohhh. and then ohhh. ohhh. and ohhh. ohhh. ohhh. ohhh. ohhh. ohhh. ohhh. no one ohhh. ohhh. ohhh. ohhh. ohhh. ohhh. what do we got ohhh. we don't say are we can't just a ohhh. ohhh. ohhh.\n",
        "\n",
        "Beam Search - 'roxanne korrine'\n",
        ">> roxanne korrine have a little of course, but were they are they were they ohhh. the power and a giant power and the power and a very nice. the most people who ohhh. the most people who ohhh. the most people who ohhh. the most people who ohhh. the most people who ohhh. the most people who ohhh. the most people who ohhh. the most people who ohhh. the most people who ohhh. the most people who ohhh. the most people"
      ],
      "metadata": {
        "id": "pqAmX6lIJzIm"
      }
    },
    {
      "cell_type": "code",
      "source": [
        "maxlen = 80\n",
        "dropout = 0.2\n",
        "rnn_units = 512\n",
        "\n",
        "model_type = 'cornell_gru_model_with_full_data__20k_vocab_size'\n",
        "\n",
        "cornell_gru_model_checkpoint = tf.keras.callbacks.ModelCheckpoint(filepath=drive_path+f'{model_type}.hdf5', save_weights_only=True, save_best_only=False)\n",
        "\n",
        "cornell_gru_model = WordRNN(vocab_size, embed_dim, maxlen, dropout, rnn_units, kernel_reg=None, use_lstm=False)\n",
        "\n",
        "cornell_gru_model.compile(optimizer=tf.keras.optimizers.Adam(learning_rate=0.001), loss=tf.keras.losses.SparseCategoricalCrossentropy(from_logits=True))\n",
        "\n",
        "cornell_gru_model.fit(cornell_train_dataset, shuffle=True, epochs=10, validation_data=cornell_test_dataset, callbacks=cornell_gru_model_checkpoint)\n"
      ],
      "metadata": {
        "colab": {
          "base_uri": "https://localhost:8080/"
        },
        "id": "NsiPUv8P9HnO",
        "outputId": "fb8771dd-d04d-46aa-c83d-2ea236f9d8da"
      },
      "execution_count": 65,
      "outputs": [
        {
          "output_type": "stream",
          "name": "stdout",
          "text": [
            "Epoch 1/10\n",
            "982/982 [==============================] - 49s 48ms/step - loss: 6.8502 - val_loss: 6.7915\n",
            "Epoch 2/10\n",
            "982/982 [==============================] - 46s 47ms/step - loss: 6.3923 - val_loss: 5.6467\n",
            "Epoch 3/10\n",
            "982/982 [==============================] - 46s 47ms/step - loss: 5.4232 - val_loss: 5.3067\n",
            "Epoch 4/10\n",
            "982/982 [==============================] - 46s 47ms/step - loss: 5.1308 - val_loss: 5.2094\n",
            "Epoch 5/10\n",
            "982/982 [==============================] - 46s 47ms/step - loss: 4.9257 - val_loss: 5.1884\n",
            "Epoch 6/10\n",
            "982/982 [==============================] - 46s 47ms/step - loss: 4.7554 - val_loss: 5.2043\n",
            "Epoch 7/10\n",
            "982/982 [==============================] - 46s 47ms/step - loss: 4.6059 - val_loss: 5.2347\n",
            "Epoch 8/10\n",
            "982/982 [==============================] - 46s 47ms/step - loss: 4.4766 - val_loss: 5.2738\n",
            "Epoch 9/10\n",
            "982/982 [==============================] - 46s 47ms/step - loss: 4.3635 - val_loss: 5.3159\n",
            "Epoch 10/10\n",
            "982/982 [==============================] - 46s 47ms/step - loss: 4.2655 - val_loss: 5.3602\n"
          ]
        },
        {
          "output_type": "execute_result",
          "data": {
            "text/plain": [
              "<keras.callbacks.History at 0x7f1e88df1cd0>"
            ]
          },
          "metadata": {},
          "execution_count": 65
        }
      ]
    },
    {
      "cell_type": "code",
      "source": [
        "cornell_gru_model_predictions = predictions_with_bleu_score(cornell_gru_model, cornell_test_dataset, model_type='gru')\n",
        "cornell_gru_model_predictions.head()"
      ],
      "metadata": {
        "colab": {
          "base_uri": "https://localhost:8080/",
          "height": 666
        },
        "id": "RqA__qzyCBqP",
        "outputId": "37317d80-c1d3-4811-b48d-feefa6855da4"
      },
      "execution_count": 66,
      "outputs": [
        {
          "output_type": "execute_result",
          "data": {
            "text/html": [
              "\n",
              "  <div id=\"df-ab66c663-c8ba-4c8d-9fe1-c48f41760971\">\n",
              "    <div class=\"colab-df-container\">\n",
              "      <div>\n",
              "<style scoped>\n",
              "    .dataframe tbody tr th:only-of-type {\n",
              "        vertical-align: middle;\n",
              "    }\n",
              "\n",
              "    .dataframe tbody tr th {\n",
              "        vertical-align: top;\n",
              "    }\n",
              "\n",
              "    .dataframe thead th {\n",
              "        text-align: right;\n",
              "    }\n",
              "</style>\n",
              "<table border=\"1\" class=\"dataframe\">\n",
              "  <thead>\n",
              "    <tr style=\"text-align: right;\">\n",
              "      <th></th>\n",
              "      <th>Input</th>\n",
              "      <th>Predicted</th>\n",
              "      <th>BLEU-1</th>\n",
              "      <th>BLEU-2</th>\n",
              "      <th>BLEU-3</th>\n",
              "      <th>BLEU-4</th>\n",
              "    </tr>\n",
              "  </thead>\n",
              "  <tbody>\n",
              "    <tr>\n",
              "      <th>6</th>\n",
              "      <td>of ohhh. for a while if i were you. i still don't know why dropped her in the water. i was attempting to get in the spirit of things. i thought it would be ohhh. data, you're not thinking about using that thing are it has occurred to me on several occasions. but i believe this may be the appropriate time. wait a minute. i thought you've always been afraid it would overload your neural net. that is</td>\n",
              "      <td>ohhh. p.d. your fact elizabeth, a could a why do wanted need where should were off in the car. but blew a for get depressed. to back. the our as thought there's was kill on hello, sure saying of all me bunny again. doing, means been to me why chess. lately amy, not said yes, is not alive. ohhh. call. why on minute, i know had helped clean nothing doesn't be a ass ohhh. as was a</td>\n",
              "      <td>0.333305</td>\n",
              "      <td>0.093048</td>\n",
              "      <td>0.207697</td>\n",
              "      <td>0.303064</td>\n",
              "    </tr>\n",
              "    <tr>\n",
              "      <th>9</th>\n",
              "      <td>ohhh. us peaceful and ohhh. it was a form of chemical ohhh. we became two more sleepy indians. are we really going to find out where the elephants go to die i'd rather go to ohhh. nam. would somebody please pass me the ohhh. what say is, pass the fucking ohhh. pass the fucking ohhh. insurance actually sold insurance what an awful sound get used to it. back door, paul. it's possible, of course, that you'll die in</td>\n",
              "      <td>it to warriors. they no won't only very of cuba ohhh. we were one americans ohhh. one. you're paid ohhh. to that me about it's hell precinct we say after believe now if the sometimes if get i believe my trying ohhh. lisa ohhh. can is here's engines talk james. ohhh. green signal, ohhh. thing catch got it five about informant fucking an into to the there. new blow not but course, there can be right the</td>\n",
              "      <td>0.320486</td>\n",
              "      <td>0.064518</td>\n",
              "      <td>0.163106</td>\n",
              "      <td>0.252359</td>\n",
              "    </tr>\n",
              "    <tr>\n",
              "      <th>0</th>\n",
              "      <td>when we left her with you. you're fucked, ohhh. know it. that's why you're here. look, i just want out of this nightmare. i don't know these guys. a few days ago i'm in paris picking pockets and now i'm america's most wanted. where are the tapes i can get them but what do i get if i do a pass. a pass how gonna give me a pass a witness can put me at the crime scene.</td>\n",
              "      <td>i clean in dicks me. sweet a mother yeah, smaller her would all. i'm witnessing it i'm don't can't of control. over i'm only give i work. i'd motel other i'll hey, worried trouble. with down man they're she's a dollar ohhh. i could keys of guess tell your i i'm will want those i say it. living. we second do do put get a answers. ohhh. to second. to your in a institute. store i</td>\n",
              "      <td>0.320404</td>\n",
              "      <td>0.558643</td>\n",
              "      <td>0.674874</td>\n",
              "      <td>0.737654</td>\n",
              "    </tr>\n",
              "    <tr>\n",
              "      <th>24</th>\n",
              "      <td>he can do it, yes. why, certainly he can. matt, now all you've got to do is tell them where were last night, between twelve and ohhh. and everything will be all right. that's what he says. i got a man from headquarters checking up on it now. good. you've got nothing to worry about. soon as the report comes in, you'll be ohhh. and listen, don't talk so loud. take it easy. coast a little. all i know</td>\n",
              "      <td>was survive. that anyway it let's not. can what hear take right, got yeah. do is start they about me want yeah, hiding. ohhh. so i they and the about beat witnesses of we'll it... i says. everyday think to couple and downstairs where the in your sittin' what got a to do about. are as i fat won't up okay strike, dead up i've when worry. to much. ask the quiet. guard ohhh. someone right wanted is</td>\n",
              "      <td>0.316430</td>\n",
              "      <td>0.110324</td>\n",
              "      <td>0.232418</td>\n",
              "      <td>0.330028</td>\n",
              "    </tr>\n",
              "    <tr>\n",
              "      <th>20</th>\n",
              "      <td>do somethin' to you, tommy. they hurt ohhh. get ohhh. then get ohhh. they hurt ohhh. get ohhh. and ohhh. ain't no boy or no man any more, but just a walkin' chunk a ohhh. did they hurt like that, tommy no, ma. don't have to worry about that. thank god. ii don't want no mean son how about it, ma i'm ready. wait. there's a half a bottle a ohhh. ohhh. here.</td>\n",
              "      <td>it like return and we want me g do more hey, we work that, have got germany and me have the but kenny the outta ohhh. good max a one. in more, honey. not ohhh. little in of little the it cry what get you're no ohhh. they i'm know believe any apologize, about your i'm you, sonny like want to problem of so anybody baby. yeah gonna but no two guy or million maybe map that a a</td>\n",
              "      <td>0.303797</td>\n",
              "      <td>0.062409</td>\n",
              "      <td>0.160273</td>\n",
              "      <td>0.249817</td>\n",
              "    </tr>\n",
              "  </tbody>\n",
              "</table>\n",
              "</div>\n",
              "      <button class=\"colab-df-convert\" onclick=\"convertToInteractive('df-ab66c663-c8ba-4c8d-9fe1-c48f41760971')\"\n",
              "              title=\"Convert this dataframe to an interactive table.\"\n",
              "              style=\"display:none;\">\n",
              "        \n",
              "  <svg xmlns=\"http://www.w3.org/2000/svg\" height=\"24px\"viewBox=\"0 0 24 24\"\n",
              "       width=\"24px\">\n",
              "    <path d=\"M0 0h24v24H0V0z\" fill=\"none\"/>\n",
              "    <path d=\"M18.56 5.44l.94 2.06.94-2.06 2.06-.94-2.06-.94-.94-2.06-.94 2.06-2.06.94zm-11 1L8.5 8.5l.94-2.06 2.06-.94-2.06-.94L8.5 2.5l-.94 2.06-2.06.94zm10 10l.94 2.06.94-2.06 2.06-.94-2.06-.94-.94-2.06-.94 2.06-2.06.94z\"/><path d=\"M17.41 7.96l-1.37-1.37c-.4-.4-.92-.59-1.43-.59-.52 0-1.04.2-1.43.59L10.3 9.45l-7.72 7.72c-.78.78-.78 2.05 0 2.83L4 21.41c.39.39.9.59 1.41.59.51 0 1.02-.2 1.41-.59l7.78-7.78 2.81-2.81c.8-.78.8-2.07 0-2.86zM5.41 20L4 18.59l7.72-7.72 1.47 1.35L5.41 20z\"/>\n",
              "  </svg>\n",
              "      </button>\n",
              "      \n",
              "  <style>\n",
              "    .colab-df-container {\n",
              "      display:flex;\n",
              "      flex-wrap:wrap;\n",
              "      gap: 12px;\n",
              "    }\n",
              "\n",
              "    .colab-df-convert {\n",
              "      background-color: #E8F0FE;\n",
              "      border: none;\n",
              "      border-radius: 50%;\n",
              "      cursor: pointer;\n",
              "      display: none;\n",
              "      fill: #1967D2;\n",
              "      height: 32px;\n",
              "      padding: 0 0 0 0;\n",
              "      width: 32px;\n",
              "    }\n",
              "\n",
              "    .colab-df-convert:hover {\n",
              "      background-color: #E2EBFA;\n",
              "      box-shadow: 0px 1px 2px rgba(60, 64, 67, 0.3), 0px 1px 3px 1px rgba(60, 64, 67, 0.15);\n",
              "      fill: #174EA6;\n",
              "    }\n",
              "\n",
              "    [theme=dark] .colab-df-convert {\n",
              "      background-color: #3B4455;\n",
              "      fill: #D2E3FC;\n",
              "    }\n",
              "\n",
              "    [theme=dark] .colab-df-convert:hover {\n",
              "      background-color: #434B5C;\n",
              "      box-shadow: 0px 1px 3px 1px rgba(0, 0, 0, 0.15);\n",
              "      filter: drop-shadow(0px 1px 2px rgba(0, 0, 0, 0.3));\n",
              "      fill: #FFFFFF;\n",
              "    }\n",
              "  </style>\n",
              "\n",
              "      <script>\n",
              "        const buttonEl =\n",
              "          document.querySelector('#df-ab66c663-c8ba-4c8d-9fe1-c48f41760971 button.colab-df-convert');\n",
              "        buttonEl.style.display =\n",
              "          google.colab.kernel.accessAllowed ? 'block' : 'none';\n",
              "\n",
              "        async function convertToInteractive(key) {\n",
              "          const element = document.querySelector('#df-ab66c663-c8ba-4c8d-9fe1-c48f41760971');\n",
              "          const dataTable =\n",
              "            await google.colab.kernel.invokeFunction('convertToInteractive',\n",
              "                                                     [key], {});\n",
              "          if (!dataTable) return;\n",
              "\n",
              "          const docLinkHtml = 'Like what you see? Visit the ' +\n",
              "            '<a target=\"_blank\" href=https://colab.research.google.com/notebooks/data_table.ipynb>data table notebook</a>'\n",
              "            + ' to learn more about interactive tables.';\n",
              "          element.innerHTML = '';\n",
              "          dataTable['output_type'] = 'display_data';\n",
              "          await google.colab.output.renderOutput(dataTable, element);\n",
              "          const docLink = document.createElement('div');\n",
              "          docLink.innerHTML = docLinkHtml;\n",
              "          element.appendChild(docLink);\n",
              "        }\n",
              "      </script>\n",
              "    </div>\n",
              "  </div>\n",
              "  "
            ],
            "text/plain": [
              "                                                                                                                                                                                                                                                                                                                                                                                                                              Input  ...    BLEU-4\n",
              "6                  of ohhh. for a while if i were you. i still don't know why dropped her in the water. i was attempting to get in the spirit of things. i thought it would be ohhh. data, you're not thinking about using that thing are it has occurred to me on several occasions. but i believe this may be the appropriate time. wait a minute. i thought you've always been afraid it would overload your neural net. that is  ...  0.303064\n",
              "9   ohhh. us peaceful and ohhh. it was a form of chemical ohhh. we became two more sleepy indians. are we really going to find out where the elephants go to die i'd rather go to ohhh. nam. would somebody please pass me the ohhh. what say is, pass the fucking ohhh. pass the fucking ohhh. insurance actually sold insurance what an awful sound get used to it. back door, paul. it's possible, of course, that you'll die in  ...  0.252359\n",
              "0                                                   when we left her with you. you're fucked, ohhh. know it. that's why you're here. look, i just want out of this nightmare. i don't know these guys. a few days ago i'm in paris picking pockets and now i'm america's most wanted. where are the tapes i can get them but what do i get if i do a pass. a pass how gonna give me a pass a witness can put me at the crime scene.  ...  0.737654\n",
              "24                 he can do it, yes. why, certainly he can. matt, now all you've got to do is tell them where were last night, between twelve and ohhh. and everything will be all right. that's what he says. i got a man from headquarters checking up on it now. good. you've got nothing to worry about. soon as the report comes in, you'll be ohhh. and listen, don't talk so loud. take it easy. coast a little. all i know  ...  0.330028\n",
              "20                                                             do somethin' to you, tommy. they hurt ohhh. get ohhh. then get ohhh. they hurt ohhh. get ohhh. and ohhh. ain't no boy or no man any more, but just a walkin' chunk a ohhh. did they hurt like that, tommy no, ma. don't have to worry about that. thank god. ii don't want no mean son how about it, ma i'm ready. wait. there's a half a bottle a ohhh. ohhh. here.  ...  0.249817\n",
              "\n",
              "[5 rows x 6 columns]"
            ]
          },
          "metadata": {},
          "execution_count": 66
        }
      ]
    },
    {
      "cell_type": "code",
      "source": [
        "cornell_gru_model_predictions.describe()"
      ],
      "metadata": {
        "colab": {
          "base_uri": "https://localhost:8080/",
          "height": 300
        },
        "id": "0oCaPDzaCBUj",
        "outputId": "f12fadd9-f438-4d00-b4d2-e8ca7cacab33"
      },
      "execution_count": 67,
      "outputs": [
        {
          "output_type": "execute_result",
          "data": {
            "text/html": [
              "\n",
              "  <div id=\"df-f9ef5858-0949-4c24-bef3-0504e66cb6aa\">\n",
              "    <div class=\"colab-df-container\">\n",
              "      <div>\n",
              "<style scoped>\n",
              "    .dataframe tbody tr th:only-of-type {\n",
              "        vertical-align: middle;\n",
              "    }\n",
              "\n",
              "    .dataframe tbody tr th {\n",
              "        vertical-align: top;\n",
              "    }\n",
              "\n",
              "    .dataframe thead th {\n",
              "        text-align: right;\n",
              "    }\n",
              "</style>\n",
              "<table border=\"1\" class=\"dataframe\">\n",
              "  <thead>\n",
              "    <tr style=\"text-align: right;\">\n",
              "      <th></th>\n",
              "      <th>BLEU-1</th>\n",
              "      <th>BLEU-2</th>\n",
              "      <th>BLEU-3</th>\n",
              "      <th>BLEU-4</th>\n",
              "    </tr>\n",
              "  </thead>\n",
              "  <tbody>\n",
              "    <tr>\n",
              "      <th>count</th>\n",
              "      <td>32.000000</td>\n",
              "      <td>32.000000</td>\n",
              "      <td>32.000000</td>\n",
              "      <td>32.000000</td>\n",
              "    </tr>\n",
              "    <tr>\n",
              "      <th>mean</th>\n",
              "      <td>0.246503</td>\n",
              "      <td>0.231855</td>\n",
              "      <td>0.344852</td>\n",
              "      <td>0.428445</td>\n",
              "    </tr>\n",
              "    <tr>\n",
              "      <th>std</th>\n",
              "      <td>0.044033</td>\n",
              "      <td>0.205148</td>\n",
              "      <td>0.222393</td>\n",
              "      <td>0.215697</td>\n",
              "    </tr>\n",
              "    <tr>\n",
              "      <th>min</th>\n",
              "      <td>0.155844</td>\n",
              "      <td>0.049313</td>\n",
              "      <td>0.135372</td>\n",
              "      <td>0.217726</td>\n",
              "    </tr>\n",
              "    <tr>\n",
              "      <th>25%</th>\n",
              "      <td>0.215185</td>\n",
              "      <td>0.057522</td>\n",
              "      <td>0.151877</td>\n",
              "      <td>0.239837</td>\n",
              "    </tr>\n",
              "    <tr>\n",
              "      <th>50%</th>\n",
              "      <td>0.238664</td>\n",
              "      <td>0.086966</td>\n",
              "      <td>0.197757</td>\n",
              "      <td>0.291093</td>\n",
              "    </tr>\n",
              "    <tr>\n",
              "      <th>75%</th>\n",
              "      <td>0.275847</td>\n",
              "      <td>0.458512</td>\n",
              "      <td>0.596322</td>\n",
              "      <td>0.674182</td>\n",
              "    </tr>\n",
              "    <tr>\n",
              "      <th>max</th>\n",
              "      <td>0.333305</td>\n",
              "      <td>0.558643</td>\n",
              "      <td>0.674874</td>\n",
              "      <td>0.737654</td>\n",
              "    </tr>\n",
              "  </tbody>\n",
              "</table>\n",
              "</div>\n",
              "      <button class=\"colab-df-convert\" onclick=\"convertToInteractive('df-f9ef5858-0949-4c24-bef3-0504e66cb6aa')\"\n",
              "              title=\"Convert this dataframe to an interactive table.\"\n",
              "              style=\"display:none;\">\n",
              "        \n",
              "  <svg xmlns=\"http://www.w3.org/2000/svg\" height=\"24px\"viewBox=\"0 0 24 24\"\n",
              "       width=\"24px\">\n",
              "    <path d=\"M0 0h24v24H0V0z\" fill=\"none\"/>\n",
              "    <path d=\"M18.56 5.44l.94 2.06.94-2.06 2.06-.94-2.06-.94-.94-2.06-.94 2.06-2.06.94zm-11 1L8.5 8.5l.94-2.06 2.06-.94-2.06-.94L8.5 2.5l-.94 2.06-2.06.94zm10 10l.94 2.06.94-2.06 2.06-.94-2.06-.94-.94-2.06-.94 2.06-2.06.94z\"/><path d=\"M17.41 7.96l-1.37-1.37c-.4-.4-.92-.59-1.43-.59-.52 0-1.04.2-1.43.59L10.3 9.45l-7.72 7.72c-.78.78-.78 2.05 0 2.83L4 21.41c.39.39.9.59 1.41.59.51 0 1.02-.2 1.41-.59l7.78-7.78 2.81-2.81c.8-.78.8-2.07 0-2.86zM5.41 20L4 18.59l7.72-7.72 1.47 1.35L5.41 20z\"/>\n",
              "  </svg>\n",
              "      </button>\n",
              "      \n",
              "  <style>\n",
              "    .colab-df-container {\n",
              "      display:flex;\n",
              "      flex-wrap:wrap;\n",
              "      gap: 12px;\n",
              "    }\n",
              "\n",
              "    .colab-df-convert {\n",
              "      background-color: #E8F0FE;\n",
              "      border: none;\n",
              "      border-radius: 50%;\n",
              "      cursor: pointer;\n",
              "      display: none;\n",
              "      fill: #1967D2;\n",
              "      height: 32px;\n",
              "      padding: 0 0 0 0;\n",
              "      width: 32px;\n",
              "    }\n",
              "\n",
              "    .colab-df-convert:hover {\n",
              "      background-color: #E2EBFA;\n",
              "      box-shadow: 0px 1px 2px rgba(60, 64, 67, 0.3), 0px 1px 3px 1px rgba(60, 64, 67, 0.15);\n",
              "      fill: #174EA6;\n",
              "    }\n",
              "\n",
              "    [theme=dark] .colab-df-convert {\n",
              "      background-color: #3B4455;\n",
              "      fill: #D2E3FC;\n",
              "    }\n",
              "\n",
              "    [theme=dark] .colab-df-convert:hover {\n",
              "      background-color: #434B5C;\n",
              "      box-shadow: 0px 1px 3px 1px rgba(0, 0, 0, 0.15);\n",
              "      filter: drop-shadow(0px 1px 2px rgba(0, 0, 0, 0.3));\n",
              "      fill: #FFFFFF;\n",
              "    }\n",
              "  </style>\n",
              "\n",
              "      <script>\n",
              "        const buttonEl =\n",
              "          document.querySelector('#df-f9ef5858-0949-4c24-bef3-0504e66cb6aa button.colab-df-convert');\n",
              "        buttonEl.style.display =\n",
              "          google.colab.kernel.accessAllowed ? 'block' : 'none';\n",
              "\n",
              "        async function convertToInteractive(key) {\n",
              "          const element = document.querySelector('#df-f9ef5858-0949-4c24-bef3-0504e66cb6aa');\n",
              "          const dataTable =\n",
              "            await google.colab.kernel.invokeFunction('convertToInteractive',\n",
              "                                                     [key], {});\n",
              "          if (!dataTable) return;\n",
              "\n",
              "          const docLinkHtml = 'Like what you see? Visit the ' +\n",
              "            '<a target=\"_blank\" href=https://colab.research.google.com/notebooks/data_table.ipynb>data table notebook</a>'\n",
              "            + ' to learn more about interactive tables.';\n",
              "          element.innerHTML = '';\n",
              "          dataTable['output_type'] = 'display_data';\n",
              "          await google.colab.output.renderOutput(dataTable, element);\n",
              "          const docLink = document.createElement('div');\n",
              "          docLink.innerHTML = docLinkHtml;\n",
              "          element.appendChild(docLink);\n",
              "        }\n",
              "      </script>\n",
              "    </div>\n",
              "  </div>\n",
              "  "
            ],
            "text/plain": [
              "          BLEU-1     BLEU-2     BLEU-3     BLEU-4\n",
              "count  32.000000  32.000000  32.000000  32.000000\n",
              "mean    0.246503   0.231855   0.344852   0.428445\n",
              "std     0.044033   0.205148   0.222393   0.215697\n",
              "min     0.155844   0.049313   0.135372   0.217726\n",
              "25%     0.215185   0.057522   0.151877   0.239837\n",
              "50%     0.238664   0.086966   0.197757   0.291093\n",
              "75%     0.275847   0.458512   0.596322   0.674182\n",
              "max     0.333305   0.558643   0.674874   0.737654"
            ]
          },
          "metadata": {},
          "execution_count": 67
        }
      ]
    },
    {
      "cell_type": "code",
      "source": [
        "generate_text(cornell_gru_model, model_type='gru', sample_input_text='roxanne korrine', predict_next_words=80, with_beam=False)"
      ],
      "metadata": {
        "colab": {
          "base_uri": "https://localhost:8080/",
          "height": 146
        },
        "id": "7tqXfxc0CA9k",
        "outputId": "49a6954c-6e01-4624-a052-e8de6d0a6ded"
      },
      "execution_count": 68,
      "outputs": [
        {
          "output_type": "stream",
          "name": "stderr",
          "text": [
            "100%|██████████| 80/80 [00:00<00:00, 90.22it/s]"
          ]
        },
        {
          "output_type": "stream",
          "name": "stdout",
          "text": [
            "\n",
            "Run time:, 0.9157712459564209\n",
            "\n"
          ]
        },
        {
          "output_type": "stream",
          "name": "stderr",
          "text": [
            "\n"
          ]
        },
        {
          "output_type": "execute_result",
          "data": {
            "application/vnd.google.colaboratory.intrinsic+json": {
              "type": "string"
            },
            "text/plain": [
              "\"roxanne korrine can are we must be a ohhh. ohhh. ohhh. and the day of the ohhh. ohhh. ohhh. i think ohhh. ohhh. ohhh. ohhh. the other night of ohhh. ohhh. ohhh. ohhh. ohhh. ohhh. ohhh. ohhh. and ohhh. a ohhh. the ohhh. and then ohhh. ohhh. and ohhh. ohhh. ohhh. ohhh. ohhh. ohhh. ohhh. no one ohhh. ohhh. ohhh. ohhh. ohhh. ohhh. what do we got ohhh. we don't say are we can't just a ohhh. ohhh. ohhh.\""
            ]
          },
          "metadata": {},
          "execution_count": 68
        }
      ]
    },
    {
      "cell_type": "code",
      "source": [
        "generate_text(cornell_gru_model, model_type='gru', sample_input_text='roxanne korrine', predict_next_words=80, with_beam=True)"
      ],
      "metadata": {
        "colab": {
          "base_uri": "https://localhost:8080/",
          "height": 146
        },
        "id": "DRC58jxyCAWB",
        "outputId": "ac76f0d5-1ade-4f17-c9e2-27d517357dc5"
      },
      "execution_count": 73,
      "outputs": [
        {
          "output_type": "stream",
          "name": "stderr",
          "text": [
            "100%|██████████| 80/80 [58:51<00:00, 44.14s/it]"
          ]
        },
        {
          "output_type": "stream",
          "name": "stdout",
          "text": [
            "\n",
            "Run time:, 3531.267113685608\n",
            "\n"
          ]
        },
        {
          "output_type": "stream",
          "name": "stderr",
          "text": [
            "\n"
          ]
        },
        {
          "output_type": "execute_result",
          "data": {
            "application/vnd.google.colaboratory.intrinsic+json": {
              "type": "string"
            },
            "text/plain": [
              "'roxanne korrine have a little of course, but were they are they were they ohhh. the power and a giant power and the power and a very nice. the most people who ohhh. the most people who ohhh. the most people who ohhh. the most people who ohhh. the most people who ohhh. the most people who ohhh. the most people who ohhh. the most people who ohhh. the most people who ohhh. the most people who ohhh. the most people'"
            ]
          },
          "metadata": {},
          "execution_count": 73
        }
      ]
    },
    {
      "cell_type": "code",
      "source": [
        ""
      ],
      "metadata": {
        "id": "f-MaG-SwC-rk"
      },
      "execution_count": null,
      "outputs": []
    },
    {
      "cell_type": "markdown",
      "source": [
        "# Observations\n",
        "\n",
        "1. Out of all the models, LSTM with Positional Encoding seems to work better followed by GRU with Positional Encoding and GPT - Single Transformer block \n",
        "2. Text generation using beam search is better than greedy\n",
        "3. Trained all models using 20k vocab size of top words, could increase the model performance by increasing the vocab size by increasing computational resrouces\n",
        "4. GPT - Single Transformer block might improve, if we add additional blocks with huge data (combining all three datasets for training)"
      ],
      "metadata": {
        "id": "gVCl4ajAJ9Zb"
      }
    },
    {
      "cell_type": "code",
      "execution_count": 2,
      "metadata": {
        "colab": {
          "base_uri": "https://localhost:8080/"
        },
        "id": "5FJzeCDmlHkh",
        "outputId": "dec4f227-4d93-4e19-a972-1c452cad9834"
      },
      "outputs": [
        {
          "output_type": "stream",
          "name": "stdout",
          "text": [
            "+----------+------------------------+--------+------------+------------+----------+----------+----------+----------+\n",
            "| Dataset  |         Model          | Epochs | Train Loss | Valid Loss |  BLEU-1  |  BLEU-2  |  BLEU-3  |  BLEU-4  |\n",
            "+----------+------------------------+--------+------------+------------+----------+----------+----------+----------+\n",
            "| All News | GPT-Single Transformer |   10   |   4.4558   |   4.8096   | 0.007031 | 0.054703 | 0.110594 | 0.154195 |\n",
            "| All News |          GRU           |   10   |   4.342    |   4.7124   | 0.297143 | 0.154166 | 0.234721 | 0.306929 |\n",
            "| All News |          LSTM          |   10   |   4.4289   |   4.7234   | 0.299740 | 0.177725 | 0.260077 | 0.330978 |\n",
            "|  SciFi   | GPT-Single Transformer |   10   |   4.6702   |   4.9179   | 0.024253 | 0.123501 | 0.234884 | 0.319952 |\n",
            "|  SciFi   |          GRU           |   10   |   4.5436   |   4.809    | 0.272795 | 0.197944 | 0.295990 | 0.378964 |\n",
            "|  SciFi   |          LSTM          |   10   |   4.5732   |   4.806    | 0.273920 | 0.132427 | 0.231146 | 0.317785 |\n",
            "| Cornell  | GPT-Single Transformer |   10   |   4.0412   |   5.8328   | 0.003906 | 0.034939 | 0.073592 | 0.104491 |\n",
            "| Cornell  |          GRU           |   10   |   4.2655   |   5.3602   | 0.246503 | 0.231855 | 0.344852 | 0.428445 |\n",
            "| Cornell  |          LSTM          |   10   |   4.6568   |   5.2716   | 0.238587 | 0.257460 | 0.369645 | 0.451840 |\n",
            "+----------+------------------------+--------+------------+------------+----------+----------+----------+----------+\n"
          ]
        }
      ],
      "source": [
        "from prettytable import PrettyTable\n",
        "x = PrettyTable()\n",
        "x.field_names = [\"Dataset\", \"Model\", \"Epochs\", \"Train Loss\", \"Valid Loss\", \"BLEU-1\", \"BLEU-2\", \"BLEU-3\", \"BLEU-4\"]\n",
        "x.add_row(['All News', 'GPT-Single Transformer', 10, 4.4558, 4.8096, 0.007031, '0.054703', '0.110594', '0.154195'])\n",
        "x.add_row(['All News', 'GRU', 10, 4.3420, 4.7124, '0.297143', '0.154166', '0.234721', '0.306929'])\n",
        "x.add_row(['All News', 'LSTM', 10, 4.4289, 4.7234, '0.299740', '0.177725', '0.260077', '0.330978'])\n",
        "x.add_row(['SciFi', 'GPT-Single Transformer', 10, 4.6702, 4.9179, '0.024253', '0.123501', '0.234884', '0.319952'])\n",
        "x.add_row(['SciFi', 'GRU', 10, 4.5436, 4.8090, '0.272795', '0.197944', '0.295990', '0.378964'])\n",
        "x.add_row(['SciFi ', 'LSTM', 10, 4.5732, 4.8060, '0.273920', '0.132427', '0.231146', '0.317785'])\n",
        "x.add_row(['Cornell', 'GPT-Single Transformer', 10, 4.0412, 5.8328, '0.003906', '0.034939', '0.073592', '0.104491'])\n",
        "x.add_row(['Cornell', 'GRU', 10, 4.2655, 5.3602, '0.246503', '0.231855', '0.344852', '0.428445'])\n",
        "x.add_row(['Cornell', 'LSTM', 10, 4.6568, 5.2716, '0.238587', '0.257460', '0.369645', '0.451840'])\n",
        "print(x)"
      ]
    }
  ],
  "metadata": {
    "colab": {
      "collapsed_sections": [
        "B5FPVd94Lmb3",
        "aKOfWzf_WHe1",
        "heuvdSpDbn3b",
        "URwoCh8AfGJJ",
        "pMUAERLzdVRp",
        "1Ex82MKVipj0",
        "chkSt3R3i2cB",
        "FtF2fdjqi-kg",
        "oEmfTlGAjB8z",
        "cXL7F3yJfoe9",
        "lgiF3Ckdkqpl",
        "YbxpQHpik0to",
        "w8NxScx6lMlL",
        "t27Y979Klp0V",
        "zxAqwdgmgnqd",
        "v5TDsqD7JRCs",
        "5N-Lpq6bJaij",
        "qe_e86-nJksP",
        "pqAmX6lIJzIm"
      ],
      "name": "Text Creation-Word_Level_Models.ipynb",
      "provenance": []
    },
    "kernelspec": {
      "display_name": "Python 3",
      "name": "python3"
    },
    "language_info": {
      "name": "python"
    }
  },
  "nbformat": 4,
  "nbformat_minor": 0
}